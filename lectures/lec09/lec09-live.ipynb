{
 "cells": [
  {
   "cell_type": "code",
   "execution_count": 1,
   "id": "8c8a44b8",
   "metadata": {
    "slideshow": {
     "slide_type": "skip"
    }
   },
   "outputs": [],
   "source": [
    "from dsc80_utils import *"
   ]
  },
  {
   "cell_type": "code",
   "execution_count": 2,
   "id": "f39332bf",
   "metadata": {},
   "outputs": [],
   "source": [
    "# For JSON evaluation example\n",
    "def err():\n",
    "    raise ValueError('i just deleted all your files lol 😂')"
   ]
  },
  {
   "cell_type": "markdown",
   "id": "ce9e66d9",
   "metadata": {
    "slideshow": {
     "slide_type": "slide"
    }
   },
   "source": [
    "# Lecture 9 – HTTP, Midterm Review\n",
    "\n",
    "## DSC 80, Fall 2023"
   ]
  },
  {
   "cell_type": "markdown",
   "id": "22824200",
   "metadata": {
    "slideshow": {
     "slide_type": "slide"
    }
   },
   "source": [
    "## 📣 Announcements 📣\n",
    "\n",
    "- Project 2 due tomorrow!\n",
    "- Lab 5 released, due Monday.\n",
    "    - No hidden tests for this lab since it's close to the midterm.\n",
    "- Midterm exam will happen this **Thurs Nov 2**."
   ]
  },
  {
   "cell_type": "markdown",
   "id": "dbabdc2d",
   "metadata": {
    "slideshow": {
     "slide_type": "slide"
    }
   },
   "source": [
    "## 📝 Midterm Exam\n",
    "\n",
    "- Thurs, Nov 2 from 3:30-4:50pm in WLH 2005.\n",
    "- Pen and paper only. No calculators, phones, or watches allowed.\n",
    "- You are allowed to bring one double-sided 8.5\" x 11\" sheet of handwritten notes.\n",
    "    - No reference sheet given, unlike DSC 10!\n",
    "- We will display clarifications and the time remaining during the exam.\n",
    "- Covers Lectures 1-8, Labs 1-4, and Projects 1-2.\n",
    "- To review problems from old exams, go to [practice.dsc80.com](https://practice.dsc80.com).\n",
    "    - Also look at the [Resources](https://dsc80.com/resources) tab on the course website."
   ]
  },
  {
   "cell_type": "markdown",
   "id": "bd851d5b",
   "metadata": {
    "slideshow": {
     "slide_type": "slide"
    }
   },
   "source": [
    "## 📆 Agenda\n",
    "\n",
    "- [ ] Introduction to HTTP\n",
    "- [ ] Midterm Review"
   ]
  },
  {
   "cell_type": "markdown",
   "id": "0b0a7d54",
   "metadata": {
    "slideshow": {
     "slide_type": "slide"
    }
   },
   "source": [
    "## Introduction to HTTP"
   ]
  },
  {
   "cell_type": "markdown",
   "id": "9e1a2732",
   "metadata": {
    "slideshow": {
     "slide_type": "slide"
    }
   },
   "source": [
    "<center><img src=\"imgs/ds-lifecycle.svg\" width=\"40%\"></center>"
   ]
  },
  {
   "cell_type": "markdown",
   "id": "62270a93",
   "metadata": {
    "slideshow": {
     "slide_type": "slide"
    }
   },
   "source": [
    "### Data sources\n",
    "\n",
    "* Often, the data you need doesn't exist in \"clean\" `.csv` files.\n",
    "\n",
    "* **Solution:** Collect your own data!\n",
    "    - Design and administer your own survey or run an experiment.\n",
    "    - Find related data on the internet.\n",
    "\n",
    "- The internet contains **massive** amounts of historical record; for most questions you can think of, the answer exists somewhere on the internet."
   ]
  },
  {
   "cell_type": "markdown",
   "id": "ff801f12",
   "metadata": {
    "slideshow": {
     "slide_type": "slide"
    }
   },
   "source": [
    "### Collecting data from the internet\n",
    "\n",
    "- There are two ways to programmatically access data on the internet:\n",
    "    - through an API.\n",
    "    - by scraping.\n",
    "\n",
    "- We will discuss the differences between both approaches, but for now, the important part is that they **both use HTTP**."
   ]
  },
  {
   "cell_type": "markdown",
   "id": "d51a660f",
   "metadata": {
    "slideshow": {
     "slide_type": "slide"
    }
   },
   "source": [
    "### HTTP\n",
    "\n",
    "- HTTP stands for **Hypertext Transfer Protocol**.\n",
    "    - It was developed in 1989 by Tim Berners-Lee (and friends).\n",
    "\n",
    "- It is a **request-response** protocol.\n",
    "    - Protocol = set of rules.\n",
    "\n",
    "- HTTP allows...\n",
    "    - computers to talk to each other over a network.\n",
    "    - devices to fetch data from \"web servers\".\n",
    "\n",
    "- The \"S\" in HTTPS stands for \"secure\"."
   ]
  },
  {
   "cell_type": "markdown",
   "id": "f5425cec",
   "metadata": {
    "slideshow": {
     "slide_type": "slide"
    }
   },
   "source": [
    "<center><img src='imgs/ucsd.png' width=750></center>\n",
    "\n",
    "UCSD was a node in ARPANET, the predecessor to the modern internet ([source](https://en.wikipedia.org/wiki/ARPANET#/media/File:Arpanet_map_1973.jpg/))."
   ]
  },
  {
   "cell_type": "markdown",
   "id": "a2dda4ff",
   "metadata": {
    "slideshow": {
     "slide_type": "slide"
    }
   },
   "source": [
    "### The request-response model\n",
    "\n",
    "HTTP follows the **request-response** model.\n",
    "\n",
    "<center><img src='imgs/req-response.png' width=600></center>\n",
    "\n",
    "- A **request** is made by the **client**.\n",
    "\n",
    "- A **response** is returned by the **server**.\n",
    "\n",
    "- **Example:** DuckDuckGo Search 🎥.\n",
    "    - https://html.duckduckgo.com/html/?q=data%20science\n",
    "    - Your web browser, a **client**, makes an HTTP **request** with a search query.\n",
    "    - The **server**, DuckDuckGo, is a computer that is sitting somewhere else.\n",
    "    - The server returns a **response** that contains the search results.\n",
    "    "
   ]
  },
  {
   "cell_type": "markdown",
   "id": "729671b6",
   "metadata": {
    "slideshow": {
     "slide_type": "slide"
    }
   },
   "source": [
    "### Request methods\n",
    "\n",
    "The request methods you will use most often are `GET` and `POST`; see [Mozilla's web docs](https://developer.mozilla.org/en-US/docs/Web/HTTP/Methods) for a detailed list of request methods.    \n",
    "\n",
    "- `GET` is used to request data **from** a specified resource.\n",
    "\n",
    "- `POST` is used to **send** data to the server. \n",
    "    - e.g. uploading a photo to Instagram or entering credit card information on Amazon."
   ]
  },
  {
   "cell_type": "markdown",
   "id": "bcc2a6ab",
   "metadata": {
    "slideshow": {
     "slide_type": "slide"
    }
   },
   "source": [
    "### Example `GET` request\n",
    "\n",
    "Below is an example `GET` HTTP request made by a browser when accessing [datascience.ucsd.edu](https://datascience.ucsd.edu).\n",
    "\n",
    "```HTTP\n",
    "GET / HTTP/1.1\n",
    "Host: datascience.ucsd.edu\n",
    "User-Agent: Mozilla/5.0 (Macintosh; Intel Mac OS X 10_15_7) AppleWebKit/537.36 (KHTML, like Gecko) Chrome/100.0.4896.127 Safari/537.36\n",
    "Connection: keep-alive\n",
    "Accept-Language: en-US,en;q=0.9\n",
    "```\n",
    "\n",
    "- The first line (`GET / HTTP/1.1`) is called the \"request line\", and the lines afterwards are called \"header fields\". Header fields contain metadata. \n",
    "\n",
    "- We _could_ also provide a \"body\" after the header fields.\n",
    "\n",
    "- To see HTTP requests in Google Chrome, follow [these steps](https://mkyong.com/computer-tips/how-to-view-http-headers-in-google-chrome/)."
   ]
  },
  {
   "cell_type": "markdown",
   "id": "5546a534",
   "metadata": {
    "slideshow": {
     "slide_type": "slide"
    }
   },
   "source": [
    "### Example `GET` response\n",
    "\n",
    "The response below was generated by executing the request on the previous slide.\n",
    "\n",
    "```HTTP\n",
    "HTTP/1.1 200 OK\n",
    "Date: Fri, 29 Apr 2022 02:54:41 GMT\n",
    "Server: Apache\n",
    "Link: <https://datascience.ucsd.edu/wp-json/>; rel=\"https://api.w.org/\"\n",
    "Link: <https://datascience.ucsd.edu/wp-json/wp/v2/pages/2427>; rel=\"alternate\"; type=\"application/json\"\n",
    "Link: <https://datascience.ucsd.edu/>; rel=shortlink\n",
    "Content-Type: text/html; charset=UTF-8\n",
    "\n",
    "<!DOCTYPE html>\n",
    "<html lang=\"en-US\">\n",
    "<head>\n",
    "\t<meta charset=\"UTF-8\">\n",
    "\t<link rel=\"profile\" href=\"https://gmpg.org/xfn/11\">\n",
    "\t<style media=\"all\">img.wp-smiley,img.emoji{display:inline !important;border:none\n",
    "...\n",
    "```"
   ]
  },
  {
   "cell_type": "markdown",
   "id": "e5c9eb92",
   "metadata": {
    "slideshow": {
     "slide_type": "slide"
    }
   },
   "source": [
    "### Consequences of the request-response model\n",
    "\n",
    "- When a request is sent to view content on a webpage, the server must:\n",
    "    - process your request (i.e. prepare data for the response).\n",
    "    - send content back to the client in its response.\n",
    "\n",
    "- Remember, servers are computers. \n",
    "    - Someone has to pay to keep these computers running.\n",
    "    - **This means that every time you access a website, someone has to pay.**"
   ]
  },
  {
   "cell_type": "markdown",
   "id": "9595b0c3",
   "metadata": {
    "slideshow": {
     "slide_type": "slide"
    }
   },
   "source": [
    "## Making HTTP requests"
   ]
  },
  {
   "cell_type": "markdown",
   "id": "00a3e380",
   "metadata": {
    "slideshow": {
     "slide_type": "slide"
    }
   },
   "source": [
    "### Making HTTP requests\n",
    "\n",
    "We'll see two ways to make HTTP requests outside of a browser:\n",
    "\n",
    "- From the command line, with `curl`.\n",
    "\n",
    "- **From Python, with the `requests` package.**"
   ]
  },
  {
   "cell_type": "markdown",
   "id": "45ea0a0a",
   "metadata": {
    "slideshow": {
     "slide_type": "slide"
    }
   },
   "source": [
    "### Making HTTP requests using `curl`\n",
    "\n",
    "[`curl`](https://curl.haxx.se/docs/httpscripting.html) is a **command-line tool** that sends HTTP requests, like a browser.\n",
    "\n",
    "1. The client, `curl`, sends a HTTP request. \n",
    "2. The request contains a method (e.g. `GET` or `POST`).\n",
    "3. The HTTP server responds with:\n",
    "    - a status line, indicating if things went well, \n",
    "    - response headers, and\n",
    "    - (usually) a response body, containing the requested data."
   ]
  },
  {
   "cell_type": "markdown",
   "id": "514d9b12",
   "metadata": {
    "slideshow": {
     "slide_type": "slide"
    }
   },
   "source": [
    "### Example: `GET` requests via `curl`\n",
    "\n",
    "- By default, `curl` issues a `GET` request.\n",
    "\n",
    "```zsh\n",
    "# `-v` is short for verbose\n",
    "curl -v https://httpbin.org/html \n",
    "```\n",
    "\n",
    "- Remember, you can run command-line commands in a Jupyter Notebook by placing a `!` before them. Let's try that here."
   ]
  },
  {
   "cell_type": "code",
   "execution_count": null,
   "id": "93674d90",
   "metadata": {},
   "outputs": [],
   "source": [
    "# Compare the output to what you see when you go to https://httpbin.org/html in your browser!\n",
    "..."
   ]
  },
  {
   "cell_type": "markdown",
   "id": "5cfac241",
   "metadata": {
    "slideshow": {
     "slide_type": "slide"
    }
   },
   "source": [
    "### Queries in a `GET` request\n",
    "\n",
    "- In order to request more specific information, we can include a **query string** in the URL. `?` begins a query.\n",
    "\n",
    "<a href=\"https://www.google.com/search?q=ucsd+dsc+80+hard\"><pre>\n",
    "https://www.google.com/search?q=ucsd+dsc+80+hard\n",
    "</pre></a>\n",
    "\n",
    "- This method works well when sending small amounts of data; we will use a similiar technique when working with APIs next lecture.\n",
    "\n",
    "- Be on the lookout for query strings in URLs you share on social media!"
   ]
  },
  {
   "cell_type": "markdown",
   "id": "5c0bd625",
   "metadata": {
    "slideshow": {
     "slide_type": "slide"
    }
   },
   "source": [
    "### Making HTTP requests using `requests`\n",
    "\n",
    "- `requests` is a Python module that allows you to use Python to interact with the internet!  \n",
    "- There are other packages that work similarly (e.g. `urllib`), but `requests` is arguably the easiest to use."
   ]
  },
  {
   "cell_type": "code",
   "execution_count": null,
   "id": "d79da8ad",
   "metadata": {},
   "outputs": [],
   "source": [
    "import requests"
   ]
  },
  {
   "cell_type": "markdown",
   "id": "fa03e447",
   "metadata": {
    "slideshow": {
     "slide_type": "slide"
    }
   },
   "source": [
    "### Example: `GET` requests via `requests`\n",
    "\n",
    "To access the source code of the UCSD home page, all we need to run is the following:\n",
    "\n",
    "```py\n",
    "requests.get('https://ucsd.edu').text\n",
    "```"
   ]
  },
  {
   "cell_type": "code",
   "execution_count": null,
   "id": "a03b40f2",
   "metadata": {},
   "outputs": [],
   "source": [
    "res = ..."
   ]
  },
  {
   "cell_type": "markdown",
   "id": "17f3fe8e",
   "metadata": {
    "slideshow": {
     "slide_type": "fragment"
    }
   },
   "source": [
    "`res` is now a `Response` object."
   ]
  },
  {
   "cell_type": "code",
   "execution_count": null,
   "id": "f314829f",
   "metadata": {},
   "outputs": [],
   "source": [
    "res"
   ]
  },
  {
   "cell_type": "markdown",
   "id": "b3b1def6",
   "metadata": {
    "slideshow": {
     "slide_type": "fragment"
    }
   },
   "source": [
    "The `text` attribute of `res` is a string that containing the entire response."
   ]
  },
  {
   "cell_type": "code",
   "execution_count": null,
   "id": "527ca37e",
   "metadata": {},
   "outputs": [],
   "source": [
    "type(res.text)"
   ]
  },
  {
   "cell_type": "code",
   "execution_count": null,
   "id": "024fe0e1",
   "metadata": {},
   "outputs": [],
   "source": [
    "len(res.text)"
   ]
  },
  {
   "cell_type": "code",
   "execution_count": null,
   "id": "2b792ad1",
   "metadata": {},
   "outputs": [],
   "source": [
    "print(res.text[:1000])"
   ]
  },
  {
   "cell_type": "markdown",
   "id": "b812c6fd",
   "metadata": {
    "slideshow": {
     "slide_type": "slide"
    }
   },
   "source": [
    "### Example: `POST` requests via `requests`\n",
    "\n",
    "The following call to `requests.post` makes a post request to https://httpbin.org/post, with a `'name'` parameter of `'King Triton'`."
   ]
  },
  {
   "cell_type": "code",
   "execution_count": null,
   "id": "b6522677",
   "metadata": {},
   "outputs": [],
   "source": [
    "post_res = ...\n",
    "\n",
    "post_res"
   ]
  },
  {
   "cell_type": "code",
   "execution_count": null,
   "id": "d5529010",
   "metadata": {},
   "outputs": [],
   "source": []
  },
  {
   "cell_type": "code",
   "execution_count": null,
   "id": "d4b50eb5",
   "metadata": {},
   "outputs": [],
   "source": []
  },
  {
   "cell_type": "markdown",
   "id": "e3d264eb",
   "metadata": {
    "slideshow": {
     "slide_type": "slide"
    }
   },
   "source": [
    "What happens when we try and make a `POST` request somewhere where we're unable to?"
   ]
  },
  {
   "cell_type": "code",
   "execution_count": null,
   "id": "f0d389b8",
   "metadata": {},
   "outputs": [],
   "source": [
    "yt_res = requests.post(\n",
    "    ...,\n",
    "    data={'name': 'King Triton'})\n",
    "\n",
    "yt_res"
   ]
  },
  {
   "cell_type": "code",
   "execution_count": null,
   "id": "8b1aac4f",
   "metadata": {},
   "outputs": [],
   "source": [
    "yt_res.text"
   ]
  },
  {
   "cell_type": "markdown",
   "id": "c0e99fa7",
   "metadata": {
    "slideshow": {
     "slide_type": "fragment"
    }
   },
   "source": [
    "`yt_res.text` is a string containing HTML – we can render this in-line using `IPython.display.HTML`."
   ]
  },
  {
   "cell_type": "code",
   "execution_count": null,
   "id": "c91edd27",
   "metadata": {},
   "outputs": [],
   "source": [
    "from IPython.display import HTML"
   ]
  },
  {
   "cell_type": "code",
   "execution_count": null,
   "id": "ec9c5220",
   "metadata": {
    "scrolled": false
   },
   "outputs": [],
   "source": [
    "HTML(yt_res.text)"
   ]
  },
  {
   "cell_type": "markdown",
   "id": "c28709d4",
   "metadata": {
    "slideshow": {
     "slide_type": "slide"
    }
   },
   "source": [
    "### HTTP status codes\n",
    "\n",
    "- When we **request** data from a website, the server includes an **HTTP status code** in the response.  \n",
    "\n",
    "* The most common status code is `200`, which means there were no issues.  \n",
    "\n",
    "* Other times, you will see a different status code, describing some sort of event or error.\n",
    "    - Common examples: `400` – bad request, `404` – page not found, `500` – internal server error.\n",
    "    - [The first digit of a status describes its general \"category\".](https://developer.mozilla.org/en-US/docs/Web/HTTP/Status)\n",
    "\n",
    "- See [https://httpstat.us](https://httpstat.us/) for a list of all HTTP status codes.\n",
    "    - It also has example sites for each status code; for example, https://httpstat.us/404 returns a `404`."
   ]
  },
  {
   "cell_type": "code",
   "execution_count": null,
   "id": "459d2818",
   "metadata": {},
   "outputs": [],
   "source": []
  },
  {
   "cell_type": "markdown",
   "id": "55e049ef",
   "metadata": {
    "slideshow": {
     "slide_type": "slide"
    }
   },
   "source": [
    "### Successful requests ✅\n",
    "\n",
    "- You can check if a request was successful using the `ok` attribute, which returns a bool.\n",
    "    - If a status is in the 200s, then it is successful."
   ]
  },
  {
   "cell_type": "code",
   "execution_count": null,
   "id": "070a9d6c",
   "metadata": {},
   "outputs": [],
   "source": []
  },
  {
   "cell_type": "code",
   "execution_count": null,
   "id": "898c853b",
   "metadata": {},
   "outputs": [],
   "source": []
  },
  {
   "cell_type": "markdown",
   "id": "d0576fcf",
   "metadata": {
    "slideshow": {
     "slide_type": "fragment"
    }
   },
   "source": [
    "- Unsuccessful requests can be re-tried, depending on the issue.\n",
    "    - Wait a little, then try the request again.\n",
    "    - You can even re-try requests programmatically (e.g. using a loop). If rate of requests is too high, slow down requests between each retry (e.g. using `time.sleep`).\n",
    "\n",
    "- See the [textbook](https://learningds.org/ch/14/web_http.html) for more examples."
   ]
  },
  {
   "cell_type": "markdown",
   "id": "9e447bab",
   "metadata": {
    "slideshow": {
     "slide_type": "slide"
    }
   },
   "source": [
    "## Data formats"
   ]
  },
  {
   "cell_type": "markdown",
   "id": "68142b5f",
   "metadata": {
    "slideshow": {
     "slide_type": "slide"
    }
   },
   "source": [
    "### The data formats of the internet\n",
    "\n",
    "Responses typically come in one of two formats: HTML or JSON.\n",
    "\n",
    "- The response body of a `GET` request is usually either JSON (when using an API) or HTML (when accessing a webpage).\n",
    "\n",
    "- The response body of a `POST` request is usually JSON.\n",
    "\n",
    "- XML is also a common format, but not as popular as it once was."
   ]
  },
  {
   "cell_type": "markdown",
   "id": "ebf8dfb3",
   "metadata": {
    "slideshow": {
     "slide_type": "slide"
    }
   },
   "source": [
    "<center><img src='imgs/json.png' width=50%></center>"
   ]
  },
  {
   "cell_type": "markdown",
   "id": "44796fee",
   "metadata": {
    "slideshow": {
     "slide_type": "slide"
    }
   },
   "source": [
    "### JSON\n",
    "\n",
    "- JSON stands for **JavaScript Object Notation**. It is a lightweight format for storing and transferring data.\n",
    "\n",
    "- It is:\n",
    "    - very easy for computers to read and write.\n",
    "    - moderately easy for programmers to read and write by hand.\n",
    "    - meant to be generated and parsed.\n",
    "\n",
    "- Most modern languages have an interface for working with JSON objects.\n",
    "    - JSON objects _resemble_ Python dictionaries (but are not the same!)."
   ]
  },
  {
   "cell_type": "markdown",
   "id": "ff1a792a",
   "metadata": {
    "slideshow": {
     "slide_type": "slide"
    }
   },
   "source": [
    "### JSON data types\n",
    "\n",
    "| Type | Description |\n",
    "| --- | --- |\n",
    "| String | Anything inside double quotes. |\n",
    "| Number | Any number (no difference between ints and floats). |\n",
    "| Boolean | `true` and `false`. |\n",
    "| Null | JSON's empty value, denoted by `null`. |\n",
    "| Array | Like Python lists. |\n",
    "| Object | A collection of key-value pairs, like dictionaries. Keys must be strings, values can be anything (even other objects). |\n",
    "\n",
    "See [json-schema.org](https://json-schema.org/understanding-json-schema/reference/type.html) for more details."
   ]
  },
  {
   "cell_type": "markdown",
   "id": "1e49584b",
   "metadata": {
    "slideshow": {
     "slide_type": "slide"
    }
   },
   "source": [
    "### Example JSON object\n",
    "\n",
    "See `data/family.json`.\n",
    "\n",
    "<center><img src='imgs/hierarchy.png' width=50%></center>"
   ]
  },
  {
   "cell_type": "code",
   "execution_count": null,
   "id": "0096bba7",
   "metadata": {},
   "outputs": [],
   "source": [
    "import json\n",
    "from pathlib import Path\n",
    "\n",
    "..."
   ]
  },
  {
   "cell_type": "code",
   "execution_count": null,
   "id": "af69a29f",
   "metadata": {},
   "outputs": [],
   "source": []
  },
  {
   "cell_type": "code",
   "execution_count": null,
   "id": "f1954058",
   "metadata": {},
   "outputs": [],
   "source": []
  },
  {
   "cell_type": "markdown",
   "id": "66c53aa4",
   "metadata": {
    "slideshow": {
     "slide_type": "slide"
    }
   },
   "source": [
    "### Aside: `eval`\n",
    "\n",
    "- `eval`, which stands for \"evaluate\", is a function built into Python.\n",
    "\n",
    "- It takes in a **string containing a Python expression** and evaluates it in the current context."
   ]
  },
  {
   "cell_type": "code",
   "execution_count": null,
   "id": "071fbf6b",
   "metadata": {},
   "outputs": [],
   "source": [
    "x = 4\n",
    "eval('x + 5')"
   ]
  },
  {
   "cell_type": "markdown",
   "id": "5d59ca5f",
   "metadata": {
    "slideshow": {
     "slide_type": "fragment"
    }
   },
   "source": [
    "- It seems like `eval` can do the same thing that `json.load` does..."
   ]
  },
  {
   "cell_type": "code",
   "execution_count": null,
   "id": "23909326",
   "metadata": {},
   "outputs": [],
   "source": [
    "eval(f.read_text())"
   ]
  },
  {
   "cell_type": "markdown",
   "id": "c7200fc7",
   "metadata": {
    "slideshow": {
     "slide_type": "fragment"
    }
   },
   "source": [
    "- But you should **almost never use `eval`**. The next slide demonstrates why."
   ]
  },
  {
   "cell_type": "markdown",
   "id": "13687f1f",
   "metadata": {
    "slideshow": {
     "slide_type": "slide"
    }
   },
   "source": [
    "### `eval` gone wrong\n",
    "\n",
    "Observe what happens when we use `eval` on a string representation of a JSON object:"
   ]
  },
  {
   "cell_type": "code",
   "execution_count": null,
   "id": "0aef79df",
   "metadata": {
    "scrolled": true,
    "tags": [
     "raises-exception"
    ]
   },
   "outputs": [],
   "source": [
    "f_other = Path('data') / 'evil_family.json'\n",
    "eval(f_other.read_text())"
   ]
  },
  {
   "cell_type": "markdown",
   "id": "9cf8adad",
   "metadata": {
    "slideshow": {
     "slide_type": "fragment"
    }
   },
   "source": [
    "- Oh no! Since `evil_family.json`, which could have been downloaded from the internet, contained malicious code, we now lost all of our files.\n",
    "\n",
    "\n",
    "- This happened because `eval` **evaluates** all parts of the input string as if it were Python code.\n",
    "\n",
    "- You never need to do this – instead, use the `.json()` method of a response object, or use the `json` library."
   ]
  },
  {
   "cell_type": "markdown",
   "id": "be22ed20",
   "metadata": {
    "slideshow": {
     "slide_type": "slide"
    }
   },
   "source": [
    "### Using the `json` module\n",
    "\n",
    "Let's process the same file using the `json` module. Recall:\n",
    "- `json.load(f)` loads a JSON file from a file object.\n",
    "- `json.loads(f)` loads a JSON file from a **s**tring."
   ]
  },
  {
   "cell_type": "code",
   "execution_count": null,
   "id": "8a26d63b",
   "metadata": {},
   "outputs": [],
   "source": [
    "s = f_other.read_text()\n",
    "s"
   ]
  },
  {
   "cell_type": "code",
   "execution_count": null,
   "id": "63a2329b",
   "metadata": {
    "tags": [
     "raises-exception"
    ]
   },
   "outputs": [],
   "source": [
    "json.loads(s)"
   ]
  },
  {
   "cell_type": "markdown",
   "id": "c544faf7",
   "metadata": {
    "slideshow": {
     "slide_type": "fragment"
    }
   },
   "source": [
    "- Since `util.err()` is not a string in JSON (there are no quotes around it), `json.loads` is not able to parse it as a JSON object.\n",
    "\n",
    "- This \"safety check\" is intentional."
   ]
  },
  {
   "cell_type": "markdown",
   "id": "bbe64ccb",
   "metadata": {
    "slideshow": {
     "slide_type": "slide"
    }
   },
   "source": [
    "### Handling _unfamiliar_ data\n",
    "\n",
    "- Never trust data from an unfamiliar site.\n",
    "\n",
    "- **Never** use `eval` on \"raw\" data that you didn't create!\n",
    "\n",
    "- The JSON data format needs to be **parsed**, not evaluated as a dictionary.\n",
    "    - It was designed with safety in mind!"
   ]
  },
  {
   "cell_type": "markdown",
   "id": "515ff589",
   "metadata": {
    "slideshow": {
     "slide_type": "slide"
    }
   },
   "source": [
    "## APIs and scraping"
   ]
  },
  {
   "cell_type": "markdown",
   "id": "86133535",
   "metadata": {
    "slideshow": {
     "slide_type": "slide"
    }
   },
   "source": [
    "### Programmatic requests\n",
    "\n",
    "* We learned how to use the Python `requests` package to exchange data via HTTP.\n",
    "    - `GET` requests are used to request data **from** a server.\n",
    "    - `POST` requests are used to **send** data to a server.\n",
    "\n",
    "* There are two ways of collecting data through a request:\n",
    "    * By using a published API (application programming interface).\n",
    "    * By scraping a webpage to collect its HTML source code."
   ]
  },
  {
   "cell_type": "markdown",
   "id": "012c368e",
   "metadata": {
    "slideshow": {
     "slide_type": "slide"
    }
   },
   "source": [
    "### APIs\n",
    "\n",
    "An API is a service that makes data directly available to the user in a convenient fashion.\n",
    "\n",
    "Advantages:\n",
    "\n",
    "- The data are usually clean, up-to-date, and ready to use.\n",
    "\n",
    "- The presence of a API signals that the data provider is okay with you using their data.\n",
    "\n",
    "- The data provider can plan and regulate data usage.\n",
    "    - Some APIs require you to create an API \"key\", which is like an account for using the API.\n",
    "    - APIs can also give you access to data that isn't publicly available on a webpage.\n",
    "\n",
    "Disadvantages:\n",
    "- APIs don't always exist for the data you want!"
   ]
  },
  {
   "cell_type": "markdown",
   "id": "1233c56a",
   "metadata": {
    "slideshow": {
     "slide_type": "slide"
    }
   },
   "source": [
    "### API terminology\n",
    "\n",
    "- A URL, or uniform resource locator, describes the location of a website or resource.\n",
    "\n",
    "- An **API endpoint** is a URL of the data source that the user wants to make requests to.\n",
    "\n",
    "- For example, on the [Reddit API](https://www.reddit.com/dev/api/):\n",
    "    * the `/comments` endpoint retrieves information about comments.\n",
    "    * the `/hot` endpoint retrieves data about posts labeled \"hot\" right now. \n",
    "    - To access these endpoints, you add the endpoint name to the base URL of the API."
   ]
  },
  {
   "cell_type": "markdown",
   "id": "460afa71",
   "metadata": {
    "slideshow": {
     "slide_type": "slide"
    }
   },
   "source": [
    "### API requests\n",
    "\n",
    "- API requests are just `GET`/`POST` requests to a specially maintained URL.\n",
    "- Let's test out the [Pokémon API](https://pokeapi.co).\n",
    "\n",
    "First, let's make a `GET` request for `'squirtle'`."
   ]
  },
  {
   "cell_type": "code",
   "execution_count": null,
   "id": "f4994b92",
   "metadata": {},
   "outputs": [],
   "source": [
    "r = requests.get('https://pokeapi.co/api/v2/pokemon/squirtle')\n",
    "r"
   ]
  },
  {
   "cell_type": "code",
   "execution_count": null,
   "id": "bf6a2c4c",
   "metadata": {},
   "outputs": [],
   "source": []
  },
  {
   "cell_type": "markdown",
   "id": "f7c657f7",
   "metadata": {},
   "source": [
    "Remember, the 200 status code is good! Let's take a look at the **content**:"
   ]
  },
  {
   "cell_type": "code",
   "execution_count": null,
   "id": "bb067f94",
   "metadata": {},
   "outputs": [],
   "source": []
  },
  {
   "cell_type": "markdown",
   "id": "3e8d0cd6",
   "metadata": {},
   "source": [
    "Looks like JSON. We can extract the JSON from this request with the `json` method (or by passing `r.text` to `json.loads`)."
   ]
  },
  {
   "cell_type": "code",
   "execution_count": null,
   "id": "e4be0439",
   "metadata": {},
   "outputs": [],
   "source": []
  },
  {
   "cell_type": "code",
   "execution_count": null,
   "id": "a94b5c00",
   "metadata": {},
   "outputs": [],
   "source": []
  },
  {
   "cell_type": "code",
   "execution_count": null,
   "id": "05ad49bf",
   "metadata": {},
   "outputs": [],
   "source": []
  },
  {
   "cell_type": "markdown",
   "id": "a0710871",
   "metadata": {
    "slideshow": {
     "slide_type": "slide"
    }
   },
   "source": [
    "Let's try a `GET` request for `'billy'`."
   ]
  },
  {
   "cell_type": "code",
   "execution_count": null,
   "id": "edfc11da",
   "metadata": {},
   "outputs": [],
   "source": [
    "r = requests.get('https://pokeapi.co/api/v2/pokemon/...')\n",
    "r"
   ]
  },
  {
   "cell_type": "markdown",
   "id": "1c1dd915",
   "metadata": {},
   "source": [
    "Error, since no Pokemon named `'billy'`!"
   ]
  },
  {
   "cell_type": "markdown",
   "id": "60e30f9a",
   "metadata": {
    "slideshow": {
     "slide_type": "slide"
    }
   },
   "source": [
    "### Scraping\n",
    "\n",
    "Scraping is the act of programmatically \"browsing\" the web, downloading the source code (HTML) of pages that you're interested in extracting data from.\n",
    "\n",
    "Advantages:\n",
    "\n",
    "* You can always do it!\n",
    "    - e.g. Google scrapes webpages in order to make them searchable.\n",
    "\n",
    "Disadvantages:\n",
    "\n",
    "- It is often difficult to parse and clean scraped data.\n",
    "    - Source code often includes a lot of content unrelated to the data you're trying to find (e.g. formatting, advertisements, other text).\n",
    "\n",
    "- Websites can change often, so scraping code can get outdated quickly.\n",
    "\n",
    "- Websites may not want you to scrape their data!\n",
    "\n",
    "- **In general, we prefer APIs, but scraping is a useful skill to learn.**"
   ]
  },
  {
   "cell_type": "markdown",
   "id": "7a8affd6",
   "metadata": {},
   "source": [
    "## Midterm Review\n",
    "\n",
    "https://app.sli.do/event/8N48uxYMVuraPquxCAQjn1\n",
    "\n",
    "Submit your topics / previous exam questions, Sam will see what the most popular categories are and review."
   ]
  }
 ],
 "metadata": {
  "kernelspec": {
   "display_name": "Python 3 (ipykernel)",
   "language": "python",
   "name": "python3"
  },
  "language_info": {
   "codemirror_mode": {
    "name": "ipython",
    "version": 3
   },
   "file_extension": ".py",
   "mimetype": "text/x-python",
   "name": "python",
   "nbconvert_exporter": "python",
   "pygments_lexer": "ipython3",
   "version": "3.8.18"
  }
 },
 "nbformat": 4,
 "nbformat_minor": 5
}
