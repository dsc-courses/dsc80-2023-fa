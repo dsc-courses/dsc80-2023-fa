{
 "cells": [
  {
   "cell_type": "code",
   "execution_count": 1,
   "id": "8c8a44b8",
   "metadata": {
    "slideshow": {
     "slide_type": "skip"
    }
   },
   "outputs": [],
   "source": [
    "from dsc80_utils import *"
   ]
  },
  {
   "cell_type": "code",
   "execution_count": 2,
   "id": "8a387eee",
   "metadata": {
    "slideshow": {
     "slide_type": "skip"
    }
   },
   "outputs": [],
   "source": [
    "salaries = pd.read_csv('https://transcal.s3.amazonaws.com/public/export/san-diego-2021.csv')\n",
    "salaries['Employee Name'] = salaries['Employee Name'].str.split().str[0] + ' Xxxx'\n",
    "\n",
    "jobtitles = salaries['Job Title']\n",
    "jobtitles = jobtitles[jobtitles.notna()]\n",
    "jobtitles = (\n",
    "    jobtitles\n",
    "    .str.lower()\n",
    "    .str.replace(r'\\bto\\b|\\bthe\\b|\\bfor\\b', '', regex=True)\n",
    "    .str.replace('[^A-Za-z0-9 ]', ' ', regex=True)\n",
    "    .str.replace(' +', ' ', regex=True)               # ' +' matches 1 or more occurrences of a space.\n",
    "    .str.strip()                                      # Removes leading/trailing spaces if present.\n",
    ")\n",
    "\n",
    "unique_words = pd.Series(jobtitles.str.split().sum()).value_counts()\n",
    "\n",
    "# Created using a dictionary to avoid a \"DataFrame is highly fragmented\" warning.\n",
    "counts_dict = {}\n",
    "for word in unique_words.index:\n",
    "    re_pat = fr'\\b{word}\\b'\n",
    "    counts_dict[word] = jobtitles.str.count(re_pat).astype(int).tolist()\n",
    "    \n",
    "counts_df = pd.DataFrame(counts_dict).set_index(jobtitles)"
   ]
  },
  {
   "cell_type": "markdown",
   "id": "6ca51859",
   "metadata": {
    "slideshow": {
     "slide_type": "slide"
    }
   },
   "source": [
    "# Lecture 12 – Text Features\n",
    "\n",
    "## DSC 80, Fall 2023"
   ]
  },
  {
   "cell_type": "markdown",
   "id": "22824200",
   "metadata": {
    "slideshow": {
     "slide_type": "slide"
    }
   },
   "source": [
    "## 📣 Announcements 📣\n",
    "\n",
    "- Project 3 due Friday.\n",
    "- Lab 7 out, due Monday, Nov 20.\n",
    "- 116 / 153 = 76% of students filled out the Mid-quarter survey. Thanks for your responses!"
   ]
  },
  {
   "cell_type": "markdown",
   "id": "bd851d5b",
   "metadata": {
    "slideshow": {
     "slide_type": "slide"
    }
   },
   "source": [
    "## 📆 Agenda\n",
    "\n",
    "- [ ] Bag of words\n",
    "- [ ] Cosine similarity\n",
    "- [ ] TF-IDF\n",
    "    - [ ] Example: State of the Union addresses 🎤."
   ]
  },
  {
   "cell_type": "markdown",
   "id": "152e40a9",
   "metadata": {
    "slideshow": {
     "slide_type": "slide"
    }
   },
   "source": [
    "## 📝 Mid-Quarter Survey\n",
    "\n",
    "- Overall high satisfaction with the course so far.\n",
    "    - Higher workload, but not beyond what we expected going in.\n",
    "- Assignment wordings could be more clear (e.g. Lab 4).\n",
    "    - We have a long list of changes we want to make to assignments based on your feedback during OH, we're working on improving the assignments for next quarter.\n",
    "- 25% of class can't attend any scheduled OH.\n",
    "    - Will ask staff to see whether other times are available.\n",
    "- Lecture pace is fast!\n",
    "    - DSC 80 covers a LOT of material.\n",
    "    - I'll walk through more small examples, and sketch out approach to code\n",
    "    - I'll include a Slido for every lecture for Q&A, send questions to slow me down!"
   ]
  },
  {
   "attachments": {},
   "cell_type": "markdown",
   "id": "44c80be0",
   "metadata": {
    "slideshow": {
     "slide_type": "slide"
    }
   },
   "source": [
    "## 🙋🙋🏽‍♀️ Slido\n",
    "\n",
    "https://app.sli.do/event/2LZSnXWNpGPiuVnCZMa5J8\n",
    "\n",
    "<center><img src=\"imgs/slido.svg\" width=\"30%\"></center>\n",
    "\n",
    "\n"
   ]
  },
  {
   "cell_type": "markdown",
   "id": "b4ff5ce7",
   "metadata": {
    "slideshow": {
     "slide_type": "slide"
    }
   },
   "source": [
    "## Bag of words 💰"
   ]
  },
  {
   "cell_type": "markdown",
   "id": "1d1c6106",
   "metadata": {
    "slideshow": {
     "slide_type": "slide"
    }
   },
   "source": [
    "### Example: San Diego employee salaries\n",
    "\n",
    "Recall, we're working with a (real) dataset of salary data for all San Diego city employees."
   ]
  },
  {
   "cell_type": "code",
   "execution_count": 3,
   "id": "347ff104",
   "metadata": {
    "slideshow": {
     "slide_type": "-"
    }
   },
   "outputs": [
    {
     "data": {
      "text/plain": [
       "0                  city attorney\n",
       "1                          mayor\n",
       "2             investment officer\n",
       "                  ...           \n",
       "12302               fire captain\n",
       "12303    fleet repair supervisor\n",
       "12304              fire engineer\n",
       "Name: Job Title, Length: 12303, dtype: object"
      ]
     },
     "execution_count": 3,
     "metadata": {},
     "output_type": "execute_result"
    }
   ],
   "source": [
    "jobtitles"
   ]
  },
  {
   "cell_type": "markdown",
   "id": "9aa84920",
   "metadata": {
    "slideshow": {
     "slide_type": "slide"
    }
   },
   "source": [
    "### Text similarity\n",
    "\n",
    "Recall, our idea is to measure the similarity of two job titles by counting the number of shared words between the job titles. How do we actually do that, for all of the job titles we have?"
   ]
  },
  {
   "cell_type": "markdown",
   "id": "7b462b66",
   "metadata": {
    "slideshow": {
     "slide_type": "slide"
    }
   },
   "source": [
    "### A counts matrix\n",
    "\n",
    "Let's create a \"counts\" matrix, such that:\n",
    "- there is 1 row per job title,\n",
    "- there is 1 column per **unique** word that is used in job titles, and\n",
    "- the value in row `title` and column `word` is the number of occurrences of `word` in `title`."
   ]
  },
  {
   "cell_type": "markdown",
   "id": "f62f0ec6",
   "metadata": {
    "slideshow": {
     "slide_type": "slide"
    }
   },
   "source": [
    "Such a matrix might look like:\n",
    "\n",
    "| | senior | lecturer | teaching | professor | assistant | associate |\n",
    "| --- | --- | --- | --- | --- | --- | --- |\n",
    "| **senior lecturer** | 1 | 1 | 0 | 0 | 0 | 0 |\n",
    "| **assistant teaching professor** | 0 | 0 | 1 | 1 | 1 | 0 | \n",
    "| **associate professor** | 0 | 0 | 0 | 1 | 0 | 1 |\n",
    "| **senior assistant to the assistant professor** | 1 | 0 | 0 | 1 | 2 | 0 |"
   ]
  },
  {
   "cell_type": "markdown",
   "id": "ea899f5b",
   "metadata": {
    "slideshow": {
     "slide_type": "slide"
    }
   },
   "source": [
    "### Creating a counts matrix\n",
    "\n",
    "First, we need to determine all words that are used across all job titles."
   ]
  },
  {
   "cell_type": "code",
   "execution_count": 4,
   "id": "301d276c",
   "metadata": {
    "scrolled": true
   },
   "outputs": [
    {
     "data": {
      "text/plain": [
       "0                   [city, attorney]\n",
       "1                            [mayor]\n",
       "2              [investment, officer]\n",
       "                    ...             \n",
       "12302                [fire, captain]\n",
       "12303    [fleet, repair, supervisor]\n",
       "12304               [fire, engineer]\n",
       "Name: Job Title, Length: 12303, dtype: object"
      ]
     },
     "execution_count": 4,
     "metadata": {},
     "output_type": "execute_result"
    }
   ],
   "source": [
    "jobtitles.str.split()"
   ]
  },
  {
   "cell_type": "code",
   "execution_count": 5,
   "id": "93f63725",
   "metadata": {
    "scrolled": true
   },
   "outputs": [
    {
     "data": {
      "text/plain": [
       "0              city\n",
       "0          attorney\n",
       "1             mayor\n",
       "            ...    \n",
       "12303    supervisor\n",
       "12304          fire\n",
       "12304      engineer\n",
       "Name: Job Title, Length: 33304, dtype: object"
      ]
     },
     "execution_count": 5,
     "metadata": {},
     "output_type": "execute_result"
    }
   ],
   "source": [
    "# The .explode method concats the lists together\n",
    "all_words = jobtitles.str.split().explode()\n",
    "all_words"
   ]
  },
  {
   "cell_type": "markdown",
   "id": "455b1fab",
   "metadata": {
    "slideshow": {
     "slide_type": "slide"
    }
   },
   "source": [
    "Next, to determine the columns of our matrix, we need to find a list of all **unique** words used in titles. We can do this with `np.unique`, but `value_counts` shows us the distribution, which is interesting."
   ]
  },
  {
   "cell_type": "code",
   "execution_count": 7,
   "id": "346850eb",
   "metadata": {},
   "outputs": [
    {
     "data": {
      "text/plain": [
       "officer      2343\n",
       "ii           2305\n",
       "police       2294\n",
       "             ... \n",
       "utilities       1\n",
       "gardener        1\n",
       "principle       1\n",
       "Name: Job Title, Length: 327, dtype: int64"
      ]
     },
     "execution_count": 7,
     "metadata": {},
     "output_type": "execute_result"
    }
   ],
   "source": [
    "unique_words = all_words.value_counts()\n",
    "unique_words"
   ]
  },
  {
   "cell_type": "markdown",
   "id": "605c27fa",
   "metadata": {
    "slideshow": {
     "slide_type": "fragment"
    }
   },
   "source": [
    "Note that in `unique_words.index`, job titles are sorted by number of occurrences!"
   ]
  },
  {
   "cell_type": "markdown",
   "id": "dd9d3869",
   "metadata": {
    "slideshow": {
     "slide_type": "slide"
    }
   },
   "source": [
    "For each of the 327 unique words that are used in job titles, we can count the number of occurrences of the word in each job title.\n",
    "- `'deputy fire chief'` contains the word `'deputy'` once, the word `'fire'` once, and the word `'chief'` once.\n",
    "- `'assistant managers assistant'` contains the word `'assistant'` twice and the word `'managers'` once."
   ]
  },
  {
   "cell_type": "code",
   "execution_count": 8,
   "id": "2fe1abe9",
   "metadata": {},
   "outputs": [],
   "source": [
    "# Created using a dictionary to avoid a \"DataFrame is highly fragmented\" warning.\n",
    "counts_dict = {}\n",
    "for word in unique_words.index:\n",
    "    re_pat = fr'\\b{word}\\b'\n",
    "    counts_dict[word] = jobtitles.str.count(re_pat).astype(int).tolist()\n",
    "    \n",
    "counts_df = pd.DataFrame(counts_dict)"
   ]
  },
  {
   "cell_type": "code",
   "execution_count": 9,
   "id": "4ea26cb0",
   "metadata": {
    "scrolled": true
   },
   "outputs": [
    {
     "data": {
      "text/html": [
       "<div>\n",
       "<style scoped>\n",
       "    .dataframe tbody tr th:only-of-type {\n",
       "        vertical-align: middle;\n",
       "    }\n",
       "\n",
       "    .dataframe tbody tr th {\n",
       "        vertical-align: top;\n",
       "    }\n",
       "\n",
       "    .dataframe thead th {\n",
       "        text-align: right;\n",
       "    }\n",
       "</style>\n",
       "<table border=\"1\" class=\"dataframe\">\n",
       "  <thead>\n",
       "    <tr style=\"text-align: right;\">\n",
       "      <th></th>\n",
       "      <th>officer</th>\n",
       "      <th>ii</th>\n",
       "      <th>police</th>\n",
       "      <th>i</th>\n",
       "      <th>...</th>\n",
       "      <th>geologist</th>\n",
       "      <th>utilities</th>\n",
       "      <th>gardener</th>\n",
       "      <th>principle</th>\n",
       "    </tr>\n",
       "  </thead>\n",
       "  <tbody>\n",
       "    <tr>\n",
       "      <th>0</th>\n",
       "      <td>0</td>\n",
       "      <td>0</td>\n",
       "      <td>0</td>\n",
       "      <td>0</td>\n",
       "      <td>...</td>\n",
       "      <td>0</td>\n",
       "      <td>0</td>\n",
       "      <td>0</td>\n",
       "      <td>0</td>\n",
       "    </tr>\n",
       "    <tr>\n",
       "      <th>1</th>\n",
       "      <td>0</td>\n",
       "      <td>0</td>\n",
       "      <td>0</td>\n",
       "      <td>0</td>\n",
       "      <td>...</td>\n",
       "      <td>0</td>\n",
       "      <td>0</td>\n",
       "      <td>0</td>\n",
       "      <td>0</td>\n",
       "    </tr>\n",
       "    <tr>\n",
       "      <th>2</th>\n",
       "      <td>1</td>\n",
       "      <td>0</td>\n",
       "      <td>0</td>\n",
       "      <td>0</td>\n",
       "      <td>...</td>\n",
       "      <td>0</td>\n",
       "      <td>0</td>\n",
       "      <td>0</td>\n",
       "      <td>0</td>\n",
       "    </tr>\n",
       "    <tr>\n",
       "      <th>3</th>\n",
       "      <td>1</td>\n",
       "      <td>0</td>\n",
       "      <td>1</td>\n",
       "      <td>0</td>\n",
       "      <td>...</td>\n",
       "      <td>0</td>\n",
       "      <td>0</td>\n",
       "      <td>0</td>\n",
       "      <td>0</td>\n",
       "    </tr>\n",
       "    <tr>\n",
       "      <th>4</th>\n",
       "      <td>0</td>\n",
       "      <td>0</td>\n",
       "      <td>0</td>\n",
       "      <td>0</td>\n",
       "      <td>...</td>\n",
       "      <td>0</td>\n",
       "      <td>0</td>\n",
       "      <td>0</td>\n",
       "      <td>0</td>\n",
       "    </tr>\n",
       "  </tbody>\n",
       "</table>\n",
       "<p>5 rows × 327 columns</p>\n",
       "</div>"
      ],
      "text/plain": [
       "   officer  ii  police  i  ...  geologist  utilities  gardener  principle\n",
       "0        0   0       0  0  ...          0          0         0          0\n",
       "1        0   0       0  0  ...          0          0         0          0\n",
       "2        1   0       0  0  ...          0          0         0          0\n",
       "3        1   0       1  0  ...          0          0         0          0\n",
       "4        0   0       0  0  ...          0          0         0          0\n",
       "\n",
       "[5 rows x 327 columns]"
      ]
     },
     "execution_count": 9,
     "metadata": {},
     "output_type": "execute_result"
    }
   ],
   "source": [
    "counts_df.head()"
   ]
  },
  {
   "cell_type": "markdown",
   "id": "b11932e2",
   "metadata": {},
   "source": [
    "`counts_df` has one row for all 12303 employees, and one column for each unique word that is used in a job title."
   ]
  },
  {
   "cell_type": "code",
   "execution_count": 10,
   "id": "ae90ba30",
   "metadata": {},
   "outputs": [
    {
     "data": {
      "text/plain": [
       "(12303, 327)"
      ]
     },
     "execution_count": 10,
     "metadata": {},
     "output_type": "execute_result"
    }
   ],
   "source": [
    "counts_df.shape"
   ]
  },
  {
   "cell_type": "markdown",
   "id": "d5470f68",
   "metadata": {},
   "source": [
    "To put into context what the numbers in `counts_df` mean, we can show the actual job title for each row."
   ]
  },
  {
   "cell_type": "code",
   "execution_count": 11,
   "id": "65c2d3f8",
   "metadata": {
    "scrolled": true
   },
   "outputs": [
    {
     "data": {
      "text/html": [
       "<div>\n",
       "<style scoped>\n",
       "    .dataframe tbody tr th:only-of-type {\n",
       "        vertical-align: middle;\n",
       "    }\n",
       "\n",
       "    .dataframe tbody tr th {\n",
       "        vertical-align: top;\n",
       "    }\n",
       "\n",
       "    .dataframe thead th {\n",
       "        text-align: right;\n",
       "    }\n",
       "</style>\n",
       "<table border=\"1\" class=\"dataframe\">\n",
       "  <thead>\n",
       "    <tr style=\"text-align: right;\">\n",
       "      <th></th>\n",
       "      <th>officer</th>\n",
       "      <th>ii</th>\n",
       "      <th>police</th>\n",
       "      <th>i</th>\n",
       "      <th>...</th>\n",
       "      <th>geologist</th>\n",
       "      <th>utilities</th>\n",
       "      <th>gardener</th>\n",
       "      <th>principle</th>\n",
       "    </tr>\n",
       "    <tr>\n",
       "      <th>Job Title</th>\n",
       "      <th></th>\n",
       "      <th></th>\n",
       "      <th></th>\n",
       "      <th></th>\n",
       "      <th></th>\n",
       "      <th></th>\n",
       "      <th></th>\n",
       "      <th></th>\n",
       "      <th></th>\n",
       "    </tr>\n",
       "  </thead>\n",
       "  <tbody>\n",
       "    <tr>\n",
       "      <th>city attorney</th>\n",
       "      <td>0</td>\n",
       "      <td>0</td>\n",
       "      <td>0</td>\n",
       "      <td>0</td>\n",
       "      <td>...</td>\n",
       "      <td>0</td>\n",
       "      <td>0</td>\n",
       "      <td>0</td>\n",
       "      <td>0</td>\n",
       "    </tr>\n",
       "    <tr>\n",
       "      <th>mayor</th>\n",
       "      <td>0</td>\n",
       "      <td>0</td>\n",
       "      <td>0</td>\n",
       "      <td>0</td>\n",
       "      <td>...</td>\n",
       "      <td>0</td>\n",
       "      <td>0</td>\n",
       "      <td>0</td>\n",
       "      <td>0</td>\n",
       "    </tr>\n",
       "    <tr>\n",
       "      <th>investment officer</th>\n",
       "      <td>1</td>\n",
       "      <td>0</td>\n",
       "      <td>0</td>\n",
       "      <td>0</td>\n",
       "      <td>...</td>\n",
       "      <td>0</td>\n",
       "      <td>0</td>\n",
       "      <td>0</td>\n",
       "      <td>0</td>\n",
       "    </tr>\n",
       "    <tr>\n",
       "      <th>police officer</th>\n",
       "      <td>1</td>\n",
       "      <td>0</td>\n",
       "      <td>1</td>\n",
       "      <td>0</td>\n",
       "      <td>...</td>\n",
       "      <td>0</td>\n",
       "      <td>0</td>\n",
       "      <td>0</td>\n",
       "      <td>0</td>\n",
       "    </tr>\n",
       "    <tr>\n",
       "      <th>independent budget analyst</th>\n",
       "      <td>0</td>\n",
       "      <td>0</td>\n",
       "      <td>0</td>\n",
       "      <td>0</td>\n",
       "      <td>...</td>\n",
       "      <td>0</td>\n",
       "      <td>0</td>\n",
       "      <td>0</td>\n",
       "      <td>0</td>\n",
       "    </tr>\n",
       "  </tbody>\n",
       "</table>\n",
       "<p>5 rows × 327 columns</p>\n",
       "</div>"
      ],
      "text/plain": [
       "                            officer  ii  police  i  ...  geologist  utilities  \\\n",
       "Job Title                                           ...                         \n",
       "city attorney                     0   0       0  0  ...          0          0   \n",
       "mayor                             0   0       0  0  ...          0          0   \n",
       "investment officer                1   0       0  0  ...          0          0   \n",
       "police officer                    1   0       1  0  ...          0          0   \n",
       "independent budget analyst        0   0       0  0  ...          0          0   \n",
       "\n",
       "                            gardener  principle  \n",
       "Job Title                                        \n",
       "city attorney                      0          0  \n",
       "mayor                              0          0  \n",
       "investment officer                 0          0  \n",
       "police officer                     0          0  \n",
       "independent budget analyst         0          0  \n",
       "\n",
       "[5 rows x 327 columns]"
      ]
     },
     "execution_count": 11,
     "metadata": {},
     "output_type": "execute_result"
    }
   ],
   "source": [
    "counts_df = counts_df.set_index(jobtitles)\n",
    "counts_df.head()"
   ]
  },
  {
   "cell_type": "markdown",
   "id": "0c2d1081",
   "metadata": {},
   "source": [
    "The fourth row tells us that the fourth job title contains `'police'` once and `'officer'` once."
   ]
  },
  {
   "cell_type": "markdown",
   "id": "6d7497e4",
   "metadata": {
    "slideshow": {
     "slide_type": "slide"
    }
   },
   "source": [
    "### Interpreting the counts matrix"
   ]
  },
  {
   "cell_type": "code",
   "execution_count": 12,
   "id": "f00cd6fd",
   "metadata": {},
   "outputs": [
    {
     "data": {
      "text/html": [
       "<div>\n",
       "<style scoped>\n",
       "    .dataframe tbody tr th:only-of-type {\n",
       "        vertical-align: middle;\n",
       "    }\n",
       "\n",
       "    .dataframe tbody tr th {\n",
       "        vertical-align: top;\n",
       "    }\n",
       "\n",
       "    .dataframe thead th {\n",
       "        text-align: right;\n",
       "    }\n",
       "</style>\n",
       "<table border=\"1\" class=\"dataframe\">\n",
       "  <thead>\n",
       "    <tr style=\"text-align: right;\">\n",
       "      <th></th>\n",
       "      <th>officer</th>\n",
       "      <th>ii</th>\n",
       "      <th>police</th>\n",
       "      <th>i</th>\n",
       "      <th>...</th>\n",
       "      <th>geologist</th>\n",
       "      <th>utilities</th>\n",
       "      <th>gardener</th>\n",
       "      <th>principle</th>\n",
       "    </tr>\n",
       "    <tr>\n",
       "      <th>Job Title</th>\n",
       "      <th></th>\n",
       "      <th></th>\n",
       "      <th></th>\n",
       "      <th></th>\n",
       "      <th></th>\n",
       "      <th></th>\n",
       "      <th></th>\n",
       "      <th></th>\n",
       "      <th></th>\n",
       "    </tr>\n",
       "  </thead>\n",
       "  <tbody>\n",
       "    <tr>\n",
       "      <th>city attorney</th>\n",
       "      <td>0</td>\n",
       "      <td>0</td>\n",
       "      <td>0</td>\n",
       "      <td>0</td>\n",
       "      <td>...</td>\n",
       "      <td>0</td>\n",
       "      <td>0</td>\n",
       "      <td>0</td>\n",
       "      <td>0</td>\n",
       "    </tr>\n",
       "    <tr>\n",
       "      <th>mayor</th>\n",
       "      <td>0</td>\n",
       "      <td>0</td>\n",
       "      <td>0</td>\n",
       "      <td>0</td>\n",
       "      <td>...</td>\n",
       "      <td>0</td>\n",
       "      <td>0</td>\n",
       "      <td>0</td>\n",
       "      <td>0</td>\n",
       "    </tr>\n",
       "    <tr>\n",
       "      <th>investment officer</th>\n",
       "      <td>1</td>\n",
       "      <td>0</td>\n",
       "      <td>0</td>\n",
       "      <td>0</td>\n",
       "      <td>...</td>\n",
       "      <td>0</td>\n",
       "      <td>0</td>\n",
       "      <td>0</td>\n",
       "      <td>0</td>\n",
       "    </tr>\n",
       "    <tr>\n",
       "      <th>police officer</th>\n",
       "      <td>1</td>\n",
       "      <td>0</td>\n",
       "      <td>1</td>\n",
       "      <td>0</td>\n",
       "      <td>...</td>\n",
       "      <td>0</td>\n",
       "      <td>0</td>\n",
       "      <td>0</td>\n",
       "      <td>0</td>\n",
       "    </tr>\n",
       "    <tr>\n",
       "      <th>independent budget analyst</th>\n",
       "      <td>0</td>\n",
       "      <td>0</td>\n",
       "      <td>0</td>\n",
       "      <td>0</td>\n",
       "      <td>...</td>\n",
       "      <td>0</td>\n",
       "      <td>0</td>\n",
       "      <td>0</td>\n",
       "      <td>0</td>\n",
       "    </tr>\n",
       "  </tbody>\n",
       "</table>\n",
       "<p>5 rows × 327 columns</p>\n",
       "</div>"
      ],
      "text/plain": [
       "                            officer  ii  police  i  ...  geologist  utilities  \\\n",
       "Job Title                                           ...                         \n",
       "city attorney                     0   0       0  0  ...          0          0   \n",
       "mayor                             0   0       0  0  ...          0          0   \n",
       "investment officer                1   0       0  0  ...          0          0   \n",
       "police officer                    1   0       1  0  ...          0          0   \n",
       "independent budget analyst        0   0       0  0  ...          0          0   \n",
       "\n",
       "                            gardener  principle  \n",
       "Job Title                                        \n",
       "city attorney                      0          0  \n",
       "mayor                              0          0  \n",
       "investment officer                 0          0  \n",
       "police officer                     0          0  \n",
       "independent budget analyst         0          0  \n",
       "\n",
       "[5 rows x 327 columns]"
      ]
     },
     "execution_count": 12,
     "metadata": {},
     "output_type": "execute_result"
    }
   ],
   "source": [
    "counts_df.head()"
   ]
  },
  {
   "cell_type": "markdown",
   "id": "0f240158",
   "metadata": {},
   "source": [
    "The Series below describes the 20 most common words used in job titles, along with the number of times they appeared in all job titles (including repeats). We will call these words \"top 20\" words."
   ]
  },
  {
   "cell_type": "code",
   "execution_count": 13,
   "id": "2fd3dac3",
   "metadata": {
    "scrolled": true
   },
   "outputs": [
    {
     "data": {
      "text/plain": [
       "officer       2343\n",
       "ii            2305\n",
       "police        2294\n",
       "              ... \n",
       "operator       380\n",
       "recreation     371\n",
       "supervisor     362\n",
       "Length: 20, dtype: int64"
      ]
     },
     "execution_count": 13,
     "metadata": {},
     "output_type": "execute_result"
    }
   ],
   "source": [
    "# Remember, the columns of counts_df are ordered by number of occurrences.\n",
    "counts_df.iloc[:, :20].sum()"
   ]
  },
  {
   "cell_type": "markdown",
   "id": "17cbee97",
   "metadata": {},
   "source": [
    "The Series below describes the **number of top 20 words** used in each job title."
   ]
  },
  {
   "cell_type": "code",
   "execution_count": 14,
   "id": "a055ab2e",
   "metadata": {
    "scrolled": true
   },
   "outputs": [
    {
     "data": {
      "text/plain": [
       "Job Title\n",
       "city attorney              0\n",
       "mayor                      0\n",
       "investment officer         1\n",
       "                          ..\n",
       "fire captain               1\n",
       "fleet repair supervisor    1\n",
       "fire engineer              2\n",
       "Length: 12303, dtype: int64"
      ]
     },
     "execution_count": 14,
     "metadata": {},
     "output_type": "execute_result"
    }
   ],
   "source": [
    "counts_df.iloc[:, :20].sum(axis=1)"
   ]
  },
  {
   "cell_type": "markdown",
   "id": "8769612f",
   "metadata": {
    "slideshow": {
     "slide_type": "slide"
    }
   },
   "source": [
    "### Question: What job titles are most similar to `'deputy fire chief'`?\n",
    "\n",
    "- Remember, our idea was to count the number of shared words between two job titles.\n",
    "\n",
    "- We now have access to `counts_df`, which contains a row vector for each job title.\n",
    "\n",
    "- How can we use it to count the number of shared words between two job titles, i.e. the **similarity** of two job titles?"
   ]
  },
  {
   "cell_type": "markdown",
   "id": "8abeb42b",
   "metadata": {
    "slideshow": {
     "slide_type": "slide"
    }
   },
   "source": [
    "To start, let's compare the row vectors for `'deputy fire chief'` and `'fire battalion chief'`."
   ]
  },
  {
   "cell_type": "code",
   "execution_count": 15,
   "id": "730f1fb8",
   "metadata": {
    "scrolled": true
   },
   "outputs": [
    {
     "data": {
      "text/plain": [
       "officer      0\n",
       "ii           0\n",
       "police       0\n",
       "            ..\n",
       "utilities    0\n",
       "gardener     0\n",
       "principle    0\n",
       "Name: deputy fire chief, Length: 327, dtype: int64"
      ]
     },
     "execution_count": 15,
     "metadata": {},
     "output_type": "execute_result"
    }
   ],
   "source": [
    "dfc = counts_df.loc['deputy fire chief'].iloc[0]\n",
    "dfc"
   ]
  },
  {
   "cell_type": "code",
   "execution_count": 16,
   "id": "c1c56a81",
   "metadata": {},
   "outputs": [
    {
     "data": {
      "text/plain": [
       "officer      0\n",
       "ii           0\n",
       "police       0\n",
       "            ..\n",
       "utilities    0\n",
       "gardener     0\n",
       "principle    0\n",
       "Name: fire battalion chief, Length: 327, dtype: int64"
      ]
     },
     "execution_count": 16,
     "metadata": {},
     "output_type": "execute_result"
    }
   ],
   "source": [
    "fbc = counts_df.loc['fire battalion chief'].iloc[0]\n",
    "fbc"
   ]
  },
  {
   "cell_type": "markdown",
   "id": "33cbbcd2",
   "metadata": {},
   "source": [
    "We can stack these two vectors horizontally."
   ]
  },
  {
   "cell_type": "code",
   "execution_count": 17,
   "id": "557eb8bd",
   "metadata": {},
   "outputs": [
    {
     "data": {
      "text/html": [
       "<div>\n",
       "<style scoped>\n",
       "    .dataframe tbody tr th:only-of-type {\n",
       "        vertical-align: middle;\n",
       "    }\n",
       "\n",
       "    .dataframe tbody tr th {\n",
       "        vertical-align: top;\n",
       "    }\n",
       "\n",
       "    .dataframe thead th {\n",
       "        text-align: right;\n",
       "    }\n",
       "</style>\n",
       "<table border=\"1\" class=\"dataframe\">\n",
       "  <thead>\n",
       "    <tr style=\"text-align: right;\">\n",
       "      <th></th>\n",
       "      <th>fire</th>\n",
       "      <th>chief</th>\n",
       "      <th>deputy</th>\n",
       "      <th>battalion</th>\n",
       "      <th>...</th>\n",
       "      <th>police</th>\n",
       "      <th>i</th>\n",
       "      <th>assistant</th>\n",
       "      <th>engineer</th>\n",
       "    </tr>\n",
       "  </thead>\n",
       "  <tbody>\n",
       "    <tr>\n",
       "      <th>deputy fire chief</th>\n",
       "      <td>1</td>\n",
       "      <td>1</td>\n",
       "      <td>1</td>\n",
       "      <td>0</td>\n",
       "      <td>...</td>\n",
       "      <td>0</td>\n",
       "      <td>0</td>\n",
       "      <td>0</td>\n",
       "      <td>0</td>\n",
       "    </tr>\n",
       "    <tr>\n",
       "      <th>fire battalion chief</th>\n",
       "      <td>1</td>\n",
       "      <td>1</td>\n",
       "      <td>0</td>\n",
       "      <td>1</td>\n",
       "      <td>...</td>\n",
       "      <td>0</td>\n",
       "      <td>0</td>\n",
       "      <td>0</td>\n",
       "      <td>0</td>\n",
       "    </tr>\n",
       "  </tbody>\n",
       "</table>\n",
       "<p>2 rows × 10 columns</p>\n",
       "</div>"
      ],
      "text/plain": [
       "                      fire  chief  deputy  battalion  ...  police  i  \\\n",
       "deputy fire chief        1      1       1          0  ...       0  0   \n",
       "fire battalion chief     1      1       0          1  ...       0  0   \n",
       "\n",
       "                      assistant  engineer  \n",
       "deputy fire chief             0         0  \n",
       "fire battalion chief          0         0  \n",
       "\n",
       "[2 rows x 10 columns]"
      ]
     },
     "execution_count": 17,
     "metadata": {},
     "output_type": "execute_result"
    }
   ],
   "source": [
    "pair_counts = (\n",
    "    pd.concat([dfc, fbc], axis=1)\n",
    "    .sort_values(by=['deputy fire chief', 'fire battalion chief'], ascending=False)\n",
    "    .head(10)\n",
    "    .T\n",
    ")\n",
    "\n",
    "pair_counts"
   ]
  },
  {
   "cell_type": "markdown",
   "id": "0cb1144b",
   "metadata": {
    "slideshow": {
     "slide_type": "fragment"
    }
   },
   "source": [
    "One way to measure how similar the above two vectors are is through their **dot product**."
   ]
  },
  {
   "cell_type": "code",
   "execution_count": 18,
   "id": "a3e6d9ea",
   "metadata": {},
   "outputs": [
    {
     "data": {
      "text/plain": [
       "2"
      ]
     },
     "execution_count": 18,
     "metadata": {},
     "output_type": "execute_result"
    }
   ],
   "source": [
    "np.sum(pair_counts.iloc[0] * pair_counts.iloc[1])"
   ]
  },
  {
   "cell_type": "markdown",
   "id": "d829862d",
   "metadata": {
    "slideshow": {
     "slide_type": "fragment"
    }
   },
   "source": [
    "Here, since both vectors consist only of 1s and 0s, the dot product is equal to the **number of shared words** between the two job titles."
   ]
  },
  {
   "cell_type": "markdown",
   "id": "d3efce65",
   "metadata": {
    "slideshow": {
     "slide_type": "slide"
    }
   },
   "source": [
    "### The dot product\n",
    "\n",
    "- Recall, if $\\vec{a} = \\begin{bmatrix} a_1 & a_2 & ... & a_n \\end{bmatrix}^T$ and $\\vec{b} = \\begin{bmatrix} b_1 & b_2 & ... & b_n \\end{bmatrix}^T$ are two vectors, then their **dot product** $\\vec{a} \\cdot \\vec{b}$ is defined as:\n",
    "\n",
    "$$\\vec{a} \\cdot \\vec{b} = a_1b_1 + a_2b_2 + ... + a_nb_n$$\n",
    "\n",
    "- The dot product also has a **geometric** interpretation. If $|\\vec{a}|$ and $|\\vec{b}|$ are the $L_2$ norms (lengths) of $\\vec{a}$ and $\\vec{b}$, and $\\theta$ is the angle between $\\vec{a}$ and $\\vec{b}$, then:\n",
    "\n",
    "$$\\vec{a} \\cdot \\vec{b} = |\\vec{a}| |\\vec{b}| \\cos \\theta$$\n",
    "\n",
    "<center><img src='imgs/dot-prod.png' width=20%>(<a href=\"https://byjus.com/physics/scalar-and-vector-products/\">source</a>)</center>\n",
    "\n",
    "- $\\cos \\theta$ is equal to its maximum value (1) when $\\theta = 0$, i.e. when $\\vec{a}$ and $\\vec{b}$ point in the same direction. \n",
    "\n",
    "- 🚨 **Key idea: The more similar two unit vectors are, the larger their dot product is!**"
   ]
  },
  {
   "cell_type": "markdown",
   "id": "7d041d25",
   "metadata": {
    "slideshow": {
     "slide_type": "slide"
    }
   },
   "source": [
    "### Computing similarities\n",
    "\n",
    "To find the job title that is most similar to `'deputy fire chief'`, we can compute the dot product of the `'deputy fire chief'` word vector with all other titles' word vectors, and find the title with the highest dot product."
   ]
  },
  {
   "cell_type": "code",
   "execution_count": 19,
   "id": "5ff15953",
   "metadata": {
    "scrolled": true
   },
   "outputs": [
    {
     "data": {
      "text/html": [
       "<div>\n",
       "<style scoped>\n",
       "    .dataframe tbody tr th:only-of-type {\n",
       "        vertical-align: middle;\n",
       "    }\n",
       "\n",
       "    .dataframe tbody tr th {\n",
       "        vertical-align: top;\n",
       "    }\n",
       "\n",
       "    .dataframe thead th {\n",
       "        text-align: right;\n",
       "    }\n",
       "</style>\n",
       "<table border=\"1\" class=\"dataframe\">\n",
       "  <thead>\n",
       "    <tr style=\"text-align: right;\">\n",
       "      <th></th>\n",
       "      <th>officer</th>\n",
       "      <th>ii</th>\n",
       "      <th>police</th>\n",
       "      <th>i</th>\n",
       "      <th>...</th>\n",
       "      <th>geologist</th>\n",
       "      <th>utilities</th>\n",
       "      <th>gardener</th>\n",
       "      <th>principle</th>\n",
       "    </tr>\n",
       "    <tr>\n",
       "      <th>Job Title</th>\n",
       "      <th></th>\n",
       "      <th></th>\n",
       "      <th></th>\n",
       "      <th></th>\n",
       "      <th></th>\n",
       "      <th></th>\n",
       "      <th></th>\n",
       "      <th></th>\n",
       "      <th></th>\n",
       "    </tr>\n",
       "  </thead>\n",
       "  <tbody>\n",
       "    <tr>\n",
       "      <th>city attorney</th>\n",
       "      <td>0</td>\n",
       "      <td>0</td>\n",
       "      <td>0</td>\n",
       "      <td>0</td>\n",
       "      <td>...</td>\n",
       "      <td>0</td>\n",
       "      <td>0</td>\n",
       "      <td>0</td>\n",
       "      <td>0</td>\n",
       "    </tr>\n",
       "    <tr>\n",
       "      <th>mayor</th>\n",
       "      <td>0</td>\n",
       "      <td>0</td>\n",
       "      <td>0</td>\n",
       "      <td>0</td>\n",
       "      <td>...</td>\n",
       "      <td>0</td>\n",
       "      <td>0</td>\n",
       "      <td>0</td>\n",
       "      <td>0</td>\n",
       "    </tr>\n",
       "    <tr>\n",
       "      <th>investment officer</th>\n",
       "      <td>1</td>\n",
       "      <td>0</td>\n",
       "      <td>0</td>\n",
       "      <td>0</td>\n",
       "      <td>...</td>\n",
       "      <td>0</td>\n",
       "      <td>0</td>\n",
       "      <td>0</td>\n",
       "      <td>0</td>\n",
       "    </tr>\n",
       "    <tr>\n",
       "      <th>police officer</th>\n",
       "      <td>1</td>\n",
       "      <td>0</td>\n",
       "      <td>1</td>\n",
       "      <td>0</td>\n",
       "      <td>...</td>\n",
       "      <td>0</td>\n",
       "      <td>0</td>\n",
       "      <td>0</td>\n",
       "      <td>0</td>\n",
       "    </tr>\n",
       "    <tr>\n",
       "      <th>independent budget analyst</th>\n",
       "      <td>0</td>\n",
       "      <td>0</td>\n",
       "      <td>0</td>\n",
       "      <td>0</td>\n",
       "      <td>...</td>\n",
       "      <td>0</td>\n",
       "      <td>0</td>\n",
       "      <td>0</td>\n",
       "      <td>0</td>\n",
       "    </tr>\n",
       "  </tbody>\n",
       "</table>\n",
       "<p>5 rows × 327 columns</p>\n",
       "</div>"
      ],
      "text/plain": [
       "                            officer  ii  police  i  ...  geologist  utilities  \\\n",
       "Job Title                                           ...                         \n",
       "city attorney                     0   0       0  0  ...          0          0   \n",
       "mayor                             0   0       0  0  ...          0          0   \n",
       "investment officer                1   0       0  0  ...          0          0   \n",
       "police officer                    1   0       1  0  ...          0          0   \n",
       "independent budget analyst        0   0       0  0  ...          0          0   \n",
       "\n",
       "                            gardener  principle  \n",
       "Job Title                                        \n",
       "city attorney                      0          0  \n",
       "mayor                              0          0  \n",
       "investment officer                 0          0  \n",
       "police officer                     0          0  \n",
       "independent budget analyst         0          0  \n",
       "\n",
       "[5 rows x 327 columns]"
      ]
     },
     "execution_count": 19,
     "metadata": {},
     "output_type": "execute_result"
    }
   ],
   "source": [
    "counts_df.head()"
   ]
  },
  {
   "cell_type": "code",
   "execution_count": 20,
   "id": "55504644",
   "metadata": {},
   "outputs": [
    {
     "data": {
      "text/plain": [
       "officer      0\n",
       "ii           0\n",
       "police       0\n",
       "            ..\n",
       "utilities    0\n",
       "gardener     0\n",
       "principle    0\n",
       "Name: deputy fire chief, Length: 327, dtype: int64"
      ]
     },
     "execution_count": 20,
     "metadata": {},
     "output_type": "execute_result"
    }
   ],
   "source": [
    "dfc"
   ]
  },
  {
   "cell_type": "markdown",
   "id": "f8ab9f8f",
   "metadata": {},
   "source": [
    "To do so, we can apply `np.dot` to each row that doesn't correspond to `'deputy fire chief'`."
   ]
  },
  {
   "cell_type": "code",
   "execution_count": 21,
   "id": "6a887fa7",
   "metadata": {},
   "outputs": [
    {
     "data": {
      "text/plain": [
       "Job Title\n",
       "fire battalion chief                           2\n",
       "fire battalion chief                           2\n",
       "assistant fire chief                           2\n",
       "                                              ..\n",
       "supervising procurement contracting officer    0\n",
       "sanitation driver ii                           0\n",
       "city attorney                                  0\n",
       "Length: 12292, dtype: int64"
      ]
     },
     "execution_count": 21,
     "metadata": {},
     "output_type": "execute_result"
    }
   ],
   "source": [
    "dots = (\n",
    "    counts_df[counts_df.index != 'deputy fire chief']\n",
    "    .apply(lambda s: np.dot(s, dfc), axis=1)\n",
    "    .sort_values(ascending=False)\n",
    ")\n",
    "\n",
    "dots"
   ]
  },
  {
   "cell_type": "markdown",
   "id": "def81254",
   "metadata": {},
   "source": [
    "The unique job titles that are **most similar** to `'deputy fire chief'` are given below."
   ]
  },
  {
   "cell_type": "code",
   "execution_count": 22,
   "id": "88c3c2d5",
   "metadata": {},
   "outputs": [
    {
     "data": {
      "text/plain": [
       "array(['assistant deputy chief operating officer', 'assistant fire chief',\n",
       "       'deputy chief operating officer', 'fire battalion chief',\n",
       "       'fire chief'], dtype=object)"
      ]
     },
     "execution_count": 22,
     "metadata": {},
     "output_type": "execute_result"
    }
   ],
   "source": [
    "np.unique(dots.index[dots == dots.max()])"
   ]
  },
  {
   "cell_type": "markdown",
   "id": "955afa7d",
   "metadata": {},
   "source": [
    "Note that they all share two words in common with `'deputy fire chief'`.\n",
    "\n",
    "**Note:** To truly use the dot product as a measure of similarity, we should **normalize** by the lengths of the word vectors. More on this soon."
   ]
  },
  {
   "attachments": {},
   "cell_type": "markdown",
   "id": "70af4957",
   "metadata": {
    "slideshow": {
     "slide_type": "slide"
    }
   },
   "source": [
    "## 🙋🙋🏽‍♀️ Questions?\n",
    "\n",
    "https://app.sli.do/event/2LZSnXWNpGPiuVnCZMa5J8\n",
    "\n",
    "<center><img src=\"imgs/slido.svg\" width=\"30%\"></center>"
   ]
  },
  {
   "cell_type": "markdown",
   "id": "fccb0ce4",
   "metadata": {
    "slideshow": {
     "slide_type": "slide"
    }
   },
   "source": [
    "### Bag of words\n",
    "\n",
    "- The **bag of words** model represents texts (e.g. job titles, sentences, documents) as **vectors of word counts**.\n",
    "    - The \"counts\" matrices we have worked with so far were created using the bag of words model.\n",
    "    - The bag of words model defines a **vector space** in $\\mathbb{R}^{\\text{number of unique words}}$.\n",
    "- It is called \"bag of words\" because it doesn't consider **order**.\n",
    "\n",
    "<center><img src='imgs/bag-of-words.jpeg' width=45%></center>\n",
    "\n",
    "<center><a href=\"https://42f6861cgkip12ijm63i3orf-wpengine.netdna-ssl.com/wp-content/uploads/2020/12/2020-07-bagofwords.jpg\">(source)</a></center>"
   ]
  },
  {
   "cell_type": "markdown",
   "id": "2399af24",
   "metadata": {
    "slideshow": {
     "slide_type": "slide"
    }
   },
   "source": [
    "### Aside: Interactive bag of words demo\n",
    "\n",
    "Check [this](https://svelte.dev/repl/98d158ef6fb842d09c66ed20b9a31e99?version=3.55.1) site out – it automatically generates a bag of words matrix for you!\n",
    "\n",
    "<center><img src='imgs/bow-interactive.png' width=50%>(<a href=\"https://twitter.com/jdwlbr/status/1622704535511916544?s=20\">source</a>)</center>"
   ]
  },
  {
   "cell_type": "markdown",
   "id": "a7c05ead",
   "metadata": {
    "slideshow": {
     "slide_type": "slide"
    }
   },
   "source": [
    "## Cosine similarity"
   ]
  },
  {
   "cell_type": "markdown",
   "id": "53050912",
   "metadata": {
    "slideshow": {
     "slide_type": "slide"
    }
   },
   "source": [
    "### Cosine similarity and bag of words\n",
    "\n",
    "To measure the similarity between two word vectors, we compute their **normalized** dot product, also known as their **cosine similarity**.\n",
    "\n",
    "$$\\cos \\theta = \\boxed{\\frac{\\vec{a} \\cdot \\vec{b}}{|\\vec{a}| | \\vec{b}|}}$$\n",
    "\n",
    "If $\\cos \\theta$ is large, the two word vectors are similar. **It is important to normalize by the lengths of the vectors**, otherwise texts with more words will have artificially high similarities with other texts."
   ]
  },
  {
   "cell_type": "markdown",
   "id": "7906fca2",
   "metadata": {
    "slideshow": {
     "slide_type": "slide"
    }
   },
   "source": [
    "**Note:** Sometimes, you will see the **cosine distance** being used. It is the complement of cosine similarity:\n",
    "  \n",
    "  $$\\text{dist}(\\vec{a}, \\vec{b}) = 1 - \\cos \\theta$$\n",
    "  \n",
    "If $\\text{dist}(\\vec{a}, \\vec{b})$ is small, the two word vectors are similar."
   ]
  },
  {
   "cell_type": "markdown",
   "id": "bbef9257",
   "metadata": {
    "slideshow": {
     "slide_type": "slide"
    }
   },
   "source": [
    "### A recipe for computing similarities\n",
    "\n",
    "Given a set of documents, to find the **most similar** text to one _document_ $d$ in particular:\n",
    "\n",
    "- Use the bag of words model to create a counts matrix, in which:\n",
    "    - there is 1 row per document,\n",
    "    - there is 1 column per **unique** word that is used across documents, and\n",
    "    - the value in row `doc` and column `word` is the number of occurrences of `word` in `doc`.\n",
    "\n",
    "- Compute the cosine similarity between $d$'s row vector and all other documents' row vectors.\n",
    "\n",
    "- The other document with the greatest cosine similarity is the most similar, under the bag of words model."
   ]
  },
  {
   "cell_type": "markdown",
   "id": "81897bc1",
   "metadata": {
    "slideshow": {
     "slide_type": "slide"
    }
   },
   "source": [
    "### Example: Global warming 🌎\n",
    "\n",
    "Consider the following three documents."
   ]
  },
  {
   "cell_type": "code",
   "execution_count": 23,
   "id": "605cfd0a",
   "metadata": {},
   "outputs": [
    {
     "data": {
      "text/plain": [
       "0    I really really want global peace\n",
       "1          I must enjoy global warming\n",
       "2         We must solve climate change\n",
       "dtype: object"
      ]
     },
     "execution_count": 23,
     "metadata": {},
     "output_type": "execute_result"
    }
   ],
   "source": [
    "sentences = pd.Series([\n",
    "    'I really really want global peace',\n",
    "    'I must enjoy global warming',\n",
    "    'We must solve climate change'\n",
    "])\n",
    "\n",
    "sentences"
   ]
  },
  {
   "cell_type": "markdown",
   "id": "d4b1a1e4",
   "metadata": {
    "slideshow": {
     "slide_type": "fragment"
    }
   },
   "source": [
    "Let's represent each document using the bag of words model."
   ]
  },
  {
   "cell_type": "code",
   "execution_count": 24,
   "id": "3c8f0768",
   "metadata": {},
   "outputs": [
    {
     "data": {
      "text/plain": [
       "I          2\n",
       "really     2\n",
       "global     2\n",
       "          ..\n",
       "solve      1\n",
       "climate    1\n",
       "change     1\n",
       "Length: 12, dtype: int64"
      ]
     },
     "execution_count": 24,
     "metadata": {},
     "output_type": "execute_result"
    }
   ],
   "source": [
    "unique_words = pd.Series(sentences.str.split().sum()).value_counts()\n",
    "unique_words"
   ]
  },
  {
   "cell_type": "code",
   "execution_count": 25,
   "id": "c734f4f1",
   "metadata": {},
   "outputs": [],
   "source": [
    "counts_dict = {}\n",
    "for word in unique_words.index:\n",
    "    re_pat = fr'\\b{word}\\b'\n",
    "    counts_dict[word] = sentences.str.count(re_pat).astype(int).tolist()\n",
    "    \n",
    "counts_df = pd.DataFrame(counts_dict).set_index(sentences)"
   ]
  },
  {
   "cell_type": "code",
   "execution_count": 26,
   "id": "4ec7b9ef",
   "metadata": {},
   "outputs": [
    {
     "data": {
      "text/html": [
       "<div>\n",
       "<style scoped>\n",
       "    .dataframe tbody tr th:only-of-type {\n",
       "        vertical-align: middle;\n",
       "    }\n",
       "\n",
       "    .dataframe tbody tr th {\n",
       "        vertical-align: top;\n",
       "    }\n",
       "\n",
       "    .dataframe thead th {\n",
       "        text-align: right;\n",
       "    }\n",
       "</style>\n",
       "<table border=\"1\" class=\"dataframe\">\n",
       "  <thead>\n",
       "    <tr style=\"text-align: right;\">\n",
       "      <th></th>\n",
       "      <th>I</th>\n",
       "      <th>really</th>\n",
       "      <th>global</th>\n",
       "      <th>must</th>\n",
       "      <th>...</th>\n",
       "      <th>We</th>\n",
       "      <th>solve</th>\n",
       "      <th>climate</th>\n",
       "      <th>change</th>\n",
       "    </tr>\n",
       "  </thead>\n",
       "  <tbody>\n",
       "    <tr>\n",
       "      <th>I really really want global peace</th>\n",
       "      <td>1</td>\n",
       "      <td>2</td>\n",
       "      <td>1</td>\n",
       "      <td>0</td>\n",
       "      <td>...</td>\n",
       "      <td>0</td>\n",
       "      <td>0</td>\n",
       "      <td>0</td>\n",
       "      <td>0</td>\n",
       "    </tr>\n",
       "    <tr>\n",
       "      <th>I must enjoy global warming</th>\n",
       "      <td>1</td>\n",
       "      <td>0</td>\n",
       "      <td>1</td>\n",
       "      <td>1</td>\n",
       "      <td>...</td>\n",
       "      <td>0</td>\n",
       "      <td>0</td>\n",
       "      <td>0</td>\n",
       "      <td>0</td>\n",
       "    </tr>\n",
       "    <tr>\n",
       "      <th>We must solve climate change</th>\n",
       "      <td>0</td>\n",
       "      <td>0</td>\n",
       "      <td>0</td>\n",
       "      <td>1</td>\n",
       "      <td>...</td>\n",
       "      <td>1</td>\n",
       "      <td>1</td>\n",
       "      <td>1</td>\n",
       "      <td>1</td>\n",
       "    </tr>\n",
       "  </tbody>\n",
       "</table>\n",
       "<p>3 rows × 12 columns</p>\n",
       "</div>"
      ],
      "text/plain": [
       "                                   I  really  global  must  ...  We  solve  \\\n",
       "I really really want global peace  1       2       1     0  ...   0      0   \n",
       "I must enjoy global warming        1       0       1     1  ...   0      0   \n",
       "We must solve climate change       0       0       0     1  ...   1      1   \n",
       "\n",
       "                                   climate  change  \n",
       "I really really want global peace        0       0  \n",
       "I must enjoy global warming              0       0  \n",
       "We must solve climate change             1       1  \n",
       "\n",
       "[3 rows x 12 columns]"
      ]
     },
     "execution_count": 26,
     "metadata": {},
     "output_type": "execute_result"
    }
   ],
   "source": [
    "counts_df"
   ]
  },
  {
   "cell_type": "markdown",
   "id": "cf36677a",
   "metadata": {
    "slideshow": {
     "slide_type": "slide"
    }
   },
   "source": [
    "Let's now find the cosine similarity between each document."
   ]
  },
  {
   "cell_type": "code",
   "execution_count": 27,
   "id": "8c87ee7b",
   "metadata": {},
   "outputs": [
    {
     "data": {
      "text/html": [
       "<div>\n",
       "<style scoped>\n",
       "    .dataframe tbody tr th:only-of-type {\n",
       "        vertical-align: middle;\n",
       "    }\n",
       "\n",
       "    .dataframe tbody tr th {\n",
       "        vertical-align: top;\n",
       "    }\n",
       "\n",
       "    .dataframe thead th {\n",
       "        text-align: right;\n",
       "    }\n",
       "</style>\n",
       "<table border=\"1\" class=\"dataframe\">\n",
       "  <thead>\n",
       "    <tr style=\"text-align: right;\">\n",
       "      <th></th>\n",
       "      <th>I</th>\n",
       "      <th>really</th>\n",
       "      <th>global</th>\n",
       "      <th>must</th>\n",
       "      <th>...</th>\n",
       "      <th>We</th>\n",
       "      <th>solve</th>\n",
       "      <th>climate</th>\n",
       "      <th>change</th>\n",
       "    </tr>\n",
       "  </thead>\n",
       "  <tbody>\n",
       "    <tr>\n",
       "      <th>I really really want global peace</th>\n",
       "      <td>1</td>\n",
       "      <td>2</td>\n",
       "      <td>1</td>\n",
       "      <td>0</td>\n",
       "      <td>...</td>\n",
       "      <td>0</td>\n",
       "      <td>0</td>\n",
       "      <td>0</td>\n",
       "      <td>0</td>\n",
       "    </tr>\n",
       "    <tr>\n",
       "      <th>I must enjoy global warming</th>\n",
       "      <td>1</td>\n",
       "      <td>0</td>\n",
       "      <td>1</td>\n",
       "      <td>1</td>\n",
       "      <td>...</td>\n",
       "      <td>0</td>\n",
       "      <td>0</td>\n",
       "      <td>0</td>\n",
       "      <td>0</td>\n",
       "    </tr>\n",
       "    <tr>\n",
       "      <th>We must solve climate change</th>\n",
       "      <td>0</td>\n",
       "      <td>0</td>\n",
       "      <td>0</td>\n",
       "      <td>1</td>\n",
       "      <td>...</td>\n",
       "      <td>1</td>\n",
       "      <td>1</td>\n",
       "      <td>1</td>\n",
       "      <td>1</td>\n",
       "    </tr>\n",
       "  </tbody>\n",
       "</table>\n",
       "<p>3 rows × 12 columns</p>\n",
       "</div>"
      ],
      "text/plain": [
       "                                   I  really  global  must  ...  We  solve  \\\n",
       "I really really want global peace  1       2       1     0  ...   0      0   \n",
       "I must enjoy global warming        1       0       1     1  ...   0      0   \n",
       "We must solve climate change       0       0       0     1  ...   1      1   \n",
       "\n",
       "                                   climate  change  \n",
       "I really really want global peace        0       0  \n",
       "I must enjoy global warming              0       0  \n",
       "We must solve climate change             1       1  \n",
       "\n",
       "[3 rows x 12 columns]"
      ]
     },
     "execution_count": 27,
     "metadata": {},
     "output_type": "execute_result"
    }
   ],
   "source": [
    "counts_df"
   ]
  },
  {
   "cell_type": "code",
   "execution_count": 28,
   "id": "a3b30ae8",
   "metadata": {},
   "outputs": [],
   "source": [
    "def sim_pair(s1, s2):\n",
    "    return np.dot(s1, s2) / (np.linalg.norm(s1) * np.linalg.norm(s2))"
   ]
  },
  {
   "cell_type": "code",
   "execution_count": 29,
   "id": "66f77468",
   "metadata": {},
   "outputs": [
    {
     "data": {
      "text/html": [
       "<div>\n",
       "<style scoped>\n",
       "    .dataframe tbody tr th:only-of-type {\n",
       "        vertical-align: middle;\n",
       "    }\n",
       "\n",
       "    .dataframe tbody tr th {\n",
       "        vertical-align: top;\n",
       "    }\n",
       "\n",
       "    .dataframe thead th {\n",
       "        text-align: right;\n",
       "    }\n",
       "</style>\n",
       "<table border=\"1\" class=\"dataframe\">\n",
       "  <thead>\n",
       "    <tr style=\"text-align: right;\">\n",
       "      <th></th>\n",
       "      <th>I really really want global peace</th>\n",
       "      <th>I must enjoy global warming</th>\n",
       "      <th>We must solve climate change</th>\n",
       "    </tr>\n",
       "  </thead>\n",
       "  <tbody>\n",
       "    <tr>\n",
       "      <th>I really really want global peace</th>\n",
       "      <td>1.00</td>\n",
       "      <td>0.32</td>\n",
       "      <td>0.0</td>\n",
       "    </tr>\n",
       "    <tr>\n",
       "      <th>I must enjoy global warming</th>\n",
       "      <td>0.32</td>\n",
       "      <td>1.00</td>\n",
       "      <td>0.2</td>\n",
       "    </tr>\n",
       "    <tr>\n",
       "      <th>We must solve climate change</th>\n",
       "      <td>0.00</td>\n",
       "      <td>0.20</td>\n",
       "      <td>1.0</td>\n",
       "    </tr>\n",
       "  </tbody>\n",
       "</table>\n",
       "</div>"
      ],
      "text/plain": [
       "                                   I really really want global peace  \\\n",
       "I really really want global peace                               1.00   \n",
       "I must enjoy global warming                                     0.32   \n",
       "We must solve climate change                                    0.00   \n",
       "\n",
       "                                   I must enjoy global warming  \\\n",
       "I really really want global peace                         0.32   \n",
       "I must enjoy global warming                               1.00   \n",
       "We must solve climate change                              0.20   \n",
       "\n",
       "                                   We must solve climate change  \n",
       "I really really want global peace                           0.0  \n",
       "I must enjoy global warming                                 0.2  \n",
       "We must solve climate change                                1.0  "
      ]
     },
     "execution_count": 29,
     "metadata": {},
     "output_type": "execute_result"
    }
   ],
   "source": [
    "# Look at the documentation of the .corr method to see how this works!\n",
    "counts_df.T.corr(sim_pair)"
   ]
  },
  {
   "cell_type": "markdown",
   "id": "25ee569a",
   "metadata": {
    "slideshow": {
     "slide_type": "fragment"
    }
   },
   "source": [
    "**Issue:** Bag of words only encodes the **words** that each document uses, not their **meanings**.\n",
    "- \"I really really want global peace\" and \"We must solve climate change\" have similar meanings, but have no shared words, and thus a low cosine similarity.\n",
    "- \"I really really want global peace\" and \"I must enjoy global warming\" have very different meanings, but a relatively high cosine similarity."
   ]
  },
  {
   "cell_type": "markdown",
   "id": "4de88443",
   "metadata": {
    "slideshow": {
     "slide_type": "slide"
    }
   },
   "source": [
    "### Pitfalls of the bag of words model\n",
    "\n",
    "Remember, the key assumption underlying the bag of words model is that **two documents are similar if they share many words in common**.\n",
    "\n",
    "- The bag of words model doesn't consider **order**.\n",
    "    - The job titles `'deputy fire chief'` and `'chief fire deputy'` are treated as the same.\n",
    "\n",
    "- The bag of words model doesn't consider the **meaning** of words.\n",
    "    - `'I love data science'` and `'I hate data science'` share 75% of their words, but have very different meanings.\n",
    "\n",
    "- The bag of words model treats all words as being equally important.\n",
    "    - `'deputy'` and `'fire'` have the same importance, even though `'fire'` is probably more important in describing someone's job title.\n",
    "    - <span style=\"color:red\"><b>Let's address this point.</b></span>"
   ]
  },
  {
   "attachments": {},
   "cell_type": "markdown",
   "id": "124a65b1",
   "metadata": {
    "slideshow": {
     "slide_type": "slide"
    }
   },
   "source": [
    "## 🙋🙋🏽‍♀️ Questions?\n",
    "\n",
    "https://app.sli.do/event/2LZSnXWNpGPiuVnCZMa5J8\n",
    "\n",
    "<center><img src=\"imgs/slido.svg\" width=\"30%\"></center>"
   ]
  },
  {
   "cell_type": "markdown",
   "id": "08543520",
   "metadata": {
    "slideshow": {
     "slide_type": "slide"
    }
   },
   "source": [
    "## TF-IDF"
   ]
  },
  {
   "cell_type": "markdown",
   "id": "1fcc3cdc",
   "metadata": {
    "slideshow": {
     "slide_type": "slide"
    }
   },
   "source": [
    "### The importance of words\n",
    "\n",
    "**Issue:** The bag of words model doesn't know which words are \"important\" in a document. Consider the following document:\n",
    "\n",
    "<center>\"my brother has a friend named <b>billy</b> who has an uncle named <b>billy</b>\"</center>\n",
    "\n",
    "How do we determine which words are important?\n",
    "- The most common words (\"the\", \"has\") often **don't** have much meaning!\n",
    "- The very rare words are also less important!\n",
    "\n",
    "**Goal:** Find a way of quantifying the importance of a word in a document by **balancing the above two factors**, i.e. find the word that **best summarizes** a document."
   ]
  },
  {
   "cell_type": "markdown",
   "id": "fe4d0ca0",
   "metadata": {
    "slideshow": {
     "slide_type": "slide"
    }
   },
   "source": [
    "### Term frequency\n",
    "\n",
    "- The **term frequency** of a word (term) $t$ in a document $d$, denoted $\\text{tf}(t, d)$ is the proportion of words in document $d$ that are equal to $t$.\n",
    "\n",
    "$$\\text{tf}(t, d) = \\frac{\\text{# of occurrences of $t$ in $d$}}{\\text{total # of words in $d$}}$$\n",
    "\n",
    "- **Example:** What is the term frequency of \"billy\" in the following document?\n",
    "\n",
    "<center>\"my brother has a friend named <b>billy</b> who has an uncle named <b>billy</b>\"</center>\n",
    "\n",
    "- **Answer:** $\\frac{2}{13}$.\n",
    "\n",
    "- Intuition: Words that occur often within a document are important to the document's meaning.\n",
    "    - If $\\text{tf}(t, d)$ is large, then word $t$ occurs often in $d$.\n",
    "    - If $\\text{tf}(t, d)$ is small, then word $t$ does not occur often $d$.\n",
    "\n",
    "- Issue: \"has\" also has a TF of $\\frac{2}{13}$, but it seems less important than \"billy\"."
   ]
  },
  {
   "cell_type": "markdown",
   "id": "8d0cb0c8",
   "metadata": {
    "slideshow": {
     "slide_type": "slide"
    }
   },
   "source": [
    "### Inverse document frequency\n",
    "\n",
    "- The **inverse document frequency** of a word $t$ in a set of documents $d_1, d_2, ...$ is\n",
    "\n",
    "$$\\text{idf}(t) = \\log \\left(\\frac{\\text{total # of documents}}{\\text{# of documents in which $t$ appears}} \\right)$$\n",
    "\n",
    "- **Example:** What is the inverse document frequency of \"billy\" in the following three documents?\n",
    "    - \"my brother has a friend named **billy** who has an uncle named **billy**\"\n",
    "    - \"my favorite artist is named jilly boel\"\n",
    "    - \"why does he talk about someone named **billy** so often\"\n",
    "\n",
    "- **Answer:** $\\log \\left(\\frac{3}{2}\\right) \\approx 0.4055$.\n",
    "\n",
    "- Intuition: If a word appears in every document (like \"the\" or \"has\"), it is probably not a good summary of any one document.\n",
    "    - If $\\text{idf}(t)$ is large, then $t$ is rarely found in documents.\n",
    "    - If $\\text{idf}(t)$ is small, then $t$ is commonly found in documents.\n",
    "    - Think of $\\text{idf}(t)$ as the \"rarity factor\" of $t$ across documents – the larger $\\text{idf}(t)$ is, the more rare $t$ is."
   ]
  },
  {
   "cell_type": "markdown",
   "id": "6e5ce4c2",
   "metadata": {
    "slideshow": {
     "slide_type": "slide"
    }
   },
   "source": [
    "### Intuition\n",
    "\n",
    "$$\\text{tf}(t, d) = \\frac{\\text{# of occurrences of $t$ in $d$}}{\\text{total # of words in $d$}}$$\n",
    "\n",
    "$$\\text{idf}(t) = \\log \\left(\\frac{\\text{total # of documents}}{\\text{# of documents in which $t$ appears}} \\right)$$\n",
    "\n",
    "**Goal:** Quantify how well word $t$ **summarizes** document $d$.\n",
    "\n",
    "- If $\\text{tf}(t, d)$ is small, then $t$ doesn't occur very often in $d$, so $t$ can't be a good summary of $d$.\n",
    "\n",
    "- If $\\text{idf}(t)$ is small, then $t$ occurs often amongst all documents, and so it is not a good summary of any one document.\n",
    "\n",
    "- If $\\text{tf}(t, d)$ and $\\text{idf}(t)$ are both large, then **$t$ occurs often in $d$ but rarely overall**. This makes $t$ **a good summary** of document $d$."
   ]
  },
  {
   "cell_type": "markdown",
   "id": "ac3c7776",
   "metadata": {
    "slideshow": {
     "slide_type": "slide"
    }
   },
   "source": [
    "### Term frequency-inverse document frequency\n",
    "\n",
    "The **term frequency-inverse document frequency (TF-IDF)** of word $t$ in document $d$ is the product:\n",
    "\n",
    "$$\n",
    "\\begin{align*}\\text{tfidf}(t, d) &= \\text{tf}(t, d) \\cdot \\text{idf}(t) \\\\\\ &= \\frac{\\text{# of occurrences of $t$ in $d$}}{\\text{total # of words in $d$}} \\cdot \\log \\left(\\frac{\\text{total # of documents}}{\\text{# of documents in which $t$ appears}} \\right) \\end{align*} $$\n",
    "\n",
    "- If $\\text{tfidf}(t, d)$ is large, then $t$ is a good summary of $d$, because $t$ occurs often in $d$ but rarely across all documents.\n",
    "\n",
    "- TF-IDF is a **heuristic** – it has no probabilistic justification.\n",
    "\n",
    "- To know if $\\text{tfidf}(t, d)$ is large for one particular word $t$, we need to compare it to $\\text{tfidf}(t_i, d)$, for several different words $t_i$."
   ]
  },
  {
   "cell_type": "markdown",
   "id": "ef231326",
   "metadata": {
    "slideshow": {
     "slide_type": "slide"
    }
   },
   "source": [
    "### Computing TF-IDF\n",
    "\n",
    "**Question:** What is the TF-IDF of \"global\" in the second sentence?"
   ]
  },
  {
   "cell_type": "code",
   "execution_count": 30,
   "id": "3d8388d4",
   "metadata": {},
   "outputs": [
    {
     "data": {
      "text/plain": [
       "0    I really really want global peace\n",
       "1          I must enjoy global warming\n",
       "2         We must solve climate change\n",
       "dtype: object"
      ]
     },
     "execution_count": 30,
     "metadata": {},
     "output_type": "execute_result"
    }
   ],
   "source": [
    "sentences"
   ]
  },
  {
   "cell_type": "markdown",
   "id": "e83e7306",
   "metadata": {
    "slideshow": {
     "slide_type": "fragment"
    }
   },
   "source": [
    "**Answer**"
   ]
  },
  {
   "cell_type": "code",
   "execution_count": 31,
   "id": "2d4f0604",
   "metadata": {},
   "outputs": [
    {
     "data": {
      "text/plain": [
       "0.2"
      ]
     },
     "execution_count": 31,
     "metadata": {},
     "output_type": "execute_result"
    }
   ],
   "source": [
    "tf = sentences.iloc[1].count('global') / len(sentences.iloc[1].split())\n",
    "tf"
   ]
  },
  {
   "cell_type": "code",
   "execution_count": 32,
   "id": "45953f0b",
   "metadata": {
    "scrolled": true
   },
   "outputs": [
    {
     "data": {
      "text/plain": [
       "0.4054651081081644"
      ]
     },
     "execution_count": 32,
     "metadata": {},
     "output_type": "execute_result"
    }
   ],
   "source": [
    "idf = np.log(len(sentences) / sentences.str.contains('global').sum())\n",
    "idf"
   ]
  },
  {
   "cell_type": "code",
   "execution_count": 33,
   "id": "0b0989da",
   "metadata": {},
   "outputs": [
    {
     "data": {
      "text/plain": [
       "0.08109302162163289"
      ]
     },
     "execution_count": 33,
     "metadata": {},
     "output_type": "execute_result"
    }
   ],
   "source": [
    "tf * idf"
   ]
  },
  {
   "cell_type": "markdown",
   "id": "da3e1607",
   "metadata": {
    "slideshow": {
     "slide_type": "fragment"
    }
   },
   "source": [
    "**Question:** Is this big or small? Is \"global\" the **best** summary of the second sentence?"
   ]
  },
  {
   "cell_type": "markdown",
   "id": "63af81a4",
   "metadata": {
    "slideshow": {
     "slide_type": "slide"
    }
   },
   "source": [
    "### TF-IDF of all words in all documents\n",
    "\n",
    "On its own, the TF-IDF of a word in a document doesn't really tell us anything; we must compare it to TF-IDFs of other words in that same document."
   ]
  },
  {
   "cell_type": "code",
   "execution_count": 34,
   "id": "a212905a",
   "metadata": {
    "scrolled": true
   },
   "outputs": [
    {
     "data": {
      "text/plain": [
       "0    I really really want global peace\n",
       "1          I must enjoy global warming\n",
       "2         We must solve climate change\n",
       "dtype: object"
      ]
     },
     "execution_count": 34,
     "metadata": {},
     "output_type": "execute_result"
    }
   ],
   "source": [
    "sentences"
   ]
  },
  {
   "cell_type": "code",
   "execution_count": 35,
   "id": "405eab7e",
   "metadata": {},
   "outputs": [
    {
     "data": {
      "text/plain": [
       "array(['I', 'We', 'change', 'climate', 'enjoy', 'global', 'must', 'peace',\n",
       "       'really', 'solve', 'want', 'warming'], dtype='<U7')"
      ]
     },
     "execution_count": 35,
     "metadata": {},
     "output_type": "execute_result"
    }
   ],
   "source": [
    "unique_words = np.unique(sentences.str.split().sum())\n",
    "unique_words"
   ]
  },
  {
   "cell_type": "code",
   "execution_count": 36,
   "id": "801c8e8c",
   "metadata": {},
   "outputs": [],
   "source": [
    "tfidf_dict = {}\n",
    "\n",
    "for word in unique_words:\n",
    "    re_pat = fr'\\b{word}\\b'\n",
    "    tf = sentences.str.count(re_pat) / sentences.str.split().str.len()\n",
    "    idf = np.log(len(sentences) / sentences.str.contains(re_pat).sum())\n",
    "    tfidf_dict[word] = tf * idf\n",
    "    \n",
    "tfidf = pd.DataFrame(tfidf_dict).set_index(sentences)"
   ]
  },
  {
   "cell_type": "code",
   "execution_count": 37,
   "id": "6a00f89d",
   "metadata": {
    "scrolled": true
   },
   "outputs": [
    {
     "data": {
      "text/html": [
       "<div>\n",
       "<style scoped>\n",
       "    .dataframe tbody tr th:only-of-type {\n",
       "        vertical-align: middle;\n",
       "    }\n",
       "\n",
       "    .dataframe tbody tr th {\n",
       "        vertical-align: top;\n",
       "    }\n",
       "\n",
       "    .dataframe thead th {\n",
       "        text-align: right;\n",
       "    }\n",
       "</style>\n",
       "<table border=\"1\" class=\"dataframe\">\n",
       "  <thead>\n",
       "    <tr style=\"text-align: right;\">\n",
       "      <th></th>\n",
       "      <th>I</th>\n",
       "      <th>We</th>\n",
       "      <th>change</th>\n",
       "      <th>climate</th>\n",
       "      <th>...</th>\n",
       "      <th>really</th>\n",
       "      <th>solve</th>\n",
       "      <th>want</th>\n",
       "      <th>warming</th>\n",
       "    </tr>\n",
       "  </thead>\n",
       "  <tbody>\n",
       "    <tr>\n",
       "      <th>I really really want global peace</th>\n",
       "      <td>0.07</td>\n",
       "      <td>0.00</td>\n",
       "      <td>0.00</td>\n",
       "      <td>0.00</td>\n",
       "      <td>...</td>\n",
       "      <td>0.37</td>\n",
       "      <td>0.00</td>\n",
       "      <td>0.18</td>\n",
       "      <td>0.00</td>\n",
       "    </tr>\n",
       "    <tr>\n",
       "      <th>I must enjoy global warming</th>\n",
       "      <td>0.08</td>\n",
       "      <td>0.00</td>\n",
       "      <td>0.00</td>\n",
       "      <td>0.00</td>\n",
       "      <td>...</td>\n",
       "      <td>0.00</td>\n",
       "      <td>0.00</td>\n",
       "      <td>0.00</td>\n",
       "      <td>0.22</td>\n",
       "    </tr>\n",
       "    <tr>\n",
       "      <th>We must solve climate change</th>\n",
       "      <td>0.00</td>\n",
       "      <td>0.22</td>\n",
       "      <td>0.22</td>\n",
       "      <td>0.22</td>\n",
       "      <td>...</td>\n",
       "      <td>0.00</td>\n",
       "      <td>0.22</td>\n",
       "      <td>0.00</td>\n",
       "      <td>0.00</td>\n",
       "    </tr>\n",
       "  </tbody>\n",
       "</table>\n",
       "<p>3 rows × 12 columns</p>\n",
       "</div>"
      ],
      "text/plain": [
       "                                      I    We  change  climate  ...  really  \\\n",
       "I really really want global peace  0.07  0.00    0.00     0.00  ...    0.37   \n",
       "I must enjoy global warming        0.08  0.00    0.00     0.00  ...    0.00   \n",
       "We must solve climate change       0.00  0.22    0.22     0.22  ...    0.00   \n",
       "\n",
       "                                   solve  want  warming  \n",
       "I really really want global peace   0.00  0.18     0.00  \n",
       "I must enjoy global warming         0.00  0.00     0.22  \n",
       "We must solve climate change        0.22  0.00     0.00  \n",
       "\n",
       "[3 rows x 12 columns]"
      ]
     },
     "execution_count": 37,
     "metadata": {},
     "output_type": "execute_result"
    }
   ],
   "source": [
    "tfidf"
   ]
  },
  {
   "cell_type": "markdown",
   "id": "8d39de10",
   "metadata": {
    "slideshow": {
     "slide_type": "slide"
    }
   },
   "source": [
    "### Interpreting TF-IDFs"
   ]
  },
  {
   "cell_type": "code",
   "execution_count": 38,
   "id": "9b7e5f3b",
   "metadata": {},
   "outputs": [
    {
     "data": {
      "text/html": [
       "<div>\n",
       "<style scoped>\n",
       "    .dataframe tbody tr th:only-of-type {\n",
       "        vertical-align: middle;\n",
       "    }\n",
       "\n",
       "    .dataframe tbody tr th {\n",
       "        vertical-align: top;\n",
       "    }\n",
       "\n",
       "    .dataframe thead th {\n",
       "        text-align: right;\n",
       "    }\n",
       "</style>\n",
       "<table border=\"1\" class=\"dataframe\">\n",
       "  <thead>\n",
       "    <tr style=\"text-align: right;\">\n",
       "      <th></th>\n",
       "      <th>I</th>\n",
       "      <th>We</th>\n",
       "      <th>change</th>\n",
       "      <th>climate</th>\n",
       "      <th>...</th>\n",
       "      <th>really</th>\n",
       "      <th>solve</th>\n",
       "      <th>want</th>\n",
       "      <th>warming</th>\n",
       "    </tr>\n",
       "  </thead>\n",
       "  <tbody>\n",
       "    <tr>\n",
       "      <th>I really really want global peace</th>\n",
       "      <td>0.07</td>\n",
       "      <td>0.00</td>\n",
       "      <td>0.00</td>\n",
       "      <td>0.00</td>\n",
       "      <td>...</td>\n",
       "      <td>0.37</td>\n",
       "      <td>0.00</td>\n",
       "      <td>0.18</td>\n",
       "      <td>0.00</td>\n",
       "    </tr>\n",
       "    <tr>\n",
       "      <th>I must enjoy global warming</th>\n",
       "      <td>0.08</td>\n",
       "      <td>0.00</td>\n",
       "      <td>0.00</td>\n",
       "      <td>0.00</td>\n",
       "      <td>...</td>\n",
       "      <td>0.00</td>\n",
       "      <td>0.00</td>\n",
       "      <td>0.00</td>\n",
       "      <td>0.22</td>\n",
       "    </tr>\n",
       "    <tr>\n",
       "      <th>We must solve climate change</th>\n",
       "      <td>0.00</td>\n",
       "      <td>0.22</td>\n",
       "      <td>0.22</td>\n",
       "      <td>0.22</td>\n",
       "      <td>...</td>\n",
       "      <td>0.00</td>\n",
       "      <td>0.22</td>\n",
       "      <td>0.00</td>\n",
       "      <td>0.00</td>\n",
       "    </tr>\n",
       "  </tbody>\n",
       "</table>\n",
       "<p>3 rows × 12 columns</p>\n",
       "</div>"
      ],
      "text/plain": [
       "                                      I    We  change  climate  ...  really  \\\n",
       "I really really want global peace  0.07  0.00    0.00     0.00  ...    0.37   \n",
       "I must enjoy global warming        0.08  0.00    0.00     0.00  ...    0.00   \n",
       "We must solve climate change       0.00  0.22    0.22     0.22  ...    0.00   \n",
       "\n",
       "                                   solve  want  warming  \n",
       "I really really want global peace   0.00  0.18     0.00  \n",
       "I must enjoy global warming         0.00  0.00     0.22  \n",
       "We must solve climate change        0.22  0.00     0.00  \n",
       "\n",
       "[3 rows x 12 columns]"
      ]
     },
     "execution_count": 38,
     "metadata": {},
     "output_type": "execute_result"
    }
   ],
   "source": [
    "tfidf"
   ]
  },
  {
   "cell_type": "markdown",
   "id": "734cadb3",
   "metadata": {
    "slideshow": {
     "slide_type": "fragment"
    }
   },
   "source": [
    "The above DataFrame tells us that:\n",
    "- the TF-IDF of `'peace'` in the first sentence is 0.183102,\n",
    "- the TF-IDF of `'climate'` in the second sentence is 0."
   ]
  },
  {
   "cell_type": "markdown",
   "id": "8cafb1ed",
   "metadata": {
    "slideshow": {
     "slide_type": "fragment"
    }
   },
   "source": [
    "Note that there are two ways that $\\text{tfidf}(t, d) = \\text{tf}(t, d) \\cdot \\text{idf}(t)$ can be 0:\n",
    "- If $t$ appears in every document, because then $\\text{idf}(t) = \\log (\\frac{\\text{# documents}}{\\text{# documents}}) = \\log(1) = 0$.\n",
    "- If $t$ does not appear in document $d$, because then $\\text{tf}(t, d) = \\frac{0}{\\text{len}(d)} = 0$."
   ]
  },
  {
   "cell_type": "markdown",
   "id": "b6af48d5",
   "metadata": {
    "slideshow": {
     "slide_type": "fragment"
    }
   },
   "source": [
    "The word that **best summarizes** a document is the word with the highest TF-IDF for that document:"
   ]
  },
  {
   "cell_type": "code",
   "execution_count": 39,
   "id": "bd64c300",
   "metadata": {},
   "outputs": [
    {
     "data": {
      "text/html": [
       "<div>\n",
       "<style scoped>\n",
       "    .dataframe tbody tr th:only-of-type {\n",
       "        vertical-align: middle;\n",
       "    }\n",
       "\n",
       "    .dataframe tbody tr th {\n",
       "        vertical-align: top;\n",
       "    }\n",
       "\n",
       "    .dataframe thead th {\n",
       "        text-align: right;\n",
       "    }\n",
       "</style>\n",
       "<table border=\"1\" class=\"dataframe\">\n",
       "  <thead>\n",
       "    <tr style=\"text-align: right;\">\n",
       "      <th></th>\n",
       "      <th>I</th>\n",
       "      <th>We</th>\n",
       "      <th>change</th>\n",
       "      <th>climate</th>\n",
       "      <th>enjoy</th>\n",
       "      <th>global</th>\n",
       "      <th>must</th>\n",
       "      <th>peace</th>\n",
       "      <th>really</th>\n",
       "      <th>solve</th>\n",
       "      <th>want</th>\n",
       "      <th>warming</th>\n",
       "    </tr>\n",
       "  </thead>\n",
       "  <tbody>\n",
       "    <tr>\n",
       "      <th>I really really want global peace</th>\n",
       "      <td>0.07</td>\n",
       "      <td>0.00</td>\n",
       "      <td>0.00</td>\n",
       "      <td>0.00</td>\n",
       "      <td>0.00</td>\n",
       "      <td>0.07</td>\n",
       "      <td>0.00</td>\n",
       "      <td>0.18</td>\n",
       "      <td>0.37</td>\n",
       "      <td>0.00</td>\n",
       "      <td>0.18</td>\n",
       "      <td>0.00</td>\n",
       "    </tr>\n",
       "    <tr>\n",
       "      <th>I must enjoy global warming</th>\n",
       "      <td>0.08</td>\n",
       "      <td>0.00</td>\n",
       "      <td>0.00</td>\n",
       "      <td>0.00</td>\n",
       "      <td>0.22</td>\n",
       "      <td>0.08</td>\n",
       "      <td>0.08</td>\n",
       "      <td>0.00</td>\n",
       "      <td>0.00</td>\n",
       "      <td>0.00</td>\n",
       "      <td>0.00</td>\n",
       "      <td>0.22</td>\n",
       "    </tr>\n",
       "    <tr>\n",
       "      <th>We must solve climate change</th>\n",
       "      <td>0.00</td>\n",
       "      <td>0.22</td>\n",
       "      <td>0.22</td>\n",
       "      <td>0.22</td>\n",
       "      <td>0.00</td>\n",
       "      <td>0.00</td>\n",
       "      <td>0.08</td>\n",
       "      <td>0.00</td>\n",
       "      <td>0.00</td>\n",
       "      <td>0.22</td>\n",
       "      <td>0.00</td>\n",
       "      <td>0.00</td>\n",
       "    </tr>\n",
       "  </tbody>\n",
       "</table>\n",
       "</div>"
      ],
      "text/plain": [
       "                                      I    We  change  climate  enjoy  global  \\\n",
       "I really really want global peace  0.07  0.00    0.00     0.00   0.00    0.07   \n",
       "I must enjoy global warming        0.08  0.00    0.00     0.00   0.22    0.08   \n",
       "We must solve climate change       0.00  0.22    0.22     0.22   0.00    0.00   \n",
       "\n",
       "                                   must  peace  really  solve  want  warming  \n",
       "I really really want global peace  0.00   0.18    0.37   0.00  0.18     0.00  \n",
       "I must enjoy global warming        0.08   0.00    0.00   0.00  0.00     0.22  \n",
       "We must solve climate change       0.08   0.00    0.00   0.22  0.00     0.00  "
      ]
     },
     "metadata": {},
     "output_type": "display_data"
    }
   ],
   "source": [
    "display_df(tfidf, cols=12)"
   ]
  },
  {
   "cell_type": "code",
   "execution_count": 40,
   "id": "06e9cc13",
   "metadata": {},
   "outputs": [
    {
     "data": {
      "text/plain": [
       "I really really want global peace    really\n",
       "I must enjoy global warming           enjoy\n",
       "We must solve climate change             We\n",
       "dtype: object"
      ]
     },
     "execution_count": 40,
     "metadata": {},
     "output_type": "execute_result"
    }
   ],
   "source": [
    "tfidf.idxmax(axis=1)"
   ]
  },
  {
   "cell_type": "markdown",
   "id": "804d8e94",
   "metadata": {},
   "source": [
    "Look closely at the rows of `tfidf` – in documents 2 and 3, the max TF-IDF is not unique!"
   ]
  },
  {
   "attachments": {},
   "cell_type": "markdown",
   "id": "e2b6fcc0",
   "metadata": {
    "slideshow": {
     "slide_type": "slide"
    }
   },
   "source": [
    "## 🙋🙋🏽‍♀️ Questions?\n",
    "\n",
    "https://app.sli.do/event/2LZSnXWNpGPiuVnCZMa5J8\n",
    "\n",
    "<center><img src=\"imgs/slido.svg\" width=\"30%\"></center>"
   ]
  },
  {
   "cell_type": "markdown",
   "id": "3b92963d",
   "metadata": {
    "slideshow": {
     "slide_type": "slide"
    }
   },
   "source": [
    "## Example: State of the Union addresses 🎤"
   ]
  },
  {
   "cell_type": "markdown",
   "id": "b980d913",
   "metadata": {},
   "source": [
    "### State of the Union addresses\n",
    "\n",
    "The 2023 State of the Union address was on February 7th, 2023."
   ]
  },
  {
   "cell_type": "code",
   "execution_count": 41,
   "id": "3d40e0a9",
   "metadata": {
    "slideshow": {
     "slide_type": "slide"
    }
   },
   "outputs": [
    {
     "data": {
      "image/jpeg": "[encoded data removed]",
      "text/html": [
       "\n",
       "        <iframe\n",
       "            width=\"400\"\n",
       "            height=\"300\"\n",
       "            src=\"https://www.youtube.com/embed/gzcBTUvVp7M\"\n",
       "            frameborder=\"0\"\n",
       "            allowfullscreen\n",
       "            \n",
       "        ></iframe>\n",
       "        "
      ],
      "text/plain": [
       "<IPython.lib.display.YouTubeVideo at 0x7fbe80abd250>"
      ]
     },
     "execution_count": 41,
     "metadata": {},
     "output_type": "execute_result"
    }
   ],
   "source": [
    "from IPython.display import YouTubeVideo\n",
    "YouTubeVideo('gzcBTUvVp7M')"
   ]
  },
  {
   "cell_type": "markdown",
   "id": "6ec32713",
   "metadata": {
    "slideshow": {
     "slide_type": "slide"
    }
   },
   "source": [
    "### The data"
   ]
  },
  {
   "cell_type": "code",
   "execution_count": 42,
   "id": "2db49b0d",
   "metadata": {},
   "outputs": [],
   "source": [
    "sotu = open('data/stateoftheunion1790-2023.txt').read()"
   ]
  },
  {
   "cell_type": "code",
   "execution_count": 43,
   "id": "05569714",
   "metadata": {},
   "outputs": [
    {
     "data": {
      "text/plain": [
       "10577941"
      ]
     },
     "execution_count": 43,
     "metadata": {},
     "output_type": "execute_result"
    }
   ],
   "source": [
    "len(sotu)"
   ]
  },
  {
   "cell_type": "markdown",
   "id": "66057eca",
   "metadata": {},
   "source": [
    "The entire **corpus** (another word for \"set of documents\") is over 10 million characters long... let's not display it in our notebook."
   ]
  },
  {
   "cell_type": "code",
   "execution_count": 45,
   "id": "a987af22",
   "metadata": {
    "scrolled": true
   },
   "outputs": [
    {
     "name": "stdout",
     "output_type": "stream",
     "text": [
      "The Project Gutenberg EBook of Complete State of the Union Addresses,\n",
      "from 1790 to the Present. Speeches beginning in 2002 are from UCSB The American Presidency Project.\n",
      "Speeches from 2018-2023 were manually downloaded from whitehouse.gov.\n",
      "\n",
      "Character set encoding: UTF8\n",
      "\n",
      "The addresses are separated by three asterisks\n",
      "\n",
      "\n",
      "CONTENTS\n",
      "\n",
      "  George Washington, State of the Union Address, January 8, 1790\n",
      "  George Washington, State of the Union Address, December 8, 1790\n",
      "  George Washington, State of the Union Address, October 25, 1791\n",
      "  George Washington, State of the Union Address, November 6, 1792\n",
      "  George Washington, State of the Union Address, December 3, 1793\n",
      "  George Washington, State of the Union Address, November 19, 1794\n",
      "  George Washington, State of the Union Address, December 8, 1795\n",
      "  George Washington, State of the Union Address, December 7, 1796\n",
      "  John Adams, State of the Union Address, November 22, 1797\n",
      "  John Adams, State of the Union Address, December 8, 1798\n",
      "  John Adams, State of the Union Address, December 3, 1799\n",
      "  John Adams, State of the Union Address, November 11, 1800\n",
      "  Thomas Jefferson, State of the Union Address, December 8, 1801\n",
      "  Thomas Jefferson, State of the Union Address, December 15, 1802\n",
      "  Thomas Jefferson, State of the Union Address, October 17, 1803\n",
      "  Thomas Jefferson, State of the Union Address, November 8, 1804\n",
      "  Thomas Jefferson, State of the Union Address, December 3, 1805\n",
      "  Thomas Jefferson, State of the Union Address, December 2, 1806\n",
      "  Thomas Jefferson, State of the Union Address, October 27, 1807\n",
      "  Thomas Jefferson, State of the Union Address, \n"
     ]
    }
   ],
   "source": [
    "print(sotu[:1600])"
   ]
  },
  {
   "cell_type": "markdown",
   "id": "e9a60c4f",
   "metadata": {},
   "source": [
    "Each speech is separated by `'***'`."
   ]
  },
  {
   "cell_type": "code",
   "execution_count": 46,
   "id": "06d60dfa",
   "metadata": {},
   "outputs": [],
   "source": [
    "speeches = sotu.split('\\n***\\n')[1:]"
   ]
  },
  {
   "cell_type": "code",
   "execution_count": 47,
   "id": "5eca0971",
   "metadata": {},
   "outputs": [
    {
     "data": {
      "text/plain": [
       "233"
      ]
     },
     "execution_count": 47,
     "metadata": {},
     "output_type": "execute_result"
    }
   ],
   "source": [
    "len(speeches)"
   ]
  },
  {
   "cell_type": "markdown",
   "id": "9723eec4",
   "metadata": {},
   "source": [
    "Note that each \"speech\" currently contains other information, like the name of the president and the date of the address."
   ]
  },
  {
   "cell_type": "code",
   "execution_count": 48,
   "id": "818f52e7",
   "metadata": {
    "scrolled": false
   },
   "outputs": [
    {
     "name": "stdout",
     "output_type": "stream",
     "text": [
      "\n",
      "State of the Union Address\n",
      "Joseph R. Biden Jr.  \n",
      "February 7, 2023\n",
      "\n",
      "  Mr. Speaker. Madam Vice President. Our First Lady and Second\n",
      "Gentleman. Members of Congress and the Cabinet. Leaders of our\n",
      "military. Mr. Chief Justice, Associate Justices, and retired Justices\n",
      "of the Supreme Court. And you, my fellow Americans.\n",
      "  I start tonight by congratulating the members of the 118th Congress\n",
      "and the new Speaker of the House, Kevin McCarthy. Mr. Speaker, I look\n",
      "forward to working together.\n",
      "  I also want to congratulate the new leader of the House Democrats and\n",
      "the first Black House Minority Leader in history, Hakeem Jeffries.\n",
      "  Congratulations to the longest serving Senate leader in history,\n",
      "Mitch McConnell.\n",
      "  And congratulations to Chuck Schumer for another term as Senate\n",
      "Majority Leader, this time with an even bigger majority.\n",
      "  And I want to give special recognition to someone who I think will be\n",
      "considered the greatest Speaker in the history of this country, Nancy\n",
      "Pelosi.\n",
      "  The story of Amer\n"
     ]
    }
   ],
   "source": [
    "print(speeches[-1][:1000])"
   ]
  },
  {
   "cell_type": "markdown",
   "id": "dea89846",
   "metadata": {
    "slideshow": {
     "slide_type": "slide"
    }
   },
   "source": [
    "Let's extract just the speech text."
   ]
  },
  {
   "cell_type": "code",
   "execution_count": 49,
   "id": "fa932c66",
   "metadata": {},
   "outputs": [],
   "source": [
    "import re\n",
    "def extract_struct(speech):\n",
    "    L = speech.strip().split('\\n', maxsplit=3)\n",
    "    L[3] = re.sub(r\"[^A-Za-z' ]\", ' ', L[3]).lower()\n",
    "    return dict(zip(['speech', 'president', 'date', 'contents'], L))"
   ]
  },
  {
   "cell_type": "code",
   "execution_count": 50,
   "id": "9f5438e6",
   "metadata": {
    "scrolled": true
   },
   "outputs": [
    {
     "data": {
      "text/html": [
       "<div>\n",
       "<style scoped>\n",
       "    .dataframe tbody tr th:only-of-type {\n",
       "        vertical-align: middle;\n",
       "    }\n",
       "\n",
       "    .dataframe tbody tr th {\n",
       "        vertical-align: top;\n",
       "    }\n",
       "\n",
       "    .dataframe thead th {\n",
       "        text-align: right;\n",
       "    }\n",
       "</style>\n",
       "<table border=\"1\" class=\"dataframe\">\n",
       "  <thead>\n",
       "    <tr style=\"text-align: right;\">\n",
       "      <th></th>\n",
       "      <th>speech</th>\n",
       "      <th>president</th>\n",
       "      <th>date</th>\n",
       "      <th>contents</th>\n",
       "    </tr>\n",
       "  </thead>\n",
       "  <tbody>\n",
       "    <tr>\n",
       "      <th>0</th>\n",
       "      <td>State of the Union Address</td>\n",
       "      <td>George Washington</td>\n",
       "      <td>January 8, 1790</td>\n",
       "      <td>fellow citizens of the senate and house of re...</td>\n",
       "    </tr>\n",
       "    <tr>\n",
       "      <th>1</th>\n",
       "      <td>State of the Union Address</td>\n",
       "      <td>George Washington</td>\n",
       "      <td>December 8, 1790</td>\n",
       "      <td>fellow citizens of the senate and house of re...</td>\n",
       "    </tr>\n",
       "    <tr>\n",
       "      <th>2</th>\n",
       "      <td>State of the Union Address</td>\n",
       "      <td>George Washington</td>\n",
       "      <td>October 25, 1791</td>\n",
       "      <td>fellow citizens of the senate and house of re...</td>\n",
       "    </tr>\n",
       "    <tr>\n",
       "      <th>...</th>\n",
       "      <td>...</td>\n",
       "      <td>...</td>\n",
       "      <td>...</td>\n",
       "      <td>...</td>\n",
       "    </tr>\n",
       "    <tr>\n",
       "      <th>230</th>\n",
       "      <td>State of the Union Address</td>\n",
       "      <td>Joseph R. Biden Jr.</td>\n",
       "      <td>April 28, 2021</td>\n",
       "      <td>thank you  thank you  thank you  good to be b...</td>\n",
       "    </tr>\n",
       "    <tr>\n",
       "      <th>231</th>\n",
       "      <td>State of the Union Address</td>\n",
       "      <td>Joseph R. Biden Jr.</td>\n",
       "      <td>March 1, 2022</td>\n",
       "      <td>madam speaker  madam vice president  and our ...</td>\n",
       "    </tr>\n",
       "    <tr>\n",
       "      <th>232</th>\n",
       "      <td>State of the Union Address</td>\n",
       "      <td>Joseph R. Biden Jr.</td>\n",
       "      <td>February 7, 2023</td>\n",
       "      <td>mr  speaker  madam vice president  our firs...</td>\n",
       "    </tr>\n",
       "  </tbody>\n",
       "</table>\n",
       "<p>233 rows × 4 columns</p>\n",
       "</div>"
      ],
      "text/plain": [
       "                         speech              president              date  \\\n",
       "0    State of the Union Address      George Washington   January 8, 1790   \n",
       "1    State of the Union Address      George Washington  December 8, 1790   \n",
       "2    State of the Union Address      George Washington  October 25, 1791   \n",
       "..                          ...                    ...               ...   \n",
       "230  State of the Union Address  Joseph R. Biden Jr.      April 28, 2021   \n",
       "231  State of the Union Address  Joseph R. Biden Jr.       March 1, 2022   \n",
       "232  State of the Union Address  Joseph R. Biden Jr.    February 7, 2023   \n",
       "\n",
       "                                              contents  \n",
       "0     fellow citizens of the senate and house of re...  \n",
       "1     fellow citizens of the senate and house of re...  \n",
       "2     fellow citizens of the senate and house of re...  \n",
       "..                                                 ...  \n",
       "230   thank you  thank you  thank you  good to be b...  \n",
       "231   madam speaker  madam vice president  and our ...  \n",
       "232     mr  speaker  madam vice president  our firs...  \n",
       "\n",
       "[233 rows x 4 columns]"
      ]
     },
     "execution_count": 50,
     "metadata": {},
     "output_type": "execute_result"
    }
   ],
   "source": [
    "speeches_df = pd.DataFrame(list(map(extract_struct, speeches)))\n",
    "speeches_df"
   ]
  },
  {
   "cell_type": "markdown",
   "id": "6df1fade",
   "metadata": {
    "slideshow": {
     "slide_type": "slide"
    }
   },
   "source": [
    "### Finding the most important words in each speech\n",
    "\n",
    "Here, a \"document\" is a speech. We have 233 documents."
   ]
  },
  {
   "cell_type": "code",
   "execution_count": 51,
   "id": "cf5a1d64",
   "metadata": {},
   "outputs": [
    {
     "data": {
      "text/html": [
       "<div>\n",
       "<style scoped>\n",
       "    .dataframe tbody tr th:only-of-type {\n",
       "        vertical-align: middle;\n",
       "    }\n",
       "\n",
       "    .dataframe tbody tr th {\n",
       "        vertical-align: top;\n",
       "    }\n",
       "\n",
       "    .dataframe thead th {\n",
       "        text-align: right;\n",
       "    }\n",
       "</style>\n",
       "<table border=\"1\" class=\"dataframe\">\n",
       "  <thead>\n",
       "    <tr style=\"text-align: right;\">\n",
       "      <th></th>\n",
       "      <th>speech</th>\n",
       "      <th>president</th>\n",
       "      <th>date</th>\n",
       "      <th>contents</th>\n",
       "    </tr>\n",
       "  </thead>\n",
       "  <tbody>\n",
       "    <tr>\n",
       "      <th>0</th>\n",
       "      <td>State of the Union Address</td>\n",
       "      <td>George Washington</td>\n",
       "      <td>January 8, 1790</td>\n",
       "      <td>fellow citizens of the senate and house of re...</td>\n",
       "    </tr>\n",
       "    <tr>\n",
       "      <th>1</th>\n",
       "      <td>State of the Union Address</td>\n",
       "      <td>George Washington</td>\n",
       "      <td>December 8, 1790</td>\n",
       "      <td>fellow citizens of the senate and house of re...</td>\n",
       "    </tr>\n",
       "    <tr>\n",
       "      <th>2</th>\n",
       "      <td>State of the Union Address</td>\n",
       "      <td>George Washington</td>\n",
       "      <td>October 25, 1791</td>\n",
       "      <td>fellow citizens of the senate and house of re...</td>\n",
       "    </tr>\n",
       "    <tr>\n",
       "      <th>3</th>\n",
       "      <td>State of the Union Address</td>\n",
       "      <td>George Washington</td>\n",
       "      <td>November 6, 1792</td>\n",
       "      <td>fellow citizens of the senate and house of re...</td>\n",
       "    </tr>\n",
       "    <tr>\n",
       "      <th>4</th>\n",
       "      <td>State of the Union Address</td>\n",
       "      <td>George Washington</td>\n",
       "      <td>December 3, 1793</td>\n",
       "      <td>fellow citizens of the senate and house of re...</td>\n",
       "    </tr>\n",
       "  </tbody>\n",
       "</table>\n",
       "</div>"
      ],
      "text/plain": [
       "                       speech          president              date  \\\n",
       "0  State of the Union Address  George Washington   January 8, 1790   \n",
       "1  State of the Union Address  George Washington  December 8, 1790   \n",
       "2  State of the Union Address  George Washington  October 25, 1791   \n",
       "3  State of the Union Address  George Washington  November 6, 1792   \n",
       "4  State of the Union Address  George Washington  December 3, 1793   \n",
       "\n",
       "                                            contents  \n",
       "0   fellow citizens of the senate and house of re...  \n",
       "1   fellow citizens of the senate and house of re...  \n",
       "2   fellow citizens of the senate and house of re...  \n",
       "3   fellow citizens of the senate and house of re...  \n",
       "4   fellow citizens of the senate and house of re...  "
      ]
     },
     "execution_count": 51,
     "metadata": {},
     "output_type": "execute_result"
    }
   ],
   "source": [
    "speeches_df.head()"
   ]
  },
  {
   "cell_type": "markdown",
   "id": "926bcc2d",
   "metadata": {},
   "source": [
    "A rough sketch of what we'll compute:\n",
    "\n",
    "```\n",
    "for each word t:\n",
    "    for each speech d:\n",
    "        compute tfidf(t, d)\n",
    "```"
   ]
  },
  {
   "cell_type": "code",
   "execution_count": 52,
   "id": "43d40a25",
   "metadata": {},
   "outputs": [
    {
     "data": {
      "text/plain": [
       "Index(['the', 'of', 'to', 'and', 'in', 'a', 'that', 'for', 'be', 'our',\n",
       "       ...\n",
       "       'desire', 'call', 'submitted', 'increasing', 'months', 'point', 'trust',\n",
       "       'throughout', 'set', 'object'],\n",
       "      dtype='object', length=500)"
      ]
     },
     "execution_count": 52,
     "metadata": {},
     "output_type": "execute_result"
    }
   ],
   "source": [
    "unique_words = pd.Series(speeches_df['contents'].str.split().sum()).value_counts()\n",
    "# Take the top 500 most common words for speed\n",
    "unique_words = unique_words.iloc[:500].index\n",
    "unique_words"
   ]
  },
  {
   "cell_type": "markdown",
   "id": "c96cdc6e",
   "metadata": {},
   "source": [
    "### 💡 Pro-Tip: Using `tqdm`\n",
    "\n",
    "This code takes a while to run, so we'll use the `tdqm` package to track its progress. (Install with `pip install tqdm` if needed)."
   ]
  },
  {
   "cell_type": "code",
   "execution_count": 53,
   "id": "1451a252",
   "metadata": {},
   "outputs": [
    {
     "data": {
      "application/json": {
       "ascii": false,
       "bar_format": null,
       "colour": null,
       "elapsed": 0.007447004318237305,
       "initial": 0,
       "n": 0,
       "ncols": null,
       "nrows": 20,
       "postfix": null,
       "prefix": "",
       "rate": null,
       "total": 500,
       "unit": "it",
       "unit_divisor": 1000,
       "unit_scale": false
      },
      "application/vnd.jupyter.widget-view+json": {
       "model_id": "cc009337a3e747feb2d42c383209e9c9",
       "version_major": 2,
       "version_minor": 0
      },
      "text/plain": [
       "  0%|          | 0/500 [00:00<?, ?it/s]"
      ]
     },
     "metadata": {},
     "output_type": "display_data"
    }
   ],
   "source": [
    "from tqdm.notebook import tqdm\n",
    "\n",
    "tfidf_dict = {}\n",
    "tf_denom = speeches_df['contents'].str.split().str.len()\n",
    "\n",
    "# Wrap the sequence with `tqdm()` to display a progress bar\n",
    "for word in tqdm(unique_words):\n",
    "    re_pat = fr' {word} ' # Imperfect pattern for speed.\n",
    "    tf = speeches_df['contents'].str.count(re_pat) / tf_denom\n",
    "    idf = np.log(len(speeches_df) / speeches_df['contents'].str.contains(re_pat).sum())\n",
    "    tfidf_dict[word] =  tf * idf"
   ]
  },
  {
   "cell_type": "code",
   "execution_count": 54,
   "id": "de1a8867",
   "metadata": {},
   "outputs": [
    {
     "data": {
      "text/html": [
       "<div>\n",
       "<style scoped>\n",
       "    .dataframe tbody tr th:only-of-type {\n",
       "        vertical-align: middle;\n",
       "    }\n",
       "\n",
       "    .dataframe tbody tr th {\n",
       "        vertical-align: top;\n",
       "    }\n",
       "\n",
       "    .dataframe thead th {\n",
       "        text-align: right;\n",
       "    }\n",
       "</style>\n",
       "<table border=\"1\" class=\"dataframe\">\n",
       "  <thead>\n",
       "    <tr style=\"text-align: right;\">\n",
       "      <th></th>\n",
       "      <th>the</th>\n",
       "      <th>of</th>\n",
       "      <th>to</th>\n",
       "      <th>and</th>\n",
       "      <th>...</th>\n",
       "      <th>trust</th>\n",
       "      <th>throughout</th>\n",
       "      <th>set</th>\n",
       "      <th>object</th>\n",
       "    </tr>\n",
       "  </thead>\n",
       "  <tbody>\n",
       "    <tr>\n",
       "      <th>0</th>\n",
       "      <td>0.0</td>\n",
       "      <td>0.0</td>\n",
       "      <td>0.0</td>\n",
       "      <td>0.0</td>\n",
       "      <td>...</td>\n",
       "      <td>4.29e-04</td>\n",
       "      <td>0.00e+00</td>\n",
       "      <td>0.00e+00</td>\n",
       "      <td>2.04e-03</td>\n",
       "    </tr>\n",
       "    <tr>\n",
       "      <th>1</th>\n",
       "      <td>0.0</td>\n",
       "      <td>0.0</td>\n",
       "      <td>0.0</td>\n",
       "      <td>0.0</td>\n",
       "      <td>...</td>\n",
       "      <td>0.00e+00</td>\n",
       "      <td>0.00e+00</td>\n",
       "      <td>0.00e+00</td>\n",
       "      <td>1.06e-03</td>\n",
       "    </tr>\n",
       "    <tr>\n",
       "      <th>2</th>\n",
       "      <td>0.0</td>\n",
       "      <td>0.0</td>\n",
       "      <td>0.0</td>\n",
       "      <td>0.0</td>\n",
       "      <td>...</td>\n",
       "      <td>4.06e-04</td>\n",
       "      <td>0.00e+00</td>\n",
       "      <td>3.48e-04</td>\n",
       "      <td>6.44e-04</td>\n",
       "    </tr>\n",
       "    <tr>\n",
       "      <th>3</th>\n",
       "      <td>0.0</td>\n",
       "      <td>0.0</td>\n",
       "      <td>0.0</td>\n",
       "      <td>0.0</td>\n",
       "      <td>...</td>\n",
       "      <td>6.70e-04</td>\n",
       "      <td>2.17e-04</td>\n",
       "      <td>0.00e+00</td>\n",
       "      <td>7.09e-04</td>\n",
       "    </tr>\n",
       "    <tr>\n",
       "      <th>4</th>\n",
       "      <td>0.0</td>\n",
       "      <td>0.0</td>\n",
       "      <td>0.0</td>\n",
       "      <td>0.0</td>\n",
       "      <td>...</td>\n",
       "      <td>2.38e-04</td>\n",
       "      <td>4.62e-04</td>\n",
       "      <td>0.00e+00</td>\n",
       "      <td>3.77e-04</td>\n",
       "    </tr>\n",
       "  </tbody>\n",
       "</table>\n",
       "<p>5 rows × 500 columns</p>\n",
       "</div>"
      ],
      "text/plain": [
       "   the   of   to  and  ...     trust  throughout       set    object\n",
       "0  0.0  0.0  0.0  0.0  ...  4.29e-04    0.00e+00  0.00e+00  2.04e-03\n",
       "1  0.0  0.0  0.0  0.0  ...  0.00e+00    0.00e+00  0.00e+00  1.06e-03\n",
       "2  0.0  0.0  0.0  0.0  ...  4.06e-04    0.00e+00  3.48e-04  6.44e-04\n",
       "3  0.0  0.0  0.0  0.0  ...  6.70e-04    2.17e-04  0.00e+00  7.09e-04\n",
       "4  0.0  0.0  0.0  0.0  ...  2.38e-04    4.62e-04  0.00e+00  3.77e-04\n",
       "\n",
       "[5 rows x 500 columns]"
      ]
     },
     "execution_count": 54,
     "metadata": {},
     "output_type": "execute_result"
    }
   ],
   "source": [
    "tfidf = pd.DataFrame(tfidf_dict)\n",
    "tfidf.head()"
   ]
  },
  {
   "cell_type": "markdown",
   "id": "d2f34b9e",
   "metadata": {},
   "source": [
    "Note that the TF-IDFs of many common words are all 0!"
   ]
  },
  {
   "cell_type": "markdown",
   "id": "7c15f5bf",
   "metadata": {
    "slideshow": {
     "slide_type": "slide"
    }
   },
   "source": [
    "### Summarizing speeches\n",
    "\n",
    "By using `idxmax`, we can find the word with the highest TF-IDF in each speech."
   ]
  },
  {
   "cell_type": "code",
   "execution_count": 55,
   "id": "42b7f2f9",
   "metadata": {},
   "outputs": [
    {
     "data": {
      "text/plain": [
       "0          object\n",
       "1      convention\n",
       "2       provision\n",
       "          ...    \n",
       "230          it's\n",
       "231       tonight\n",
       "232          it's\n",
       "Length: 233, dtype: object"
      ]
     },
     "execution_count": 55,
     "metadata": {},
     "output_type": "execute_result"
    }
   ],
   "source": [
    "summaries = tfidf.idxmax(axis=1)\n",
    "summaries"
   ]
  },
  {
   "cell_type": "markdown",
   "id": "4aad3811",
   "metadata": {},
   "source": [
    "What if we want to see the 5 words with the highest TF-IDFs, for each speech?"
   ]
  },
  {
   "cell_type": "code",
   "execution_count": 56,
   "id": "0dbdd477",
   "metadata": {},
   "outputs": [],
   "source": [
    "def five_largest(row):\n",
    "    return list(row.index[row.argsort()][-5:])"
   ]
  },
  {
   "cell_type": "code",
   "execution_count": 57,
   "id": "e1af340d",
   "metadata": {},
   "outputs": [],
   "source": [
    "keywords = tfidf.apply(five_largest, axis=1)\n",
    "keywords_df = pd.concat([\n",
    "    speeches_df['president'],\n",
    "    speeches_df['date'],\n",
    "    keywords\n",
    "], axis=1)"
   ]
  },
  {
   "cell_type": "markdown",
   "id": "7762dd5e",
   "metadata": {},
   "source": [
    "Run the cell below to see every single row of `keywords_df`."
   ]
  },
  {
   "cell_type": "code",
   "execution_count": 58,
   "id": "bf737b3a",
   "metadata": {
    "scrolled": false
   },
   "outputs": [
    {
     "data": {
      "text/html": [
       "<div>\n",
       "<style scoped>\n",
       "    .dataframe tbody tr th:only-of-type {\n",
       "        vertical-align: middle;\n",
       "    }\n",
       "\n",
       "    .dataframe tbody tr th {\n",
       "        vertical-align: top;\n",
       "    }\n",
       "\n",
       "    .dataframe thead th {\n",
       "        text-align: right;\n",
       "    }\n",
       "</style>\n",
       "<table border=\"1\" class=\"dataframe\">\n",
       "  <thead>\n",
       "    <tr style=\"text-align: right;\">\n",
       "      <th></th>\n",
       "      <th>president</th>\n",
       "      <th>date</th>\n",
       "      <th>0</th>\n",
       "    </tr>\n",
       "  </thead>\n",
       "  <tbody>\n",
       "    <tr>\n",
       "      <th>0</th>\n",
       "      <td>George Washington</td>\n",
       "      <td>January 8, 1790</td>\n",
       "      <td>[your, proper, regard, ought, object]</td>\n",
       "    </tr>\n",
       "    <tr>\n",
       "      <th>1</th>\n",
       "      <td>George Washington</td>\n",
       "      <td>December 8, 1790</td>\n",
       "      <td>[case, established, object, commerce, convention]</td>\n",
       "    </tr>\n",
       "    <tr>\n",
       "      <th>2</th>\n",
       "      <td>George Washington</td>\n",
       "      <td>October 25, 1791</td>\n",
       "      <td>[community, upon, lands, proper, provision]</td>\n",
       "    </tr>\n",
       "    <tr>\n",
       "      <th>3</th>\n",
       "      <td>George Washington</td>\n",
       "      <td>November 6, 1792</td>\n",
       "      <td>[subject, upon, information, proper, provision]</td>\n",
       "    </tr>\n",
       "    <tr>\n",
       "      <th>4</th>\n",
       "      <td>George Washington</td>\n",
       "      <td>December 3, 1793</td>\n",
       "      <td>[having, vessels, executive, shall, ought]</td>\n",
       "    </tr>\n",
       "    <tr>\n",
       "      <th>5</th>\n",
       "      <td>George Washington</td>\n",
       "      <td>November 19, 1794</td>\n",
       "      <td>[too, army, let, ought, constitution]</td>\n",
       "    </tr>\n",
       "    <tr>\n",
       "      <th>6</th>\n",
       "      <td>George Washington</td>\n",
       "      <td>December 8, 1795</td>\n",
       "      <td>[army, prevent, object, provision, treaty]</td>\n",
       "    </tr>\n",
       "    <tr>\n",
       "      <th>7</th>\n",
       "      <td>George Washington</td>\n",
       "      <td>December 7, 1796</td>\n",
       "      <td>[republic, treaty, britain, ought, object]</td>\n",
       "    </tr>\n",
       "    <tr>\n",
       "      <th>8</th>\n",
       "      <td>John Adams</td>\n",
       "      <td>November 22, 1797</td>\n",
       "      <td>[spain, british, claims, treaty, vessels]</td>\n",
       "    </tr>\n",
       "    <tr>\n",
       "      <th>9</th>\n",
       "      <td>John Adams</td>\n",
       "      <td>December 8, 1798</td>\n",
       "      <td>[st, minister, treaty, spain, commerce]</td>\n",
       "    </tr>\n",
       "    <tr>\n",
       "      <th>10</th>\n",
       "      <td>John Adams</td>\n",
       "      <td>December 3, 1799</td>\n",
       "      <td>[civil, period, british, minister, treaty]</td>\n",
       "    </tr>\n",
       "    <tr>\n",
       "      <th>11</th>\n",
       "      <td>John Adams</td>\n",
       "      <td>November 11, 1800</td>\n",
       "      <td>[experience, protection, navy, commerce, ought]</td>\n",
       "    </tr>\n",
       "    <tr>\n",
       "      <th>12</th>\n",
       "      <td>Thomas Jefferson</td>\n",
       "      <td>December 8, 1801</td>\n",
       "      <td>[consideration, shall, object, vessels, subject]</td>\n",
       "    </tr>\n",
       "    <tr>\n",
       "      <th>13</th>\n",
       "      <td>Thomas Jefferson</td>\n",
       "      <td>December 15, 1802</td>\n",
       "      <td>[shall, debt, naval, duties, vessels]</td>\n",
       "    </tr>\n",
       "    <tr>\n",
       "      <th>14</th>\n",
       "      <td>Thomas Jefferson</td>\n",
       "      <td>October 17, 1803</td>\n",
       "      <td>[debt, vessels, sum, millions, friendly]</td>\n",
       "    </tr>\n",
       "    <tr>\n",
       "      <th>15</th>\n",
       "      <td>Thomas Jefferson</td>\n",
       "      <td>November 8, 1804</td>\n",
       "      <td>[received, convention, having, due, friendly]</td>\n",
       "    </tr>\n",
       "    <tr>\n",
       "      <th>16</th>\n",
       "      <td>Thomas Jefferson</td>\n",
       "      <td>December 3, 1805</td>\n",
       "      <td>[families, convention, sum, millions, vessels]</td>\n",
       "    </tr>\n",
       "    <tr>\n",
       "      <th>17</th>\n",
       "      <td>Thomas Jefferson</td>\n",
       "      <td>December 2, 1806</td>\n",
       "      <td>[due, consideration, millions, shall, spain]</td>\n",
       "    </tr>\n",
       "    <tr>\n",
       "      <th>18</th>\n",
       "      <td>Thomas Jefferson</td>\n",
       "      <td>October 27, 1807</td>\n",
       "      <td>[whether, army, british, vessels, shall]</td>\n",
       "    </tr>\n",
       "    <tr>\n",
       "      <th>19</th>\n",
       "      <td>Thomas Jefferson</td>\n",
       "      <td>November 8, 1808</td>\n",
       "      <td>[thus, british, millions, commerce, her]</td>\n",
       "    </tr>\n",
       "    <tr>\n",
       "      <th>20</th>\n",
       "      <td>James Madison</td>\n",
       "      <td>November 29, 1809</td>\n",
       "      <td>[cases, having, due, british, minister]</td>\n",
       "    </tr>\n",
       "    <tr>\n",
       "      <th>21</th>\n",
       "      <td>James Madison</td>\n",
       "      <td>December 5, 1810</td>\n",
       "      <td>[provisions, view, minister, commerce, british]</td>\n",
       "    </tr>\n",
       "    <tr>\n",
       "      <th>22</th>\n",
       "      <td>James Madison</td>\n",
       "      <td>November 5, 1811</td>\n",
       "      <td>[britain, provisions, commerce, minister, brit...</td>\n",
       "    </tr>\n",
       "    <tr>\n",
       "      <th>23</th>\n",
       "      <td>James Madison</td>\n",
       "      <td>November 4, 1812</td>\n",
       "      <td>[nor, subject, provisions, britain, british]</td>\n",
       "    </tr>\n",
       "    <tr>\n",
       "      <th>24</th>\n",
       "      <td>James Madison</td>\n",
       "      <td>December 7, 1813</td>\n",
       "      <td>[number, having, naval, britain, british]</td>\n",
       "    </tr>\n",
       "    <tr>\n",
       "      <th>25</th>\n",
       "      <td>James Madison</td>\n",
       "      <td>September 20, 1814</td>\n",
       "      <td>[naval, vessels, britain, his, british]</td>\n",
       "    </tr>\n",
       "    <tr>\n",
       "      <th>26</th>\n",
       "      <td>James Madison</td>\n",
       "      <td>December 5, 1815</td>\n",
       "      <td>[debt, treasury, millions, establishment, sum]</td>\n",
       "    </tr>\n",
       "    <tr>\n",
       "      <th>27</th>\n",
       "      <td>James Madison</td>\n",
       "      <td>December 3, 1816</td>\n",
       "      <td>[constitution, annual, sum, treasury, british]</td>\n",
       "    </tr>\n",
       "    <tr>\n",
       "      <th>28</th>\n",
       "      <td>James Monroe</td>\n",
       "      <td>December 12, 1817</td>\n",
       "      <td>[improvement, territory, indian, millions, lands]</td>\n",
       "    </tr>\n",
       "    <tr>\n",
       "      <th>29</th>\n",
       "      <td>James Monroe</td>\n",
       "      <td>November 16, 1818</td>\n",
       "      <td>[minister, object, territory, her, spain]</td>\n",
       "    </tr>\n",
       "    <tr>\n",
       "      <th>30</th>\n",
       "      <td>James Monroe</td>\n",
       "      <td>December 7, 1819</td>\n",
       "      <td>[parties, friendly, minister, treaty, spain]</td>\n",
       "    </tr>\n",
       "    <tr>\n",
       "      <th>31</th>\n",
       "      <td>James Monroe</td>\n",
       "      <td>November 14, 1820</td>\n",
       "      <td>[amount, minister, extent, vessels, spain]</td>\n",
       "    </tr>\n",
       "    <tr>\n",
       "      <th>32</th>\n",
       "      <td>James Monroe</td>\n",
       "      <td>December 3, 1821</td>\n",
       "      <td>[powers, duties, revenue, spain, vessels]</td>\n",
       "    </tr>\n",
       "    <tr>\n",
       "      <th>33</th>\n",
       "      <td>James Monroe</td>\n",
       "      <td>December 3, 1822</td>\n",
       "      <td>[object, proper, vessels, spain, convention]</td>\n",
       "    </tr>\n",
       "    <tr>\n",
       "      <th>34</th>\n",
       "      <td>James Monroe</td>\n",
       "      <td>December 2, 1823</td>\n",
       "      <td>[th, department, object, minister, spain]</td>\n",
       "    </tr>\n",
       "    <tr>\n",
       "      <th>35</th>\n",
       "      <td>James Monroe</td>\n",
       "      <td>December 7, 1824</td>\n",
       "      <td>[spain, governments, convention, parties, object]</td>\n",
       "    </tr>\n",
       "    <tr>\n",
       "      <th>36</th>\n",
       "      <td>John Quincy Adams</td>\n",
       "      <td>December 6, 1825</td>\n",
       "      <td>[officers, commerce, condition, upon, improvem...</td>\n",
       "    </tr>\n",
       "    <tr>\n",
       "      <th>37</th>\n",
       "      <td>John Quincy Adams</td>\n",
       "      <td>December 5, 1826</td>\n",
       "      <td>[commercial, upon, vessels, british, duties]</td>\n",
       "    </tr>\n",
       "    <tr>\n",
       "      <th>38</th>\n",
       "      <td>John Quincy Adams</td>\n",
       "      <td>December 4, 1827</td>\n",
       "      <td>[lands, british, receipts, upon, th]</td>\n",
       "    </tr>\n",
       "    <tr>\n",
       "      <th>39</th>\n",
       "      <td>John Quincy Adams</td>\n",
       "      <td>December 2, 1828</td>\n",
       "      <td>[duties, revenue, upon, commercial, britain]</td>\n",
       "    </tr>\n",
       "    <tr>\n",
       "      <th>40</th>\n",
       "      <td>Andrew Jackson</td>\n",
       "      <td>December 8, 1829</td>\n",
       "      <td>[attention, subject, her, upon, duties]</td>\n",
       "    </tr>\n",
       "    <tr>\n",
       "      <th>41</th>\n",
       "      <td>Andrew Jackson</td>\n",
       "      <td>December 6, 1830</td>\n",
       "      <td>[general, subject, character, vessels, upon]</td>\n",
       "    </tr>\n",
       "    <tr>\n",
       "      <th>42</th>\n",
       "      <td>Andrew Jackson</td>\n",
       "      <td>December 6, 1831</td>\n",
       "      <td>[indian, commerce, claims, treaty, minister]</td>\n",
       "    </tr>\n",
       "    <tr>\n",
       "      <th>43</th>\n",
       "      <td>Andrew Jackson</td>\n",
       "      <td>December 4, 1832</td>\n",
       "      <td>[general, subject, duties, lands, commerce]</td>\n",
       "    </tr>\n",
       "    <tr>\n",
       "      <th>44</th>\n",
       "      <td>Andrew Jackson</td>\n",
       "      <td>December 3, 1833</td>\n",
       "      <td>[treasury, convention, minister, spain, duties]</td>\n",
       "    </tr>\n",
       "    <tr>\n",
       "      <th>45</th>\n",
       "      <td>Andrew Jackson</td>\n",
       "      <td>December 1, 1834</td>\n",
       "      <td>[bill, treaty, minister, claims, upon]</td>\n",
       "    </tr>\n",
       "    <tr>\n",
       "      <th>46</th>\n",
       "      <td>Andrew Jackson</td>\n",
       "      <td>December 7, 1835</td>\n",
       "      <td>[treaty, upon, claims, subject, minister]</td>\n",
       "    </tr>\n",
       "    <tr>\n",
       "      <th>47</th>\n",
       "      <td>Andrew Jackson</td>\n",
       "      <td>December 5, 1836</td>\n",
       "      <td>[upon, treasury, duties, revenue, banks]</td>\n",
       "    </tr>\n",
       "    <tr>\n",
       "      <th>48</th>\n",
       "      <td>Martin van Buren</td>\n",
       "      <td>December 5, 1837</td>\n",
       "      <td>[price, subject, upon, banks, lands]</td>\n",
       "    </tr>\n",
       "    <tr>\n",
       "      <th>49</th>\n",
       "      <td>Martin van Buren</td>\n",
       "      <td>December 3, 1838</td>\n",
       "      <td>[subject, upon, indian, banks, court]</td>\n",
       "    </tr>\n",
       "    <tr>\n",
       "      <th>50</th>\n",
       "      <td>Martin van Buren</td>\n",
       "      <td>December 2, 1839</td>\n",
       "      <td>[duties, treasury, extent, institutions, banks]</td>\n",
       "    </tr>\n",
       "    <tr>\n",
       "      <th>51</th>\n",
       "      <td>Martin van Buren</td>\n",
       "      <td>December 5, 1840</td>\n",
       "      <td>[general, revenue, upon, extent, having]</td>\n",
       "    </tr>\n",
       "    <tr>\n",
       "      <th>52</th>\n",
       "      <td>John Tyler</td>\n",
       "      <td>December 7, 1841</td>\n",
       "      <td>[banks, britain, amount, duties, treasury]</td>\n",
       "    </tr>\n",
       "    <tr>\n",
       "      <th>53</th>\n",
       "      <td>John Tyler</td>\n",
       "      <td>December 6, 1842</td>\n",
       "      <td>[claims, minister, thus, amount, treasury]</td>\n",
       "    </tr>\n",
       "    <tr>\n",
       "      <th>54</th>\n",
       "      <td>John Tyler</td>\n",
       "      <td>December 6, 1843</td>\n",
       "      <td>[treasury, british, her, minister, mexico]</td>\n",
       "    </tr>\n",
       "    <tr>\n",
       "      <th>55</th>\n",
       "      <td>John Tyler</td>\n",
       "      <td>December 3, 1844</td>\n",
       "      <td>[minister, upon, treaty, her, mexico]</td>\n",
       "    </tr>\n",
       "    <tr>\n",
       "      <th>56</th>\n",
       "      <td>James Polk</td>\n",
       "      <td>December 2, 1845</td>\n",
       "      <td>[british, convention, territory, duties, mexico]</td>\n",
       "    </tr>\n",
       "    <tr>\n",
       "      <th>57</th>\n",
       "      <td>James Polk</td>\n",
       "      <td>December 8, 1846</td>\n",
       "      <td>[army, territory, minister, her, mexico]</td>\n",
       "    </tr>\n",
       "    <tr>\n",
       "      <th>58</th>\n",
       "      <td>James Polk</td>\n",
       "      <td>December 7, 1847</td>\n",
       "      <td>[amount, treaty, her, army, mexico]</td>\n",
       "    </tr>\n",
       "    <tr>\n",
       "      <th>59</th>\n",
       "      <td>James Polk</td>\n",
       "      <td>December 5, 1848</td>\n",
       "      <td>[tariff, upon, bill, constitution, mexico]</td>\n",
       "    </tr>\n",
       "    <tr>\n",
       "      <th>60</th>\n",
       "      <td>Zachary Taylor</td>\n",
       "      <td>December 4, 1849</td>\n",
       "      <td>[territory, treaty, recommend, minister, mexico]</td>\n",
       "    </tr>\n",
       "    <tr>\n",
       "      <th>61</th>\n",
       "      <td>Millard Fillmore</td>\n",
       "      <td>December 2, 1850</td>\n",
       "      <td>[recommend, claims, upon, mexico, duties]</td>\n",
       "    </tr>\n",
       "    <tr>\n",
       "      <th>62</th>\n",
       "      <td>Millard Fillmore</td>\n",
       "      <td>December 2, 1851</td>\n",
       "      <td>[department, annual, fiscal, subject, mexico]</td>\n",
       "    </tr>\n",
       "    <tr>\n",
       "      <th>63</th>\n",
       "      <td>Millard Fillmore</td>\n",
       "      <td>December 6, 1852</td>\n",
       "      <td>[duties, navy, mexico, subject, her]</td>\n",
       "    </tr>\n",
       "    <tr>\n",
       "      <th>64</th>\n",
       "      <td>Franklin Pierce</td>\n",
       "      <td>December 5, 1853</td>\n",
       "      <td>[commercial, regard, upon, construction, subject]</td>\n",
       "    </tr>\n",
       "    <tr>\n",
       "      <th>65</th>\n",
       "      <td>Franklin Pierce</td>\n",
       "      <td>December 4, 1854</td>\n",
       "      <td>[character, duties, naval, minister, property]</td>\n",
       "    </tr>\n",
       "    <tr>\n",
       "      <th>66</th>\n",
       "      <td>Franklin Pierce</td>\n",
       "      <td>December 31, 1855</td>\n",
       "      <td>[constitution, british, territory, convention,...</td>\n",
       "    </tr>\n",
       "    <tr>\n",
       "      <th>67</th>\n",
       "      <td>Franklin Pierce</td>\n",
       "      <td>December 2, 1856</td>\n",
       "      <td>[institutions, property, condition, thus, terr...</td>\n",
       "    </tr>\n",
       "    <tr>\n",
       "      <th>68</th>\n",
       "      <td>James Buchanan</td>\n",
       "      <td>December 8, 1857</td>\n",
       "      <td>[treaty, constitution, territory, convention, ...</td>\n",
       "    </tr>\n",
       "    <tr>\n",
       "      <th>69</th>\n",
       "      <td>James Buchanan</td>\n",
       "      <td>December 6, 1858</td>\n",
       "      <td>[june, mexico, minister, constitution, territory]</td>\n",
       "    </tr>\n",
       "    <tr>\n",
       "      <th>70</th>\n",
       "      <td>James Buchanan</td>\n",
       "      <td>December 19, 1859</td>\n",
       "      <td>[minister, th, fiscal, mexico, june]</td>\n",
       "    </tr>\n",
       "    <tr>\n",
       "      <th>71</th>\n",
       "      <td>James Buchanan</td>\n",
       "      <td>December 3, 1860</td>\n",
       "      <td>[minister, duties, claims, convention, constit...</td>\n",
       "    </tr>\n",
       "    <tr>\n",
       "      <th>72</th>\n",
       "      <td>Abraham Lincoln</td>\n",
       "      <td>December 3, 1861</td>\n",
       "      <td>[army, claims, labor, capital, court]</td>\n",
       "    </tr>\n",
       "    <tr>\n",
       "      <th>73</th>\n",
       "      <td>Abraham Lincoln</td>\n",
       "      <td>December 1, 1862</td>\n",
       "      <td>[upon, population, shall, per, sum]</td>\n",
       "    </tr>\n",
       "    <tr>\n",
       "      <th>74</th>\n",
       "      <td>Abraham Lincoln</td>\n",
       "      <td>December 8, 1863</td>\n",
       "      <td>[upon, receipts, subject, navy, naval]</td>\n",
       "    </tr>\n",
       "    <tr>\n",
       "      <th>75</th>\n",
       "      <td>Abraham Lincoln</td>\n",
       "      <td>December 6, 1864</td>\n",
       "      <td>[condition, secretary, naval, treasury, navy]</td>\n",
       "    </tr>\n",
       "    <tr>\n",
       "      <th>76</th>\n",
       "      <td>Andrew Johnson</td>\n",
       "      <td>December 4, 1865</td>\n",
       "      <td>[form, commerce, powers, general, constitution]</td>\n",
       "    </tr>\n",
       "    <tr>\n",
       "      <th>77</th>\n",
       "      <td>Andrew Johnson</td>\n",
       "      <td>December 3, 1866</td>\n",
       "      <td>[thus, june, constitution, mexico, condition]</td>\n",
       "    </tr>\n",
       "    <tr>\n",
       "      <th>78</th>\n",
       "      <td>Andrew Johnson</td>\n",
       "      <td>December 3, 1867</td>\n",
       "      <td>[june, value, department, upon, constitution]</td>\n",
       "    </tr>\n",
       "    <tr>\n",
       "      <th>79</th>\n",
       "      <td>Andrew Johnson</td>\n",
       "      <td>December 9, 1868</td>\n",
       "      <td>[millions, amount, expenditures, june, per]</td>\n",
       "    </tr>\n",
       "    <tr>\n",
       "      <th>80</th>\n",
       "      <td>Ulysses S. Grant</td>\n",
       "      <td>December 6, 1869</td>\n",
       "      <td>[subject, upon, receipts, per, spain]</td>\n",
       "    </tr>\n",
       "    <tr>\n",
       "      <th>81</th>\n",
       "      <td>Ulysses S. Grant</td>\n",
       "      <td>December 5, 1870</td>\n",
       "      <td>[her, convention, vessels, spain, british]</td>\n",
       "    </tr>\n",
       "    <tr>\n",
       "      <th>82</th>\n",
       "      <td>Ulysses S. Grant</td>\n",
       "      <td>December 4, 1871</td>\n",
       "      <td>[object, powers, treaty, desire, recommend]</td>\n",
       "    </tr>\n",
       "    <tr>\n",
       "      <th>83</th>\n",
       "      <td>Ulysses S. Grant</td>\n",
       "      <td>December 2, 1872</td>\n",
       "      <td>[territory, line, her, britain, treaty]</td>\n",
       "    </tr>\n",
       "    <tr>\n",
       "      <th>84</th>\n",
       "      <td>Ulysses S. Grant</td>\n",
       "      <td>December 1, 1873</td>\n",
       "      <td>[consideration, banks, subject, amount, claims]</td>\n",
       "    </tr>\n",
       "    <tr>\n",
       "      <th>85</th>\n",
       "      <td>Ulysses S. Grant</td>\n",
       "      <td>December 7, 1874</td>\n",
       "      <td>[duties, upon, attention, claims, convention]</td>\n",
       "    </tr>\n",
       "    <tr>\n",
       "      <th>86</th>\n",
       "      <td>Ulysses S. Grant</td>\n",
       "      <td>December 7, 1875</td>\n",
       "      <td>[parties, territory, court, spain, claims]</td>\n",
       "    </tr>\n",
       "    <tr>\n",
       "      <th>87</th>\n",
       "      <td>Ulysses S. Grant</td>\n",
       "      <td>December 5, 1876</td>\n",
       "      <td>[subject, court, per, commission, claims]</td>\n",
       "    </tr>\n",
       "    <tr>\n",
       "      <th>88</th>\n",
       "      <td>Rutherford B. Hayes</td>\n",
       "      <td>December 3, 1877</td>\n",
       "      <td>[upon, sum, fiscal, commercial, value]</td>\n",
       "    </tr>\n",
       "    <tr>\n",
       "      <th>89</th>\n",
       "      <td>Rutherford B. Hayes</td>\n",
       "      <td>December 2, 1878</td>\n",
       "      <td>[per, secretary, fiscal, june, indian]</td>\n",
       "    </tr>\n",
       "    <tr>\n",
       "      <th>90</th>\n",
       "      <td>Rutherford B. Hayes</td>\n",
       "      <td>December 1, 1879</td>\n",
       "      <td>[subject, territory, june, commission, indian]</td>\n",
       "    </tr>\n",
       "    <tr>\n",
       "      <th>91</th>\n",
       "      <td>Rutherford B. Hayes</td>\n",
       "      <td>December 6, 1880</td>\n",
       "      <td>[subject, office, relations, attention, commer...</td>\n",
       "    </tr>\n",
       "    <tr>\n",
       "      <th>92</th>\n",
       "      <td>Chester A. Arthur</td>\n",
       "      <td>December 6, 1881</td>\n",
       "      <td>[spain, international, british, relations, fri...</td>\n",
       "    </tr>\n",
       "    <tr>\n",
       "      <th>93</th>\n",
       "      <td>Chester A. Arthur</td>\n",
       "      <td>December 4, 1882</td>\n",
       "      <td>[territory, establishment, mexico, internation...</td>\n",
       "    </tr>\n",
       "    <tr>\n",
       "      <th>94</th>\n",
       "      <td>Chester A. Arthur</td>\n",
       "      <td>December 4, 1883</td>\n",
       "      <td>[total, convention, mexico, commission, treaty]</td>\n",
       "    </tr>\n",
       "    <tr>\n",
       "      <th>95</th>\n",
       "      <td>Chester A. Arthur</td>\n",
       "      <td>December 1, 1884</td>\n",
       "      <td>[treaty, territory, commercial, secretary, ves...</td>\n",
       "    </tr>\n",
       "    <tr>\n",
       "      <th>96</th>\n",
       "      <td>Grover Cleveland</td>\n",
       "      <td>December 8, 1885</td>\n",
       "      <td>[duties, vessels, treaty, condition, upon]</td>\n",
       "    </tr>\n",
       "    <tr>\n",
       "      <th>97</th>\n",
       "      <td>Grover Cleveland</td>\n",
       "      <td>December 6, 1886</td>\n",
       "      <td>[mexico, claims, subject, convention, fiscal]</td>\n",
       "    </tr>\n",
       "    <tr>\n",
       "      <th>98</th>\n",
       "      <td>Grover Cleveland</td>\n",
       "      <td>December 6, 1887</td>\n",
       "      <td>[condition, sum, thus, price, tariff]</td>\n",
       "    </tr>\n",
       "    <tr>\n",
       "      <th>99</th>\n",
       "      <td>Grover Cleveland</td>\n",
       "      <td>December 3, 1888</td>\n",
       "      <td>[secretary, treaty, upon, per, june]</td>\n",
       "    </tr>\n",
       "    <tr>\n",
       "      <th>100</th>\n",
       "      <td>Benjamin Harrison</td>\n",
       "      <td>December 3, 1889</td>\n",
       "      <td>[general, commission, indian, upon, lands]</td>\n",
       "    </tr>\n",
       "    <tr>\n",
       "      <th>101</th>\n",
       "      <td>Benjamin Harrison</td>\n",
       "      <td>December 1, 1890</td>\n",
       "      <td>[receipts, subject, upon, per, tariff]</td>\n",
       "    </tr>\n",
       "    <tr>\n",
       "      <th>102</th>\n",
       "      <td>Benjamin Harrison</td>\n",
       "      <td>December 9, 1891</td>\n",
       "      <td>[court, tariff, indian, upon, per]</td>\n",
       "    </tr>\n",
       "    <tr>\n",
       "      <th>103</th>\n",
       "      <td>Benjamin Harrison</td>\n",
       "      <td>December 6, 1892</td>\n",
       "      <td>[tariff, secretary, upon, value, per]</td>\n",
       "    </tr>\n",
       "    <tr>\n",
       "      <th>104</th>\n",
       "      <td>William McKinley</td>\n",
       "      <td>December 6, 1897</td>\n",
       "      <td>[conditions, upon, international, territory, s...</td>\n",
       "    </tr>\n",
       "    <tr>\n",
       "      <th>105</th>\n",
       "      <td>William McKinley</td>\n",
       "      <td>December 5, 1898</td>\n",
       "      <td>[navy, commission, naval, june, spain]</td>\n",
       "    </tr>\n",
       "    <tr>\n",
       "      <th>106</th>\n",
       "      <td>William McKinley</td>\n",
       "      <td>December 5, 1899</td>\n",
       "      <td>[treaty, officers, commission, international, ...</td>\n",
       "    </tr>\n",
       "    <tr>\n",
       "      <th>107</th>\n",
       "      <td>William McKinley</td>\n",
       "      <td>December 3, 1900</td>\n",
       "      <td>[settlement, civil, shall, convention, commiss...</td>\n",
       "    </tr>\n",
       "    <tr>\n",
       "      <th>108</th>\n",
       "      <td>Theodore Roosevelt</td>\n",
       "      <td>December 3, 1901</td>\n",
       "      <td>[army, commercial, conditions, navy, man]</td>\n",
       "    </tr>\n",
       "    <tr>\n",
       "      <th>109</th>\n",
       "      <td>Theodore Roosevelt</td>\n",
       "      <td>December 2, 1902</td>\n",
       "      <td>[upon, man, navy, conditions, tariff]</td>\n",
       "    </tr>\n",
       "    <tr>\n",
       "      <th>110</th>\n",
       "      <td>Theodore Roosevelt</td>\n",
       "      <td>December 7, 1903</td>\n",
       "      <td>[june, lands, territory, property, treaty]</td>\n",
       "    </tr>\n",
       "    <tr>\n",
       "      <th>111</th>\n",
       "      <td>Theodore Roosevelt</td>\n",
       "      <td>December 6, 1904</td>\n",
       "      <td>[cases, conditions, indian, labor, man]</td>\n",
       "    </tr>\n",
       "    <tr>\n",
       "      <th>112</th>\n",
       "      <td>Theodore Roosevelt</td>\n",
       "      <td>December 5, 1905</td>\n",
       "      <td>[upon, conditions, commission, cannot, man]</td>\n",
       "    </tr>\n",
       "    <tr>\n",
       "      <th>113</th>\n",
       "      <td>Theodore Roosevelt</td>\n",
       "      <td>December 3, 1906</td>\n",
       "      <td>[upon, navy, tax, court, man]</td>\n",
       "    </tr>\n",
       "    <tr>\n",
       "      <th>114</th>\n",
       "      <td>Theodore Roosevelt</td>\n",
       "      <td>December 3, 1907</td>\n",
       "      <td>[conditions, navy, upon, army, man]</td>\n",
       "    </tr>\n",
       "    <tr>\n",
       "      <th>115</th>\n",
       "      <td>Theodore Roosevelt</td>\n",
       "      <td>December 8, 1908</td>\n",
       "      <td>[man, officers, labor, control, banks]</td>\n",
       "    </tr>\n",
       "    <tr>\n",
       "      <th>116</th>\n",
       "      <td>William H. Taft</td>\n",
       "      <td>December 7, 1909</td>\n",
       "      <td>[convention, banks, court, department, tariff]</td>\n",
       "    </tr>\n",
       "    <tr>\n",
       "      <th>117</th>\n",
       "      <td>William H. Taft</td>\n",
       "      <td>December 6, 1910</td>\n",
       "      <td>[department, court, commercial, international,...</td>\n",
       "    </tr>\n",
       "    <tr>\n",
       "      <th>118</th>\n",
       "      <td>William H. Taft</td>\n",
       "      <td>December 5, 1911</td>\n",
       "      <td>[mexico, department, per, tariff, court]</td>\n",
       "    </tr>\n",
       "    <tr>\n",
       "      <th>119</th>\n",
       "      <td>William H. Taft</td>\n",
       "      <td>December 3, 1912</td>\n",
       "      <td>[tariff, upon, army, per, department]</td>\n",
       "    </tr>\n",
       "    <tr>\n",
       "      <th>120</th>\n",
       "      <td>Woodrow Wilson</td>\n",
       "      <td>December 2, 1913</td>\n",
       "      <td>[how, shall, upon, mexico, ought]</td>\n",
       "    </tr>\n",
       "    <tr>\n",
       "      <th>121</th>\n",
       "      <td>Woodrow Wilson</td>\n",
       "      <td>December 8, 1914</td>\n",
       "      <td>[shall, convention, ought, matter, upon]</td>\n",
       "    </tr>\n",
       "    <tr>\n",
       "      <th>122</th>\n",
       "      <td>Woodrow Wilson</td>\n",
       "      <td>December 7, 1915</td>\n",
       "      <td>[her, navy, millions, economic, cannot]</td>\n",
       "    </tr>\n",
       "    <tr>\n",
       "      <th>123</th>\n",
       "      <td>Woodrow Wilson</td>\n",
       "      <td>December 5, 1916</td>\n",
       "      <td>[commerce, shall, upon, commission, bill]</td>\n",
       "    </tr>\n",
       "    <tr>\n",
       "      <th>124</th>\n",
       "      <td>Woodrow Wilson</td>\n",
       "      <td>December 4, 1917</td>\n",
       "      <td>[purpose, her, know, settlement, shall]</td>\n",
       "    </tr>\n",
       "    <tr>\n",
       "      <th>125</th>\n",
       "      <td>Woodrow Wilson</td>\n",
       "      <td>December 2, 1918</td>\n",
       "      <td>[shall, go, men, upon, back]</td>\n",
       "    </tr>\n",
       "    <tr>\n",
       "      <th>126</th>\n",
       "      <td>Woodrow Wilson</td>\n",
       "      <td>December 2, 1919</td>\n",
       "      <td>[economic, her, budget, labor, conditions]</td>\n",
       "    </tr>\n",
       "    <tr>\n",
       "      <th>127</th>\n",
       "      <td>Woodrow Wilson</td>\n",
       "      <td>December 7, 1920</td>\n",
       "      <td>[expenditures, receipts, treasury, budget, upon]</td>\n",
       "    </tr>\n",
       "    <tr>\n",
       "      <th>128</th>\n",
       "      <td>Warren Harding</td>\n",
       "      <td>December 6, 1921</td>\n",
       "      <td>[capital, ought, problems, conditions, tariff]</td>\n",
       "    </tr>\n",
       "    <tr>\n",
       "      <th>129</th>\n",
       "      <td>Warren Harding</td>\n",
       "      <td>December 8, 1922</td>\n",
       "      <td>[responsibility, republic, problems, ought, per]</td>\n",
       "    </tr>\n",
       "    <tr>\n",
       "      <th>130</th>\n",
       "      <td>Calvin Coolidge</td>\n",
       "      <td>December 6, 1923</td>\n",
       "      <td>[conditions, production, commission, ought, co...</td>\n",
       "    </tr>\n",
       "    <tr>\n",
       "      <th>131</th>\n",
       "      <td>Calvin Coolidge</td>\n",
       "      <td>December 3, 1924</td>\n",
       "      <td>[navy, international, desire, economic, court]</td>\n",
       "    </tr>\n",
       "    <tr>\n",
       "      <th>132</th>\n",
       "      <td>Calvin Coolidge</td>\n",
       "      <td>December 8, 1925</td>\n",
       "      <td>[international, budget, economic, ought, court]</td>\n",
       "    </tr>\n",
       "    <tr>\n",
       "      <th>133</th>\n",
       "      <td>Calvin Coolidge</td>\n",
       "      <td>December 7, 1926</td>\n",
       "      <td>[tax, federal, reduction, tariff, ought]</td>\n",
       "    </tr>\n",
       "    <tr>\n",
       "      <th>134</th>\n",
       "      <td>Calvin Coolidge</td>\n",
       "      <td>December 6, 1927</td>\n",
       "      <td>[construction, banks, per, program, property]</td>\n",
       "    </tr>\n",
       "    <tr>\n",
       "      <th>135</th>\n",
       "      <td>Calvin Coolidge</td>\n",
       "      <td>December 4, 1928</td>\n",
       "      <td>[federal, department, production, program, per]</td>\n",
       "    </tr>\n",
       "    <tr>\n",
       "      <th>136</th>\n",
       "      <td>Herbert Hoover</td>\n",
       "      <td>December 3, 1929</td>\n",
       "      <td>[commission, federal, construction, tariff, per]</td>\n",
       "    </tr>\n",
       "    <tr>\n",
       "      <th>137</th>\n",
       "      <td>Herbert Hoover</td>\n",
       "      <td>December 2, 1930</td>\n",
       "      <td>[about, budget, economic, per, construction]</td>\n",
       "    </tr>\n",
       "    <tr>\n",
       "      <th>138</th>\n",
       "      <td>Herbert Hoover</td>\n",
       "      <td>December 8, 1931</td>\n",
       "      <td>[upon, construction, federal, economic, banks]</td>\n",
       "    </tr>\n",
       "    <tr>\n",
       "      <th>139</th>\n",
       "      <td>Herbert Hoover</td>\n",
       "      <td>December 6, 1932</td>\n",
       "      <td>[health, june, value, economic, banks]</td>\n",
       "    </tr>\n",
       "    <tr>\n",
       "      <th>140</th>\n",
       "      <td>Franklin D. Roosevelt</td>\n",
       "      <td>January 3, 1934</td>\n",
       "      <td>[labor, permanent, problems, cannot, banks]</td>\n",
       "    </tr>\n",
       "    <tr>\n",
       "      <th>141</th>\n",
       "      <td>Franklin D. Roosevelt</td>\n",
       "      <td>January 4, 1935</td>\n",
       "      <td>[private, work, local, program, cannot]</td>\n",
       "    </tr>\n",
       "    <tr>\n",
       "      <th>142</th>\n",
       "      <td>Franklin D. Roosevelt</td>\n",
       "      <td>January 3, 1936</td>\n",
       "      <td>[income, shall, let, say, today]</td>\n",
       "    </tr>\n",
       "    <tr>\n",
       "      <th>143</th>\n",
       "      <td>Franklin D. Roosevelt</td>\n",
       "      <td>January 6, 1937</td>\n",
       "      <td>[powers, convention, needs, help, problems]</td>\n",
       "    </tr>\n",
       "    <tr>\n",
       "      <th>144</th>\n",
       "      <td>Franklin D. Roosevelt</td>\n",
       "      <td>January 3, 1938</td>\n",
       "      <td>[budget, business, economic, today, income]</td>\n",
       "    </tr>\n",
       "    <tr>\n",
       "      <th>145</th>\n",
       "      <td>Franklin D. Roosevelt</td>\n",
       "      <td>January 4, 1939</td>\n",
       "      <td>[labor, cannot, capital, income, billion]</td>\n",
       "    </tr>\n",
       "    <tr>\n",
       "      <th>146</th>\n",
       "      <td>Franklin D. Roosevelt</td>\n",
       "      <td>January 3, 1940</td>\n",
       "      <td>[world, domestic, cannot, economic, today]</td>\n",
       "    </tr>\n",
       "    <tr>\n",
       "      <th>147</th>\n",
       "      <td>Franklin D. Roosevelt</td>\n",
       "      <td>January 6, 1941</td>\n",
       "      <td>[freedom, problems, cannot, program, today]</td>\n",
       "    </tr>\n",
       "    <tr>\n",
       "      <th>148</th>\n",
       "      <td>Franklin D. Roosevelt</td>\n",
       "      <td>January 6, 1942</td>\n",
       "      <td>[him, today, know, forces, production]</td>\n",
       "    </tr>\n",
       "    <tr>\n",
       "      <th>149</th>\n",
       "      <td>Franklin D. Roosevelt</td>\n",
       "      <td>January 7, 1943</td>\n",
       "      <td>[pacific, get, cannot, americans, production]</td>\n",
       "    </tr>\n",
       "    <tr>\n",
       "      <th>150</th>\n",
       "      <td>Franklin D. Roosevelt</td>\n",
       "      <td>January 11, 1944</td>\n",
       "      <td>[individual, total, know, economic, cannot]</td>\n",
       "    </tr>\n",
       "    <tr>\n",
       "      <th>151</th>\n",
       "      <td>Franklin D. Roosevelt</td>\n",
       "      <td>January 6, 1945</td>\n",
       "      <td>[cannot, production, army, forces, jobs]</td>\n",
       "    </tr>\n",
       "    <tr>\n",
       "      <th>152</th>\n",
       "      <td>Harry S. Truman</td>\n",
       "      <td>January 21, 1946</td>\n",
       "      <td>[fiscal, program, billion, million, dollars]</td>\n",
       "    </tr>\n",
       "    <tr>\n",
       "      <th>153</th>\n",
       "      <td>Harry S. Truman</td>\n",
       "      <td>January 6, 1947</td>\n",
       "      <td>[commission, budget, economic, labor, program]</td>\n",
       "    </tr>\n",
       "    <tr>\n",
       "      <th>154</th>\n",
       "      <td>Harry S. Truman</td>\n",
       "      <td>January 7, 1948</td>\n",
       "      <td>[tax, billion, today, program, economic]</td>\n",
       "    </tr>\n",
       "    <tr>\n",
       "      <th>155</th>\n",
       "      <td>Harry S. Truman</td>\n",
       "      <td>January 5, 1949</td>\n",
       "      <td>[economic, price, program, cannot, production]</td>\n",
       "    </tr>\n",
       "    <tr>\n",
       "      <th>156</th>\n",
       "      <td>Harry S. Truman</td>\n",
       "      <td>January 4, 1950</td>\n",
       "      <td>[income, today, program, programs, economic]</td>\n",
       "    </tr>\n",
       "    <tr>\n",
       "      <th>157</th>\n",
       "      <td>Harry S. Truman</td>\n",
       "      <td>January 8, 1951</td>\n",
       "      <td>[help, program, production, strength, economic]</td>\n",
       "    </tr>\n",
       "    <tr>\n",
       "      <th>158</th>\n",
       "      <td>Harry S. Truman</td>\n",
       "      <td>January 9, 1952</td>\n",
       "      <td>[defense, working, program, help, production]</td>\n",
       "    </tr>\n",
       "    <tr>\n",
       "      <th>159</th>\n",
       "      <td>Harry S. Truman</td>\n",
       "      <td>January 7, 1953</td>\n",
       "      <td>[republic, free, cannot, world, economic]</td>\n",
       "    </tr>\n",
       "    <tr>\n",
       "      <th>160</th>\n",
       "      <td>Dwight D. Eisenhower</td>\n",
       "      <td>February 2, 1953</td>\n",
       "      <td>[federal, labor, budget, economic, programs]</td>\n",
       "    </tr>\n",
       "    <tr>\n",
       "      <th>161</th>\n",
       "      <td>Dwight D. Eisenhower</td>\n",
       "      <td>January 7, 1954</td>\n",
       "      <td>[federal, programs, economic, budget, program]</td>\n",
       "    </tr>\n",
       "    <tr>\n",
       "      <th>162</th>\n",
       "      <td>Dwight D. Eisenhower</td>\n",
       "      <td>January 6, 1955</td>\n",
       "      <td>[problems, federal, economic, programs, program]</td>\n",
       "    </tr>\n",
       "    <tr>\n",
       "      <th>163</th>\n",
       "      <td>Dwight D. Eisenhower</td>\n",
       "      <td>January 5, 1956</td>\n",
       "      <td>[billion, federal, problems, economic, program]</td>\n",
       "    </tr>\n",
       "    <tr>\n",
       "      <th>164</th>\n",
       "      <td>Dwight D. Eisenhower</td>\n",
       "      <td>January 10, 1957</td>\n",
       "      <td>[cannot, programs, human, program, economic]</td>\n",
       "    </tr>\n",
       "    <tr>\n",
       "      <th>165</th>\n",
       "      <td>Dwight D. Eisenhower</td>\n",
       "      <td>January 9, 1958</td>\n",
       "      <td>[program, strength, today, programs, economic]</td>\n",
       "    </tr>\n",
       "    <tr>\n",
       "      <th>166</th>\n",
       "      <td>Dwight D. Eisenhower</td>\n",
       "      <td>January 9, 1959</td>\n",
       "      <td>[growth, help, billion, programs, economic]</td>\n",
       "    </tr>\n",
       "    <tr>\n",
       "      <th>167</th>\n",
       "      <td>Dwight D. Eisenhower</td>\n",
       "      <td>January 7, 1960</td>\n",
       "      <td>[freedom, cannot, today, economic, help]</td>\n",
       "    </tr>\n",
       "    <tr>\n",
       "      <th>168</th>\n",
       "      <td>Dwight D. Eisenhower</td>\n",
       "      <td>January 12, 1961</td>\n",
       "      <td>[million, percent, billion, program, programs]</td>\n",
       "    </tr>\n",
       "    <tr>\n",
       "      <th>169</th>\n",
       "      <td>John F. Kennedy</td>\n",
       "      <td>January 30, 1961</td>\n",
       "      <td>[budget, programs, problems, economic, program]</td>\n",
       "    </tr>\n",
       "    <tr>\n",
       "      <th>170</th>\n",
       "      <td>John F. Kennedy</td>\n",
       "      <td>January 11, 1962</td>\n",
       "      <td>[billion, help, program, jobs, cannot]</td>\n",
       "    </tr>\n",
       "    <tr>\n",
       "      <th>171</th>\n",
       "      <td>John F. Kennedy</td>\n",
       "      <td>January 14, 1963</td>\n",
       "      <td>[help, cannot, tax, percent, billion]</td>\n",
       "    </tr>\n",
       "    <tr>\n",
       "      <th>172</th>\n",
       "      <td>Lyndon B. Johnson</td>\n",
       "      <td>January 8, 1964</td>\n",
       "      <td>[help, billion, americans, budget, million]</td>\n",
       "    </tr>\n",
       "    <tr>\n",
       "      <th>173</th>\n",
       "      <td>Lyndon B. Johnson</td>\n",
       "      <td>January 4, 1965</td>\n",
       "      <td>[americans, man, programs, tonight, help]</td>\n",
       "    </tr>\n",
       "    <tr>\n",
       "      <th>174</th>\n",
       "      <td>Lyndon B. Johnson</td>\n",
       "      <td>January 12, 1966</td>\n",
       "      <td>[program, percent, help, billion, tonight]</td>\n",
       "    </tr>\n",
       "    <tr>\n",
       "      <th>175</th>\n",
       "      <td>Lyndon B. Johnson</td>\n",
       "      <td>January 10, 1967</td>\n",
       "      <td>[programs, americans, billion, tonight, percent]</td>\n",
       "    </tr>\n",
       "    <tr>\n",
       "      <th>176</th>\n",
       "      <td>Lyndon B. Johnson</td>\n",
       "      <td>January 17, 1968</td>\n",
       "      <td>[programs, million, budget, tonight, billion]</td>\n",
       "    </tr>\n",
       "    <tr>\n",
       "      <th>177</th>\n",
       "      <td>Lyndon B. Johnson</td>\n",
       "      <td>January 14, 1969</td>\n",
       "      <td>[americans, program, billion, budget, tonight]</td>\n",
       "    </tr>\n",
       "    <tr>\n",
       "      <th>178</th>\n",
       "      <td>Richard Nixon</td>\n",
       "      <td>January 22, 1970</td>\n",
       "      <td>[billion, percent, america, today, programs]</td>\n",
       "    </tr>\n",
       "    <tr>\n",
       "      <th>179</th>\n",
       "      <td>Richard Nixon</td>\n",
       "      <td>January 22, 1971</td>\n",
       "      <td>[federal, americans, budget, tonight, let]</td>\n",
       "    </tr>\n",
       "    <tr>\n",
       "      <th>180</th>\n",
       "      <td>Richard Nixon</td>\n",
       "      <td>January 20, 1972</td>\n",
       "      <td>[america, program, programs, today, help]</td>\n",
       "    </tr>\n",
       "    <tr>\n",
       "      <th>181</th>\n",
       "      <td>Richard Nixon</td>\n",
       "      <td>February 2, 1973</td>\n",
       "      <td>[economic, help, americans, working, programs]</td>\n",
       "    </tr>\n",
       "    <tr>\n",
       "      <th>182</th>\n",
       "      <td>Richard Nixon</td>\n",
       "      <td>January 30, 1974</td>\n",
       "      <td>[program, americans, today, energy, tonight]</td>\n",
       "    </tr>\n",
       "    <tr>\n",
       "      <th>183</th>\n",
       "      <td>Gerald R. Ford</td>\n",
       "      <td>January 15, 1975</td>\n",
       "      <td>[program, percent, billion, programs, energy]</td>\n",
       "    </tr>\n",
       "    <tr>\n",
       "      <th>184</th>\n",
       "      <td>Gerald R. Ford</td>\n",
       "      <td>January 19, 1976</td>\n",
       "      <td>[federal, americans, budget, jobs, programs]</td>\n",
       "    </tr>\n",
       "    <tr>\n",
       "      <th>185</th>\n",
       "      <td>Gerald R. Ford</td>\n",
       "      <td>January 12, 1977</td>\n",
       "      <td>[programs, today, percent, jobs, energy]</td>\n",
       "    </tr>\n",
       "    <tr>\n",
       "      <th>186</th>\n",
       "      <td>Jimmy Carter</td>\n",
       "      <td>January 19, 1978</td>\n",
       "      <td>[cannot, economic, tonight, jobs, it's]</td>\n",
       "    </tr>\n",
       "    <tr>\n",
       "      <th>187</th>\n",
       "      <td>Jimmy Carter</td>\n",
       "      <td>January 25, 1979</td>\n",
       "      <td>[cannot, budget, tonight, americans, it's]</td>\n",
       "    </tr>\n",
       "    <tr>\n",
       "      <th>188</th>\n",
       "      <td>Jimmy Carter</td>\n",
       "      <td>January 21, 1980</td>\n",
       "      <td>[help, america, energy, tonight, it's]</td>\n",
       "    </tr>\n",
       "    <tr>\n",
       "      <th>189</th>\n",
       "      <td>Jimmy Carter</td>\n",
       "      <td>January 16, 1981</td>\n",
       "      <td>[percent, economic, energy, program, programs]</td>\n",
       "    </tr>\n",
       "    <tr>\n",
       "      <th>190</th>\n",
       "      <td>Ronald Reagan</td>\n",
       "      <td>January 26, 1982</td>\n",
       "      <td>[jobs, help, program, billion, programs]</td>\n",
       "    </tr>\n",
       "    <tr>\n",
       "      <th>191</th>\n",
       "      <td>Ronald Reagan</td>\n",
       "      <td>January 25, 1983</td>\n",
       "      <td>[problems, programs, americans, economic, perc...</td>\n",
       "    </tr>\n",
       "    <tr>\n",
       "      <th>192</th>\n",
       "      <td>Ronald Reagan</td>\n",
       "      <td>January 25, 1984</td>\n",
       "      <td>[budget, help, americans, tonight, it's]</td>\n",
       "    </tr>\n",
       "    <tr>\n",
       "      <th>193</th>\n",
       "      <td>Ronald Reagan</td>\n",
       "      <td>February 6, 1985</td>\n",
       "      <td>[help, tax, jobs, tonight, it's]</td>\n",
       "    </tr>\n",
       "    <tr>\n",
       "      <th>194</th>\n",
       "      <td>Ronald Reagan</td>\n",
       "      <td>February 4, 1986</td>\n",
       "      <td>[america, cannot, it's, budget, tonight]</td>\n",
       "    </tr>\n",
       "    <tr>\n",
       "      <th>195</th>\n",
       "      <td>Ronald Reagan</td>\n",
       "      <td>January 27, 1987</td>\n",
       "      <td>[percent, let, budget, tonight, it's]</td>\n",
       "    </tr>\n",
       "    <tr>\n",
       "      <th>196</th>\n",
       "      <td>Ronald Reagan</td>\n",
       "      <td>January 25, 1988</td>\n",
       "      <td>[let, americans, it's, budget, tonight]</td>\n",
       "    </tr>\n",
       "    <tr>\n",
       "      <th>197</th>\n",
       "      <td>George H.W. Bush</td>\n",
       "      <td>February 9, 1989</td>\n",
       "      <td>[help, ask, it's, budget, tonight]</td>\n",
       "    </tr>\n",
       "    <tr>\n",
       "      <th>198</th>\n",
       "      <td>George H.W. Bush</td>\n",
       "      <td>January 31, 1990</td>\n",
       "      <td>[percent, budget, today, tonight, it's]</td>\n",
       "    </tr>\n",
       "    <tr>\n",
       "      <th>199</th>\n",
       "      <td>George H.W. Bush</td>\n",
       "      <td>January 29, 1991</td>\n",
       "      <td>[jobs, budget, americans, know, tonight]</td>\n",
       "    </tr>\n",
       "    <tr>\n",
       "      <th>200</th>\n",
       "      <td>George H.W. Bush</td>\n",
       "      <td>January 28, 1992</td>\n",
       "      <td>[know, get, tonight, help, it's]</td>\n",
       "    </tr>\n",
       "    <tr>\n",
       "      <th>201</th>\n",
       "      <td>William J. Clinton</td>\n",
       "      <td>February 17, 1993</td>\n",
       "      <td>[tax, budget, percent, tonight, jobs]</td>\n",
       "    </tr>\n",
       "    <tr>\n",
       "      <th>202</th>\n",
       "      <td>William J. Clinton</td>\n",
       "      <td>January 25, 1994</td>\n",
       "      <td>[americans, it's, health, get, jobs]</td>\n",
       "    </tr>\n",
       "    <tr>\n",
       "      <th>203</th>\n",
       "      <td>William J. Clinton</td>\n",
       "      <td>January 24, 1995</td>\n",
       "      <td>[jobs, americans, get, tonight, it's]</td>\n",
       "    </tr>\n",
       "    <tr>\n",
       "      <th>204</th>\n",
       "      <td>William J. Clinton</td>\n",
       "      <td>January 23, 1996</td>\n",
       "      <td>[tonight, families, working, americans, children]</td>\n",
       "    </tr>\n",
       "    <tr>\n",
       "      <th>205</th>\n",
       "      <td>William J. Clinton</td>\n",
       "      <td>February 4, 1997</td>\n",
       "      <td>[america, children, budget, americans, tonight]</td>\n",
       "    </tr>\n",
       "    <tr>\n",
       "      <th>206</th>\n",
       "      <td>William J. Clinton</td>\n",
       "      <td>January 27, 1998</td>\n",
       "      <td>[ask, americans, children, help, tonight]</td>\n",
       "    </tr>\n",
       "    <tr>\n",
       "      <th>207</th>\n",
       "      <td>William J. Clinton</td>\n",
       "      <td>January 19, 1999</td>\n",
       "      <td>[children, budget, help, americans, tonight]</td>\n",
       "    </tr>\n",
       "    <tr>\n",
       "      <th>208</th>\n",
       "      <td>William J. Clinton</td>\n",
       "      <td>January 27, 2000</td>\n",
       "      <td>[families, help, children, americans, tonight]</td>\n",
       "    </tr>\n",
       "    <tr>\n",
       "      <th>209</th>\n",
       "      <td>George W. Bush</td>\n",
       "      <td>February 27, 2001</td>\n",
       "      <td>[help, tax, percent, tonight, budget]</td>\n",
       "    </tr>\n",
       "    <tr>\n",
       "      <th>210</th>\n",
       "      <td>George W. Bush</td>\n",
       "      <td>September 20, 2001</td>\n",
       "      <td>[freedom, america, ask, americans, tonight]</td>\n",
       "    </tr>\n",
       "    <tr>\n",
       "      <th>211</th>\n",
       "      <td>George W. Bush</td>\n",
       "      <td>January 29, 2002</td>\n",
       "      <td>[americans, budget, tonight, america, jobs]</td>\n",
       "    </tr>\n",
       "    <tr>\n",
       "      <th>212</th>\n",
       "      <td>George W. Bush</td>\n",
       "      <td>January 28, 2003</td>\n",
       "      <td>[america, help, million, americans, tonight]</td>\n",
       "    </tr>\n",
       "    <tr>\n",
       "      <th>213</th>\n",
       "      <td>George W. Bush</td>\n",
       "      <td>January 20, 2004</td>\n",
       "      <td>[children, america, americans, help, tonight]</td>\n",
       "    </tr>\n",
       "    <tr>\n",
       "      <th>214</th>\n",
       "      <td>George W. Bush</td>\n",
       "      <td>February 2, 2005</td>\n",
       "      <td>[freedom, tonight, help, social, americans]</td>\n",
       "    </tr>\n",
       "    <tr>\n",
       "      <th>215</th>\n",
       "      <td>George W. Bush</td>\n",
       "      <td>January 31, 2006</td>\n",
       "      <td>[reform, jobs, americans, america, tonight]</td>\n",
       "    </tr>\n",
       "    <tr>\n",
       "      <th>216</th>\n",
       "      <td>George W. Bush</td>\n",
       "      <td>January 23, 2007</td>\n",
       "      <td>[children, health, americans, tonight, help]</td>\n",
       "    </tr>\n",
       "    <tr>\n",
       "      <th>217</th>\n",
       "      <td>George W. Bush</td>\n",
       "      <td>January 29, 2008</td>\n",
       "      <td>[america, americans, trust, tonight, help]</td>\n",
       "    </tr>\n",
       "    <tr>\n",
       "      <th>218</th>\n",
       "      <td>Barack Obama</td>\n",
       "      <td>February 24, 2009</td>\n",
       "      <td>[know, budget, jobs, tonight, it's]</td>\n",
       "    </tr>\n",
       "    <tr>\n",
       "      <th>219</th>\n",
       "      <td>Barack Obama</td>\n",
       "      <td>January 27, 2010</td>\n",
       "      <td>[get, tonight, americans, jobs, it's]</td>\n",
       "    </tr>\n",
       "    <tr>\n",
       "      <th>220</th>\n",
       "      <td>Barack Obama</td>\n",
       "      <td>January 25, 2011</td>\n",
       "      <td>[percent, get, tonight, jobs, it's]</td>\n",
       "    </tr>\n",
       "    <tr>\n",
       "      <th>221</th>\n",
       "      <td>Barack Obama</td>\n",
       "      <td>January 24, 2012</td>\n",
       "      <td>[americans, tonight, get, it's, jobs]</td>\n",
       "    </tr>\n",
       "    <tr>\n",
       "      <th>222</th>\n",
       "      <td>Barack Obama</td>\n",
       "      <td>February 12, 2013</td>\n",
       "      <td>[families, it's, get, tonight, jobs]</td>\n",
       "    </tr>\n",
       "    <tr>\n",
       "      <th>223</th>\n",
       "      <td>Barack Obama</td>\n",
       "      <td>January 28, 2014</td>\n",
       "      <td>[get, tonight, help, it's, jobs]</td>\n",
       "    </tr>\n",
       "    <tr>\n",
       "      <th>224</th>\n",
       "      <td>Barack Obama</td>\n",
       "      <td>January 20, 2015</td>\n",
       "      <td>[families, americans, tonight, jobs, it's]</td>\n",
       "    </tr>\n",
       "    <tr>\n",
       "      <th>225</th>\n",
       "      <td>Barack Obama</td>\n",
       "      <td>January 12, 2016</td>\n",
       "      <td>[tonight, jobs, americans, get, it's]</td>\n",
       "    </tr>\n",
       "    <tr>\n",
       "      <th>226</th>\n",
       "      <td>Donald J. Trump</td>\n",
       "      <td>February 27, 2017</td>\n",
       "      <td>[america, jobs, americans, it's, tonight]</td>\n",
       "    </tr>\n",
       "    <tr>\n",
       "      <th>227</th>\n",
       "      <td>Donald J. Trump</td>\n",
       "      <td>January 30, 2018</td>\n",
       "      <td>[tax, get, it's, americans, tonight]</td>\n",
       "    </tr>\n",
       "    <tr>\n",
       "      <th>228</th>\n",
       "      <td>Donald J. Trump</td>\n",
       "      <td>February 5, 2019</td>\n",
       "      <td>[get, jobs, americans, it's, tonight]</td>\n",
       "    </tr>\n",
       "    <tr>\n",
       "      <th>229</th>\n",
       "      <td>Donald J. Trump</td>\n",
       "      <td>February 4, 2020</td>\n",
       "      <td>[jobs, it's, americans, percent, tonight]</td>\n",
       "    </tr>\n",
       "    <tr>\n",
       "      <th>230</th>\n",
       "      <td>Joseph R. Biden Jr.</td>\n",
       "      <td>April 28, 2021</td>\n",
       "      <td>[get, americans, percent, jobs, it's]</td>\n",
       "    </tr>\n",
       "    <tr>\n",
       "      <th>231</th>\n",
       "      <td>Joseph R. Biden Jr.</td>\n",
       "      <td>March 1, 2022</td>\n",
       "      <td>[let, jobs, americans, get, tonight]</td>\n",
       "    </tr>\n",
       "    <tr>\n",
       "      <th>232</th>\n",
       "      <td>Joseph R. Biden Jr.</td>\n",
       "      <td>February 7, 2023</td>\n",
       "      <td>[down, percent, jobs, tonight, it's]</td>\n",
       "    </tr>\n",
       "  </tbody>\n",
       "</table>\n",
       "</div>"
      ],
      "text/plain": [
       "                 president                date  \\\n",
       "0        George Washington     January 8, 1790   \n",
       "1        George Washington    December 8, 1790   \n",
       "2        George Washington    October 25, 1791   \n",
       "3        George Washington    November 6, 1792   \n",
       "4        George Washington    December 3, 1793   \n",
       "5        George Washington   November 19, 1794   \n",
       "6        George Washington    December 8, 1795   \n",
       "7        George Washington    December 7, 1796   \n",
       "8               John Adams   November 22, 1797   \n",
       "9               John Adams    December 8, 1798   \n",
       "10              John Adams    December 3, 1799   \n",
       "11              John Adams   November 11, 1800   \n",
       "12        Thomas Jefferson    December 8, 1801   \n",
       "13        Thomas Jefferson   December 15, 1802   \n",
       "14        Thomas Jefferson    October 17, 1803   \n",
       "15        Thomas Jefferson    November 8, 1804   \n",
       "16        Thomas Jefferson    December 3, 1805   \n",
       "17        Thomas Jefferson    December 2, 1806   \n",
       "18        Thomas Jefferson    October 27, 1807   \n",
       "19        Thomas Jefferson    November 8, 1808   \n",
       "20           James Madison   November 29, 1809   \n",
       "21           James Madison    December 5, 1810   \n",
       "22           James Madison    November 5, 1811   \n",
       "23           James Madison    November 4, 1812   \n",
       "24           James Madison    December 7, 1813   \n",
       "25           James Madison  September 20, 1814   \n",
       "26           James Madison    December 5, 1815   \n",
       "27           James Madison    December 3, 1816   \n",
       "28            James Monroe   December 12, 1817   \n",
       "29            James Monroe   November 16, 1818   \n",
       "30            James Monroe    December 7, 1819   \n",
       "31            James Monroe   November 14, 1820   \n",
       "32            James Monroe    December 3, 1821   \n",
       "33            James Monroe    December 3, 1822   \n",
       "34            James Monroe    December 2, 1823   \n",
       "35            James Monroe    December 7, 1824   \n",
       "36       John Quincy Adams    December 6, 1825   \n",
       "37       John Quincy Adams    December 5, 1826   \n",
       "38       John Quincy Adams    December 4, 1827   \n",
       "39       John Quincy Adams    December 2, 1828   \n",
       "40          Andrew Jackson    December 8, 1829   \n",
       "41          Andrew Jackson    December 6, 1830   \n",
       "42          Andrew Jackson    December 6, 1831   \n",
       "43          Andrew Jackson    December 4, 1832   \n",
       "44          Andrew Jackson    December 3, 1833   \n",
       "45          Andrew Jackson    December 1, 1834   \n",
       "46          Andrew Jackson    December 7, 1835   \n",
       "47          Andrew Jackson    December 5, 1836   \n",
       "48        Martin van Buren    December 5, 1837   \n",
       "49        Martin van Buren    December 3, 1838   \n",
       "50        Martin van Buren    December 2, 1839   \n",
       "51        Martin van Buren    December 5, 1840   \n",
       "52              John Tyler    December 7, 1841   \n",
       "53              John Tyler    December 6, 1842   \n",
       "54              John Tyler    December 6, 1843   \n",
       "55              John Tyler    December 3, 1844   \n",
       "56              James Polk    December 2, 1845   \n",
       "57              James Polk    December 8, 1846   \n",
       "58              James Polk    December 7, 1847   \n",
       "59              James Polk    December 5, 1848   \n",
       "60          Zachary Taylor    December 4, 1849   \n",
       "61        Millard Fillmore    December 2, 1850   \n",
       "62        Millard Fillmore    December 2, 1851   \n",
       "63        Millard Fillmore    December 6, 1852   \n",
       "64         Franklin Pierce    December 5, 1853   \n",
       "65         Franklin Pierce    December 4, 1854   \n",
       "66         Franklin Pierce   December 31, 1855   \n",
       "67         Franklin Pierce    December 2, 1856   \n",
       "68          James Buchanan    December 8, 1857   \n",
       "69          James Buchanan    December 6, 1858   \n",
       "70          James Buchanan   December 19, 1859   \n",
       "71          James Buchanan    December 3, 1860   \n",
       "72         Abraham Lincoln    December 3, 1861   \n",
       "73         Abraham Lincoln    December 1, 1862   \n",
       "74         Abraham Lincoln    December 8, 1863   \n",
       "75         Abraham Lincoln    December 6, 1864   \n",
       "76          Andrew Johnson    December 4, 1865   \n",
       "77          Andrew Johnson    December 3, 1866   \n",
       "78          Andrew Johnson    December 3, 1867   \n",
       "79          Andrew Johnson    December 9, 1868   \n",
       "80        Ulysses S. Grant    December 6, 1869   \n",
       "81        Ulysses S. Grant    December 5, 1870   \n",
       "82        Ulysses S. Grant    December 4, 1871   \n",
       "83        Ulysses S. Grant    December 2, 1872   \n",
       "84        Ulysses S. Grant    December 1, 1873   \n",
       "85        Ulysses S. Grant    December 7, 1874   \n",
       "86        Ulysses S. Grant    December 7, 1875   \n",
       "87        Ulysses S. Grant    December 5, 1876   \n",
       "88     Rutherford B. Hayes    December 3, 1877   \n",
       "89     Rutherford B. Hayes    December 2, 1878   \n",
       "90     Rutherford B. Hayes    December 1, 1879   \n",
       "91     Rutherford B. Hayes    December 6, 1880   \n",
       "92       Chester A. Arthur    December 6, 1881   \n",
       "93       Chester A. Arthur    December 4, 1882   \n",
       "94       Chester A. Arthur    December 4, 1883   \n",
       "95       Chester A. Arthur    December 1, 1884   \n",
       "96        Grover Cleveland    December 8, 1885   \n",
       "97        Grover Cleveland    December 6, 1886   \n",
       "98        Grover Cleveland    December 6, 1887   \n",
       "99        Grover Cleveland    December 3, 1888   \n",
       "100      Benjamin Harrison    December 3, 1889   \n",
       "101      Benjamin Harrison    December 1, 1890   \n",
       "102      Benjamin Harrison    December 9, 1891   \n",
       "103      Benjamin Harrison    December 6, 1892   \n",
       "104       William McKinley    December 6, 1897   \n",
       "105       William McKinley    December 5, 1898   \n",
       "106       William McKinley    December 5, 1899   \n",
       "107       William McKinley    December 3, 1900   \n",
       "108     Theodore Roosevelt    December 3, 1901   \n",
       "109     Theodore Roosevelt    December 2, 1902   \n",
       "110     Theodore Roosevelt    December 7, 1903   \n",
       "111     Theodore Roosevelt    December 6, 1904   \n",
       "112     Theodore Roosevelt    December 5, 1905   \n",
       "113     Theodore Roosevelt    December 3, 1906   \n",
       "114     Theodore Roosevelt    December 3, 1907   \n",
       "115     Theodore Roosevelt    December 8, 1908   \n",
       "116        William H. Taft    December 7, 1909   \n",
       "117        William H. Taft    December 6, 1910   \n",
       "118        William H. Taft    December 5, 1911   \n",
       "119        William H. Taft    December 3, 1912   \n",
       "120         Woodrow Wilson    December 2, 1913   \n",
       "121         Woodrow Wilson    December 8, 1914   \n",
       "122         Woodrow Wilson    December 7, 1915   \n",
       "123         Woodrow Wilson    December 5, 1916   \n",
       "124         Woodrow Wilson    December 4, 1917   \n",
       "125         Woodrow Wilson    December 2, 1918   \n",
       "126         Woodrow Wilson    December 2, 1919   \n",
       "127         Woodrow Wilson    December 7, 1920   \n",
       "128         Warren Harding    December 6, 1921   \n",
       "129         Warren Harding    December 8, 1922   \n",
       "130        Calvin Coolidge    December 6, 1923   \n",
       "131        Calvin Coolidge    December 3, 1924   \n",
       "132        Calvin Coolidge    December 8, 1925   \n",
       "133        Calvin Coolidge    December 7, 1926   \n",
       "134        Calvin Coolidge    December 6, 1927   \n",
       "135        Calvin Coolidge    December 4, 1928   \n",
       "136         Herbert Hoover    December 3, 1929   \n",
       "137         Herbert Hoover    December 2, 1930   \n",
       "138         Herbert Hoover    December 8, 1931   \n",
       "139         Herbert Hoover    December 6, 1932   \n",
       "140  Franklin D. Roosevelt     January 3, 1934   \n",
       "141  Franklin D. Roosevelt     January 4, 1935   \n",
       "142  Franklin D. Roosevelt     January 3, 1936   \n",
       "143  Franklin D. Roosevelt     January 6, 1937   \n",
       "144  Franklin D. Roosevelt     January 3, 1938   \n",
       "145  Franklin D. Roosevelt     January 4, 1939   \n",
       "146  Franklin D. Roosevelt     January 3, 1940   \n",
       "147  Franklin D. Roosevelt     January 6, 1941   \n",
       "148  Franklin D. Roosevelt     January 6, 1942   \n",
       "149  Franklin D. Roosevelt     January 7, 1943   \n",
       "150  Franklin D. Roosevelt    January 11, 1944   \n",
       "151  Franklin D. Roosevelt     January 6, 1945   \n",
       "152        Harry S. Truman    January 21, 1946   \n",
       "153        Harry S. Truman     January 6, 1947   \n",
       "154        Harry S. Truman     January 7, 1948   \n",
       "155        Harry S. Truman     January 5, 1949   \n",
       "156        Harry S. Truman     January 4, 1950   \n",
       "157        Harry S. Truman     January 8, 1951   \n",
       "158        Harry S. Truman     January 9, 1952   \n",
       "159        Harry S. Truman     January 7, 1953   \n",
       "160   Dwight D. Eisenhower    February 2, 1953   \n",
       "161   Dwight D. Eisenhower     January 7, 1954   \n",
       "162   Dwight D. Eisenhower     January 6, 1955   \n",
       "163   Dwight D. Eisenhower     January 5, 1956   \n",
       "164   Dwight D. Eisenhower    January 10, 1957   \n",
       "165   Dwight D. Eisenhower     January 9, 1958   \n",
       "166   Dwight D. Eisenhower     January 9, 1959   \n",
       "167   Dwight D. Eisenhower     January 7, 1960   \n",
       "168   Dwight D. Eisenhower    January 12, 1961   \n",
       "169        John F. Kennedy    January 30, 1961   \n",
       "170        John F. Kennedy    January 11, 1962   \n",
       "171        John F. Kennedy    January 14, 1963   \n",
       "172      Lyndon B. Johnson     January 8, 1964   \n",
       "173      Lyndon B. Johnson     January 4, 1965   \n",
       "174      Lyndon B. Johnson    January 12, 1966   \n",
       "175      Lyndon B. Johnson    January 10, 1967   \n",
       "176      Lyndon B. Johnson    January 17, 1968   \n",
       "177      Lyndon B. Johnson    January 14, 1969   \n",
       "178          Richard Nixon    January 22, 1970   \n",
       "179          Richard Nixon    January 22, 1971   \n",
       "180          Richard Nixon    January 20, 1972   \n",
       "181          Richard Nixon    February 2, 1973   \n",
       "182          Richard Nixon    January 30, 1974   \n",
       "183         Gerald R. Ford    January 15, 1975   \n",
       "184         Gerald R. Ford    January 19, 1976   \n",
       "185         Gerald R. Ford    January 12, 1977   \n",
       "186           Jimmy Carter    January 19, 1978   \n",
       "187           Jimmy Carter    January 25, 1979   \n",
       "188           Jimmy Carter    January 21, 1980   \n",
       "189           Jimmy Carter    January 16, 1981   \n",
       "190          Ronald Reagan    January 26, 1982   \n",
       "191          Ronald Reagan    January 25, 1983   \n",
       "192          Ronald Reagan    January 25, 1984   \n",
       "193          Ronald Reagan    February 6, 1985   \n",
       "194          Ronald Reagan    February 4, 1986   \n",
       "195          Ronald Reagan    January 27, 1987   \n",
       "196          Ronald Reagan    January 25, 1988   \n",
       "197       George H.W. Bush    February 9, 1989   \n",
       "198       George H.W. Bush    January 31, 1990   \n",
       "199       George H.W. Bush    January 29, 1991   \n",
       "200       George H.W. Bush    January 28, 1992   \n",
       "201     William J. Clinton   February 17, 1993   \n",
       "202     William J. Clinton    January 25, 1994   \n",
       "203     William J. Clinton    January 24, 1995   \n",
       "204     William J. Clinton    January 23, 1996   \n",
       "205     William J. Clinton    February 4, 1997   \n",
       "206     William J. Clinton    January 27, 1998   \n",
       "207     William J. Clinton    January 19, 1999   \n",
       "208     William J. Clinton    January 27, 2000   \n",
       "209         George W. Bush   February 27, 2001   \n",
       "210         George W. Bush  September 20, 2001   \n",
       "211         George W. Bush    January 29, 2002   \n",
       "212         George W. Bush    January 28, 2003   \n",
       "213         George W. Bush    January 20, 2004   \n",
       "214         George W. Bush    February 2, 2005   \n",
       "215         George W. Bush    January 31, 2006   \n",
       "216         George W. Bush    January 23, 2007   \n",
       "217         George W. Bush    January 29, 2008   \n",
       "218           Barack Obama   February 24, 2009   \n",
       "219           Barack Obama    January 27, 2010   \n",
       "220           Barack Obama    January 25, 2011   \n",
       "221           Barack Obama    January 24, 2012   \n",
       "222           Barack Obama   February 12, 2013   \n",
       "223           Barack Obama    January 28, 2014   \n",
       "224           Barack Obama    January 20, 2015   \n",
       "225           Barack Obama    January 12, 2016   \n",
       "226      Donald J. Trump     February 27, 2017   \n",
       "227      Donald J. Trump      January 30, 2018   \n",
       "228      Donald J. Trump      February 5, 2019   \n",
       "229      Donald J. Trump      February 4, 2020   \n",
       "230  Joseph R. Biden Jr.        April 28, 2021   \n",
       "231  Joseph R. Biden Jr.         March 1, 2022   \n",
       "232  Joseph R. Biden Jr.      February 7, 2023   \n",
       "\n",
       "                                                     0  \n",
       "0                [your, proper, regard, ought, object]  \n",
       "1    [case, established, object, commerce, convention]  \n",
       "2          [community, upon, lands, proper, provision]  \n",
       "3      [subject, upon, information, proper, provision]  \n",
       "4           [having, vessels, executive, shall, ought]  \n",
       "5                [too, army, let, ought, constitution]  \n",
       "6           [army, prevent, object, provision, treaty]  \n",
       "7           [republic, treaty, britain, ought, object]  \n",
       "8            [spain, british, claims, treaty, vessels]  \n",
       "9              [st, minister, treaty, spain, commerce]  \n",
       "10          [civil, period, british, minister, treaty]  \n",
       "11     [experience, protection, navy, commerce, ought]  \n",
       "12    [consideration, shall, object, vessels, subject]  \n",
       "13               [shall, debt, naval, duties, vessels]  \n",
       "14            [debt, vessels, sum, millions, friendly]  \n",
       "15       [received, convention, having, due, friendly]  \n",
       "16      [families, convention, sum, millions, vessels]  \n",
       "17        [due, consideration, millions, shall, spain]  \n",
       "18            [whether, army, british, vessels, shall]  \n",
       "19            [thus, british, millions, commerce, her]  \n",
       "20             [cases, having, due, british, minister]  \n",
       "21     [provisions, view, minister, commerce, british]  \n",
       "22   [britain, provisions, commerce, minister, brit...  \n",
       "23        [nor, subject, provisions, britain, british]  \n",
       "24           [number, having, naval, britain, british]  \n",
       "25             [naval, vessels, britain, his, british]  \n",
       "26      [debt, treasury, millions, establishment, sum]  \n",
       "27      [constitution, annual, sum, treasury, british]  \n",
       "28   [improvement, territory, indian, millions, lands]  \n",
       "29           [minister, object, territory, her, spain]  \n",
       "30        [parties, friendly, minister, treaty, spain]  \n",
       "31          [amount, minister, extent, vessels, spain]  \n",
       "32           [powers, duties, revenue, spain, vessels]  \n",
       "33        [object, proper, vessels, spain, convention]  \n",
       "34           [th, department, object, minister, spain]  \n",
       "35   [spain, governments, convention, parties, object]  \n",
       "36   [officers, commerce, condition, upon, improvem...  \n",
       "37        [commercial, upon, vessels, british, duties]  \n",
       "38                [lands, british, receipts, upon, th]  \n",
       "39        [duties, revenue, upon, commercial, britain]  \n",
       "40             [attention, subject, her, upon, duties]  \n",
       "41        [general, subject, character, vessels, upon]  \n",
       "42        [indian, commerce, claims, treaty, minister]  \n",
       "43         [general, subject, duties, lands, commerce]  \n",
       "44     [treasury, convention, minister, spain, duties]  \n",
       "45              [bill, treaty, minister, claims, upon]  \n",
       "46           [treaty, upon, claims, subject, minister]  \n",
       "47            [upon, treasury, duties, revenue, banks]  \n",
       "48                [price, subject, upon, banks, lands]  \n",
       "49               [subject, upon, indian, banks, court]  \n",
       "50     [duties, treasury, extent, institutions, banks]  \n",
       "51            [general, revenue, upon, extent, having]  \n",
       "52          [banks, britain, amount, duties, treasury]  \n",
       "53          [claims, minister, thus, amount, treasury]  \n",
       "54          [treasury, british, her, minister, mexico]  \n",
       "55               [minister, upon, treaty, her, mexico]  \n",
       "56    [british, convention, territory, duties, mexico]  \n",
       "57            [army, territory, minister, her, mexico]  \n",
       "58                 [amount, treaty, her, army, mexico]  \n",
       "59          [tariff, upon, bill, constitution, mexico]  \n",
       "60    [territory, treaty, recommend, minister, mexico]  \n",
       "61           [recommend, claims, upon, mexico, duties]  \n",
       "62       [department, annual, fiscal, subject, mexico]  \n",
       "63                [duties, navy, mexico, subject, her]  \n",
       "64   [commercial, regard, upon, construction, subject]  \n",
       "65      [character, duties, naval, minister, property]  \n",
       "66   [constitution, british, territory, convention,...  \n",
       "67   [institutions, property, condition, thus, terr...  \n",
       "68   [treaty, constitution, territory, convention, ...  \n",
       "69   [june, mexico, minister, constitution, territory]  \n",
       "70                [minister, th, fiscal, mexico, june]  \n",
       "71   [minister, duties, claims, convention, constit...  \n",
       "72               [army, claims, labor, capital, court]  \n",
       "73                 [upon, population, shall, per, sum]  \n",
       "74              [upon, receipts, subject, navy, naval]  \n",
       "75       [condition, secretary, naval, treasury, navy]  \n",
       "76     [form, commerce, powers, general, constitution]  \n",
       "77       [thus, june, constitution, mexico, condition]  \n",
       "78       [june, value, department, upon, constitution]  \n",
       "79         [millions, amount, expenditures, june, per]  \n",
       "80               [subject, upon, receipts, per, spain]  \n",
       "81          [her, convention, vessels, spain, british]  \n",
       "82         [object, powers, treaty, desire, recommend]  \n",
       "83             [territory, line, her, britain, treaty]  \n",
       "84     [consideration, banks, subject, amount, claims]  \n",
       "85       [duties, upon, attention, claims, convention]  \n",
       "86          [parties, territory, court, spain, claims]  \n",
       "87           [subject, court, per, commission, claims]  \n",
       "88              [upon, sum, fiscal, commercial, value]  \n",
       "89              [per, secretary, fiscal, june, indian]  \n",
       "90      [subject, territory, june, commission, indian]  \n",
       "91   [subject, office, relations, attention, commer...  \n",
       "92   [spain, international, british, relations, fri...  \n",
       "93   [territory, establishment, mexico, internation...  \n",
       "94     [total, convention, mexico, commission, treaty]  \n",
       "95   [treaty, territory, commercial, secretary, ves...  \n",
       "96          [duties, vessels, treaty, condition, upon]  \n",
       "97       [mexico, claims, subject, convention, fiscal]  \n",
       "98               [condition, sum, thus, price, tariff]  \n",
       "99                [secretary, treaty, upon, per, june]  \n",
       "100         [general, commission, indian, upon, lands]  \n",
       "101             [receipts, subject, upon, per, tariff]  \n",
       "102                 [court, tariff, indian, upon, per]  \n",
       "103              [tariff, secretary, upon, value, per]  \n",
       "104  [conditions, upon, international, territory, s...  \n",
       "105             [navy, commission, naval, june, spain]  \n",
       "106  [treaty, officers, commission, international, ...  \n",
       "107  [settlement, civil, shall, convention, commiss...  \n",
       "108          [army, commercial, conditions, navy, man]  \n",
       "109              [upon, man, navy, conditions, tariff]  \n",
       "110         [june, lands, territory, property, treaty]  \n",
       "111            [cases, conditions, indian, labor, man]  \n",
       "112        [upon, conditions, commission, cannot, man]  \n",
       "113                      [upon, navy, tax, court, man]  \n",
       "114                [conditions, navy, upon, army, man]  \n",
       "115             [man, officers, labor, control, banks]  \n",
       "116     [convention, banks, court, department, tariff]  \n",
       "117  [department, court, commercial, international,...  \n",
       "118           [mexico, department, per, tariff, court]  \n",
       "119              [tariff, upon, army, per, department]  \n",
       "120                  [how, shall, upon, mexico, ought]  \n",
       "121           [shall, convention, ought, matter, upon]  \n",
       "122            [her, navy, millions, economic, cannot]  \n",
       "123          [commerce, shall, upon, commission, bill]  \n",
       "124            [purpose, her, know, settlement, shall]  \n",
       "125                       [shall, go, men, upon, back]  \n",
       "126         [economic, her, budget, labor, conditions]  \n",
       "127   [expenditures, receipts, treasury, budget, upon]  \n",
       "128     [capital, ought, problems, conditions, tariff]  \n",
       "129   [responsibility, republic, problems, ought, per]  \n",
       "130  [conditions, production, commission, ought, co...  \n",
       "131     [navy, international, desire, economic, court]  \n",
       "132    [international, budget, economic, ought, court]  \n",
       "133           [tax, federal, reduction, tariff, ought]  \n",
       "134      [construction, banks, per, program, property]  \n",
       "135    [federal, department, production, program, per]  \n",
       "136   [commission, federal, construction, tariff, per]  \n",
       "137       [about, budget, economic, per, construction]  \n",
       "138     [upon, construction, federal, economic, banks]  \n",
       "139             [health, june, value, economic, banks]  \n",
       "140        [labor, permanent, problems, cannot, banks]  \n",
       "141            [private, work, local, program, cannot]  \n",
       "142                   [income, shall, let, say, today]  \n",
       "143        [powers, convention, needs, help, problems]  \n",
       "144        [budget, business, economic, today, income]  \n",
       "145          [labor, cannot, capital, income, billion]  \n",
       "146         [world, domestic, cannot, economic, today]  \n",
       "147        [freedom, problems, cannot, program, today]  \n",
       "148             [him, today, know, forces, production]  \n",
       "149      [pacific, get, cannot, americans, production]  \n",
       "150        [individual, total, know, economic, cannot]  \n",
       "151           [cannot, production, army, forces, jobs]  \n",
       "152       [fiscal, program, billion, million, dollars]  \n",
       "153     [commission, budget, economic, labor, program]  \n",
       "154           [tax, billion, today, program, economic]  \n",
       "155     [economic, price, program, cannot, production]  \n",
       "156       [income, today, program, programs, economic]  \n",
       "157    [help, program, production, strength, economic]  \n",
       "158      [defense, working, program, help, production]  \n",
       "159          [republic, free, cannot, world, economic]  \n",
       "160       [federal, labor, budget, economic, programs]  \n",
       "161     [federal, programs, economic, budget, program]  \n",
       "162   [problems, federal, economic, programs, program]  \n",
       "163    [billion, federal, problems, economic, program]  \n",
       "164       [cannot, programs, human, program, economic]  \n",
       "165     [program, strength, today, programs, economic]  \n",
       "166        [growth, help, billion, programs, economic]  \n",
       "167           [freedom, cannot, today, economic, help]  \n",
       "168     [million, percent, billion, program, programs]  \n",
       "169    [budget, programs, problems, economic, program]  \n",
       "170             [billion, help, program, jobs, cannot]  \n",
       "171              [help, cannot, tax, percent, billion]  \n",
       "172        [help, billion, americans, budget, million]  \n",
       "173          [americans, man, programs, tonight, help]  \n",
       "174         [program, percent, help, billion, tonight]  \n",
       "175   [programs, americans, billion, tonight, percent]  \n",
       "176      [programs, million, budget, tonight, billion]  \n",
       "177     [americans, program, billion, budget, tonight]  \n",
       "178       [billion, percent, america, today, programs]  \n",
       "179         [federal, americans, budget, tonight, let]  \n",
       "180          [america, program, programs, today, help]  \n",
       "181     [economic, help, americans, working, programs]  \n",
       "182       [program, americans, today, energy, tonight]  \n",
       "183      [program, percent, billion, programs, energy]  \n",
       "184       [federal, americans, budget, jobs, programs]  \n",
       "185           [programs, today, percent, jobs, energy]  \n",
       "186            [cannot, economic, tonight, jobs, it's]  \n",
       "187         [cannot, budget, tonight, americans, it's]  \n",
       "188             [help, america, energy, tonight, it's]  \n",
       "189     [percent, economic, energy, program, programs]  \n",
       "190           [jobs, help, program, billion, programs]  \n",
       "191  [problems, programs, americans, economic, perc...  \n",
       "192           [budget, help, americans, tonight, it's]  \n",
       "193                   [help, tax, jobs, tonight, it's]  \n",
       "194           [america, cannot, it's, budget, tonight]  \n",
       "195              [percent, let, budget, tonight, it's]  \n",
       "196            [let, americans, it's, budget, tonight]  \n",
       "197                 [help, ask, it's, budget, tonight]  \n",
       "198            [percent, budget, today, tonight, it's]  \n",
       "199           [jobs, budget, americans, know, tonight]  \n",
       "200                   [know, get, tonight, help, it's]  \n",
       "201              [tax, budget, percent, tonight, jobs]  \n",
       "202               [americans, it's, health, get, jobs]  \n",
       "203              [jobs, americans, get, tonight, it's]  \n",
       "204  [tonight, families, working, americans, children]  \n",
       "205    [america, children, budget, americans, tonight]  \n",
       "206          [ask, americans, children, help, tonight]  \n",
       "207       [children, budget, help, americans, tonight]  \n",
       "208     [families, help, children, americans, tonight]  \n",
       "209              [help, tax, percent, tonight, budget]  \n",
       "210        [freedom, america, ask, americans, tonight]  \n",
       "211        [americans, budget, tonight, america, jobs]  \n",
       "212       [america, help, million, americans, tonight]  \n",
       "213      [children, america, americans, help, tonight]  \n",
       "214        [freedom, tonight, help, social, americans]  \n",
       "215        [reform, jobs, americans, america, tonight]  \n",
       "216       [children, health, americans, tonight, help]  \n",
       "217         [america, americans, trust, tonight, help]  \n",
       "218                [know, budget, jobs, tonight, it's]  \n",
       "219              [get, tonight, americans, jobs, it's]  \n",
       "220                [percent, get, tonight, jobs, it's]  \n",
       "221              [americans, tonight, get, it's, jobs]  \n",
       "222               [families, it's, get, tonight, jobs]  \n",
       "223                   [get, tonight, help, it's, jobs]  \n",
       "224         [families, americans, tonight, jobs, it's]  \n",
       "225              [tonight, jobs, americans, get, it's]  \n",
       "226          [america, jobs, americans, it's, tonight]  \n",
       "227               [tax, get, it's, americans, tonight]  \n",
       "228              [get, jobs, americans, it's, tonight]  \n",
       "229          [jobs, it's, americans, percent, tonight]  \n",
       "230              [get, americans, percent, jobs, it's]  \n",
       "231               [let, jobs, americans, get, tonight]  \n",
       "232               [down, percent, jobs, tonight, it's]  "
      ]
     },
     "metadata": {},
     "output_type": "display_data"
    }
   ],
   "source": [
    "display_df(keywords_df, rows=233)"
   ]
  },
  {
   "cell_type": "markdown",
   "id": "847a013b",
   "metadata": {
    "slideshow": {
     "slide_type": "slide"
    }
   },
   "source": [
    "### Aside: What if we remove the $\\log$ from $\\text{idf}(t)$?\n",
    "\n",
    "Let's try it and see what happens."
   ]
  },
  {
   "cell_type": "code",
   "execution_count": 59,
   "id": "c7cfb892",
   "metadata": {},
   "outputs": [
    {
     "data": {
      "application/json": {
       "ascii": false,
       "bar_format": null,
       "colour": null,
       "elapsed": 0.003373861312866211,
       "initial": 0,
       "n": 0,
       "ncols": null,
       "nrows": 20,
       "postfix": null,
       "prefix": "",
       "rate": null,
       "total": 500,
       "unit": "it",
       "unit_divisor": 1000,
       "unit_scale": false
      },
      "application/vnd.jupyter.widget-view+json": {
       "model_id": "beacc294a0c14b89b2dced5043ce1747",
       "version_major": 2,
       "version_minor": 0
      },
      "text/plain": [
       "  0%|          | 0/500 [00:00<?, ?it/s]"
      ]
     },
     "metadata": {},
     "output_type": "display_data"
    }
   ],
   "source": [
    "tfidf_nl_dict = {}\n",
    "tf_denom = speeches_df['contents'].str.split().str.len()\n",
    "\n",
    "for word in tqdm(unique_words):\n",
    "    re_pat = fr' {word} ' # Imperfect pattern for speed.\n",
    "    tf = speeches_df['contents'].str.count(re_pat) / tf_denom\n",
    "    idf_nl = len(speeches_df) / speeches_df['contents'].str.contains(re_pat).sum()\n",
    "    tfidf_nl_dict[word] =  tf * idf_nl"
   ]
  },
  {
   "cell_type": "code",
   "execution_count": 60,
   "id": "dbdd2a40",
   "metadata": {},
   "outputs": [
    {
     "data": {
      "text/html": [
       "<div>\n",
       "<style scoped>\n",
       "    .dataframe tbody tr th:only-of-type {\n",
       "        vertical-align: middle;\n",
       "    }\n",
       "\n",
       "    .dataframe tbody tr th {\n",
       "        vertical-align: top;\n",
       "    }\n",
       "\n",
       "    .dataframe thead th {\n",
       "        text-align: right;\n",
       "    }\n",
       "</style>\n",
       "<table border=\"1\" class=\"dataframe\">\n",
       "  <thead>\n",
       "    <tr style=\"text-align: right;\">\n",
       "      <th></th>\n",
       "      <th>the</th>\n",
       "      <th>of</th>\n",
       "      <th>to</th>\n",
       "      <th>and</th>\n",
       "      <th>...</th>\n",
       "      <th>trust</th>\n",
       "      <th>throughout</th>\n",
       "      <th>set</th>\n",
       "      <th>object</th>\n",
       "    </tr>\n",
       "  </thead>\n",
       "  <tbody>\n",
       "    <tr>\n",
       "      <th>0</th>\n",
       "      <td>0.09</td>\n",
       "      <td>0.06</td>\n",
       "      <td>0.05</td>\n",
       "      <td>0.04</td>\n",
       "      <td>...</td>\n",
       "      <td>1.47e-03</td>\n",
       "      <td>0.00e+00</td>\n",
       "      <td>0.00e+00</td>\n",
       "      <td>5.78e-03</td>\n",
       "    </tr>\n",
       "    <tr>\n",
       "      <th>1</th>\n",
       "      <td>0.09</td>\n",
       "      <td>0.06</td>\n",
       "      <td>0.03</td>\n",
       "      <td>0.03</td>\n",
       "      <td>...</td>\n",
       "      <td>0.00e+00</td>\n",
       "      <td>0.00e+00</td>\n",
       "      <td>0.00e+00</td>\n",
       "      <td>2.99e-03</td>\n",
       "    </tr>\n",
       "    <tr>\n",
       "      <th>2</th>\n",
       "      <td>0.11</td>\n",
       "      <td>0.07</td>\n",
       "      <td>0.04</td>\n",
       "      <td>0.03</td>\n",
       "      <td>...</td>\n",
       "      <td>1.39e-03</td>\n",
       "      <td>0.00e+00</td>\n",
       "      <td>1.30e-03</td>\n",
       "      <td>1.82e-03</td>\n",
       "    </tr>\n",
       "    <tr>\n",
       "      <th>3</th>\n",
       "      <td>0.09</td>\n",
       "      <td>0.07</td>\n",
       "      <td>0.04</td>\n",
       "      <td>0.03</td>\n",
       "      <td>...</td>\n",
       "      <td>2.29e-03</td>\n",
       "      <td>7.53e-04</td>\n",
       "      <td>0.00e+00</td>\n",
       "      <td>2.01e-03</td>\n",
       "    </tr>\n",
       "    <tr>\n",
       "      <th>4</th>\n",
       "      <td>0.09</td>\n",
       "      <td>0.07</td>\n",
       "      <td>0.04</td>\n",
       "      <td>0.02</td>\n",
       "      <td>...</td>\n",
       "      <td>8.12e-04</td>\n",
       "      <td>1.60e-03</td>\n",
       "      <td>0.00e+00</td>\n",
       "      <td>1.07e-03</td>\n",
       "    </tr>\n",
       "  </tbody>\n",
       "</table>\n",
       "<p>5 rows × 500 columns</p>\n",
       "</div>"
      ],
      "text/plain": [
       "    the    of    to   and  ...     trust  throughout       set    object\n",
       "0  0.09  0.06  0.05  0.04  ...  1.47e-03    0.00e+00  0.00e+00  5.78e-03\n",
       "1  0.09  0.06  0.03  0.03  ...  0.00e+00    0.00e+00  0.00e+00  2.99e-03\n",
       "2  0.11  0.07  0.04  0.03  ...  1.39e-03    0.00e+00  1.30e-03  1.82e-03\n",
       "3  0.09  0.07  0.04  0.03  ...  2.29e-03    7.53e-04  0.00e+00  2.01e-03\n",
       "4  0.09  0.07  0.04  0.02  ...  8.12e-04    1.60e-03  0.00e+00  1.07e-03\n",
       "\n",
       "[5 rows x 500 columns]"
      ]
     },
     "execution_count": 60,
     "metadata": {},
     "output_type": "execute_result"
    }
   ],
   "source": [
    "tfidf_nl = pd.DataFrame(tfidf_nl_dict)\n",
    "tfidf_nl.head()"
   ]
  },
  {
   "cell_type": "code",
   "execution_count": 61,
   "id": "b54838d1",
   "metadata": {},
   "outputs": [
    {
     "data": {
      "text/html": [
       "<div>\n",
       "<style scoped>\n",
       "    .dataframe tbody tr th:only-of-type {\n",
       "        vertical-align: middle;\n",
       "    }\n",
       "\n",
       "    .dataframe tbody tr th {\n",
       "        vertical-align: top;\n",
       "    }\n",
       "\n",
       "    .dataframe thead th {\n",
       "        text-align: right;\n",
       "    }\n",
       "</style>\n",
       "<table border=\"1\" class=\"dataframe\">\n",
       "  <thead>\n",
       "    <tr style=\"text-align: right;\">\n",
       "      <th></th>\n",
       "      <th>president</th>\n",
       "      <th>date</th>\n",
       "      <th>0</th>\n",
       "    </tr>\n",
       "  </thead>\n",
       "  <tbody>\n",
       "    <tr>\n",
       "      <th>0</th>\n",
       "      <td>George Washington</td>\n",
       "      <td>January 8, 1790</td>\n",
       "      <td>[a, and, to, of, the]</td>\n",
       "    </tr>\n",
       "    <tr>\n",
       "      <th>1</th>\n",
       "      <td>George Washington</td>\n",
       "      <td>December 8, 1790</td>\n",
       "      <td>[in, and, to, of, the]</td>\n",
       "    </tr>\n",
       "    <tr>\n",
       "      <th>2</th>\n",
       "      <td>George Washington</td>\n",
       "      <td>October 25, 1791</td>\n",
       "      <td>[a, and, to, of, the]</td>\n",
       "    </tr>\n",
       "    <tr>\n",
       "      <th>...</th>\n",
       "      <td>...</td>\n",
       "      <td>...</td>\n",
       "      <td>...</td>\n",
       "    </tr>\n",
       "    <tr>\n",
       "      <th>230</th>\n",
       "      <td>Joseph R. Biden Jr.</td>\n",
       "      <td>April 28, 2021</td>\n",
       "      <td>[of, it's, and, to, the]</td>\n",
       "    </tr>\n",
       "    <tr>\n",
       "      <th>231</th>\n",
       "      <td>Joseph R. Biden Jr.</td>\n",
       "      <td>March 1, 2022</td>\n",
       "      <td>[we, of, to, and, the]</td>\n",
       "    </tr>\n",
       "    <tr>\n",
       "      <th>232</th>\n",
       "      <td>Joseph R. Biden Jr.</td>\n",
       "      <td>February 7, 2023</td>\n",
       "      <td>[a, of, and, to, the]</td>\n",
       "    </tr>\n",
       "  </tbody>\n",
       "</table>\n",
       "<p>233 rows × 3 columns</p>\n",
       "</div>"
      ],
      "text/plain": [
       "                 president              date                         0\n",
       "0        George Washington   January 8, 1790     [a, and, to, of, the]\n",
       "1        George Washington  December 8, 1790    [in, and, to, of, the]\n",
       "2        George Washington  October 25, 1791     [a, and, to, of, the]\n",
       "..                     ...               ...                       ...\n",
       "230  Joseph R. Biden Jr.      April 28, 2021  [of, it's, and, to, the]\n",
       "231  Joseph R. Biden Jr.       March 1, 2022    [we, of, to, and, the]\n",
       "232  Joseph R. Biden Jr.    February 7, 2023     [a, of, and, to, the]\n",
       "\n",
       "[233 rows x 3 columns]"
      ]
     },
     "execution_count": 61,
     "metadata": {},
     "output_type": "execute_result"
    }
   ],
   "source": [
    "keywords_nl = tfidf_nl.apply(five_largest, axis=1)\n",
    "keywords_nl_df = pd.concat([\n",
    "    speeches_df['president'],\n",
    "    speeches_df['date'],\n",
    "    keywords_nl\n",
    "], axis=1)\n",
    "keywords_nl_df"
   ]
  },
  {
   "cell_type": "markdown",
   "id": "a64da969",
   "metadata": {
    "slideshow": {
     "slide_type": "slide"
    }
   },
   "source": [
    "### The role of $\\log$ in $\\text{idf}(t)$\n",
    "\n",
    "$$\n",
    "\\begin{align*}\\text{tfidf}(t, d) &= \\text{tf}(t, d) \\cdot \\text{idf}(t) \\\\\\ &= \\frac{\\text{# of occurrences of $t$ in $d$}}{\\text{total # of words in $d$}} \\cdot \\log \\left(\\frac{\\text{total # of documents}}{\\text{# of documents in which $t$ appears}} \\right) \\end{align*} $$\n",
    "- Remember, for any positive input $x$, $\\log(x)$ is (much) smaller than $x$.\n",
    "- In $\\text{idf}(t)$, the $\\log$ \"dampens\" the impact of the ratio $\\frac{\\text{# documents}}{\\text{# documents with $t$}}$."
   ]
  },
  {
   "cell_type": "markdown",
   "id": "5d012ae6",
   "metadata": {
    "slideshow": {
     "slide_type": "fragment"
    }
   },
   "source": [
    "- If a word is very common, the ratio will be close to 1. The log of the ratio will be close to 0."
   ]
  },
  {
   "cell_type": "code",
   "execution_count": 62,
   "id": "a46db591",
   "metadata": {},
   "outputs": [
    {
     "data": {
      "text/plain": [
       "1.001001001001001"
      ]
     },
     "execution_count": 62,
     "metadata": {},
     "output_type": "execute_result"
    }
   ],
   "source": [
    "(1000 / 999)"
   ]
  },
  {
   "cell_type": "code",
   "execution_count": 63,
   "id": "58dc22dd",
   "metadata": {},
   "outputs": [
    {
     "data": {
      "text/plain": [
       "0.001000500333583622"
      ]
     },
     "execution_count": 63,
     "metadata": {},
     "output_type": "execute_result"
    }
   ],
   "source": [
    "np.log(1000 / 999)"
   ]
  },
  {
   "cell_type": "markdown",
   "id": "2e66ce75",
   "metadata": {
    "slideshow": {
     "slide_type": "fragment"
    }
   },
   "source": [
    "- If a word is very common (e.g. 'the'), removing the log multiplies the statistic by a large factor.\n",
    "- If a word is very rare, the ratio will be very large. However, for instance, a word being seen in **2 out of 50** documents is not very different than being seen in **2 out of 500** documents (it is very rare in both cases), and so $\\text{idf}(t)$ should be similar in both cases."
   ]
  },
  {
   "cell_type": "code",
   "execution_count": 64,
   "id": "9b376f7c",
   "metadata": {},
   "outputs": [
    {
     "data": {
      "text/plain": [
       "25.0"
      ]
     },
     "execution_count": 64,
     "metadata": {},
     "output_type": "execute_result"
    }
   ],
   "source": [
    "(50 / 2)"
   ]
  },
  {
   "cell_type": "code",
   "execution_count": 65,
   "id": "adfc1dd6",
   "metadata": {},
   "outputs": [
    {
     "data": {
      "text/plain": [
       "250.0"
      ]
     },
     "execution_count": 65,
     "metadata": {},
     "output_type": "execute_result"
    }
   ],
   "source": [
    "(500 / 2)"
   ]
  },
  {
   "cell_type": "code",
   "execution_count": 66,
   "id": "d379be64",
   "metadata": {},
   "outputs": [
    {
     "data": {
      "text/plain": [
       "3.2188758248682006"
      ]
     },
     "execution_count": 66,
     "metadata": {},
     "output_type": "execute_result"
    }
   ],
   "source": [
    "np.log(50 / 2)"
   ]
  },
  {
   "cell_type": "code",
   "execution_count": 67,
   "id": "cb3643c3",
   "metadata": {},
   "outputs": [
    {
     "data": {
      "text/plain": [
       "5.521460917862246"
      ]
     },
     "execution_count": 67,
     "metadata": {},
     "output_type": "execute_result"
    }
   ],
   "source": [
    "np.log(500 / 2)"
   ]
  },
  {
   "attachments": {},
   "cell_type": "markdown",
   "id": "73b1fe83",
   "metadata": {
    "slideshow": {
     "slide_type": "slide"
    }
   },
   "source": [
    "## 🙋🙋🏽‍♀️ Questions?\n",
    "\n",
    "https://app.sli.do/event/2LZSnXWNpGPiuVnCZMa5J8\n",
    "\n",
    "<center><img src=\"imgs/slido.svg\" width=\"30%\"></center>"
   ]
  },
  {
   "cell_type": "markdown",
   "id": "269efd96",
   "metadata": {
    "slideshow": {
     "slide_type": "slide"
    }
   },
   "source": [
    "## Summary, next time"
   ]
  },
  {
   "cell_type": "markdown",
   "id": "934fb660",
   "metadata": {
    "slideshow": {
     "slide_type": "slide"
    }
   },
   "source": [
    "### Summary\n",
    "\n",
    "- One way to turn documents, like `'deputy fire chief'`, into feature vectors, is to count the number of occurrences of each word in the document, ignoring order. This is done using the **bag of words** model.\n",
    "- To measure the similarity of two documents under the bag of words model, compute the cosine similarity of their two word vectors.\n",
    "- Term frequency-inverse document frequency (TF-IDF) is a statistic that tries to quantify how **important** a word (term) is to a document. It balances:\n",
    "    - **how often a word appears in a particular document**, $\\text{tf}(t, d)$, with\n",
    "    - **how often a word appears across documents**, $\\text{idf}(t)$.\n",
    "- For a given document, the word with the highest TF-IDF is thought to \"best summarize\" that document."
   ]
  },
  {
   "cell_type": "markdown",
   "id": "b62dad56",
   "metadata": {
    "slideshow": {
     "slide_type": "slide"
    }
   },
   "source": [
    "### Next time\n",
    "\n",
    "Modeling and feature engineering."
   ]
  },
  {
   "cell_type": "code",
   "execution_count": null,
   "id": "77285388",
   "metadata": {},
   "outputs": [],
   "source": []
  }
 ],
 "metadata": {
  
  "kernelspec": {
   "display_name": "Python 3 (ipykernel)",
   "language": "python",
   "name": "python3"
  },
  "language_info": {
   "codemirror_mode": {
    "name": "ipython",
    "version": 3
   },
   "file_extension": ".py",
   "mimetype": "text/x-python",
   "name": "python",
   "nbconvert_exporter": "python",
   "pygments_lexer": "ipython3",
   "version": "3.8.18"
  },
  "livereveal": {
   "scroll": true
  },
  "rise": {
   "transition": "none"
  }
 },
 "nbformat": 4,
 "nbformat_minor": 5
}
