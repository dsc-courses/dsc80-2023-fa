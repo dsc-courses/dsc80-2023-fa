{
 "cells": [
  {
   "cell_type": "code",
   "execution_count": null,
   "id": "8c8a44b8",
   "metadata": {
    "slideshow": {
     "slide_type": "skip"
    }
   },
   "outputs": [],
   "source": [
    "from dsc80_utils import *"
   ]
  },
  {
   "cell_type": "markdown",
   "id": "6ca51859",
   "metadata": {
    "slideshow": {
     "slide_type": "slide"
    }
   },
   "source": [
    "# Lecture 13 – Linear Regression\n",
    "\n",
    "## DSC 80, Fall 2023"
   ]
  },
  {
   "cell_type": "markdown",
   "id": "22824200",
   "metadata": {
    "slideshow": {
     "slide_type": "slide"
    }
   },
   "source": [
    "## 📣 Announcements 📣\n",
    "\n",
    "- Project 3 due tomorrow!\n",
    "- Lab 7 out, due Monday, Nov 20."
   ]
  },
  {
   "cell_type": "markdown",
   "id": "bd851d5b",
   "metadata": {
    "slideshow": {
     "slide_type": "slide"
    }
   },
   "source": [
    "## 📆 Agenda\n",
    "\n",
    "- [ ] TF-IDF Example: State of the Union addresses 🎤.\n",
    "- [ ] Modeling.\n",
    "- [ ] Case study: Restaurant tips 🧑‍🍳.\n",
    "- [ ] Regression in `sklearn`.\n"
   ]
  },
  {
   "cell_type": "markdown",
   "id": "d271c957",
   "metadata": {
    "slideshow": {
     "slide_type": "slide"
    }
   },
   "source": [
    "## 🙋🙋🏽‍♀️ Slido\n",
    "\n",
    "https://app.sli.do/event/2LZSnXWNpGPiuVnCZMa5J8\n",
    "\n",
    "<center><img src=\"imgs/slido.svg\" width=\"30%\"></center>\n",
    "\n",
    "\n"
   ]
  },
  {
   "cell_type": "markdown",
   "id": "3b92963d",
   "metadata": {
    "slideshow": {
     "slide_type": "slide"
    }
   },
   "source": [
    "## Example: State of the Union addresses 🎤"
   ]
  },
  {
   "cell_type": "markdown",
   "id": "b980d913",
   "metadata": {},
   "source": [
    "### State of the Union addresses\n",
    "\n",
    "The 2023 State of the Union address was on February 7th, 2023."
   ]
  },
  {
   "cell_type": "code",
   "execution_count": null,
   "id": "3d40e0a9",
   "metadata": {
    "slideshow": {
     "slide_type": "slide"
    }
   },
   "outputs": [],
   "source": [
    "from IPython.display import YouTubeVideo\n",
    "YouTubeVideo('gzcBTUvVp7M')"
   ]
  },
  {
   "cell_type": "markdown",
   "id": "6ec32713",
   "metadata": {
    "slideshow": {
     "slide_type": "slide"
    }
   },
   "source": [
    "### The data"
   ]
  },
  {
   "cell_type": "code",
   "execution_count": null,
   "id": "2db49b0d",
   "metadata": {},
   "outputs": [],
   "source": [
    "from pathlib import Path\n",
    "import re\n",
    "\n",
    "sotu_txt = Path('data') / 'stateoftheunion1790-2023.txt'\n",
    "sotu = sotu_txt.read_text()\n",
    "speeches = sotu.split('\\n***\\n')[1:]\n",
    "\n",
    "def extract_struct(speech):\n",
    "    L = speech.strip().split('\\n', maxsplit=3)\n",
    "    L[3] = re.sub(r\"[^A-Za-z' ]\", ' ', L[3]).lower()\n",
    "    return dict(zip(['speech', 'president', 'date', 'contents'], L))\n",
    "\n",
    "speeches_df = pd.DataFrame(list(map(extract_struct, speeches)))\n",
    "speeches_df"
   ]
  },
  {
   "cell_type": "markdown",
   "id": "6df1fade",
   "metadata": {
    "slideshow": {
     "slide_type": "slide"
    }
   },
   "source": [
    "### Finding the most important words in each speech\n",
    "\n",
    "Here, a \"document\" is a speech. We have 233 documents."
   ]
  },
  {
   "cell_type": "code",
   "execution_count": null,
   "id": "cf5a1d64",
   "metadata": {},
   "outputs": [],
   "source": [
    "speeches_df"
   ]
  },
  {
   "cell_type": "markdown",
   "id": "926bcc2d",
   "metadata": {},
   "source": [
    "A rough sketch of what we'll compute:\n",
    "\n",
    "```\n",
    "for each word t:\n",
    "    for each speech d:\n",
    "        compute tfidf(t, d)\n",
    "```"
   ]
  },
  {
   "cell_type": "code",
   "execution_count": null,
   "id": "43d40a25",
   "metadata": {},
   "outputs": [],
   "source": [
    "unique_words = speeches_df['contents'].str.split().explode().value_counts()\n",
    "# Take the top 500 most common words for speed\n",
    "unique_words = unique_words.iloc[:500].index\n",
    "unique_words"
   ]
  },
  {
   "cell_type": "markdown",
   "id": "c96cdc6e",
   "metadata": {},
   "source": [
    "### 💡 Pro-Tip: Using `tqdm`\n",
    "\n",
    "This code takes a while to run, so we'll use the `tdqm` package to track its progress. (Install with `pip install tqdm` if needed)."
   ]
  },
  {
   "cell_type": "code",
   "execution_count": null,
   "id": "1451a252",
   "metadata": {},
   "outputs": [],
   "source": [
    "from tqdm.notebook import tqdm\n",
    "\n",
    "tfidf_dict = {}\n",
    "tf_denom = speeches_df['contents'].str.split().str.len()\n",
    "\n",
    "# Wrap the sequence with `tqdm()` to display a progress bar\n",
    "for word in tqdm(unique_words):\n",
    "    re_pat = fr' {word} ' # Imperfect pattern for speed.\n",
    "    tf = speeches_df['contents'].str.count(re_pat) / tf_denom\n",
    "    idf = np.log(len(speeches_df) / speeches_df['contents'].str.contains(re_pat).sum())\n",
    "    tfidf_dict[word] =  tf * idf"
   ]
  },
  {
   "cell_type": "code",
   "execution_count": null,
   "id": "de1a8867",
   "metadata": {},
   "outputs": [],
   "source": [
    "tfidf = pd.DataFrame(tfidf_dict)\n",
    "tfidf.head()"
   ]
  },
  {
   "cell_type": "markdown",
   "id": "d2f34b9e",
   "metadata": {},
   "source": [
    "Note that the TF-IDFs of many common words are all 0!"
   ]
  },
  {
   "cell_type": "markdown",
   "id": "7c15f5bf",
   "metadata": {
    "slideshow": {
     "slide_type": "slide"
    }
   },
   "source": [
    "### Summarizing speeches\n",
    "\n",
    "By using `idxmax`, we can find the word with the highest TF-IDF in each speech."
   ]
  },
  {
   "cell_type": "code",
   "execution_count": null,
   "id": "42b7f2f9",
   "metadata": {},
   "outputs": [],
   "source": [
    "summaries = ...\n",
    "summaries"
   ]
  },
  {
   "cell_type": "markdown",
   "id": "4aad3811",
   "metadata": {},
   "source": [
    "What if we want to see the 5 words with the highest TF-IDFs, for each speech?"
   ]
  },
  {
   "cell_type": "code",
   "execution_count": null,
   "id": "0dbdd477",
   "metadata": {},
   "outputs": [],
   "source": [
    "def five_largest(row):\n",
    "    return ..."
   ]
  },
  {
   "cell_type": "code",
   "execution_count": null,
   "id": "e1af340d",
   "metadata": {},
   "outputs": [],
   "source": [
    "keywords = tfidf.apply(five_largest, axis=1)\n",
    "\n",
    "keywords_df = pd.concat([\n",
    "    speeches_df['president'],\n",
    "    speeches_df['date'],\n",
    "    keywords\n",
    "], axis=1)"
   ]
  },
  {
   "cell_type": "markdown",
   "id": "7762dd5e",
   "metadata": {},
   "source": [
    "Run the cell below to see every single row of `keywords_df`."
   ]
  },
  {
   "cell_type": "code",
   "execution_count": null,
   "id": "bf737b3a",
   "metadata": {
    "scrolled": true
   },
   "outputs": [],
   "source": [
    "display_df(keywords_df, rows=233)"
   ]
  },
  {
   "cell_type": "markdown",
   "id": "847a013b",
   "metadata": {
    "slideshow": {
     "slide_type": "slide"
    }
   },
   "source": [
    "### Aside: What if we remove the $\\log$ from $\\text{idf}(t)$?\n",
    "\n",
    "Let's try it and see what happens."
   ]
  },
  {
   "cell_type": "code",
   "execution_count": null,
   "id": "c7cfb892",
   "metadata": {},
   "outputs": [],
   "source": [
    "tfidf_nl_dict = {}\n",
    "tf_denom = speeches_df['contents'].str.split().str.len()\n",
    "\n",
    "for word in tqdm(unique_words):\n",
    "    re_pat = fr' {word} ' # Imperfect pattern for speed.\n",
    "    tf = speeches_df['contents'].str.count(re_pat) / tf_denom\n",
    "    # No np.log!\n",
    "    idf_nl = len(speeches_df) / speeches_df['contents'].str.contains(re_pat).sum()\n",
    "    tfidf_nl_dict[word] =  tf * idf_nl"
   ]
  },
  {
   "cell_type": "code",
   "execution_count": null,
   "id": "dbdd2a40",
   "metadata": {},
   "outputs": [],
   "source": [
    "tfidf_nl = pd.DataFrame(tfidf_nl_dict)\n",
    "tfidf_nl.head()"
   ]
  },
  {
   "cell_type": "code",
   "execution_count": null,
   "id": "b54838d1",
   "metadata": {},
   "outputs": [],
   "source": [
    "keywords_nl = tfidf_nl.apply(five_largest, axis=1)\n",
    "keywords_nl_df = pd.concat([\n",
    "    speeches_df['president'],\n",
    "    speeches_df['date'],\n",
    "    keywords_nl\n",
    "], axis=1)\n",
    "keywords_nl_df"
   ]
  },
  {
   "cell_type": "markdown",
   "id": "a64da969",
   "metadata": {
    "slideshow": {
     "slide_type": "slide"
    }
   },
   "source": [
    "### The role of $\\log$ in $\\text{idf}(t)$\n",
    "\n",
    "$$\n",
    "\\begin{align*}\\text{tfidf}(t, d) &= \\text{tf}(t, d) \\cdot \\text{idf}(t) \\\\\\ &= \\frac{\\text{# of occurrences of $t$ in $d$}}{\\text{total # of words in $d$}} \\cdot \\log \\left(\\frac{\\text{total # of documents}}{\\text{# of documents in which $t$ appears}} \\right) \\end{align*} $$\n",
    "- Remember, for any positive input $x$, $\\log(x)$ is (much) smaller than $x$.\n",
    "- In $\\text{idf}(t)$, the $\\log$ \"dampens\" the impact of the ratio $\\frac{\\text{# documents}}{\\text{# documents with $t$}}$."
   ]
  },
  {
   "cell_type": "markdown",
   "id": "5d012ae6",
   "metadata": {
    "slideshow": {
     "slide_type": "fragment"
    }
   },
   "source": [
    "- If a word is very common, the ratio will be close to 1. The log of the ratio will be close to 0."
   ]
  },
  {
   "cell_type": "code",
   "execution_count": null,
   "id": "b3a99227",
   "metadata": {},
   "outputs": [],
   "source": []
  },
  {
   "cell_type": "code",
   "execution_count": null,
   "id": "1960b7e2",
   "metadata": {},
   "outputs": [],
   "source": []
  },
  {
   "cell_type": "markdown",
   "id": "2e66ce75",
   "metadata": {
    "slideshow": {
     "slide_type": "fragment"
    }
   },
   "source": [
    "- If a word is very common (e.g. 'the'), removing the log multiplies the statistic by a large factor.\n",
    "- If a word is very rare, the ratio will be very large. However, for instance, a word being seen in **2 out of 50** documents is not very different than being seen in **2 out of 500** documents (it is very rare in both cases), and so $\\text{idf}(t)$ should be similar in both cases."
   ]
  },
  {
   "cell_type": "code",
   "execution_count": null,
   "id": "3a590b2e",
   "metadata": {},
   "outputs": [],
   "source": []
  },
  {
   "cell_type": "code",
   "execution_count": null,
   "id": "761adf58",
   "metadata": {},
   "outputs": [],
   "source": []
  },
  {
   "cell_type": "markdown",
   "id": "5624baf9",
   "metadata": {
    "slideshow": {
     "slide_type": "slide"
    }
   },
   "source": [
    "## 🙋🙋🏽‍♀️ Questions?\n",
    "\n",
    "https://app.sli.do/event/2LZSnXWNpGPiuVnCZMa5J8\n",
    "\n",
    "<center><img src=\"imgs/slido.svg\" width=\"30%\"></center>"
   ]
  },
  {
   "cell_type": "markdown",
   "id": "3c279906",
   "metadata": {
    "slideshow": {
     "slide_type": "slide"
    }
   },
   "source": [
    "## Modeling"
   ]
  },
  {
   "cell_type": "markdown",
   "id": "c82dd8c1",
   "metadata": {
    "slideshow": {
     "slide_type": "slide"
    }
   },
   "source": [
    "<center><img src='imgs/ds-lifecycle.svg' width=50%></center>"
   ]
  },
  {
   "cell_type": "markdown",
   "id": "2a5929c8",
   "metadata": {
    "slideshow": {
     "slide_type": "slide"
    }
   },
   "source": [
    "### Reflection\n",
    "\n",
    "So far this quarter, we've learned how to:\n",
    "\n",
    "- Extract information from tabular data using `pandas` and regular expressions.\n",
    "- Clean data so that it best represents a data generating process.\n",
    "    - Missingness analyses and imputation.\n",
    "- Collect data from the internet through scraping and APIs, and parse it using BeautifulSoup.\n",
    "- Perform exploratory data analysis through aggregation, visualization, and the computation of summary statistics like TF-IDF.\n",
    "- Infer about the relationships between samples and populations through hypothesis and permutation testing.\n",
    "- **Now, let's make predictions.**"
   ]
  },
  {
   "cell_type": "markdown",
   "id": "d08cdcff",
   "metadata": {
    "slideshow": {
     "slide_type": "slide"
    }
   },
   "source": [
    "### Modeling\n",
    "\n",
    "* **Data generating process**: A real-world phenomena that we are interested in studying.\n",
    "    - *Example:* Every year, city employees are hired and fired, earn salaries and benefits, etc.\n",
    "    - Unless we work for the city, we can't observe this process directly.\n",
    "\n",
    "* **Model**: A theory about the data generating process.\n",
    "    - *Example:* If an employee is $X$ years older than average, then they will make \\$100,000 in salary.\n",
    "\n",
    "* **Fit Model**: A model that is learned from a particular set of observations, i.e. training data.\n",
    "    - *Example:* If an employee is 5 years older than average, they will make \\$100,000 in salary.\n",
    "    - How is this estimate determined? What makes it \"good\"?"
   ]
  },
  {
   "cell_type": "markdown",
   "id": "e32d209c",
   "metadata": {
    "slideshow": {
     "slide_type": "slide"
    }
   },
   "source": [
    "### Goals of modeling\n",
    "\n",
    "1. To make accurate **predictions** regarding **unseen data** drawn from the data generating process.\n",
    "\n",
    "    - Given this dataset of past UCSD data science students' salaries, can we predict your future salary? (regression)\n",
    "    - Given this dataset of images, can we predict if this new image is of a dog, cat, or zebra? (classification)\n",
    "    \n",
    "2. To make **inferences** about the structure of the data generating process, i.e. to understand complex phenomena.\n",
    "\n",
    "    - Is there a linear relationship between the heights of children and the heights of their biological mothers?\n",
    "    - The weights of smoking and non-smoking mothers' babies babies in my _sample_ are different – how _confident_ am I that this difference exists in the _population_?"
   ]
  },
  {
   "cell_type": "markdown",
   "id": "a50a0b01",
   "metadata": {
    "slideshow": {
     "slide_type": "slide"
    }
   },
   "source": [
    "<center><img src='imgs/ml-taxonomy.svg' width=100%></center>"
   ]
  },
  {
   "cell_type": "markdown",
   "id": "17359bce",
   "metadata": {
    "slideshow": {
     "slide_type": "fragment"
    }
   },
   "source": [
    "- Of the two focuses of models, we will focus on **prediction**.\n",
    "\n",
    "- In the above taxonomy, we will focus on **supervised learning**."
   ]
  },
  {
   "cell_type": "markdown",
   "id": "397636e6",
   "metadata": {
    "slideshow": {
     "slide_type": "slide"
    }
   },
   "source": [
    "### Features\n",
    "\n",
    "- A **feature** is a measurable property of a phenomenon being observed.\n",
    "    - Other terms for \"feature\" include \"(explanatory) variable\" and \"attribute\".\n",
    "    - Typically, features are the _inputs_ to models.\n",
    "\n",
    "- In DataFrames, features typically correspond to **columns**, while rows typically correspond to different individuals.\n",
    "\n",
    "* There are two types of features:\n",
    "    * Features that come as part of a dataset, e.g. weight and height.\n",
    "    * Features that we **create**, e.g. $\\text{BMI} = \\frac{\\text{weight (kg)}}{\\text{[height (m)]}^2}$.\n",
    "\n",
    "- Example: TF-IDF creates **features** that summarize documents!"
   ]
  },
  {
   "cell_type": "markdown",
   "id": "b9ce21ea",
   "metadata": {
    "slideshow": {
     "slide_type": "slide"
    }
   },
   "source": [
    "## Example: Restaurant tips 🧑‍🍳"
   ]
  },
  {
   "cell_type": "markdown",
   "id": "9ff409ad",
   "metadata": {
    "slideshow": {
     "slide_type": "slide"
    }
   },
   "source": [
    "### About the data\n",
    "\n",
    "What features does the dataset contain?"
   ]
  },
  {
   "cell_type": "code",
   "execution_count": null,
   "id": "72476546",
   "metadata": {
    "slideshow": {
     "slide_type": "-"
    }
   },
   "outputs": [],
   "source": [
    "# The dataset is built into plotly (and seaborn)!\n",
    "tips = px.data.tips()\n",
    "tips"
   ]
  },
  {
   "cell_type": "markdown",
   "id": "3c63ac84",
   "metadata": {
    "slideshow": {
     "slide_type": "slide"
    }
   },
   "source": [
    "### Predicting tips\n",
    "\n",
    "- **Goal:** Given various information about a table at a restaurant, we want to predict the **tip** that a server will earn.\n",
    "\n",
    "- **Why** might a server be interested in doing this?\n",
    "    - To determine which tables are likely to tip the most (inference).\n",
    "    - To predict earnings over the next month (prediction)."
   ]
  },
  {
   "cell_type": "markdown",
   "id": "e07cd857",
   "metadata": {
    "slideshow": {
     "slide_type": "slide"
    }
   },
   "source": [
    "### Exploratory data analysis (EDA)\n",
    "\n",
    "- The most natural feature to look at first is `'total_bill'`.\n",
    "\n",
    "- As such, we should explore the relationship between `'total_bill'` and `'tip'`, as well as the distributions of both columns individually.\n",
    "\n",
    "- As we do so, try to describe each distribution **in words**."
   ]
  },
  {
   "cell_type": "markdown",
   "id": "758fb889",
   "metadata": {
    "slideshow": {
     "slide_type": "slide"
    }
   },
   "source": [
    "### Visualizing distributions"
   ]
  },
  {
   "cell_type": "code",
   "execution_count": null,
   "id": "a100b81c",
   "metadata": {
    "scrolled": false
   },
   "outputs": [],
   "source": [
    "tips.plot(kind='scatter', \n",
    "          x='total_bill', y='tip',\n",
    "          title='Tip vs. Total Bill')"
   ]
  },
  {
   "cell_type": "code",
   "execution_count": null,
   "id": "5b1c9ad9",
   "metadata": {},
   "outputs": [],
   "source": [
    "tips.plot(kind='hist', \n",
    "          x='total_bill', \n",
    "          title='Distribution of Total Bill',\n",
    "          nbins=50)"
   ]
  },
  {
   "cell_type": "code",
   "execution_count": null,
   "id": "50bd8654",
   "metadata": {},
   "outputs": [],
   "source": [
    "tips.plot(kind='hist', \n",
    "          x='tip', \n",
    "          title='Distribution of Tip',\n",
    "          nbins=50)"
   ]
  },
  {
   "cell_type": "markdown",
   "id": "3518624a",
   "metadata": {
    "slideshow": {
     "slide_type": "slide"
    }
   },
   "source": [
    "### Observations\n",
    "|`'total_bill'`|`'tip'`|\n",
    "|---|---|\n",
    "|Right skewed|Right skewed|\n",
    "|Mean around \\$20|Mean around \\$3|\n",
    "|Mode around \\$16|Possibly bimodal at \\\\$2 and \\\\$3?|\n",
    "|No particularly large bills|Large outliers?|"
   ]
  },
  {
   "cell_type": "markdown",
   "id": "3e5ab1f6",
   "metadata": {
    "slideshow": {
     "slide_type": "slide"
    }
   },
   "source": [
    "<center><img src='imgs/convo.png' width=50%></center>"
   ]
  },
  {
   "cell_type": "markdown",
   "id": "241ef9bf",
   "metadata": {
    "slideshow": {
     "slide_type": "slide"
    }
   },
   "source": [
    "### Model #1: Constant\n",
    "\n",
    "- Let's start simple, by ignoring all features. Suppose our model assumes every tip is given by a constant dollar amount:\n",
    "\n",
    "$$\\text{tip} = h^{\\text{true}}$$\n",
    "\n",
    "- **Model**: There is a single tip amount $h^{\\text{true}}$ that all customers pay.\n",
    "    - Correct? No!\n",
    "    - Useful? Perhaps. An estimate of $h^{\\text{true}}$, denoted by $h^*$, can allow us to predict future tips.\n",
    "\n",
    "* The true **parameter** $h^{\\text{true}}$ is determined by the universe (i.e. the data generating process).\n",
    "    - We can't observe the true parameter; we need to **estimate it from the data**.\n",
    "    - Hence, our estimate depends on our dataset!"
   ]
  },
  {
   "cell_type": "markdown",
   "id": "31ce3981",
   "metadata": {
    "slideshow": {
     "slide_type": "slide"
    }
   },
   "source": [
    "#### \"All models are wrong, but some are useful.\"\n",
    "\n",
    "> \"Since all models are wrong the scientist cannot obtain a \"correct\" one by excessive elaboration. On the contrary following William of Occam he should **seek an economical description of natural phenomena**. Just as the ability to devise simple but evocative models is the signature of the great scientist so overelaboration and overparameterization is often the mark of mediocrity.\"\n",
    "\n",
    "> \"Since all models are wrong the scientist must be alert to what is importantly wrong. It is inappropriate to be concerned about mice when there are tigers abroad.\""
   ]
  },
  {
   "cell_type": "markdown",
   "id": "2fcc3074",
   "metadata": {
    "slideshow": {
     "slide_type": "slide"
    }
   },
   "source": [
    "### Estimating $h^{\\text{true}}$\n",
    "\n",
    "- There are several ways we _could_ estimate $h^{\\text{true}}$.\n",
    "    - We could use domain knowledge (e.g. everyone clicks the \\$1 tip option when buying coffee).\n",
    "\n",
    "- From DSC 40A, we already know one way:\n",
    "    - **Choose a loss function**, which measures how \"good\" a single prediction is.\n",
    "    - **Minimize empirical risk**, to find the best estimate for the dataset that we have."
   ]
  },
  {
   "cell_type": "markdown",
   "id": "876ebdca",
   "metadata": {
    "slideshow": {
     "slide_type": "slide"
    }
   },
   "source": [
    "### Empirical risk minimization\n",
    "\n",
    "- Depending on which loss function we choose, we will end up with different $h^*$ (which are estimates of $h^{\\text{true}})$.\n",
    "\n",
    "- If we choose **squared loss**, then our empirical risk is **mean squared error**:\n",
    "\n",
    "$$\\text{MSE} = \\frac{1}{n} \\sum_{i = 1}^n ( y_i - h )^2 \\overset{\\text{calculus}}\\implies h^* = \\text{mean}(y)$$\n",
    "\n",
    "- If we choose **absolute loss**, then our empirical risk is **mean absolute error**:\n",
    "\n",
    "$$\\text{MAE} = \\frac{1}{n} \\sum_{i = 1}^n | y_i - h | \\overset{\\text{algebra}}\\implies h^* = \\text{median}(y)$$"
   ]
  },
  {
   "cell_type": "markdown",
   "id": "d50c7e4f",
   "metadata": {
    "slideshow": {
     "slide_type": "slide"
    }
   },
   "source": [
    "### The mean tip\n",
    "\n",
    "Let's suppose we choose squared loss, meaning that $h^* = \\text{mean}(y)$."
   ]
  },
  {
   "cell_type": "code",
   "execution_count": null,
   "id": "fa3b5f85",
   "metadata": {},
   "outputs": [],
   "source": [
    "mean_tip = ...\n",
    "mean_tip"
   ]
  },
  {
   "cell_type": "markdown",
   "id": "b682f5f0",
   "metadata": {
    "slideshow": {
     "slide_type": "fragment"
    }
   },
   "source": [
    "Let's visualize this prediction."
   ]
  },
  {
   "cell_type": "code",
   "execution_count": null,
   "id": "e63f2638",
   "metadata": {},
   "outputs": [],
   "source": [
    "fig = px.scatter(tips, x='total_bill', y='tip')\n",
    "fig.add_hline(mean_tip, line_width=3, line_color='orange', opacity=1)\n",
    "fig.update_layout(title='Tip vs. Total Bill',\n",
    "                  xaxis_title='Total Bill', yaxis_title='Tip')"
   ]
  },
  {
   "cell_type": "markdown",
   "id": "ab8029d8",
   "metadata": {
    "slideshow": {
     "slide_type": "fragment"
    }
   },
   "source": [
    "Note that to make predictions, this model ignores total bill (and all other features), and predicts the same tip for all tables."
   ]
  },
  {
   "cell_type": "markdown",
   "id": "4ff3d4b8",
   "metadata": {
    "slideshow": {
     "slide_type": "slide"
    }
   },
   "source": [
    "### The quality of predictions\n",
    "\n",
    "- **Question**: How can we quantify how **good** this constant prediction is at predicting tips in our **training data** – that is, the data we used to fit the model?\n",
    "\n",
    "- **One answer**: use the mean squared error. If $y_i$ represents the $i$th actual value and $H(x_i)$ represents the $i$th predicted value, then:\n",
    "\n",
    "$$\\text{MSE} = \\frac{1}{n} \\sum_{i = 1}^n \\big( y_i - H(x_i) \\big)^2$$"
   ]
  },
  {
   "cell_type": "code",
   "execution_count": null,
   "id": "e726ca81",
   "metadata": {},
   "outputs": [],
   "source": [
    "..."
   ]
  },
  {
   "cell_type": "code",
   "execution_count": null,
   "id": "88a1af3c",
   "metadata": {},
   "outputs": [],
   "source": [
    "# The same! A fact from 40A.\n",
    "..."
   ]
  },
  {
   "cell_type": "markdown",
   "id": "216250ec",
   "metadata": {
    "slideshow": {
     "slide_type": "fragment"
    }
   },
   "source": [
    "- Issue: The units of MSE are \"dollars squared\", which are a little hard to interpret."
   ]
  },
  {
   "cell_type": "markdown",
   "id": "3308abe7",
   "metadata": {
    "slideshow": {
     "slide_type": "slide"
    }
   },
   "source": [
    "### Root mean squared error\n",
    "\n",
    "- Often, to measure the quality of a regression model's predictions, we will use the **root mean squared error (RMSE)**:\n",
    "\n",
    "$$\\text{RMSE} = \\sqrt{\\frac{1}{n} \\sum_{i = 1}^n \\big( y_i - H(x_i) \\big)^2}$$\n",
    "\n",
    "- The units of the RMSE are the same as the units of the original $y$ values – dollars, in this case.\n",
    "\n",
    "- **Important**: Minimizing MSE is the same as minimizing RMSE; the constant tip $h^*$ that minimizes MSE is the same $h^*$ that minimizes RMSE."
   ]
  },
  {
   "cell_type": "markdown",
   "id": "2c0c5b96",
   "metadata": {
    "slideshow": {
     "slide_type": "slide"
    }
   },
   "source": [
    "### Computing and storing the RMSE\n",
    "\n",
    "Since we'll compute the RMSE for our future models too, we'll define a function that can compute it for us."
   ]
  },
  {
   "cell_type": "code",
   "execution_count": null,
   "id": "de63026d",
   "metadata": {},
   "outputs": [],
   "source": [
    "def rmse(actual, pred):\n",
    "    return ..."
   ]
  },
  {
   "cell_type": "markdown",
   "id": "25e2e2e9",
   "metadata": {
    "slideshow": {
     "slide_type": "fragment"
    }
   },
   "source": [
    "Let's compute the RMSE of our constant tip's predictions, and store it in a dictionary that we can refer to later on."
   ]
  },
  {
   "cell_type": "code",
   "execution_count": null,
   "id": "1473f5c1",
   "metadata": {},
   "outputs": [],
   "source": [
    "rmse(...)"
   ]
  },
  {
   "cell_type": "code",
   "execution_count": null,
   "id": "b692d076",
   "metadata": {},
   "outputs": [],
   "source": [
    "rmse_dict = {}\n",
    "...\n",
    "rmse_dict"
   ]
  },
  {
   "cell_type": "markdown",
   "id": "ae1c532f",
   "metadata": {
    "slideshow": {
     "slide_type": "fragment"
    }
   },
   "source": [
    "**Key idea**: Since the mean minimizes RMSE for the constant model, it is **impossible** to change the `mean_tip` argument above to another number and yield a **lower** RMSE."
   ]
  },
  {
   "cell_type": "markdown",
   "id": "b3eda542",
   "metadata": {
    "slideshow": {
     "slide_type": "slide"
    }
   },
   "source": [
    "## 🙋🙋🏽‍♀️ Questions?\n",
    "\n",
    "https://app.sli.do/event/2LZSnXWNpGPiuVnCZMa5J8\n",
    "\n",
    "<center><img src=\"imgs/slido.svg\" width=\"30%\"></center>"
   ]
  },
  {
   "cell_type": "markdown",
   "id": "a7060d61",
   "metadata": {
    "slideshow": {
     "slide_type": "slide"
    }
   },
   "source": [
    "### Model #2: Simple linear regression using total bill\n",
    "\n",
    "- We haven't yet used any of the **features** in the dataset. The first natural feature to look at is `'total_bill'`."
   ]
  },
  {
   "cell_type": "code",
   "execution_count": null,
   "id": "7b073ceb",
   "metadata": {
    "slideshow": {
     "slide_type": "-"
    }
   },
   "outputs": [],
   "source": [
    "tips.head()"
   ]
  },
  {
   "cell_type": "markdown",
   "id": "a3e44983",
   "metadata": {
    "slideshow": {
     "slide_type": "fragment"
    }
   },
   "source": [
    "- We can fit a **simple linear model** to predict tips as a function of total bill:\n",
    "\n",
    "$$\\text{predicted tip} = w_0 + w_1 \\cdot \\text{total bill}$$"
   ]
  },
  {
   "cell_type": "markdown",
   "id": "9a7ddfca",
   "metadata": {
    "slideshow": {
     "slide_type": "fragment"
    }
   },
   "source": [
    "- This is a reasonable thing to do, because total bills and tips appeared to be linearly associated when we visualized them on a scatter plot a few slides ago."
   ]
  },
  {
   "cell_type": "markdown",
   "id": "f382ee3b",
   "metadata": {
    "slideshow": {
     "slide_type": "slide"
    }
   },
   "source": [
    "### Recap: Simple linear regression\n",
    "\n",
    "A simple linear regression model is a linear model with a single feature, as we have here. For any total bill $x_i$, the predicted tip $H(x_i)$ is given by\n",
    "\n",
    "$$H(x_i) = w_0 + w_1x_i$$\n",
    "\n",
    "- **Question**: How do we determine which intercept, $w_0$, and slope, $w_1$, to use?\n",
    "\n",
    "- **One answer**: Pick the $w_0$ and $w_1$ that minimize **mean squared error**. If $x_i$ and $y_i$ correspond to the $i$th total bill and tip, respectively, then:\n",
    "\n",
    "$$\\begin{align*}\\text{MSE} &= \\frac{1}{n} \\sum_{i = 1}^n \\big( y_i - H(x_i) \\big)^2\n",
    "\\\\ &= \\frac{1}{n} \\sum_{i = 1}^n \\big( y_i - w_0 - w_1x_i \\big)^2\\end{align*}$$\n",
    "\n",
    "- **Key idea: The lower the MSE on our training data is, the \"better\" the model fits the training data**."
   ]
  },
  {
   "cell_type": "markdown",
   "id": "b08c5f6a",
   "metadata": {
    "slideshow": {
     "slide_type": "slide"
    }
   },
   "source": [
    "### Empirical risk minimization, by hand\n",
    "\n",
    "$$\\begin{align*}\\text{MSE} &= \\frac{1}{n} \\sum_{i = 1}^n \\big( y_i - w_0 - w_1x_i \\big)^2\\end{align*}$$\n",
    "\n",
    "- In DSC 40A, you found the formulas for the best intercept, $w_0^*$, and the best slope, $w_1^*$, through calculus. \n",
    "    - The resulting line, $H(x_i) = w_0^* + w_1^* x_i$, is called the **line of best fit**, or the **regression line**.\n",
    "\n",
    "- Specifically, if $r$ is the correlation coefficient, $\\sigma_x$ and $\\sigma_y$ are the standard deviations of $x$ and $y$, and $\\bar{x}$ and $\\bar{y}$ are the means of $x$ and $y$, then:\n",
    "\n",
    "$$w_1^* = r \\cdot \\frac{\\sigma_y}{\\sigma_x}$$\n",
    "\n",
    "$$w_0^* = \\bar{y} - w_1^* \\bar{x}$$"
   ]
  },
  {
   "cell_type": "markdown",
   "id": "f8922bec",
   "metadata": {
    "slideshow": {
     "slide_type": "slide"
    }
   },
   "source": [
    "## Regression in `sklearn`"
   ]
  },
  {
   "cell_type": "markdown",
   "id": "ff1ed0be",
   "metadata": {
    "slideshow": {
     "slide_type": "slide"
    }
   },
   "source": [
    "### `sklearn`\n",
    "\n",
    "<center><img src='imgs/sklearn.png' width=20%></center>\n",
    "\n",
    "- `sklearn` (scikit-learn) implements many common steps in the feature and model creation pipeline.\n",
    "    - It is **widely** used throughout [industry](https://scikit-learn.org/stable/testimonials/testimonials.html#:~:text=It%20is%20very%20widely%20used,very%20approachable%20and%20very%20powerful.) and academia.\n",
    "\n",
    "- It interfaces with `numpy` arrays, and to an extent, `pandas` DataFrames.\n",
    "\n",
    "- Huge benefit: the [documentation online](https://scikit-learn.org/stable/modules/classes.html) is excellent."
   ]
  },
  {
   "cell_type": "markdown",
   "id": "19e0279c",
   "metadata": {
    "slideshow": {
     "slide_type": "slide"
    }
   },
   "source": [
    "### The `LinearRegression` class\n",
    "\n",
    "- `sklearn` comes with several subpackages, including `linear_model` and `tree`, each of which contains several classes of models.\n",
    "\n",
    "- We'll start with the `LinearRegression` class from `linear_model`."
   ]
  },
  {
   "cell_type": "code",
   "execution_count": null,
   "id": "fc5fb826",
   "metadata": {},
   "outputs": [],
   "source": [
    "from sklearn.linear_model import LinearRegression"
   ]
  },
  {
   "cell_type": "markdown",
   "id": "4a0ec61c",
   "metadata": {
    "slideshow": {
     "slide_type": "fragment"
    }
   },
   "source": [
    "- **Important**: From [the documentation](https://scikit-learn.org/stable/modules/generated/sklearn.linear_model.LinearRegression.html#sklearn.linear_model.LinearRegression), we have:\n",
    "\n",
    "> LinearRegression fits a linear model with coefficients w = (w1, …, wp) to minimize the residual sum of squares between the observed targets in the dataset, and the targets predicted by the linear approximation.\n",
    "\n",
    "- In other words, `LinearRegression` minimizes mean squared error by default! (Per the documentation, it also includes an intercept term by default.)"
   ]
  },
  {
   "cell_type": "code",
   "execution_count": null,
   "id": "17553ac5",
   "metadata": {},
   "outputs": [],
   "source": [
    "LinearRegression?"
   ]
  },
  {
   "cell_type": "markdown",
   "id": "b40d6df0",
   "metadata": {
    "slideshow": {
     "slide_type": "slide"
    }
   },
   "source": [
    "### Fitting a simple linear model"
   ]
  },
  {
   "cell_type": "markdown",
   "id": "7d55feff",
   "metadata": {
    "slideshow": {
     "slide_type": "fragment"
    }
   },
   "source": [
    "First, we must instantiate a `LinearRegression` object and fit it. By calling `fit`, we are saying \"minimize mean squared error on this dataset and find $w^*$.\""
   ]
  },
  {
   "cell_type": "code",
   "execution_count": null,
   "id": "717c8fc9",
   "metadata": {},
   "outputs": [],
   "source": [
    "model = ...\n",
    "\n",
    "# Note that there are two arguments to fit – X and y!\n",
    "# (It is not necessary to write X= and y=)\n",
    "..."
   ]
  },
  {
   "cell_type": "markdown",
   "id": "5983b9bf",
   "metadata": {
    "slideshow": {
     "slide_type": "fragment"
    }
   },
   "source": [
    "After fitting, we can access $w^*$ – that is, the best slope and intercept."
   ]
  },
  {
   "cell_type": "code",
   "execution_count": null,
   "id": "a2f7b7c5",
   "metadata": {},
   "outputs": [],
   "source": [
    "..."
   ]
  },
  {
   "cell_type": "markdown",
   "id": "05170d2f",
   "metadata": {
    "slideshow": {
     "slide_type": "fragment"
    }
   },
   "source": [
    "These coefficients tell us that the \"best way\" (according to squared loss) to make tip predictions using a linear model is using:\n",
    "\n",
    "$$\\text{predicted tip} = 0.92 + 0.105 \\cdot \\text{total bill}$$"
   ]
  },
  {
   "cell_type": "markdown",
   "id": "78c0bde1",
   "metadata": {
    "slideshow": {
     "slide_type": "fragment"
    }
   },
   "source": [
    "This model **predicts** that people tip by:\n",
    "- Tipping a constant 92 cents.\n",
    "- Tipping 10.5\\% for every dollar spent."
   ]
  },
  {
   "cell_type": "markdown",
   "id": "6ad774c7",
   "metadata": {
    "slideshow": {
     "slide_type": "slide"
    }
   },
   "source": [
    "Let's visualize this model, along with our previous model."
   ]
  },
  {
   "cell_type": "code",
   "execution_count": null,
   "id": "b0171c17",
   "metadata": {},
   "outputs": [],
   "source": [
    "line_pts = pd.DataFrame({ 'total_bill': [0, 60] })\n",
    "\n",
    "fig = px.scatter(tips, x='total_bill', y='tip')\n",
    "fig.add_trace(go.Scatter(\n",
    "    x=line_pts['total_bill'],\n",
    "    y=model.predict(line_pts),\n",
    "    mode='lines',\n",
    "    name='Linear: Total Bill Only'\n",
    "))\n",
    "fig.update_layout(title='Tip vs. Total Bill',\n",
    "                  xaxis_title='Total Bill', yaxis_title='Tip')"
   ]
  },
  {
   "cell_type": "markdown",
   "id": "f0e1d94a",
   "metadata": {
    "slideshow": {
     "slide_type": "fragment"
    }
   },
   "source": [
    "Visually, our linear model _seems_ to be a better fit for our dataset than our constant model.\n",
    "- Can we quantify whether or not it is better? \n",
    "- **Does it better reflect reality?**"
   ]
  },
  {
   "cell_type": "markdown",
   "id": "f776c605",
   "metadata": {
    "slideshow": {
     "slide_type": "slide"
    }
   },
   "source": [
    "### Making predictions\n",
    "\n",
    "Fit `LinearRegression` objects also have a `predict` method, which can be used to predict tips for any total bill, new or old."
   ]
  },
  {
   "cell_type": "code",
   "execution_count": null,
   "id": "b6d8b2f7",
   "metadata": {},
   "outputs": [],
   "source": [
    "..."
   ]
  },
  {
   "cell_type": "code",
   "execution_count": null,
   "id": "2c5a7859",
   "metadata": {},
   "outputs": [],
   "source": [
    "# Since we trained on a DataFrame, the input to model.predict should also\n",
    "# be a DataFrame.\n"
   ]
  },
  {
   "cell_type": "markdown",
   "id": "01fc0fc4",
   "metadata": {
    "slideshow": {
     "slide_type": "slide"
    }
   },
   "source": [
    "### Comparing models\n",
    "\n",
    "If we want to compute the RMSE of our model on the training data, we need to find its predictions on every row in the training data, `tips`."
   ]
  },
  {
   "cell_type": "code",
   "execution_count": null,
   "id": "3c3483d9",
   "metadata": {},
   "outputs": [],
   "source": [
    "all_preds = ..."
   ]
  },
  {
   "cell_type": "code",
   "execution_count": null,
   "id": "b4d84da7",
   "metadata": {},
   "outputs": [],
   "source": [
    "...\n",
    "rmse_dict"
   ]
  },
  {
   "cell_type": "markdown",
   "id": "9319bc0f",
   "metadata": {
    "slideshow": {
     "slide_type": "fragment"
    }
   },
   "source": [
    "- The RMSE of our simple linear model is **lower** than that of our constant model, which means it does a **better job** at modeling the training data than our constant model.\n",
    "\n",
    "- In theory, it's impossible for the RMSE **on the training data** to increase as we add more features to the same model. However, the RMSE may increase on **unseen data** by adding more features; we'll discuss this idea more soon."
   ]
  },
  {
   "cell_type": "markdown",
   "id": "6ba92a68",
   "metadata": {
    "slideshow": {
     "slide_type": "slide"
    }
   },
   "source": [
    "## 🙋🙋🏽‍♀️ Questions?\n",
    "\n",
    "https://app.sli.do/event/2LZSnXWNpGPiuVnCZMa5J8\n",
    "\n",
    "<center><img src=\"imgs/slido.svg\" width=\"30%\"></center>"
   ]
  },
  {
   "cell_type": "markdown",
   "id": "037400cb",
   "metadata": {
    "slideshow": {
     "slide_type": "slide"
    }
   },
   "source": [
    "### Model #3: Multiple linear regression using total bill and table size\n",
    "\n",
    "- There are still many features in `tips` we haven't touched:"
   ]
  },
  {
   "cell_type": "code",
   "execution_count": null,
   "id": "4bb05d2f",
   "metadata": {},
   "outputs": [],
   "source": [
    "tips.head()"
   ]
  },
  {
   "cell_type": "markdown",
   "id": "0bd72f28",
   "metadata": {
    "slideshow": {
     "slide_type": "fragment"
    }
   },
   "source": [
    "- Let's try using another feature – table size. Such a model would predict tips using:\n",
    "\n",
    "$$\\text{predicted tip} = w_0 + w_1 \\cdot \\text{total bill} + w_2 \\cdot \\text{table size}$$"
   ]
  },
  {
   "cell_type": "markdown",
   "id": "53b57e40",
   "metadata": {
    "slideshow": {
     "slide_type": "slide"
    }
   },
   "source": [
    "### Multiple linear regression\n",
    "\n",
    "To find the optimal parameters $w^*$, we will again use `sklearn`'s `LinearRegression` class. The code is not all that different!"
   ]
  },
  {
   "cell_type": "code",
   "execution_count": null,
   "id": "ce651f7f",
   "metadata": {},
   "outputs": [],
   "source": [
    "model_two = LinearRegression()\n",
    "model_two.fit()"
   ]
  },
  {
   "cell_type": "code",
   "execution_count": null,
   "id": "6c1ab753",
   "metadata": {},
   "outputs": [],
   "source": [
    "model_two.intercept_, model_two.coef_"
   ]
  },
  {
   "cell_type": "code",
   "execution_count": null,
   "id": "b5e18991",
   "metadata": {},
   "outputs": [],
   "source": [
    "test_pts = pd.DataFrame({'total_bill': [25], 'size': [4]})\n",
    "model_two.predict(test_pts)"
   ]
  },
  {
   "cell_type": "markdown",
   "id": "17b6967c",
   "metadata": {
    "slideshow": {
     "slide_type": "fragment"
    }
   },
   "source": [
    "What does this model _look_ like?"
   ]
  },
  {
   "cell_type": "markdown",
   "id": "77b9f722",
   "metadata": {
    "slideshow": {
     "slide_type": "slide"
    }
   },
   "source": [
    "### Plane of best fit ✈️\n",
    "\n",
    "Here, we must draw a 3D scatter plot and plane, with one axis for total bill, one axis for table size, and one axis for tip. The code below does this. Don't worry about understanding the code, just take a look at the plot:"
   ]
  },
  {
   "cell_type": "code",
   "execution_count": null,
   "id": "da66aed2",
   "metadata": {},
   "outputs": [],
   "source": [
    "XX, YY = np.mgrid[0:50:2, 0:8:1]\n",
    "Z = model_two.intercept_ + model_two.coef_[0] * XX + model_two.coef_[1] * YY\n",
    "plane = go.Surface(x=XX, y=YY, z=Z, colorscale='Oranges')\n",
    "\n",
    "fig = go.Figure(data=[plane])\n",
    "fig.add_trace(go.Scatter3d(x=tips['total_bill'], \n",
    "                           y=tips['size'], \n",
    "                           z=tips['tip'], mode='markers', marker = {'color': '#656DF1'}))\n",
    "\n",
    "fig.update_layout(scene=dict(xaxis_title='total bill',\n",
    "                             yaxis_title='table size',\n",
    "                             zaxis_title='tip'),\n",
    "                  title='Tip vs. Total Bill and Table Size',\n",
    "                  width=500, height=500)"
   ]
  },
  {
   "cell_type": "markdown",
   "id": "364ffbb0",
   "metadata": {
    "slideshow": {
     "slide_type": "slide"
    }
   },
   "source": [
    "### Comparing models, again \n",
    "\n",
    "How does our two-feature linear model stack up to our single feature linear model and our constant model?"
   ]
  },
  {
   "cell_type": "code",
   "execution_count": null,
   "id": "a1fdfb77",
   "metadata": {},
   "outputs": [],
   "source": [
    "rmse_dict['two features'] = rmse(\n",
    "    tips['tip'], model_two.predict(tips[['total_bill', 'size']])\n",
    ")"
   ]
  },
  {
   "cell_type": "code",
   "execution_count": null,
   "id": "5cb2f02f",
   "metadata": {},
   "outputs": [],
   "source": [
    "rmse_dict"
   ]
  },
  {
   "cell_type": "markdown",
   "id": "16f85ce7",
   "metadata": {
    "slideshow": {
     "slide_type": "fragment"
    }
   },
   "source": [
    "- The RMSE of our two-feature model is the lowest of the three models we've looked at so far, but not by much. We didn't **gain** much by adding table size to our linear model.\n",
    "\n",
    "- It's also not clear whether table sizes are practically useful in predicting tips."
   ]
  },
  {
   "cell_type": "markdown",
   "id": "bde7f997",
   "metadata": {
    "slideshow": {
     "slide_type": "slide"
    }
   },
   "source": [
    "### Residual Plots\n",
    "\n",
    "- One important technique for diagnosing model fit is the **residual plot**.\n",
    "- Residuals: $ y - H(x) $\n",
    "- Residual plot:\n",
    "    - X-axis: **predicted values $H(x)$**\n",
    "    - Y-axis: **residuals $ y - H(x) $**\n",
    "- Common mistake: putting observed values $y$ on x-axis instead of predicted values $H(x)$."
   ]
  },
  {
   "cell_type": "code",
   "execution_count": null,
   "id": "3cc9834d",
   "metadata": {},
   "outputs": [],
   "source": [
    "# Let's start with the single-variable model:\n",
    "..."
   ]
  },
  {
   "cell_type": "markdown",
   "id": "a20e8ea5",
   "metadata": {
    "slideshow": {
     "slide_type": "fragment"
    }
   },
   "source": [
    "- If all assumptions about linear regression hold, then residual plot should look randomly scattered around the y=0 line.\n",
    "- Here, we see that the model makes bigger mistakes for larger predicted values.\n",
    "- But overall, no apparent trend, so the linear model seems to fit data."
   ]
  },
  {
   "cell_type": "code",
   "execution_count": null,
   "id": "2a9f0ff1",
   "metadata": {
    "slideshow": {
     "slide_type": "slide"
    }
   },
   "outputs": [],
   "source": [
    "# What about the two-variable model?\n",
    "with_resid = tips.assign(\n",
    "    pred=model_two.predict(tips[['total_bill', 'size']]),\n",
    "    resid=tips['tip'] - model_two.predict(tips[['total_bill', 'size']]),\n",
    ")\n",
    "fig = px.scatter(with_resid, x='pred', y='resid')\n",
    "fig.add_hline(0, line_width=2, opacity=1)"
   ]
  },
  {
   "cell_type": "markdown",
   "id": "41ec8e1c",
   "metadata": {
    "slideshow": {
     "slide_type": "fragment"
    }
   },
   "source": [
    "- Looks about the same as the previous plot!"
   ]
  },
  {
   "cell_type": "markdown",
   "id": "035ef578",
   "metadata": {
    "slideshow": {
     "slide_type": "slide"
    }
   },
   "source": [
    "### Conclusion\n",
    "\n",
    "- We built three models:\n",
    "    - A constant model: $\\text{predicted tip} = h^*$.\n",
    "    - A simple linear regression model: $\\text{predicted tip} = w_0^* + w_1^* \\cdot \\text{total bill}$.\n",
    "    - A multiple linear regression model: $\\text{predicted tip} = w_0^* + w_1^* \\cdot \\text{total bill} + w_2^* \\cdot \\text{table size}$.\n",
    "- As we added more features, our RMSEs decreased.\n",
    "    - This was guaranteed to happen, since we were only looking at our training data.\n",
    "- It is not clear that the final linear model is actually \"better\"; it doesn't seem to **predict the variation in tips** better than the previous models."
   ]
  },
  {
   "cell_type": "markdown",
   "id": "0fe4723e",
   "metadata": {
    "slideshow": {
     "slide_type": "slide"
    }
   },
   "source": [
    "## 🙋🙋🏽‍♀️ Questions?\n",
    "\n",
    "https://app.sli.do/event/2LZSnXWNpGPiuVnCZMa5J8\n",
    "\n",
    "<center><img src=\"imgs/slido.svg\" width=\"30%\"></center>"
   ]
  },
  {
   "cell_type": "markdown",
   "id": "5807ae07",
   "metadata": {
    "slideshow": {
     "slide_type": "slide"
    }
   },
   "source": [
    "### The `.score` method of a `LinearRegression` object\n",
    "\n",
    "Model objects in `sklearn` that have already been fit have a `score` method."
   ]
  },
  {
   "cell_type": "code",
   "execution_count": null,
   "id": "4626137e",
   "metadata": {},
   "outputs": [],
   "source": [
    "..."
   ]
  },
  {
   "cell_type": "markdown",
   "id": "8a5bd253",
   "metadata": {
    "slideshow": {
     "slide_type": "fragment"
    }
   },
   "source": [
    "That doesn't look like the RMSE... what is it? 🤔"
   ]
  },
  {
   "cell_type": "markdown",
   "id": "81b29366",
   "metadata": {
    "slideshow": {
     "slide_type": "slide"
    }
   },
   "source": [
    "### Aside: $R^2$\n",
    "\n",
    "- $R^2$, or the **coefficient of determination**, is a measure of the **quality of a linear fit**.\n",
    "\n",
    "- There are a few equivalent ways of computing it, assuming your model **is linear and has an intercept term**:\n",
    "\n",
    "$$R^2 = \\frac{\\text{var}(\\text{predicted $y$ values})}{\\text{var}(\\text{actual $y$ values})}$$\n",
    "\n",
    "$$R^2 = \\left[ \\text{correlation}(\\text{predicted $y$ values}, \\text{actual $y$ values}) \\right]^2$$\n",
    "\n",
    "\n",
    "- Interpretation: $R^2$ is the **proportion of variance in $y$ that the linear model explains**.\n",
    "\n",
    "- In the simple linear regression case, it is the square of the correlation coefficient, $r$.\n",
    "\n",
    "- **Key idea:** $R^2$ ranges from 0 to 1. **The closer it is to 1, the better the linear fit is.**\n",
    "    - $R^2$ has no units of measurement, unlike RMSE.\n"
   ]
  },
  {
   "cell_type": "markdown",
   "id": "10277e74",
   "metadata": {
    "slideshow": {
     "slide_type": "slide"
    }
   },
   "source": [
    "### Calculating $R^2$\n",
    "\n",
    "`pred` contains `model_two`'s predicted `'tip'` for every row in `tips`."
   ]
  },
  {
   "cell_type": "code",
   "execution_count": null,
   "id": "82052b43",
   "metadata": {},
   "outputs": [],
   "source": [
    "tips.head()"
   ]
  },
  {
   "cell_type": "code",
   "execution_count": null,
   "id": "fb68507b",
   "metadata": {
    "scrolled": true
   },
   "outputs": [],
   "source": [
    "pred = tips.assign(predicted=model_two.predict(tips[['total_bill', 'size']]))\n",
    "pred"
   ]
  },
  {
   "cell_type": "markdown",
   "id": "57861383",
   "metadata": {
    "slideshow": {
     "slide_type": "fragment"
    }
   },
   "source": [
    "**Method 1: $R^2 = \\frac{\\text{var}(\\text{predicted $y$ values})}{\\text{var}(\\text{actual $y$ values})}$**\n"
   ]
  },
  {
   "cell_type": "code",
   "execution_count": null,
   "id": "2213f03d",
   "metadata": {},
   "outputs": [],
   "source": [
    "..."
   ]
  },
  {
   "cell_type": "markdown",
   "id": "011a91f3",
   "metadata": {
    "slideshow": {
     "slide_type": "fragment"
    }
   },
   "source": [
    "**Method 2:** $R^2 = \\left[ \\text{correlation}(\\text{predicted $y$ values}, \\text{actual $y$ values}) \\right]^2$\n",
    "\n",
    "Note: By correlation here, we are referring to $r$, the same correlation coefficient you saw in DSC 10."
   ]
  },
  {
   "cell_type": "code",
   "execution_count": null,
   "id": "f70b1a01",
   "metadata": {},
   "outputs": [],
   "source": [
    "..."
   ]
  },
  {
   "cell_type": "markdown",
   "id": "b64fe309",
   "metadata": {
    "slideshow": {
     "slide_type": "fragment"
    }
   },
   "source": [
    "**Method 3:** `LinearRegression.score`"
   ]
  },
  {
   "cell_type": "code",
   "execution_count": null,
   "id": "957ffe7f",
   "metadata": {
    "scrolled": true
   },
   "outputs": [],
   "source": [
    "..."
   ]
  },
  {
   "cell_type": "markdown",
   "id": "c6d3f084",
   "metadata": {},
   "source": [
    "All three methods provide the same result!"
   ]
  },
  {
   "cell_type": "markdown",
   "id": "8b3dd70c",
   "metadata": {
    "slideshow": {
     "slide_type": "slide"
    }
   },
   "source": [
    "### `LinearRegression` summary\n",
    "\n",
    "|Property|Example|Description|\n",
    "|---|---|---|\n",
    "|Initialize model parameters| `lr = LinearRegression()` | Create (empty) linear regression model|\n",
    "|Fit the model to the data | `lr.fit(X, y)` | Determines regression coefficients|\n",
    "|Use model for prediction |`lr.predict(X_new)`| Uses regression line to make predictions|\n",
    "|Evaluate the model| `lr.score(X, y)` | Calculates the $R^2$ of the LR model|\n",
    "|Access model attributes| `lr.coef_`, `lr.intercept_` | Accesses the regression coefficients and intercept|\n"
   ]
  },
  {
   "cell_type": "markdown",
   "id": "fefe9967",
   "metadata": {
    "slideshow": {
     "slide_type": "slide"
    }
   },
   "source": [
    "### What's next?"
   ]
  },
  {
   "cell_type": "code",
   "execution_count": null,
   "id": "3d0c5e1f",
   "metadata": {},
   "outputs": [],
   "source": [
    "tips.head()"
   ]
  },
  {
   "cell_type": "markdown",
   "id": "7153988b",
   "metadata": {
    "slideshow": {
     "slide_type": "fragment"
    }
   },
   "source": [
    "- So far, in our journey to predict `'tip'`, we've only used the existing numerical features in our dataset, `'total_bill'` and `'size'`.\n",
    "\n",
    "- There's a lot of information in tips that we didn't use – `'sex'`, `'smoker'`, `'day'`, and `'time'`, for example. We can't use these features in their current form, because they're non-numeric.\n",
    "\n",
    "- **How do we use categorical features in a regression model?**"
   ]
  },
  {
   "cell_type": "code",
   "execution_count": null,
   "id": "92a3dfd2",
   "metadata": {},
   "outputs": [],
   "source": []
  }
 ],
 "metadata": {
  "kernelspec": {
   "display_name": "Python 3 (ipykernel)",
   "language": "python",
   "name": "python3"
  },
  "language_info": {
   "codemirror_mode": {
    "name": "ipython",
    "version": 3
   },
   "file_extension": ".py",
   "mimetype": "text/x-python",
   "name": "python",
   "nbconvert_exporter": "python",
   "pygments_lexer": "ipython3",
   "version": "3.8.18"
  },
  "livereveal": {
   "scroll": true
  },
  "rise": {
   "transition": "none"
  }
 },
 "nbformat": 4,
 "nbformat_minor": 5
}
