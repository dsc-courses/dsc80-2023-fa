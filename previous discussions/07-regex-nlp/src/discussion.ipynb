{
 "cells": [
  {
   "cell_type": "raw",
   "metadata": {},
   "source": [
    "# ASSIGNMENT CONFIG\n",
    "files:\n",
    "    - data/laptop_details.csv\n",
    "    - data/musical_instruments_reviews.csv\n",
    "    - imgs/laptop_specs.PNG\n",
    "generate:\n",
    "    show_hidden: true\n",
    "    public_multiplier: 1\n",
    "init_cell: true\n",
    "export_cell: false\n",
    "environment: ./environment.yaml\n",
    "requirements:\n",
    "    - otter-grader==3.1.4\n",
    "    - bs4\n",
    "    - requests\n",
    "run_tests: false\n",
    "template_pdf: false"
   ]
  },
  {
   "cell_type": "markdown",
   "metadata": {},
   "source": [
    "# Discussion 07\n",
    "\n",
    "### Due Saturday Nov 19th, 11:59:59PM\n"
   ]
  },
  {
   "cell_type": "markdown",
   "metadata": {},
   "source": [
    "# Regex and NLP"
   ]
  },
  {
   "cell_type": "code",
   "execution_count": 1,
   "metadata": {},
   "outputs": [],
   "source": [
    "import os\n",
    "import numpy as np\n",
    "import pandas as pd\n",
    "import requests\n",
    "import time\n",
    "import re"
   ]
  },
  {
   "cell_type": "code",
   "execution_count": 2,
   "metadata": {},
   "outputs": [],
   "source": [
    "%load_ext autoreload\n",
    "%autoreload 2"
   ]
  },
  {
   "cell_type": "code",
   "execution_count": 3,
   "metadata": {},
   "outputs": [],
   "source": [
    "# from discussion import *"
   ]
  },
  {
   "cell_type": "code",
   "execution_count": 4,
   "metadata": {
    "tags": [
     "to-py"
    ]
   },
   "outputs": [],
   "source": [
    "import os\n",
    "import numpy as np\n",
    "import pandas as pd\n",
    "import requests\n",
    "import time\n",
    "import re"
   ]
  },
  {
   "cell_type": "markdown",
   "metadata": {},
   "source": [
    "## Regular Expressions\n",
    "\n",
    "### Resources\n",
    "\n",
    "**Online Simulators**\n",
    "\n",
    " - https://pythex.org/\n",
    "\n",
    " - https://regex101.com/\n",
    " \n",
    "**Cheat sheets**\n",
    "\n",
    " - https://dsc80.com/resources/other/berkeley-regex-reference.pdf\n",
    "\n",
    " - https://www.debuggex.com/cheatsheet/regex/python\n",
    "\n",
    " - https://www.dataquest.io/wp-content/uploads/2019/03/python-regular-expressions-cheat-sheet.pdf"
   ]
  },
  {
   "cell_type": "raw",
   "metadata": {},
   "source": [
    "# BEGIN QUESTION\n",
    "name: q1"
   ]
  },
  {
   "cell_type": "markdown",
   "metadata": {},
   "source": [
    "**Question 1**: Identify duplicate words in a sentence\n",
    "\n",
    "Given an input sentence as a string, provide a list of words that are duplicated. If there is no duplication return an empty list\n",
    "\n",
    "**Hint 1:** Checkout capture groups and backreferencing in regex\n",
    "\n",
    "**Hint 2:** Use the online simulators with the doctests as test cases for faster experimentation and debugging"
   ]
  },
  {
   "cell_type": "raw",
   "metadata": {},
   "source": [
    "# BEGIN SOLUTION"
   ]
  },
  {
   "cell_type": "code",
   "execution_count": 5,
   "metadata": {
    "tags": [
     "to-py"
    ]
   },
   "outputs": [],
   "source": [
    "def duplicate_words(s):\n",
    "    \"\"\"\n",
    "    Provide a list of all words that are duplicates in an input sentence.\n",
    "    Assume that the sentences are lower case.\n",
    "\n",
    "    :Example:\n",
    "    >>> duplicate_words('let us plan for a horror movie movie this weekend')\n",
    "    ['movie']\n",
    "    >>> duplicate_words('I like surfing')\n",
    "    []\n",
    "    >>> duplicate_words('the class class is good but the tests tests tests are hard')\n",
    "    ['class', 'tests']\n",
    "    \"\"\"\n",
    "    # BEGIN SOLUTION\n",
    "    return re.findall(r'(\\b\\w+\\b)\\s+\\b\\1\\b',s)\n",
    "    # END SOLUTION"
   ]
  },
  {
   "cell_type": "raw",
   "metadata": {},
   "source": [
    "# END SOLUTION"
   ]
  },
  {
   "cell_type": "code",
   "execution_count": 6,
   "metadata": {},
   "outputs": [],
   "source": [
    "# Use capture group number to identify duplicates"
   ]
  },
  {
   "cell_type": "code",
   "execution_count": null,
   "metadata": {},
   "outputs": [],
   "source": []
  },
  {
   "cell_type": "raw",
   "metadata": {},
   "source": [
    "# BEGIN TESTS"
   ]
  },
  {
   "cell_type": "code",
   "execution_count": 7,
   "metadata": {},
   "outputs": [
    {
     "data": {
      "text/plain": [
       "True"
      ]
     },
     "execution_count": 7,
     "metadata": {},
     "output_type": "execute_result"
    }
   ],
   "source": [
    "\"\"\" # BEGIN TEST CONFIG\n",
    "points: 1\n",
    "failure_message: 'multiple duplicates'\n",
    "\"\"\" # END TEST CONFIG\n",
    "res = duplicate_words('I went to the market market with my my my family')\n",
    "res == ['market', 'my']"
   ]
  },
  {
   "cell_type": "code",
   "execution_count": 8,
   "metadata": {},
   "outputs": [
    {
     "data": {
      "text/plain": [
       "True"
      ]
     },
     "execution_count": 8,
     "metadata": {},
     "output_type": "execute_result"
    }
   ],
   "source": [
    "\"\"\" # BEGIN TEST CONFIG\n",
    "points: 1\n",
    "failure_message: 'no duplicates'\n",
    "\"\"\" # END TEST CONFIG\n",
    "res = duplicate_words('necessity is the mother of invention')\n",
    "res == []"
   ]
  },
  {
   "cell_type": "code",
   "execution_count": 9,
   "metadata": {},
   "outputs": [
    {
     "data": {
      "text/plain": [
       "True"
      ]
     },
     "execution_count": 9,
     "metadata": {},
     "output_type": "execute_result"
    }
   ],
   "source": [
    "\"\"\" # BEGIN TEST CONFIG\n",
    "points: 1\n",
    "failure_message: 'word boundary'\n",
    "\"\"\" # END TEST CONFIG\n",
    "res = duplicate_words('fair fairer fairest')\n",
    "res == []"
   ]
  },
  {
   "cell_type": "raw",
   "metadata": {},
   "source": [
    "# END TESTS"
   ]
  },
  {
   "cell_type": "raw",
   "metadata": {},
   "source": [
    "# END QUESTION"
   ]
  },
  {
   "cell_type": "raw",
   "metadata": {},
   "source": [
    "# BEGIN QUESTION\n",
    "name: q2"
   ]
  },
  {
   "cell_type": "markdown",
   "metadata": {},
   "source": [
    "**Question 2**: Extract laptop specifications\n",
    "\n",
    "Given a df with product description - Return df with added columns of `processor` (i3, i5), `generation` (9th Gen, 10th Gen), `storage` (512 GB SSD, 1 TB HDD), `display_in_inch` (15.6 inch, 14 inch). The below image provides details on column names and the exact patterns.\n",
    "\n",
    "If there is no specific information present, keep a null (`NaN`) value.\n",
    "\n",
    "**Hint:** You can write regex patterns in `.str.extract()` pandas methods. Note that this method may return multiple columns based on the number of capture groups present.\n",
    "\n",
    "<img src='imgs/laptop_specs.PNG'>"
   ]
  },
  {
   "cell_type": "raw",
   "metadata": {},
   "source": [
    "# BEGIN SOLUTION"
   ]
  },
  {
   "cell_type": "code",
   "execution_count": 10,
   "metadata": {
    "tags": [
     "to-py"
    ]
   },
   "outputs": [],
   "source": [
    "def laptop_details(df):\n",
    "    \"\"\"\n",
    "    Given a df with product description - Return df with added columns of \n",
    "    processor (i3, i5), generation (9th Gen, 10th Gen), \n",
    "    storage (512 GB SSD, 1 TB HDD), display_inch (15.6 inch, 14 inch)\n",
    "\n",
    "    :Example:\n",
    "    >>> df = pd.read_csv('data/laptop_details.csv')\n",
    "    >>> new_df = laptop_details(df)\n",
    "    >>> new_df.shape\n",
    "    (21, 5)\n",
    "    >>> new_df['processor'].nunique()\n",
    "    3\n",
    "    \"\"\"\n",
    "    # BEGIN SOLUTION\n",
    "    df_copy = df.copy()\n",
    "    df_copy['processor'] = df_copy['laptop_description'].str.extract(r'(\\bi[0-9]\\b)')\n",
    "    df_copy['generation'] = df_copy['laptop_description'].str.extract(r'([0-9]{1,2}\\w{2}\\s+Gen)')\n",
    "    df_copy['storage'] = df_copy['laptop_description'].str.extract(r'([0-9]{,3}\\s+(G|T)B\\s+(SSD|HDD))')[0]\n",
    "    df_copy['display_inch'] = df_copy['laptop_description'].str.extract(r'([0-9]{2}(\\.[0-9]{1,2})?\\s+inch)')[0]\n",
    "\n",
    "    return df_copy\n",
    "    # END SOLUTION"
   ]
  },
  {
   "cell_type": "raw",
   "metadata": {},
   "source": [
    "# END SOLUTION"
   ]
  },
  {
   "cell_type": "code",
   "execution_count": 11,
   "metadata": {},
   "outputs": [],
   "source": [
    "# Use 'pd_column.str.extract(r'pattern')' to extract the required pattern\n",
    "df = pd.read_csv('data/laptop_details.csv')"
   ]
  },
  {
   "cell_type": "code",
   "execution_count": null,
   "metadata": {},
   "outputs": [],
   "source": []
  },
  {
   "cell_type": "code",
   "execution_count": 12,
   "metadata": {},
   "outputs": [],
   "source": [
    "# don't change this cell -- it is needed for the tests to work\n",
    "out = laptop_details(pd.read_csv('data/laptop_details.csv'))"
   ]
  },
  {
   "cell_type": "raw",
   "metadata": {},
   "source": [
    "# BEGIN TESTS"
   ]
  },
  {
   "cell_type": "code",
   "execution_count": 13,
   "metadata": {},
   "outputs": [
    {
     "data": {
      "text/plain": [
       "True"
      ]
     },
     "execution_count": 13,
     "metadata": {},
     "output_type": "execute_result"
    }
   ],
   "source": [
    "\"\"\" # BEGIN TEST CONFIG\n",
    "points: 1\n",
    "failure_message: 'doctest: shape'\n",
    "\"\"\" # END TEST CONFIG\n",
    "out.shape == (21, 5)"
   ]
  },
  {
   "cell_type": "code",
   "execution_count": 14,
   "metadata": {},
   "outputs": [
    {
     "data": {
      "text/plain": [
       "True"
      ]
     },
     "execution_count": 14,
     "metadata": {},
     "output_type": "execute_result"
    }
   ],
   "source": [
    "\"\"\" # BEGIN TEST CONFIG\n",
    "points: 1\n",
    "failure_message: 'doctest: unique generations'\n",
    "\"\"\" # END TEST CONFIG\n",
    "out['generation'].nunique() == 4"
   ]
  },
  {
   "cell_type": "code",
   "execution_count": 15,
   "metadata": {},
   "outputs": [
    {
     "data": {
      "text/plain": [
       "True"
      ]
     },
     "execution_count": 15,
     "metadata": {},
     "output_type": "execute_result"
    }
   ],
   "source": [
    "\"\"\" # BEGIN TEST CONFIG\n",
    "points: 2\n",
    "failure_message: 'first row'\n",
    "\"\"\" # END TEST CONFIG\n",
    "list(out.iloc[0].values)[1:] == ['i5', '9th Gen', '512 GB SSD', '15.65 inch']"
   ]
  },
  {
   "cell_type": "code",
   "execution_count": 16,
   "metadata": {},
   "outputs": [
    {
     "data": {
      "text/plain": [
       "True"
      ]
     },
     "execution_count": 16,
     "metadata": {},
     "output_type": "execute_result"
    }
   ],
   "source": [
    "\"\"\" # BEGIN TEST CONFIG\n",
    "points: 1\n",
    "failure_message: 'last row'\n",
    "\"\"\" # END TEST CONFIG\n",
    "list(out.iloc[-1].values)[1:] == ['i7', '9th Gen', '512 GB SSD', '15.6 inch']"
   ]
  },
  {
   "cell_type": "code",
   "execution_count": 17,
   "metadata": {},
   "outputs": [
    {
     "data": {
      "text/plain": [
       "True"
      ]
     },
     "execution_count": 17,
     "metadata": {},
     "output_type": "execute_result"
    }
   ],
   "source": [
    "\"\"\" # BEGIN TEST CONFIG\n",
    "points: 2\n",
    "failure_message: 'doctest: average display inches'\n",
    "\"\"\" # END TEST CONFIG\n",
    "avg_display_inch = out['display_inch'].str.split().str[0].astype(float).mean()\n",
    "np.isclose(avg_display_inch, 14.795000000000002, atol=0.01)"
   ]
  },
  {
   "cell_type": "raw",
   "metadata": {},
   "source": [
    "# END TESTS"
   ]
  },
  {
   "cell_type": "raw",
   "metadata": {},
   "source": [
    "# END QUESTION"
   ]
  },
  {
   "cell_type": "markdown",
   "metadata": {},
   "source": [
    "## Natural Language Processing - Dealing with Text Data\n",
    "\n",
    "- Unstructured data is everywhere - Everything you read, see and listen\n",
    "- Quantifying text data and extracting features from it is important to generate insights and build models\n",
    "\n",
    "\n",
    "- Text representation ia a huge area of study - Representing a piece of text as a vector of numbers (BoW, TF-IDF, semantic embeddings etc.)\n",
    "\n",
    "- In this section, we will focus on Bag-of-Words representations using uni-grams and bi-grams"
   ]
  },
  {
   "cell_type": "markdown",
   "metadata": {},
   "source": [
    "Let's use the musical instuments reviews dataset which contains information on reviews and ratings."
   ]
  },
  {
   "cell_type": "code",
   "execution_count": 18,
   "metadata": {},
   "outputs": [
    {
     "data": {
      "text/html": [
       "<div>\n",
       "<style scoped>\n",
       "    .dataframe tbody tr th:only-of-type {\n",
       "        vertical-align: middle;\n",
       "    }\n",
       "\n",
       "    .dataframe tbody tr th {\n",
       "        vertical-align: top;\n",
       "    }\n",
       "\n",
       "    .dataframe thead th {\n",
       "        text-align: right;\n",
       "    }\n",
       "</style>\n",
       "<table border=\"1\" class=\"dataframe\">\n",
       "  <thead>\n",
       "    <tr style=\"text-align: right;\">\n",
       "      <th></th>\n",
       "      <th>reviewerID</th>\n",
       "      <th>reviewText</th>\n",
       "      <th>overall</th>\n",
       "      <th>summary</th>\n",
       "    </tr>\n",
       "  </thead>\n",
       "  <tbody>\n",
       "    <tr>\n",
       "      <th>0</th>\n",
       "      <td>A2IBPI20UZIR0U</td>\n",
       "      <td>Not much to write about here, but it does exac...</td>\n",
       "      <td>5</td>\n",
       "      <td>good</td>\n",
       "    </tr>\n",
       "    <tr>\n",
       "      <th>1</th>\n",
       "      <td>A14VAT5EAX3D9S</td>\n",
       "      <td>The product does exactly as it should and is q...</td>\n",
       "      <td>5</td>\n",
       "      <td>Jake</td>\n",
       "    </tr>\n",
       "    <tr>\n",
       "      <th>2</th>\n",
       "      <td>A195EZSQDW3E21</td>\n",
       "      <td>The primary job of this device is to block the...</td>\n",
       "      <td>5</td>\n",
       "      <td>It Does The Job Well</td>\n",
       "    </tr>\n",
       "    <tr>\n",
       "      <th>3</th>\n",
       "      <td>A2C00NNG1ZQQG2</td>\n",
       "      <td>Nice windscreen protects my MXL mic and preven...</td>\n",
       "      <td>5</td>\n",
       "      <td>GOOD WINDSCREEN FOR THE MONEY</td>\n",
       "    </tr>\n",
       "    <tr>\n",
       "      <th>4</th>\n",
       "      <td>A94QU4C90B1AX</td>\n",
       "      <td>This pop filter is great. It looks and perform...</td>\n",
       "      <td>5</td>\n",
       "      <td>No more pops when I record my vocals.</td>\n",
       "    </tr>\n",
       "    <tr>\n",
       "      <th>...</th>\n",
       "      <td>...</td>\n",
       "      <td>...</td>\n",
       "      <td>...</td>\n",
       "      <td>...</td>\n",
       "    </tr>\n",
       "    <tr>\n",
       "      <th>195</th>\n",
       "      <td>A2DKLC2FJTY9OI</td>\n",
       "      <td>Good all around mike. If you are looking for a...</td>\n",
       "      <td>5</td>\n",
       "      <td>Best in price range</td>\n",
       "    </tr>\n",
       "    <tr>\n",
       "      <th>196</th>\n",
       "      <td>A1MI9FDCNB3CMR</td>\n",
       "      <td>Seriously?  The Shure SM57 sets the standard, ...</td>\n",
       "      <td>5</td>\n",
       "      <td>Industry Standard</td>\n",
       "    </tr>\n",
       "    <tr>\n",
       "      <th>197</th>\n",
       "      <td>A37AQI4AU3JWSR</td>\n",
       "      <td>If it's good enough to track Tom Petty's vox o...</td>\n",
       "      <td>5</td>\n",
       "      <td>Classic. the last of Shures good mics</td>\n",
       "    </tr>\n",
       "    <tr>\n",
       "      <th>198</th>\n",
       "      <td>A37U8NH2CD9EDX</td>\n",
       "      <td>There's a reason every mic cabinet has at leas...</td>\n",
       "      <td>5</td>\n",
       "      <td>It's an SM57, what's there to say?</td>\n",
       "    </tr>\n",
       "    <tr>\n",
       "      <th>199</th>\n",
       "      <td>A319B090A2POEB</td>\n",
       "      <td>I use this to mic snare drums and sometimes gu...</td>\n",
       "      <td>4</td>\n",
       "      <td>The old stand by</td>\n",
       "    </tr>\n",
       "  </tbody>\n",
       "</table>\n",
       "<p>200 rows × 4 columns</p>\n",
       "</div>"
      ],
      "text/plain": [
       "         reviewerID                                         reviewText  \\\n",
       "0    A2IBPI20UZIR0U  Not much to write about here, but it does exac...   \n",
       "1    A14VAT5EAX3D9S  The product does exactly as it should and is q...   \n",
       "2    A195EZSQDW3E21  The primary job of this device is to block the...   \n",
       "3    A2C00NNG1ZQQG2  Nice windscreen protects my MXL mic and preven...   \n",
       "4     A94QU4C90B1AX  This pop filter is great. It looks and perform...   \n",
       "..              ...                                                ...   \n",
       "195  A2DKLC2FJTY9OI  Good all around mike. If you are looking for a...   \n",
       "196  A1MI9FDCNB3CMR  Seriously?  The Shure SM57 sets the standard, ...   \n",
       "197  A37AQI4AU3JWSR  If it's good enough to track Tom Petty's vox o...   \n",
       "198  A37U8NH2CD9EDX  There's a reason every mic cabinet has at leas...   \n",
       "199  A319B090A2POEB  I use this to mic snare drums and sometimes gu...   \n",
       "\n",
       "     overall                                summary  \n",
       "0          5                                   good  \n",
       "1          5                                   Jake  \n",
       "2          5                   It Does The Job Well  \n",
       "3          5          GOOD WINDSCREEN FOR THE MONEY  \n",
       "4          5  No more pops when I record my vocals.  \n",
       "..       ...                                    ...  \n",
       "195        5                    Best in price range  \n",
       "196        5                      Industry Standard  \n",
       "197        5  Classic. the last of Shures good mics  \n",
       "198        5     It's an SM57, what's there to say?  \n",
       "199        4                       The old stand by  \n",
       "\n",
       "[200 rows x 4 columns]"
      ]
     },
     "execution_count": 18,
     "metadata": {},
     "output_type": "execute_result"
    }
   ],
   "source": [
    "review_df = pd.read_csv('data/musical_instruments_reviews.csv')\n",
    "review_df"
   ]
  },
  {
   "cell_type": "markdown",
   "metadata": {},
   "source": [
    "### N-grams in text\n",
    "\n",
    " - uni-gram consists of a single word from a text sequence\n",
    " - Extending this, an n-gram consists of consecutive 'n' words from a text sequence\n",
    " - Eg. For `text = 'i love data science'`, uni-grams are `['i', 'love', 'data', 'science']`, bi-grams are `['i love', 'love data', 'data science']`"
   ]
  },
  {
   "cell_type": "markdown",
   "metadata": {},
   "source": [
    "### Getting the uni-grams and their counts"
   ]
  },
  {
   "cell_type": "code",
   "execution_count": 19,
   "metadata": {},
   "outputs": [],
   "source": [
    "# First normalize the reviews by converting to lower and removing all puntuations\n",
    "reviews = review_df['reviewText'].str.lower().str.replace('[^\\w\\s]','', regex=True)\n",
    "reviews = reviews.tolist()\n",
    "# reviews"
   ]
  },
  {
   "cell_type": "code",
   "execution_count": 20,
   "metadata": {},
   "outputs": [
    {
     "data": {
      "text/plain": [
       "['not', 'much', 'to', 'write', 'about', 'here', 'but', 'it', 'does', 'exactly']"
      ]
     },
     "execution_count": 20,
     "metadata": {},
     "output_type": "execute_result"
    }
   ],
   "source": [
    "# Getting all the unigrams from all the reviews\n",
    "unigrams = []\n",
    "for review in reviews:\n",
    "    words = review.split()\n",
    "    unigrams.extend(words)\n",
    "unigrams[:10]"
   ]
  },
  {
   "cell_type": "code",
   "execution_count": 21,
   "metadata": {},
   "outputs": [
    {
     "data": {
      "text/plain": [
       "the             539\n",
       "a               364\n",
       "i               360\n",
       "and             346\n",
       "to              342\n",
       "               ... \n",
       "canon             1\n",
       "pc                1\n",
       "forget            1\n",
       "recordersbut      1\n",
       "living            1\n",
       "Length: 2201, dtype: int64"
      ]
     },
     "execution_count": 21,
     "metadata": {},
     "output_type": "execute_result"
    }
   ],
   "source": [
    "# Getting unigram counts\n",
    "pd.Series(unigrams).value_counts()"
   ]
  },
  {
   "cell_type": "markdown",
   "metadata": {},
   "source": [
    "- Does this make sense? Both the values and their counts?\n",
    "- What are the positives/drawbacks of using unigram bag-of-words for text representations?"
   ]
  },
  {
   "cell_type": "markdown",
   "metadata": {},
   "source": [
    "### How does 'reviewText' differ from 'summary'?"
   ]
  },
  {
   "cell_type": "code",
   "execution_count": 22,
   "metadata": {},
   "outputs": [
    {
     "data": {
      "text/plain": [
       "good         45\n",
       "the          38\n",
       "cable        38\n",
       "great        28\n",
       "for          25\n",
       "             ..\n",
       "easily        1\n",
       "breaking      1\n",
       "complaint     1\n",
       "which         1\n",
       "by            1\n",
       "Length: 328, dtype: int64"
      ]
     },
     "execution_count": 22,
     "metadata": {},
     "output_type": "execute_result"
    }
   ],
   "source": [
    "reviews = review_df['summary'].str.lower().str.replace('[^\\w\\s]','', regex=True)\n",
    "reviews = reviews.tolist()\n",
    "\n",
    "# Getting all the unigrams from all the reviews\n",
    "unigrams = []\n",
    "for review in reviews:\n",
    "    words = review.split()\n",
    "    unigrams.extend(words)\n",
    "\n",
    "pd.Series(unigrams).value_counts()"
   ]
  },
  {
   "cell_type": "raw",
   "metadata": {},
   "source": [
    "# BEGIN QUESTION\n",
    "name: q3"
   ]
  },
  {
   "cell_type": "markdown",
   "metadata": {},
   "source": [
    "**Question 3**: Create bi-gram counts of the whole reviews text corpus.\n",
    "\n",
    "Given a DataFrame like `review_df` and a column string (either `reviewText` or `summary`),\n",
    "return a Series with bi-gram counts of that column sorted in descending order. The index of the series should be a tuple of bi-grams and the value should indicate the count of times that bi-gram appears in the whole corpus.\n",
    "\n",
    "Perform the text normalization (lower case conversion and removing all punctuations) like we did in the uni-gram case before creating bi-gram counts.\n",
    "\n",
    "**Hint:** Use splitting and zipping to create bi-gram combinations"
   ]
  },
  {
   "cell_type": "raw",
   "metadata": {},
   "source": [
    "# BEGIN SOLUTION"
   ]
  },
  {
   "cell_type": "code",
   "execution_count": 23,
   "metadata": {
    "tags": [
     "to-py"
    ]
   },
   "outputs": [],
   "source": [
    "def bigram_counts(review_df, column='reviewText'):\n",
    "    \"\"\"\n",
    "    Given a DataFrame like `review_df`, return a Series with bi-gram counts sorted in descending order. \n",
    "    The index of the series should be a tuple of bi-grams \n",
    "    and the value should indicate the count of times that bi-gram appears in the whole corpus.\n",
    "\n",
    "    :Example:\n",
    "    >>> out_bigrams_text = bigram_counts(pd.read_csv('data/musical_instruments_reviews.csv'), 'reviewText')\n",
    "    >>> isinstance(out_bigrams_text, pd.Series)\n",
    "    True\n",
    "    >>> out_bigrams_text.shape == (8470,)\n",
    "    True\n",
    "    >>> out_bigrams_text.index[0] == ('for', 'the')\n",
    "    True\n",
    "    \"\"\"\n",
    "    # BEGIN SOLUTION\n",
    "    reviews = review_df[column].str.lower().str.replace('[^\\w\\s]','', regex=True)\n",
    "    reviews = reviews.tolist()\n",
    "\n",
    "    bigrams = []\n",
    "\n",
    "    for r in reviews:\n",
    "        words = r.split()\n",
    "        for b in zip(words[:-1], words[1:]):\n",
    "            bigrams.append(b)\n",
    "\n",
    "    bigrams = pd.Series(bigrams).value_counts()\n",
    "\n",
    "    return bigrams\n",
    "    # END SOLUTION"
   ]
  },
  {
   "cell_type": "raw",
   "metadata": {},
   "source": [
    "# END SOLUTION"
   ]
  },
  {
   "cell_type": "code",
   "execution_count": 24,
   "metadata": {},
   "outputs": [
    {
     "data": {
      "text/html": [
       "<div>\n",
       "<style scoped>\n",
       "    .dataframe tbody tr th:only-of-type {\n",
       "        vertical-align: middle;\n",
       "    }\n",
       "\n",
       "    .dataframe tbody tr th {\n",
       "        vertical-align: top;\n",
       "    }\n",
       "\n",
       "    .dataframe thead th {\n",
       "        text-align: right;\n",
       "    }\n",
       "</style>\n",
       "<table border=\"1\" class=\"dataframe\">\n",
       "  <thead>\n",
       "    <tr style=\"text-align: right;\">\n",
       "      <th></th>\n",
       "      <th>reviewerID</th>\n",
       "      <th>reviewText</th>\n",
       "      <th>overall</th>\n",
       "      <th>summary</th>\n",
       "    </tr>\n",
       "  </thead>\n",
       "  <tbody>\n",
       "    <tr>\n",
       "      <th>0</th>\n",
       "      <td>A2IBPI20UZIR0U</td>\n",
       "      <td>Not much to write about here, but it does exac...</td>\n",
       "      <td>5</td>\n",
       "      <td>good</td>\n",
       "    </tr>\n",
       "    <tr>\n",
       "      <th>1</th>\n",
       "      <td>A14VAT5EAX3D9S</td>\n",
       "      <td>The product does exactly as it should and is q...</td>\n",
       "      <td>5</td>\n",
       "      <td>Jake</td>\n",
       "    </tr>\n",
       "    <tr>\n",
       "      <th>2</th>\n",
       "      <td>A195EZSQDW3E21</td>\n",
       "      <td>The primary job of this device is to block the...</td>\n",
       "      <td>5</td>\n",
       "      <td>It Does The Job Well</td>\n",
       "    </tr>\n",
       "    <tr>\n",
       "      <th>3</th>\n",
       "      <td>A2C00NNG1ZQQG2</td>\n",
       "      <td>Nice windscreen protects my MXL mic and preven...</td>\n",
       "      <td>5</td>\n",
       "      <td>GOOD WINDSCREEN FOR THE MONEY</td>\n",
       "    </tr>\n",
       "    <tr>\n",
       "      <th>4</th>\n",
       "      <td>A94QU4C90B1AX</td>\n",
       "      <td>This pop filter is great. It looks and perform...</td>\n",
       "      <td>5</td>\n",
       "      <td>No more pops when I record my vocals.</td>\n",
       "    </tr>\n",
       "  </tbody>\n",
       "</table>\n",
       "</div>"
      ],
      "text/plain": [
       "       reviewerID                                         reviewText  overall  \\\n",
       "0  A2IBPI20UZIR0U  Not much to write about here, but it does exac...        5   \n",
       "1  A14VAT5EAX3D9S  The product does exactly as it should and is q...        5   \n",
       "2  A195EZSQDW3E21  The primary job of this device is to block the...        5   \n",
       "3  A2C00NNG1ZQQG2  Nice windscreen protects my MXL mic and preven...        5   \n",
       "4   A94QU4C90B1AX  This pop filter is great. It looks and perform...        5   \n",
       "\n",
       "                                 summary  \n",
       "0                                   good  \n",
       "1                                   Jake  \n",
       "2                   It Does The Job Well  \n",
       "3          GOOD WINDSCREEN FOR THE MONEY  \n",
       "4  No more pops when I record my vocals.  "
      ]
     },
     "execution_count": 24,
     "metadata": {},
     "output_type": "execute_result"
    }
   ],
   "source": [
    "review_df.head()"
   ]
  },
  {
   "cell_type": "code",
   "execution_count": null,
   "metadata": {},
   "outputs": [],
   "source": []
  },
  {
   "cell_type": "code",
   "execution_count": 25,
   "metadata": {},
   "outputs": [],
   "source": [
    "# don't change this cell -- it is needed for the tests to work\n",
    "out_bigrams_text = bigram_counts(pd.read_csv('data/musical_instruments_reviews.csv'), 'reviewText')\n",
    "out_bigrams_summary = bigram_counts(pd.read_csv('data/musical_instruments_reviews.csv'), 'summary')"
   ]
  },
  {
   "cell_type": "raw",
   "metadata": {},
   "source": [
    "# BEGIN TESTS"
   ]
  },
  {
   "cell_type": "code",
   "execution_count": 26,
   "metadata": {},
   "outputs": [
    {
     "data": {
      "text/plain": [
       "True"
      ]
     },
     "execution_count": 26,
     "metadata": {},
     "output_type": "execute_result"
    }
   ],
   "source": [
    "\"\"\" # BEGIN TEST CONFIG\n",
    "points: 0.5\n",
    "failure_message: 'doctest: check datatype'\n",
    "\"\"\" # END TEST CONFIG\n",
    "isinstance(out_bigrams_text, pd.Series)"
   ]
  },
  {
   "cell_type": "code",
   "execution_count": 27,
   "metadata": {},
   "outputs": [
    {
     "data": {
      "text/plain": [
       "True"
      ]
     },
     "execution_count": 27,
     "metadata": {},
     "output_type": "execute_result"
    }
   ],
   "source": [
    "\"\"\" # BEGIN TEST CONFIG\n",
    "points: 0.5\n",
    "failure_message: 'doctest: shape'\n",
    "\"\"\" # END TEST CONFIG\n",
    "out_bigrams_text.shape == (8470,)"
   ]
  },
  {
   "cell_type": "code",
   "execution_count": 28,
   "metadata": {},
   "outputs": [
    {
     "data": {
      "text/plain": [
       "True"
      ]
     },
     "execution_count": 28,
     "metadata": {},
     "output_type": "execute_result"
    }
   ],
   "source": [
    "\"\"\" # BEGIN TEST CONFIG\n",
    "points: 0.5\n",
    "failure_message: 'doctest: first index'\n",
    "\"\"\" # END TEST CONFIG\n",
    "out_bigrams_text.index[0] == ('for', 'the')"
   ]
  },
  {
   "cell_type": "code",
   "execution_count": 29,
   "metadata": {},
   "outputs": [
    {
     "data": {
      "text/plain": [
       "True"
      ]
     },
     "execution_count": 29,
     "metadata": {},
     "output_type": "execute_result"
    }
   ],
   "source": [
    "\"\"\" # BEGIN TEST CONFIG\n",
    "points: 0.5\n",
    "failure_message: 'doctest: first value'\n",
    "\"\"\" # END TEST CONFIG\n",
    "out_bigrams_text[0] == 36"
   ]
  },
  {
   "cell_type": "code",
   "execution_count": 30,
   "metadata": {},
   "outputs": [
    {
     "data": {
      "text/plain": [
       "True"
      ]
     },
     "execution_count": 30,
     "metadata": {},
     "output_type": "execute_result"
    }
   ],
   "source": [
    "\"\"\" # BEGIN TEST CONFIG\n",
    "points: 0.5\n",
    "failure_message: 'sum of counts'\n",
    "\"\"\" # END TEST CONFIG\n",
    "out_bigrams_text.sum() == 12116"
   ]
  },
  {
   "cell_type": "code",
   "execution_count": 31,
   "metadata": {},
   "outputs": [
    {
     "data": {
      "text/plain": [
       "True"
      ]
     },
     "execution_count": 31,
     "metadata": {},
     "output_type": "execute_result"
    }
   ],
   "source": [
    "\"\"\" # BEGIN TEST CONFIG\n",
    "points: 0.5\n",
    "failure_message: 'doctest: check datatype'\n",
    "\"\"\" # END TEST CONFIG\n",
    "isinstance(out_bigrams_summary, pd.Series)"
   ]
  },
  {
   "cell_type": "code",
   "execution_count": 32,
   "metadata": {},
   "outputs": [
    {
     "data": {
      "text/plain": [
       "True"
      ]
     },
     "execution_count": 32,
     "metadata": {},
     "output_type": "execute_result"
    }
   ],
   "source": [
    "\"\"\" # BEGIN TEST CONFIG\n",
    "points: 0.5\n",
    "failure_message: 'doctest: shape'\n",
    "\"\"\" # END TEST CONFIG\n",
    "out_bigrams_summary.shape == (559,)"
   ]
  },
  {
   "cell_type": "code",
   "execution_count": 33,
   "metadata": {},
   "outputs": [
    {
     "data": {
      "text/plain": [
       "True"
      ]
     },
     "execution_count": 33,
     "metadata": {},
     "output_type": "execute_result"
    }
   ],
   "source": [
    "\"\"\" # BEGIN TEST CONFIG\n",
    "points: 0.5\n",
    "failure_message: 'doctest: first index'\n",
    "\"\"\" # END TEST CONFIG\n",
    "out_bigrams_summary.index[1] == ('guitar', 'cable')"
   ]
  },
  {
   "cell_type": "code",
   "execution_count": 34,
   "metadata": {},
   "outputs": [
    {
     "data": {
      "text/plain": [
       "True"
      ]
     },
     "execution_count": 34,
     "metadata": {},
     "output_type": "execute_result"
    }
   ],
   "source": [
    "\"\"\" # BEGIN TEST CONFIG\n",
    "points: 0.5\n",
    "failure_message: 'doctest: first value'\n",
    "\"\"\" # END TEST CONFIG\n",
    "out_bigrams_summary[1] == 7"
   ]
  },
  {
   "cell_type": "code",
   "execution_count": 35,
   "metadata": {},
   "outputs": [
    {
     "data": {
      "text/plain": [
       "True"
      ]
     },
     "execution_count": 35,
     "metadata": {},
     "output_type": "execute_result"
    }
   ],
   "source": [
    "\"\"\" # BEGIN TEST CONFIG\n",
    "points: 0.5\n",
    "failure_message: 'sum of counts'\n",
    "\"\"\" # END TEST CONFIG\n",
    "out_bigrams_summary.sum() == 680"
   ]
  },
  {
   "cell_type": "raw",
   "metadata": {},
   "source": [
    "# END TESTS"
   ]
  },
  {
   "cell_type": "raw",
   "metadata": {},
   "source": [
    "# END QUESTION"
   ]
  },
  {
   "cell_type": "markdown",
   "metadata": {},
   "source": [
    "### Bag-of-Words\n",
    "\n",
    "- The bag of words model represents texts (e.g. review, summary) as vectors of word counts.\n",
    "- It is called 'bag of words' because it doesn't consider order."
   ]
  },
  {
   "cell_type": "markdown",
   "metadata": {},
   "source": [
    "### Creating the Bag-of-Words Count Matrix\n",
    "\n",
    "Let's create a BoW count matrix of 'summary' using 'bi-grams'"
   ]
  },
  {
   "cell_type": "code",
   "execution_count": 36,
   "metadata": {},
   "outputs": [
    {
     "data": {
      "text/plain": [
       "(for, the)          8\n",
       "(guitar, cable)     7\n",
       "(the, best)         6\n",
       "(it, works)         6\n",
       "(good, quality)     5\n",
       "                   ..\n",
       "(as, advertised)    1\n",
       "(low, cost)         1\n",
       "(its, purpose)      1\n",
       "(serves, its)       1\n",
       "(stand, by)         1\n",
       "Length: 559, dtype: int64"
      ]
     },
     "execution_count": 36,
     "metadata": {},
     "output_type": "execute_result"
    }
   ],
   "source": [
    "out_bigrams_summary = bigram_counts(pd.read_csv('data/musical_instruments_reviews.csv'), 'summary')\n",
    "out_bigrams_summary"
   ]
  },
  {
   "cell_type": "code",
   "execution_count": 37,
   "metadata": {},
   "outputs": [
    {
     "data": {
      "text/html": [
       "<div>\n",
       "<style scoped>\n",
       "    .dataframe tbody tr th:only-of-type {\n",
       "        vertical-align: middle;\n",
       "    }\n",
       "\n",
       "    .dataframe tbody tr th {\n",
       "        vertical-align: top;\n",
       "    }\n",
       "\n",
       "    .dataframe thead th {\n",
       "        text-align: right;\n",
       "    }\n",
       "</style>\n",
       "<table border=\"1\" class=\"dataframe\">\n",
       "  <thead>\n",
       "    <tr style=\"text-align: right;\">\n",
       "      <th></th>\n",
       "      <th>for the</th>\n",
       "      <th>guitar cable</th>\n",
       "      <th>the best</th>\n",
       "      <th>it works</th>\n",
       "      <th>good quality</th>\n",
       "      <th>the job</th>\n",
       "      <th>good for</th>\n",
       "      <th>the price</th>\n",
       "      <th>so far</th>\n",
       "      <th>works great</th>\n",
       "      <th>...</th>\n",
       "      <th>well built</th>\n",
       "      <th>quality guitar</th>\n",
       "      <th>nice high</th>\n",
       "      <th>for practice</th>\n",
       "      <th>perfect for</th>\n",
       "      <th>as advertised</th>\n",
       "      <th>low cost</th>\n",
       "      <th>its purpose</th>\n",
       "      <th>serves its</th>\n",
       "      <th>stand by</th>\n",
       "    </tr>\n",
       "  </thead>\n",
       "  <tbody>\n",
       "    <tr>\n",
       "      <th>0</th>\n",
       "      <td>0</td>\n",
       "      <td>0</td>\n",
       "      <td>0</td>\n",
       "      <td>0</td>\n",
       "      <td>0</td>\n",
       "      <td>0</td>\n",
       "      <td>0</td>\n",
       "      <td>0</td>\n",
       "      <td>0</td>\n",
       "      <td>0</td>\n",
       "      <td>...</td>\n",
       "      <td>0</td>\n",
       "      <td>0</td>\n",
       "      <td>0</td>\n",
       "      <td>0</td>\n",
       "      <td>0</td>\n",
       "      <td>0</td>\n",
       "      <td>0</td>\n",
       "      <td>0</td>\n",
       "      <td>0</td>\n",
       "      <td>0</td>\n",
       "    </tr>\n",
       "    <tr>\n",
       "      <th>1</th>\n",
       "      <td>0</td>\n",
       "      <td>0</td>\n",
       "      <td>0</td>\n",
       "      <td>0</td>\n",
       "      <td>0</td>\n",
       "      <td>0</td>\n",
       "      <td>0</td>\n",
       "      <td>0</td>\n",
       "      <td>0</td>\n",
       "      <td>0</td>\n",
       "      <td>...</td>\n",
       "      <td>0</td>\n",
       "      <td>0</td>\n",
       "      <td>0</td>\n",
       "      <td>0</td>\n",
       "      <td>0</td>\n",
       "      <td>0</td>\n",
       "      <td>0</td>\n",
       "      <td>0</td>\n",
       "      <td>0</td>\n",
       "      <td>0</td>\n",
       "    </tr>\n",
       "    <tr>\n",
       "      <th>2</th>\n",
       "      <td>0</td>\n",
       "      <td>0</td>\n",
       "      <td>0</td>\n",
       "      <td>0</td>\n",
       "      <td>0</td>\n",
       "      <td>1</td>\n",
       "      <td>0</td>\n",
       "      <td>0</td>\n",
       "      <td>0</td>\n",
       "      <td>0</td>\n",
       "      <td>...</td>\n",
       "      <td>0</td>\n",
       "      <td>0</td>\n",
       "      <td>0</td>\n",
       "      <td>0</td>\n",
       "      <td>0</td>\n",
       "      <td>0</td>\n",
       "      <td>0</td>\n",
       "      <td>0</td>\n",
       "      <td>0</td>\n",
       "      <td>0</td>\n",
       "    </tr>\n",
       "    <tr>\n",
       "      <th>3</th>\n",
       "      <td>1</td>\n",
       "      <td>0</td>\n",
       "      <td>0</td>\n",
       "      <td>0</td>\n",
       "      <td>0</td>\n",
       "      <td>0</td>\n",
       "      <td>0</td>\n",
       "      <td>0</td>\n",
       "      <td>0</td>\n",
       "      <td>0</td>\n",
       "      <td>...</td>\n",
       "      <td>0</td>\n",
       "      <td>0</td>\n",
       "      <td>0</td>\n",
       "      <td>0</td>\n",
       "      <td>0</td>\n",
       "      <td>0</td>\n",
       "      <td>0</td>\n",
       "      <td>0</td>\n",
       "      <td>0</td>\n",
       "      <td>0</td>\n",
       "    </tr>\n",
       "    <tr>\n",
       "      <th>4</th>\n",
       "      <td>0</td>\n",
       "      <td>0</td>\n",
       "      <td>0</td>\n",
       "      <td>0</td>\n",
       "      <td>0</td>\n",
       "      <td>0</td>\n",
       "      <td>0</td>\n",
       "      <td>0</td>\n",
       "      <td>0</td>\n",
       "      <td>0</td>\n",
       "      <td>...</td>\n",
       "      <td>0</td>\n",
       "      <td>0</td>\n",
       "      <td>0</td>\n",
       "      <td>0</td>\n",
       "      <td>0</td>\n",
       "      <td>0</td>\n",
       "      <td>0</td>\n",
       "      <td>0</td>\n",
       "      <td>0</td>\n",
       "      <td>0</td>\n",
       "    </tr>\n",
       "    <tr>\n",
       "      <th>...</th>\n",
       "      <td>...</td>\n",
       "      <td>...</td>\n",
       "      <td>...</td>\n",
       "      <td>...</td>\n",
       "      <td>...</td>\n",
       "      <td>...</td>\n",
       "      <td>...</td>\n",
       "      <td>...</td>\n",
       "      <td>...</td>\n",
       "      <td>...</td>\n",
       "      <td>...</td>\n",
       "      <td>...</td>\n",
       "      <td>...</td>\n",
       "      <td>...</td>\n",
       "      <td>...</td>\n",
       "      <td>...</td>\n",
       "      <td>...</td>\n",
       "      <td>...</td>\n",
       "      <td>...</td>\n",
       "      <td>...</td>\n",
       "      <td>...</td>\n",
       "    </tr>\n",
       "    <tr>\n",
       "      <th>195</th>\n",
       "      <td>0</td>\n",
       "      <td>0</td>\n",
       "      <td>0</td>\n",
       "      <td>0</td>\n",
       "      <td>0</td>\n",
       "      <td>0</td>\n",
       "      <td>0</td>\n",
       "      <td>0</td>\n",
       "      <td>0</td>\n",
       "      <td>0</td>\n",
       "      <td>...</td>\n",
       "      <td>0</td>\n",
       "      <td>0</td>\n",
       "      <td>0</td>\n",
       "      <td>0</td>\n",
       "      <td>0</td>\n",
       "      <td>0</td>\n",
       "      <td>0</td>\n",
       "      <td>0</td>\n",
       "      <td>0</td>\n",
       "      <td>0</td>\n",
       "    </tr>\n",
       "    <tr>\n",
       "      <th>196</th>\n",
       "      <td>0</td>\n",
       "      <td>0</td>\n",
       "      <td>0</td>\n",
       "      <td>0</td>\n",
       "      <td>0</td>\n",
       "      <td>0</td>\n",
       "      <td>0</td>\n",
       "      <td>0</td>\n",
       "      <td>0</td>\n",
       "      <td>0</td>\n",
       "      <td>...</td>\n",
       "      <td>0</td>\n",
       "      <td>0</td>\n",
       "      <td>0</td>\n",
       "      <td>0</td>\n",
       "      <td>0</td>\n",
       "      <td>0</td>\n",
       "      <td>0</td>\n",
       "      <td>0</td>\n",
       "      <td>0</td>\n",
       "      <td>0</td>\n",
       "    </tr>\n",
       "    <tr>\n",
       "      <th>197</th>\n",
       "      <td>0</td>\n",
       "      <td>0</td>\n",
       "      <td>0</td>\n",
       "      <td>0</td>\n",
       "      <td>0</td>\n",
       "      <td>0</td>\n",
       "      <td>0</td>\n",
       "      <td>0</td>\n",
       "      <td>0</td>\n",
       "      <td>0</td>\n",
       "      <td>...</td>\n",
       "      <td>0</td>\n",
       "      <td>0</td>\n",
       "      <td>0</td>\n",
       "      <td>0</td>\n",
       "      <td>0</td>\n",
       "      <td>0</td>\n",
       "      <td>0</td>\n",
       "      <td>0</td>\n",
       "      <td>0</td>\n",
       "      <td>0</td>\n",
       "    </tr>\n",
       "    <tr>\n",
       "      <th>198</th>\n",
       "      <td>0</td>\n",
       "      <td>0</td>\n",
       "      <td>0</td>\n",
       "      <td>0</td>\n",
       "      <td>0</td>\n",
       "      <td>0</td>\n",
       "      <td>0</td>\n",
       "      <td>0</td>\n",
       "      <td>0</td>\n",
       "      <td>0</td>\n",
       "      <td>...</td>\n",
       "      <td>0</td>\n",
       "      <td>0</td>\n",
       "      <td>0</td>\n",
       "      <td>0</td>\n",
       "      <td>0</td>\n",
       "      <td>0</td>\n",
       "      <td>0</td>\n",
       "      <td>0</td>\n",
       "      <td>0</td>\n",
       "      <td>0</td>\n",
       "    </tr>\n",
       "    <tr>\n",
       "      <th>199</th>\n",
       "      <td>0</td>\n",
       "      <td>0</td>\n",
       "      <td>0</td>\n",
       "      <td>0</td>\n",
       "      <td>0</td>\n",
       "      <td>0</td>\n",
       "      <td>0</td>\n",
       "      <td>0</td>\n",
       "      <td>0</td>\n",
       "      <td>0</td>\n",
       "      <td>...</td>\n",
       "      <td>0</td>\n",
       "      <td>0</td>\n",
       "      <td>0</td>\n",
       "      <td>0</td>\n",
       "      <td>0</td>\n",
       "      <td>0</td>\n",
       "      <td>0</td>\n",
       "      <td>0</td>\n",
       "      <td>0</td>\n",
       "      <td>1</td>\n",
       "    </tr>\n",
       "  </tbody>\n",
       "</table>\n",
       "<p>200 rows × 559 columns</p>\n",
       "</div>"
      ],
      "text/plain": [
       "     for the  guitar cable  the best  it works  good quality  the job  \\\n",
       "0          0             0         0         0             0        0   \n",
       "1          0             0         0         0             0        0   \n",
       "2          0             0         0         0             0        1   \n",
       "3          1             0         0         0             0        0   \n",
       "4          0             0         0         0             0        0   \n",
       "..       ...           ...       ...       ...           ...      ...   \n",
       "195        0             0         0         0             0        0   \n",
       "196        0             0         0         0             0        0   \n",
       "197        0             0         0         0             0        0   \n",
       "198        0             0         0         0             0        0   \n",
       "199        0             0         0         0             0        0   \n",
       "\n",
       "     good for  the price  so far  works great  ...  well built  \\\n",
       "0           0          0       0            0  ...           0   \n",
       "1           0          0       0            0  ...           0   \n",
       "2           0          0       0            0  ...           0   \n",
       "3           0          0       0            0  ...           0   \n",
       "4           0          0       0            0  ...           0   \n",
       "..        ...        ...     ...          ...  ...         ...   \n",
       "195         0          0       0            0  ...           0   \n",
       "196         0          0       0            0  ...           0   \n",
       "197         0          0       0            0  ...           0   \n",
       "198         0          0       0            0  ...           0   \n",
       "199         0          0       0            0  ...           0   \n",
       "\n",
       "     quality guitar  nice high  for practice  perfect for  as advertised  \\\n",
       "0                 0          0             0            0              0   \n",
       "1                 0          0             0            0              0   \n",
       "2                 0          0             0            0              0   \n",
       "3                 0          0             0            0              0   \n",
       "4                 0          0             0            0              0   \n",
       "..              ...        ...           ...          ...            ...   \n",
       "195               0          0             0            0              0   \n",
       "196               0          0             0            0              0   \n",
       "197               0          0             0            0              0   \n",
       "198               0          0             0            0              0   \n",
       "199               0          0             0            0              0   \n",
       "\n",
       "     low cost  its purpose  serves its  stand by  \n",
       "0           0            0           0         0  \n",
       "1           0            0           0         0  \n",
       "2           0            0           0         0  \n",
       "3           0            0           0         0  \n",
       "4           0            0           0         0  \n",
       "..        ...          ...         ...       ...  \n",
       "195         0            0           0         0  \n",
       "196         0            0           0         0  \n",
       "197         0            0           0         0  \n",
       "198         0            0           0         0  \n",
       "199         0            0           0         1  \n",
       "\n",
       "[200 rows x 559 columns]"
      ]
     },
     "execution_count": 37,
     "metadata": {},
     "output_type": "execute_result"
    }
   ],
   "source": [
    "reviews = review_df['summary'].str.lower().str.replace('[^\\w\\s]','', regex=True)\n",
    "# reviews = reviews.tolist()\n",
    "\n",
    "# We can reduce sparsity in representations by filtering the bigrams as well.\n",
    "k = 1000\n",
    "\n",
    "counts_dict = {}\n",
    "for bigram in out_bigrams_summary.index[:k]:\n",
    "    bigram = ' '.join(bigram)\n",
    "    regex_pattern = fr'\\b{bigram}\\b'\n",
    "    counts_dict[bigram] = reviews.str.count(regex_pattern).astype(int).tolist()\n",
    "    \n",
    "counts_df = pd.DataFrame(counts_dict)\n",
    "counts_df"
   ]
  },
  {
   "cell_type": "code",
   "execution_count": 38,
   "metadata": {},
   "outputs": [
    {
     "data": {
      "text/html": [
       "<div>\n",
       "<style scoped>\n",
       "    .dataframe tbody tr th:only-of-type {\n",
       "        vertical-align: middle;\n",
       "    }\n",
       "\n",
       "    .dataframe tbody tr th {\n",
       "        vertical-align: top;\n",
       "    }\n",
       "\n",
       "    .dataframe thead th {\n",
       "        text-align: right;\n",
       "    }\n",
       "</style>\n",
       "<table border=\"1\" class=\"dataframe\">\n",
       "  <thead>\n",
       "    <tr style=\"text-align: right;\">\n",
       "      <th></th>\n",
       "      <th>for the</th>\n",
       "      <th>guitar cable</th>\n",
       "      <th>the best</th>\n",
       "      <th>it works</th>\n",
       "      <th>good quality</th>\n",
       "      <th>the job</th>\n",
       "      <th>good for</th>\n",
       "      <th>the price</th>\n",
       "      <th>so far</th>\n",
       "      <th>works great</th>\n",
       "      <th>...</th>\n",
       "      <th>well built</th>\n",
       "      <th>quality guitar</th>\n",
       "      <th>nice high</th>\n",
       "      <th>for practice</th>\n",
       "      <th>perfect for</th>\n",
       "      <th>as advertised</th>\n",
       "      <th>low cost</th>\n",
       "      <th>its purpose</th>\n",
       "      <th>serves its</th>\n",
       "      <th>stand by</th>\n",
       "    </tr>\n",
       "    <tr>\n",
       "      <th>summary</th>\n",
       "      <th></th>\n",
       "      <th></th>\n",
       "      <th></th>\n",
       "      <th></th>\n",
       "      <th></th>\n",
       "      <th></th>\n",
       "      <th></th>\n",
       "      <th></th>\n",
       "      <th></th>\n",
       "      <th></th>\n",
       "      <th></th>\n",
       "      <th></th>\n",
       "      <th></th>\n",
       "      <th></th>\n",
       "      <th></th>\n",
       "      <th></th>\n",
       "      <th></th>\n",
       "      <th></th>\n",
       "      <th></th>\n",
       "      <th></th>\n",
       "      <th></th>\n",
       "    </tr>\n",
       "  </thead>\n",
       "  <tbody>\n",
       "    <tr>\n",
       "      <th>good</th>\n",
       "      <td>0</td>\n",
       "      <td>0</td>\n",
       "      <td>0</td>\n",
       "      <td>0</td>\n",
       "      <td>0</td>\n",
       "      <td>0</td>\n",
       "      <td>0</td>\n",
       "      <td>0</td>\n",
       "      <td>0</td>\n",
       "      <td>0</td>\n",
       "      <td>...</td>\n",
       "      <td>0</td>\n",
       "      <td>0</td>\n",
       "      <td>0</td>\n",
       "      <td>0</td>\n",
       "      <td>0</td>\n",
       "      <td>0</td>\n",
       "      <td>0</td>\n",
       "      <td>0</td>\n",
       "      <td>0</td>\n",
       "      <td>0</td>\n",
       "    </tr>\n",
       "    <tr>\n",
       "      <th>jake</th>\n",
       "      <td>0</td>\n",
       "      <td>0</td>\n",
       "      <td>0</td>\n",
       "      <td>0</td>\n",
       "      <td>0</td>\n",
       "      <td>0</td>\n",
       "      <td>0</td>\n",
       "      <td>0</td>\n",
       "      <td>0</td>\n",
       "      <td>0</td>\n",
       "      <td>...</td>\n",
       "      <td>0</td>\n",
       "      <td>0</td>\n",
       "      <td>0</td>\n",
       "      <td>0</td>\n",
       "      <td>0</td>\n",
       "      <td>0</td>\n",
       "      <td>0</td>\n",
       "      <td>0</td>\n",
       "      <td>0</td>\n",
       "      <td>0</td>\n",
       "    </tr>\n",
       "    <tr>\n",
       "      <th>it does the job well</th>\n",
       "      <td>0</td>\n",
       "      <td>0</td>\n",
       "      <td>0</td>\n",
       "      <td>0</td>\n",
       "      <td>0</td>\n",
       "      <td>1</td>\n",
       "      <td>0</td>\n",
       "      <td>0</td>\n",
       "      <td>0</td>\n",
       "      <td>0</td>\n",
       "      <td>...</td>\n",
       "      <td>0</td>\n",
       "      <td>0</td>\n",
       "      <td>0</td>\n",
       "      <td>0</td>\n",
       "      <td>0</td>\n",
       "      <td>0</td>\n",
       "      <td>0</td>\n",
       "      <td>0</td>\n",
       "      <td>0</td>\n",
       "      <td>0</td>\n",
       "    </tr>\n",
       "    <tr>\n",
       "      <th>good windscreen for the money</th>\n",
       "      <td>1</td>\n",
       "      <td>0</td>\n",
       "      <td>0</td>\n",
       "      <td>0</td>\n",
       "      <td>0</td>\n",
       "      <td>0</td>\n",
       "      <td>0</td>\n",
       "      <td>0</td>\n",
       "      <td>0</td>\n",
       "      <td>0</td>\n",
       "      <td>...</td>\n",
       "      <td>0</td>\n",
       "      <td>0</td>\n",
       "      <td>0</td>\n",
       "      <td>0</td>\n",
       "      <td>0</td>\n",
       "      <td>0</td>\n",
       "      <td>0</td>\n",
       "      <td>0</td>\n",
       "      <td>0</td>\n",
       "      <td>0</td>\n",
       "    </tr>\n",
       "    <tr>\n",
       "      <th>no more pops when i record my vocals</th>\n",
       "      <td>0</td>\n",
       "      <td>0</td>\n",
       "      <td>0</td>\n",
       "      <td>0</td>\n",
       "      <td>0</td>\n",
       "      <td>0</td>\n",
       "      <td>0</td>\n",
       "      <td>0</td>\n",
       "      <td>0</td>\n",
       "      <td>0</td>\n",
       "      <td>...</td>\n",
       "      <td>0</td>\n",
       "      <td>0</td>\n",
       "      <td>0</td>\n",
       "      <td>0</td>\n",
       "      <td>0</td>\n",
       "      <td>0</td>\n",
       "      <td>0</td>\n",
       "      <td>0</td>\n",
       "      <td>0</td>\n",
       "      <td>0</td>\n",
       "    </tr>\n",
       "    <tr>\n",
       "      <th>...</th>\n",
       "      <td>...</td>\n",
       "      <td>...</td>\n",
       "      <td>...</td>\n",
       "      <td>...</td>\n",
       "      <td>...</td>\n",
       "      <td>...</td>\n",
       "      <td>...</td>\n",
       "      <td>...</td>\n",
       "      <td>...</td>\n",
       "      <td>...</td>\n",
       "      <td>...</td>\n",
       "      <td>...</td>\n",
       "      <td>...</td>\n",
       "      <td>...</td>\n",
       "      <td>...</td>\n",
       "      <td>...</td>\n",
       "      <td>...</td>\n",
       "      <td>...</td>\n",
       "      <td>...</td>\n",
       "      <td>...</td>\n",
       "      <td>...</td>\n",
       "    </tr>\n",
       "    <tr>\n",
       "      <th>best in price range</th>\n",
       "      <td>0</td>\n",
       "      <td>0</td>\n",
       "      <td>0</td>\n",
       "      <td>0</td>\n",
       "      <td>0</td>\n",
       "      <td>0</td>\n",
       "      <td>0</td>\n",
       "      <td>0</td>\n",
       "      <td>0</td>\n",
       "      <td>0</td>\n",
       "      <td>...</td>\n",
       "      <td>0</td>\n",
       "      <td>0</td>\n",
       "      <td>0</td>\n",
       "      <td>0</td>\n",
       "      <td>0</td>\n",
       "      <td>0</td>\n",
       "      <td>0</td>\n",
       "      <td>0</td>\n",
       "      <td>0</td>\n",
       "      <td>0</td>\n",
       "    </tr>\n",
       "    <tr>\n",
       "      <th>industry standard</th>\n",
       "      <td>0</td>\n",
       "      <td>0</td>\n",
       "      <td>0</td>\n",
       "      <td>0</td>\n",
       "      <td>0</td>\n",
       "      <td>0</td>\n",
       "      <td>0</td>\n",
       "      <td>0</td>\n",
       "      <td>0</td>\n",
       "      <td>0</td>\n",
       "      <td>...</td>\n",
       "      <td>0</td>\n",
       "      <td>0</td>\n",
       "      <td>0</td>\n",
       "      <td>0</td>\n",
       "      <td>0</td>\n",
       "      <td>0</td>\n",
       "      <td>0</td>\n",
       "      <td>0</td>\n",
       "      <td>0</td>\n",
       "      <td>0</td>\n",
       "    </tr>\n",
       "    <tr>\n",
       "      <th>classic the last of shures good mics</th>\n",
       "      <td>0</td>\n",
       "      <td>0</td>\n",
       "      <td>0</td>\n",
       "      <td>0</td>\n",
       "      <td>0</td>\n",
       "      <td>0</td>\n",
       "      <td>0</td>\n",
       "      <td>0</td>\n",
       "      <td>0</td>\n",
       "      <td>0</td>\n",
       "      <td>...</td>\n",
       "      <td>0</td>\n",
       "      <td>0</td>\n",
       "      <td>0</td>\n",
       "      <td>0</td>\n",
       "      <td>0</td>\n",
       "      <td>0</td>\n",
       "      <td>0</td>\n",
       "      <td>0</td>\n",
       "      <td>0</td>\n",
       "      <td>0</td>\n",
       "    </tr>\n",
       "    <tr>\n",
       "      <th>its an sm57 whats there to say</th>\n",
       "      <td>0</td>\n",
       "      <td>0</td>\n",
       "      <td>0</td>\n",
       "      <td>0</td>\n",
       "      <td>0</td>\n",
       "      <td>0</td>\n",
       "      <td>0</td>\n",
       "      <td>0</td>\n",
       "      <td>0</td>\n",
       "      <td>0</td>\n",
       "      <td>...</td>\n",
       "      <td>0</td>\n",
       "      <td>0</td>\n",
       "      <td>0</td>\n",
       "      <td>0</td>\n",
       "      <td>0</td>\n",
       "      <td>0</td>\n",
       "      <td>0</td>\n",
       "      <td>0</td>\n",
       "      <td>0</td>\n",
       "      <td>0</td>\n",
       "    </tr>\n",
       "    <tr>\n",
       "      <th>the old stand by</th>\n",
       "      <td>0</td>\n",
       "      <td>0</td>\n",
       "      <td>0</td>\n",
       "      <td>0</td>\n",
       "      <td>0</td>\n",
       "      <td>0</td>\n",
       "      <td>0</td>\n",
       "      <td>0</td>\n",
       "      <td>0</td>\n",
       "      <td>0</td>\n",
       "      <td>...</td>\n",
       "      <td>0</td>\n",
       "      <td>0</td>\n",
       "      <td>0</td>\n",
       "      <td>0</td>\n",
       "      <td>0</td>\n",
       "      <td>0</td>\n",
       "      <td>0</td>\n",
       "      <td>0</td>\n",
       "      <td>0</td>\n",
       "      <td>1</td>\n",
       "    </tr>\n",
       "  </tbody>\n",
       "</table>\n",
       "<p>200 rows × 559 columns</p>\n",
       "</div>"
      ],
      "text/plain": [
       "                                      for the  guitar cable  the best  \\\n",
       "summary                                                                 \n",
       "good                                        0             0         0   \n",
       "jake                                        0             0         0   \n",
       "it does the job well                        0             0         0   \n",
       "good windscreen for the money               1             0         0   \n",
       "no more pops when i record my vocals        0             0         0   \n",
       "...                                       ...           ...       ...   \n",
       "best in price range                         0             0         0   \n",
       "industry standard                           0             0         0   \n",
       "classic the last of shures good mics        0             0         0   \n",
       "its an sm57 whats there to say              0             0         0   \n",
       "the old stand by                            0             0         0   \n",
       "\n",
       "                                      it works  good quality  the job  \\\n",
       "summary                                                                 \n",
       "good                                         0             0        0   \n",
       "jake                                         0             0        0   \n",
       "it does the job well                         0             0        1   \n",
       "good windscreen for the money                0             0        0   \n",
       "no more pops when i record my vocals         0             0        0   \n",
       "...                                        ...           ...      ...   \n",
       "best in price range                          0             0        0   \n",
       "industry standard                            0             0        0   \n",
       "classic the last of shures good mics         0             0        0   \n",
       "its an sm57 whats there to say               0             0        0   \n",
       "the old stand by                             0             0        0   \n",
       "\n",
       "                                      good for  the price  so far  \\\n",
       "summary                                                             \n",
       "good                                         0          0       0   \n",
       "jake                                         0          0       0   \n",
       "it does the job well                         0          0       0   \n",
       "good windscreen for the money                0          0       0   \n",
       "no more pops when i record my vocals         0          0       0   \n",
       "...                                        ...        ...     ...   \n",
       "best in price range                          0          0       0   \n",
       "industry standard                            0          0       0   \n",
       "classic the last of shures good mics         0          0       0   \n",
       "its an sm57 whats there to say               0          0       0   \n",
       "the old stand by                             0          0       0   \n",
       "\n",
       "                                      works great  ...  well built  \\\n",
       "summary                                            ...               \n",
       "good                                            0  ...           0   \n",
       "jake                                            0  ...           0   \n",
       "it does the job well                            0  ...           0   \n",
       "good windscreen for the money                   0  ...           0   \n",
       "no more pops when i record my vocals            0  ...           0   \n",
       "...                                           ...  ...         ...   \n",
       "best in price range                             0  ...           0   \n",
       "industry standard                               0  ...           0   \n",
       "classic the last of shures good mics            0  ...           0   \n",
       "its an sm57 whats there to say                  0  ...           0   \n",
       "the old stand by                                0  ...           0   \n",
       "\n",
       "                                      quality guitar  nice high  for practice  \\\n",
       "summary                                                                         \n",
       "good                                               0          0             0   \n",
       "jake                                               0          0             0   \n",
       "it does the job well                               0          0             0   \n",
       "good windscreen for the money                      0          0             0   \n",
       "no more pops when i record my vocals               0          0             0   \n",
       "...                                              ...        ...           ...   \n",
       "best in price range                                0          0             0   \n",
       "industry standard                                  0          0             0   \n",
       "classic the last of shures good mics               0          0             0   \n",
       "its an sm57 whats there to say                     0          0             0   \n",
       "the old stand by                                   0          0             0   \n",
       "\n",
       "                                      perfect for  as advertised  low cost  \\\n",
       "summary                                                                      \n",
       "good                                            0              0         0   \n",
       "jake                                            0              0         0   \n",
       "it does the job well                            0              0         0   \n",
       "good windscreen for the money                   0              0         0   \n",
       "no more pops when i record my vocals            0              0         0   \n",
       "...                                           ...            ...       ...   \n",
       "best in price range                             0              0         0   \n",
       "industry standard                               0              0         0   \n",
       "classic the last of shures good mics            0              0         0   \n",
       "its an sm57 whats there to say                  0              0         0   \n",
       "the old stand by                                0              0         0   \n",
       "\n",
       "                                      its purpose  serves its  stand by  \n",
       "summary                                                                  \n",
       "good                                            0           0         0  \n",
       "jake                                            0           0         0  \n",
       "it does the job well                            0           0         0  \n",
       "good windscreen for the money                   0           0         0  \n",
       "no more pops when i record my vocals            0           0         0  \n",
       "...                                           ...         ...       ...  \n",
       "best in price range                             0           0         0  \n",
       "industry standard                               0           0         0  \n",
       "classic the last of shures good mics            0           0         0  \n",
       "its an sm57 whats there to say                  0           0         0  \n",
       "the old stand by                                0           0         1  \n",
       "\n",
       "[200 rows x 559 columns]"
      ]
     },
     "execution_count": 38,
     "metadata": {},
     "output_type": "execute_result"
    }
   ],
   "source": [
    "counts_df = pd.concat([reviews.to_frame(), counts_df], axis=1).set_index('summary')\n",
    "counts_df"
   ]
  },
  {
   "cell_type": "markdown",
   "metadata": {},
   "source": [
    "### TF-IDF (Term Frequency - Inverse Document Frequency)\n",
    "\n",
    "- Addresses the BoW drawback of giving high weightage to common words\n",
    "- TF-IDF tries to **give high weightage to words that are unique to that particular document**\n",
    "- For comparison, BoW is simply TF\n",
    "\n",
    "\n",
    "- TF-IDF = Term Frequency * Inverse Document Frequency\n",
    "    - TF is a function of that document\n",
    "    - IDF is a function of the corpus\n",
    "    \n",
    "\n",
    "- Refer to Lecture 19 for detailed explanations and calculations"
   ]
  },
  {
   "cell_type": "markdown",
   "metadata": {},
   "source": [
    "### Questions to Ponder\n",
    "\n",
    "- Pros and cons of Bag-of-Words? Can there be better representations than just counts?\n",
    "- Pros and cons of TF-IDF?\n",
    "- Pros and cons of uni-grams vs. bi-grams? Which are suitable in what cases?\n",
    "- Pros and cons of long text vs. short text?\n",
    "- What combinations of above might work well?"
   ]
  },
  {
   "cell_type": "markdown",
   "metadata": {},
   "source": [
    "## Congratulations! You're done!\n",
    "\n",
    "* Submit your `.py` file to Gradescope. Note that you only need to submit the `.py` file; this notebook should not be uploaded. Make sure that all of your work is in the `.py` file and not here by running the doctests: `python -m doctest discussion.py`."
   ]
  }
 ],
 "metadata": {
  "celltoolbar": "Tags",
  "kernelspec": {
   "display_name": "Python 3 (ipykernel)",
   "language": "python",
   "name": "python3"
  },
  "language_info": {
   "codemirror_mode": {
    "name": "ipython",
    "version": 3
   },
   "file_extension": ".py",
   "mimetype": "text/x-python",
   "name": "python",
   "nbconvert_exporter": "python",
   "pygments_lexer": "ipython3",
   "version": "3.9.6"
  }
 },
 "nbformat": 4,
 "nbformat_minor": 2
}
