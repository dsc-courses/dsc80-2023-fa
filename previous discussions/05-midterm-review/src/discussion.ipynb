{
 "cells": [
  {
   "cell_type": "raw",
   "metadata": {},
   "source": [
    "# ASSIGNMENT CONFIG\n",
    "files:\n",
    "    - data/data.csv\n",
    "    - data/data1.csv\n",
    "    - imgs/sizes.png\n",
    "    - imgs/culmen.png\n",
    "    - imgs/culmen1.png\n",
    "    - imgs/missingness_distribution.png\n",
    "    - imgs/pt.png\n",
    "    - imgs/personalities.png\n",
    "generate:\n",
    "    show_hidden: true\n",
    "    public_multiplier: 1\n",
    "init_cell: true\n",
    "export_cell: false\n",
    "environment: ./environment.yaml\n",
    "requirements:\n",
    "    - otter-grader==3.1.4\n",
    "    - seaborn\n",
    "overwrite_requirements: true\n",
    "run_tests: false\n",
    "template_pdf: false"
   ]
  },
  {
   "cell_type": "markdown",
   "metadata": {},
   "source": [
    "# Discussion 05\n",
    "\n",
    "### Due Saturday October 29th, 11:59:59PM\n",
    "\n",
    "**Discussions will be due by the end of the day on Saturday** "
   ]
  },
  {
   "cell_type": "markdown",
   "metadata": {},
   "source": [
    "## Agenda: Midterm Review ✍️\n",
    "\n",
    "* **Understand:** Take a look at Previous year midterm pattern and how this time's midterm would differ\n",
    "* **Recap:** Revise/Recollect some lecture content related to the midterm\n",
    "* **Practice:** Solve past year midterm problems for practice"
   ]
  },
  {
   "cell_type": "code",
   "execution_count": 1,
   "metadata": {},
   "outputs": [],
   "source": [
    "import pandas as pd\n",
    "import seaborn as sns\n",
    "import matplotlib\n",
    "import matplotlib.pyplot as plt\n",
    "import numpy as np"
   ]
  },
  {
   "cell_type": "code",
   "execution_count": 2,
   "metadata": {},
   "outputs": [],
   "source": [
    "# from discussion import *"
   ]
  },
  {
   "cell_type": "code",
   "execution_count": 3,
   "metadata": {
    "tags": [
     "to-py"
    ]
   },
   "outputs": [],
   "source": [
    "import numpy as np\n",
    "import pandas as pd\n",
    "import seaborn as sns\n",
    "import matplotlib\n",
    "import matplotlib.pyplot as plt\n",
    "import os"
   ]
  },
  {
   "cell_type": "markdown",
   "metadata": {},
   "source": [
    "# Q1 - 0 Points"
   ]
  },
  {
   "cell_type": "markdown",
   "metadata": {},
   "source": [
    "### The table below shows data collected for 330 penguins in Antarctica. Each row represents one penguin. \n",
    "\n",
    "### Three species of penguins appear in the data set: `Adelie`, `Gentoo`, and `Chinstrap`. This data set will be referred to throughout the exam as the DataFrame `df` ."
   ]
  },
  {
   "cell_type": "code",
   "execution_count": 4,
   "metadata": {},
   "outputs": [],
   "source": [
    "df = pd.read_csv('data/data1.csv')\n",
    "df.dropna(inplace=True)"
   ]
  },
  {
   "cell_type": "code",
   "execution_count": 5,
   "metadata": {},
   "outputs": [
    {
     "data": {
      "text/html": [
       "<div>\n",
       "<style scoped>\n",
       "    .dataframe tbody tr th:only-of-type {\n",
       "        vertical-align: middle;\n",
       "    }\n",
       "\n",
       "    .dataframe tbody tr th {\n",
       "        vertical-align: top;\n",
       "    }\n",
       "\n",
       "    .dataframe thead th {\n",
       "        text-align: right;\n",
       "    }\n",
       "</style>\n",
       "<table border=\"1\" class=\"dataframe\">\n",
       "  <thead>\n",
       "    <tr style=\"text-align: right;\">\n",
       "      <th></th>\n",
       "      <th>Culmen Length (mm)</th>\n",
       "      <th>Culmen Depth (mm)</th>\n",
       "      <th>Flipper Length (mm)</th>\n",
       "      <th>Body Mass (g)</th>\n",
       "      <th>Delta 15 N (o/oo)</th>\n",
       "      <th>Delta 13 C (o/oo)</th>\n",
       "      <th>Species</th>\n",
       "    </tr>\n",
       "  </thead>\n",
       "  <tbody>\n",
       "    <tr>\n",
       "      <th>1</th>\n",
       "      <td>39.5</td>\n",
       "      <td>17.4</td>\n",
       "      <td>186.0</td>\n",
       "      <td>3800.0</td>\n",
       "      <td>8.94956</td>\n",
       "      <td>-24.69454</td>\n",
       "      <td>Adelie</td>\n",
       "    </tr>\n",
       "    <tr>\n",
       "      <th>2</th>\n",
       "      <td>40.3</td>\n",
       "      <td>18.0</td>\n",
       "      <td>195.0</td>\n",
       "      <td>3250.0</td>\n",
       "      <td>8.36821</td>\n",
       "      <td>-25.33302</td>\n",
       "      <td>Adelie</td>\n",
       "    </tr>\n",
       "    <tr>\n",
       "      <th>4</th>\n",
       "      <td>36.7</td>\n",
       "      <td>19.3</td>\n",
       "      <td>193.0</td>\n",
       "      <td>3450.0</td>\n",
       "      <td>8.76651</td>\n",
       "      <td>-25.32426</td>\n",
       "      <td>Adelie</td>\n",
       "    </tr>\n",
       "    <tr>\n",
       "      <th>5</th>\n",
       "      <td>39.3</td>\n",
       "      <td>20.6</td>\n",
       "      <td>190.0</td>\n",
       "      <td>3650.0</td>\n",
       "      <td>8.66496</td>\n",
       "      <td>-25.29805</td>\n",
       "      <td>Adelie</td>\n",
       "    </tr>\n",
       "    <tr>\n",
       "      <th>6</th>\n",
       "      <td>38.9</td>\n",
       "      <td>17.8</td>\n",
       "      <td>181.0</td>\n",
       "      <td>3625.0</td>\n",
       "      <td>9.18718</td>\n",
       "      <td>-25.21799</td>\n",
       "      <td>Adelie</td>\n",
       "    </tr>\n",
       "    <tr>\n",
       "      <th>...</th>\n",
       "      <td>...</td>\n",
       "      <td>...</td>\n",
       "      <td>...</td>\n",
       "      <td>...</td>\n",
       "      <td>...</td>\n",
       "      <td>...</td>\n",
       "      <td>...</td>\n",
       "    </tr>\n",
       "    <tr>\n",
       "      <th>338</th>\n",
       "      <td>47.2</td>\n",
       "      <td>13.7</td>\n",
       "      <td>214.0</td>\n",
       "      <td>4925.0</td>\n",
       "      <td>7.99184</td>\n",
       "      <td>-26.20538</td>\n",
       "      <td>Gentoo</td>\n",
       "    </tr>\n",
       "    <tr>\n",
       "      <th>340</th>\n",
       "      <td>46.8</td>\n",
       "      <td>14.3</td>\n",
       "      <td>215.0</td>\n",
       "      <td>4850.0</td>\n",
       "      <td>8.41151</td>\n",
       "      <td>-26.13832</td>\n",
       "      <td>Gentoo</td>\n",
       "    </tr>\n",
       "    <tr>\n",
       "      <th>341</th>\n",
       "      <td>50.4</td>\n",
       "      <td>15.7</td>\n",
       "      <td>222.0</td>\n",
       "      <td>5750.0</td>\n",
       "      <td>8.30166</td>\n",
       "      <td>-26.04117</td>\n",
       "      <td>Gentoo</td>\n",
       "    </tr>\n",
       "    <tr>\n",
       "      <th>342</th>\n",
       "      <td>45.2</td>\n",
       "      <td>14.8</td>\n",
       "      <td>212.0</td>\n",
       "      <td>5200.0</td>\n",
       "      <td>8.24246</td>\n",
       "      <td>-26.11969</td>\n",
       "      <td>Gentoo</td>\n",
       "    </tr>\n",
       "    <tr>\n",
       "      <th>343</th>\n",
       "      <td>49.9</td>\n",
       "      <td>16.1</td>\n",
       "      <td>213.0</td>\n",
       "      <td>5400.0</td>\n",
       "      <td>8.36390</td>\n",
       "      <td>-26.15531</td>\n",
       "      <td>Gentoo</td>\n",
       "    </tr>\n",
       "  </tbody>\n",
       "</table>\n",
       "<p>330 rows × 7 columns</p>\n",
       "</div>"
      ],
      "text/plain": [
       "     Culmen Length (mm)  Culmen Depth (mm)  Flipper Length (mm)  \\\n",
       "1                  39.5               17.4                186.0   \n",
       "2                  40.3               18.0                195.0   \n",
       "4                  36.7               19.3                193.0   \n",
       "5                  39.3               20.6                190.0   \n",
       "6                  38.9               17.8                181.0   \n",
       "..                  ...                ...                  ...   \n",
       "338                47.2               13.7                214.0   \n",
       "340                46.8               14.3                215.0   \n",
       "341                50.4               15.7                222.0   \n",
       "342                45.2               14.8                212.0   \n",
       "343                49.9               16.1                213.0   \n",
       "\n",
       "     Body Mass (g)  Delta 15 N (o/oo)  Delta 13 C (o/oo) Species  \n",
       "1           3800.0            8.94956          -24.69454  Adelie  \n",
       "2           3250.0            8.36821          -25.33302  Adelie  \n",
       "4           3450.0            8.76651          -25.32426  Adelie  \n",
       "5           3650.0            8.66496          -25.29805  Adelie  \n",
       "6           3625.0            9.18718          -25.21799  Adelie  \n",
       "..             ...                ...                ...     ...  \n",
       "338         4925.0            7.99184          -26.20538  Gentoo  \n",
       "340         4850.0            8.41151          -26.13832  Gentoo  \n",
       "341         5750.0            8.30166          -26.04117  Gentoo  \n",
       "342         5200.0            8.24246          -26.11969  Gentoo  \n",
       "343         5400.0            8.36390          -26.15531  Gentoo  \n",
       "\n",
       "[330 rows x 7 columns]"
      ]
     },
     "execution_count": 5,
     "metadata": {},
     "output_type": "execute_result"
    }
   ],
   "source": [
    "df"
   ]
  },
  {
   "cell_type": "markdown",
   "metadata": {},
   "source": [
    "# Q2 - 1 Point\n",
    "\n",
    "## What kind of data is in the column named \"Species\"?\n",
    " - quantitative ?\n",
    " - nominal ?\n",
    " - ordinal ?"
   ]
  },
  {
   "cell_type": "markdown",
   "metadata": {},
   "source": [
    "### Ans: "
   ]
  },
  {
   "cell_type": "markdown",
   "metadata": {},
   "source": [
    "# Q3 - 1 Point\n",
    "\n",
    "## What kind of data is in the column named \"Body Mass (g)\"?\n",
    " - quantitative ?\n",
    " - nominal ?\n",
    " - ordinal ?"
   ]
  },
  {
   "cell_type": "markdown",
   "metadata": {},
   "source": [
    "### Ans: "
   ]
  },
  {
   "cell_type": "markdown",
   "metadata": {},
   "source": [
    "# Q4 - 1 Point\n",
    "\n",
    "## The code below produces a new table. How many rows will the table have? (See the dataset description above for useful information).\n",
    "\n",
    "\n",
    "### `df.groupby('Species')['Culmen Length (mm)'].aggregate([np.mean, np.median])`"
   ]
  },
  {
   "cell_type": "markdown",
   "metadata": {},
   "source": [
    "### Ans: "
   ]
  },
  {
   "cell_type": "code",
   "execution_count": 6,
   "metadata": {},
   "outputs": [
    {
     "data": {
      "text/html": [
       "<div>\n",
       "<style scoped>\n",
       "    .dataframe tbody tr th:only-of-type {\n",
       "        vertical-align: middle;\n",
       "    }\n",
       "\n",
       "    .dataframe tbody tr th {\n",
       "        vertical-align: top;\n",
       "    }\n",
       "\n",
       "    .dataframe thead th {\n",
       "        text-align: right;\n",
       "    }\n",
       "</style>\n",
       "<table border=\"1\" class=\"dataframe\">\n",
       "  <thead>\n",
       "    <tr style=\"text-align: right;\">\n",
       "      <th></th>\n",
       "      <th>mean</th>\n",
       "      <th>median</th>\n",
       "    </tr>\n",
       "    <tr>\n",
       "      <th>Species</th>\n",
       "      <th></th>\n",
       "      <th></th>\n",
       "    </tr>\n",
       "  </thead>\n",
       "  <tbody>\n",
       "    <tr>\n",
       "      <th>Adelie</th>\n",
       "      <td>38.801418</td>\n",
       "      <td>38.80</td>\n",
       "    </tr>\n",
       "    <tr>\n",
       "      <th>Chinstrap</th>\n",
       "      <td>48.788060</td>\n",
       "      <td>49.50</td>\n",
       "    </tr>\n",
       "    <tr>\n",
       "      <th>Gentoo</th>\n",
       "      <td>47.506557</td>\n",
       "      <td>47.25</td>\n",
       "    </tr>\n",
       "  </tbody>\n",
       "</table>\n",
       "</div>"
      ],
      "text/plain": [
       "                mean  median\n",
       "Species                     \n",
       "Adelie     38.801418   38.80\n",
       "Chinstrap  48.788060   49.50\n",
       "Gentoo     47.506557   47.25"
      ]
     },
     "execution_count": 6,
     "metadata": {},
     "output_type": "execute_result"
    }
   ],
   "source": [
    "df.groupby('Species')['Culmen Length (mm)'].aggregate([np.mean, np.median])"
   ]
  },
  {
   "cell_type": "markdown",
   "metadata": {},
   "source": [
    "# Q5 - 1 Point\n",
    "\n",
    "## The following function accepts a series of numbers and returns a series of the same size in which every number has been standardized (also known as \"z-scored\"):"
   ]
  },
  {
   "cell_type": "code",
   "execution_count": 7,
   "metadata": {},
   "outputs": [],
   "source": [
    "def standardize(ser):\n",
    "    return (ser - ser.mean()) / ser.std()"
   ]
  },
  {
   "cell_type": "markdown",
   "metadata": {},
   "source": [
    "\n",
    "### Which of the following lines of code will return a series of standardized flipper lengths of length 330 (same as the number of rows in df ), where the standardization is done within each species?"
   ]
  },
  {
   "cell_type": "markdown",
   "metadata": {},
   "source": [
    "### That is, the flipper sizes of Adelie penguins are standardized as a group, the flipper sizes of Gentoo penguins are standardized as another group, and so on."
   ]
  },
  {
   "cell_type": "markdown",
   "metadata": {},
   "source": [
    "### 1.  `df.groupby('Species')['Flipper Length (mm)'].transform(standardize)`\n",
    "<!-- &nbsp;&nbsp; -->\n",
    "### 2.  `df.groupby('Species')['Flipper Length (mm)'].aggregate(standardize)`\n",
    "<!-- &nbsp;&nbsp; -->\n",
    "### 3.  `df.groupby('Species')['Flipper Length (mm)'].standardize()`\n",
    "<!-- &nbsp;&nbsp; -->\n",
    "### 4.  `df.groupby('Species')['Flipper Length (mm)'].agg(standardize)`"
   ]
  },
  {
   "cell_type": "markdown",
   "metadata": {},
   "source": [
    "### Ans: "
   ]
  },
  {
   "cell_type": "code",
   "execution_count": 8,
   "metadata": {},
   "outputs": [
    {
     "data": {
      "text/plain": [
       "1     -0.662246\n",
       "2      0.726829\n",
       "4      0.418146\n",
       "5     -0.044880\n",
       "6     -1.433955\n",
       "         ...   \n",
       "338   -0.484470\n",
       "340   -0.330550\n",
       "341    0.746891\n",
       "342   -0.792310\n",
       "343   -0.638390\n",
       "Name: Flipper Length (mm), Length: 330, dtype: float64"
      ]
     },
     "execution_count": 8,
     "metadata": {},
     "output_type": "execute_result"
    }
   ],
   "source": [
    "df.groupby('Species')['Flipper Length (mm)'].transform(standardize)"
   ]
  },
  {
   "cell_type": "code",
   "execution_count": 9,
   "metadata": {},
   "outputs": [],
   "source": [
    "# df.groupby('Species')['Flipper Length (mm)'].aggregate(standardize)"
   ]
  },
  {
   "cell_type": "code",
   "execution_count": 10,
   "metadata": {},
   "outputs": [],
   "source": [
    "# df.groupby('Species')['Flipper Length (mm)'].standardize()"
   ]
  },
  {
   "cell_type": "code",
   "execution_count": 11,
   "metadata": {},
   "outputs": [],
   "source": [
    "# df.groupby('Species')['Flipper Length (mm)'].agg(standardize)"
   ]
  },
  {
   "cell_type": "markdown",
   "metadata": {},
   "source": [
    "# Q6 - 1 Point\n",
    "\n",
    "## Suppose incomplete data is collected on three new penguins, shown below:"
   ]
  },
  {
   "cell_type": "code",
   "execution_count": 12,
   "metadata": {},
   "outputs": [
    {
     "data": {
      "text/html": [
       "<div>\n",
       "<style scoped>\n",
       "    .dataframe tbody tr th:only-of-type {\n",
       "        vertical-align: middle;\n",
       "    }\n",
       "\n",
       "    .dataframe tbody tr th {\n",
       "        vertical-align: top;\n",
       "    }\n",
       "\n",
       "    .dataframe thead th {\n",
       "        text-align: right;\n",
       "    }\n",
       "</style>\n",
       "<table border=\"1\" class=\"dataframe\">\n",
       "  <thead>\n",
       "    <tr style=\"text-align: right;\">\n",
       "      <th></th>\n",
       "      <th>Flipper Length (mm)</th>\n",
       "      <th>Culmen Depth (mm)</th>\n",
       "      <th>Species</th>\n",
       "    </tr>\n",
       "  </thead>\n",
       "  <tbody>\n",
       "    <tr>\n",
       "      <th>0</th>\n",
       "      <td>191.0</td>\n",
       "      <td>20.3</td>\n",
       "      <td>Adelie</td>\n",
       "    </tr>\n",
       "    <tr>\n",
       "      <th>1</th>\n",
       "      <td>193.0</td>\n",
       "      <td>17.7</td>\n",
       "      <td>Adelie</td>\n",
       "    </tr>\n",
       "    <tr>\n",
       "      <th>2</th>\n",
       "      <td>197.0</td>\n",
       "      <td>19.5</td>\n",
       "      <td>Adelie</td>\n",
       "    </tr>\n",
       "  </tbody>\n",
       "</table>\n",
       "</div>"
      ],
      "text/plain": [
       "   Flipper Length (mm)  Culmen Depth (mm) Species\n",
       "0                191.0               20.3  Adelie\n",
       "1                193.0               17.7  Adelie\n",
       "2                197.0               19.5  Adelie"
      ]
     },
     "execution_count": 12,
     "metadata": {},
     "output_type": "execute_result"
    }
   ],
   "source": [
    "df_incomplete = pd.DataFrame({\n",
    "    'Flipper Length (mm)':[191.0,193.0,197.0],\n",
    "    'Culmen Depth (mm)':[20.3,17.7,19.5],\n",
    "    'Species': ['Adelie','Adelie','Adelie']\n",
    "})\n",
    "df_incomplete"
   ]
  },
  {
   "cell_type": "markdown",
   "metadata": {},
   "source": [
    "### Call this dataframe `df_incomplete`, and note that there are fewer columns than in `df` and that the columns which do appear are in a different order.\n",
    "\n",
    "### Suppose `df_incomplete` is appended to the end of `df` with the code `pd.concat([df, df_incomplete])`. What will be the values in the last line of the resulting dataframe?"
   ]
  },
  {
   "cell_type": "markdown",
   "metadata": {},
   "source": [
    "#### 1.     [197, 19.5, 'Adelie', nan, nan, nan, nan] with row label (index) 2 \n",
    "#### 2.     [nan, 19.5, 197.0, nan, nan, nan, 'Adelie'] with row label (index) 2 \n",
    "#### 3.     [0, 19.5, 197.0, 0, 0, 0, 'Adelie'] with row label (index) 2 \n",
    "#### 4.     [197, 19.5, 'Adelie', 0, 0, 0, 0] with row label (index) 2 \n",
    "#### 5.     [197, 19.5, 'Adelie', nan, nan, nan, nan] with row label (index) 332 \n",
    "#### 6.     [nan, 19.5, 197.0, nan, nan, nan, 'Adelie'] with row label (index) 332 \n",
    "#### 7.     [0, 19.5, 197.0, 0, 0, 0, 'Adelie'] with row label (index) 332 \n",
    "#### 8.     [197, 19.5, 'Adelie', 0, 0, 0, 0] with row label (index) 332"
   ]
  },
  {
   "cell_type": "markdown",
   "metadata": {},
   "source": [
    "### Ans: "
   ]
  },
  {
   "cell_type": "code",
   "execution_count": 13,
   "metadata": {},
   "outputs": [
    {
     "data": {
      "text/html": [
       "<div>\n",
       "<style scoped>\n",
       "    .dataframe tbody tr th:only-of-type {\n",
       "        vertical-align: middle;\n",
       "    }\n",
       "\n",
       "    .dataframe tbody tr th {\n",
       "        vertical-align: top;\n",
       "    }\n",
       "\n",
       "    .dataframe thead th {\n",
       "        text-align: right;\n",
       "    }\n",
       "</style>\n",
       "<table border=\"1\" class=\"dataframe\">\n",
       "  <thead>\n",
       "    <tr style=\"text-align: right;\">\n",
       "      <th></th>\n",
       "      <th>Culmen Length (mm)</th>\n",
       "      <th>Culmen Depth (mm)</th>\n",
       "      <th>Flipper Length (mm)</th>\n",
       "      <th>Body Mass (g)</th>\n",
       "      <th>Delta 15 N (o/oo)</th>\n",
       "      <th>Delta 13 C (o/oo)</th>\n",
       "      <th>Species</th>\n",
       "    </tr>\n",
       "  </thead>\n",
       "  <tbody>\n",
       "    <tr>\n",
       "      <th>342</th>\n",
       "      <td>45.2</td>\n",
       "      <td>14.8</td>\n",
       "      <td>212.0</td>\n",
       "      <td>5200.0</td>\n",
       "      <td>8.24246</td>\n",
       "      <td>-26.11969</td>\n",
       "      <td>Gentoo</td>\n",
       "    </tr>\n",
       "    <tr>\n",
       "      <th>343</th>\n",
       "      <td>49.9</td>\n",
       "      <td>16.1</td>\n",
       "      <td>213.0</td>\n",
       "      <td>5400.0</td>\n",
       "      <td>8.36390</td>\n",
       "      <td>-26.15531</td>\n",
       "      <td>Gentoo</td>\n",
       "    </tr>\n",
       "    <tr>\n",
       "      <th>0</th>\n",
       "      <td>NaN</td>\n",
       "      <td>20.3</td>\n",
       "      <td>191.0</td>\n",
       "      <td>NaN</td>\n",
       "      <td>NaN</td>\n",
       "      <td>NaN</td>\n",
       "      <td>Adelie</td>\n",
       "    </tr>\n",
       "    <tr>\n",
       "      <th>1</th>\n",
       "      <td>NaN</td>\n",
       "      <td>17.7</td>\n",
       "      <td>193.0</td>\n",
       "      <td>NaN</td>\n",
       "      <td>NaN</td>\n",
       "      <td>NaN</td>\n",
       "      <td>Adelie</td>\n",
       "    </tr>\n",
       "    <tr>\n",
       "      <th>2</th>\n",
       "      <td>NaN</td>\n",
       "      <td>19.5</td>\n",
       "      <td>197.0</td>\n",
       "      <td>NaN</td>\n",
       "      <td>NaN</td>\n",
       "      <td>NaN</td>\n",
       "      <td>Adelie</td>\n",
       "    </tr>\n",
       "  </tbody>\n",
       "</table>\n",
       "</div>"
      ],
      "text/plain": [
       "     Culmen Length (mm)  Culmen Depth (mm)  Flipper Length (mm)  \\\n",
       "342                45.2               14.8                212.0   \n",
       "343                49.9               16.1                213.0   \n",
       "0                   NaN               20.3                191.0   \n",
       "1                   NaN               17.7                193.0   \n",
       "2                   NaN               19.5                197.0   \n",
       "\n",
       "     Body Mass (g)  Delta 15 N (o/oo)  Delta 13 C (o/oo) Species  \n",
       "342         5200.0            8.24246          -26.11969  Gentoo  \n",
       "343         5400.0            8.36390          -26.15531  Gentoo  \n",
       "0              NaN                NaN                NaN  Adelie  \n",
       "1              NaN                NaN                NaN  Adelie  \n",
       "2              NaN                NaN                NaN  Adelie  "
      ]
     },
     "execution_count": 13,
     "metadata": {},
     "output_type": "execute_result"
    }
   ],
   "source": [
    "df_concat = pd.concat([df,df_incomplete])\n",
    "df_concat.tail()"
   ]
  },
  {
   "cell_type": "markdown",
   "metadata": {},
   "source": [
    "# Q7 - 2 Points\n",
    "\n",
    "### Suppose a penguin is considered \"little\" if its body mass is less than 3250 grams. Write a piece of code that computes the number of each species which are considered little. Your code should return a series. To receive full credit, your code should not modify the dataframe df ."
   ]
  },
  {
   "cell_type": "markdown",
   "metadata": {},
   "source": [
    "### Ans: "
   ]
  },
  {
   "cell_type": "code",
   "execution_count": null,
   "metadata": {},
   "outputs": [],
   "source": []
  },
  {
   "cell_type": "markdown",
   "metadata": {},
   "source": [
    "### Note: your code will be graded manually, and it is not expected to be perfect. Be careful to not spend too much time trying to make your code perfect!"
   ]
  },
  {
   "cell_type": "code",
   "execution_count": 14,
   "metadata": {},
   "outputs": [
    {
     "data": {
      "text/html": [
       "<div>\n",
       "<style scoped>\n",
       "    .dataframe tbody tr th:only-of-type {\n",
       "        vertical-align: middle;\n",
       "    }\n",
       "\n",
       "    .dataframe tbody tr th {\n",
       "        vertical-align: top;\n",
       "    }\n",
       "\n",
       "    .dataframe thead th {\n",
       "        text-align: right;\n",
       "    }\n",
       "</style>\n",
       "<table border=\"1\" class=\"dataframe\">\n",
       "  <thead>\n",
       "    <tr style=\"text-align: right;\">\n",
       "      <th></th>\n",
       "      <th>Culmen Length (mm)</th>\n",
       "      <th>Culmen Depth (mm)</th>\n",
       "      <th>Flipper Length (mm)</th>\n",
       "      <th>Body Mass (g)</th>\n",
       "      <th>Delta 15 N (o/oo)</th>\n",
       "      <th>Delta 13 C (o/oo)</th>\n",
       "      <th>Species</th>\n",
       "    </tr>\n",
       "  </thead>\n",
       "  <tbody>\n",
       "    <tr>\n",
       "      <th>1</th>\n",
       "      <td>39.5</td>\n",
       "      <td>17.4</td>\n",
       "      <td>186.0</td>\n",
       "      <td>3800.0</td>\n",
       "      <td>8.94956</td>\n",
       "      <td>-24.69454</td>\n",
       "      <td>Adelie</td>\n",
       "    </tr>\n",
       "    <tr>\n",
       "      <th>2</th>\n",
       "      <td>40.3</td>\n",
       "      <td>18.0</td>\n",
       "      <td>195.0</td>\n",
       "      <td>3250.0</td>\n",
       "      <td>8.36821</td>\n",
       "      <td>-25.33302</td>\n",
       "      <td>Adelie</td>\n",
       "    </tr>\n",
       "    <tr>\n",
       "      <th>4</th>\n",
       "      <td>36.7</td>\n",
       "      <td>19.3</td>\n",
       "      <td>193.0</td>\n",
       "      <td>3450.0</td>\n",
       "      <td>8.76651</td>\n",
       "      <td>-25.32426</td>\n",
       "      <td>Adelie</td>\n",
       "    </tr>\n",
       "    <tr>\n",
       "      <th>5</th>\n",
       "      <td>39.3</td>\n",
       "      <td>20.6</td>\n",
       "      <td>190.0</td>\n",
       "      <td>3650.0</td>\n",
       "      <td>8.66496</td>\n",
       "      <td>-25.29805</td>\n",
       "      <td>Adelie</td>\n",
       "    </tr>\n",
       "    <tr>\n",
       "      <th>6</th>\n",
       "      <td>38.9</td>\n",
       "      <td>17.8</td>\n",
       "      <td>181.0</td>\n",
       "      <td>3625.0</td>\n",
       "      <td>9.18718</td>\n",
       "      <td>-25.21799</td>\n",
       "      <td>Adelie</td>\n",
       "    </tr>\n",
       "    <tr>\n",
       "      <th>...</th>\n",
       "      <td>...</td>\n",
       "      <td>...</td>\n",
       "      <td>...</td>\n",
       "      <td>...</td>\n",
       "      <td>...</td>\n",
       "      <td>...</td>\n",
       "      <td>...</td>\n",
       "    </tr>\n",
       "    <tr>\n",
       "      <th>338</th>\n",
       "      <td>47.2</td>\n",
       "      <td>13.7</td>\n",
       "      <td>214.0</td>\n",
       "      <td>4925.0</td>\n",
       "      <td>7.99184</td>\n",
       "      <td>-26.20538</td>\n",
       "      <td>Gentoo</td>\n",
       "    </tr>\n",
       "    <tr>\n",
       "      <th>340</th>\n",
       "      <td>46.8</td>\n",
       "      <td>14.3</td>\n",
       "      <td>215.0</td>\n",
       "      <td>4850.0</td>\n",
       "      <td>8.41151</td>\n",
       "      <td>-26.13832</td>\n",
       "      <td>Gentoo</td>\n",
       "    </tr>\n",
       "    <tr>\n",
       "      <th>341</th>\n",
       "      <td>50.4</td>\n",
       "      <td>15.7</td>\n",
       "      <td>222.0</td>\n",
       "      <td>5750.0</td>\n",
       "      <td>8.30166</td>\n",
       "      <td>-26.04117</td>\n",
       "      <td>Gentoo</td>\n",
       "    </tr>\n",
       "    <tr>\n",
       "      <th>342</th>\n",
       "      <td>45.2</td>\n",
       "      <td>14.8</td>\n",
       "      <td>212.0</td>\n",
       "      <td>5200.0</td>\n",
       "      <td>8.24246</td>\n",
       "      <td>-26.11969</td>\n",
       "      <td>Gentoo</td>\n",
       "    </tr>\n",
       "    <tr>\n",
       "      <th>343</th>\n",
       "      <td>49.9</td>\n",
       "      <td>16.1</td>\n",
       "      <td>213.0</td>\n",
       "      <td>5400.0</td>\n",
       "      <td>8.36390</td>\n",
       "      <td>-26.15531</td>\n",
       "      <td>Gentoo</td>\n",
       "    </tr>\n",
       "  </tbody>\n",
       "</table>\n",
       "<p>330 rows × 7 columns</p>\n",
       "</div>"
      ],
      "text/plain": [
       "     Culmen Length (mm)  Culmen Depth (mm)  Flipper Length (mm)  \\\n",
       "1                  39.5               17.4                186.0   \n",
       "2                  40.3               18.0                195.0   \n",
       "4                  36.7               19.3                193.0   \n",
       "5                  39.3               20.6                190.0   \n",
       "6                  38.9               17.8                181.0   \n",
       "..                  ...                ...                  ...   \n",
       "338                47.2               13.7                214.0   \n",
       "340                46.8               14.3                215.0   \n",
       "341                50.4               15.7                222.0   \n",
       "342                45.2               14.8                212.0   \n",
       "343                49.9               16.1                213.0   \n",
       "\n",
       "     Body Mass (g)  Delta 15 N (o/oo)  Delta 13 C (o/oo) Species  \n",
       "1           3800.0            8.94956          -24.69454  Adelie  \n",
       "2           3250.0            8.36821          -25.33302  Adelie  \n",
       "4           3450.0            8.76651          -25.32426  Adelie  \n",
       "5           3650.0            8.66496          -25.29805  Adelie  \n",
       "6           3625.0            9.18718          -25.21799  Adelie  \n",
       "..             ...                ...                ...     ...  \n",
       "338         4925.0            7.99184          -26.20538  Gentoo  \n",
       "340         4850.0            8.41151          -26.13832  Gentoo  \n",
       "341         5750.0            8.30166          -26.04117  Gentoo  \n",
       "342         5200.0            8.24246          -26.11969  Gentoo  \n",
       "343         5400.0            8.36390          -26.15531  Gentoo  \n",
       "\n",
       "[330 rows x 7 columns]"
      ]
     },
     "execution_count": 14,
     "metadata": {},
     "output_type": "execute_result"
    }
   ],
   "source": [
    "df"
   ]
  },
  {
   "cell_type": "markdown",
   "metadata": {},
   "source": [
    "# Q8 - 1 Point\n",
    "### Suppose you have created a new table by_size which lists each penguin's size as either \"small\", \"medium\", or \"large\". The species is also included. The table looks like this:\n",
    "\n",
    "<img src = \"imgs/sizes.png\"></img>"
   ]
  },
  {
   "cell_type": "markdown",
   "metadata": {},
   "source": [
    "### Using the code `by_size.pivot_table(index='species', columns='size?', aggfunc='size')` , you've created the pivot table shown below:\n",
    "<img src = 'imgs/pt.png'></img>"
   ]
  },
  {
   "cell_type": "markdown",
   "metadata": {},
   "source": [
    "### There is a `NaN`in this pivot table. Why?\n",
    "\n",
    "#### 1. some Gentoo penguins had sizes that were NaN\n",
    "#### 2. some Gentoo penguins had sizes that were not strings\n",
    "#### 3. there were too many small Gentoo penguins for the computer to represent with finite precision\n",
    "#### 4. there were no small Gentoo penguins"
   ]
  },
  {
   "cell_type": "markdown",
   "metadata": {},
   "source": [
    "### Ans: "
   ]
  },
  {
   "cell_type": "markdown",
   "metadata": {},
   "source": [
    "# Q9 - 1 Point \n",
    "\n",
    "### Suppose we wish to fill in the missing value in the pivot table above. What makes the most sense to fill it in with?\n",
    "\n",
    "#### A. 0\n",
    "#### B. 1\n",
    "#### C. np.inf (infinity)\n",
    "#### D. the mean of the \"small\" column\n",
    "#### E. the mean of the \"Gentoo\" row\n",
    "#### F. a number chosen at random from the observed values in the \"small\" column\n",
    "#### G. a number at random from the uniform distribution on 0, 1"
   ]
  },
  {
   "cell_type": "markdown",
   "metadata": {},
   "source": [
    "### Ans: "
   ]
  },
  {
   "cell_type": "markdown",
   "metadata": {},
   "source": [
    "# Q10 - 1 Point\n",
    "\n",
    "### You have a second dataframe, `personalities`, that contains the disposition and intelligence of several species of penguin:\n",
    "<img src = 'imgs/personalities.png'></img>"
   ]
  },
  {
   "cell_type": "code",
   "execution_count": 15,
   "metadata": {},
   "outputs": [
    {
     "data": {
      "text/html": [
       "<div>\n",
       "<style scoped>\n",
       "    .dataframe tbody tr th:only-of-type {\n",
       "        vertical-align: middle;\n",
       "    }\n",
       "\n",
       "    .dataframe tbody tr th {\n",
       "        vertical-align: top;\n",
       "    }\n",
       "\n",
       "    .dataframe thead th {\n",
       "        text-align: right;\n",
       "    }\n",
       "</style>\n",
       "<table border=\"1\" class=\"dataframe\">\n",
       "  <thead>\n",
       "    <tr style=\"text-align: right;\">\n",
       "      <th></th>\n",
       "      <th>Disposition</th>\n",
       "      <th>Intelligence</th>\n",
       "      <th>Species</th>\n",
       "    </tr>\n",
       "  </thead>\n",
       "  <tbody>\n",
       "    <tr>\n",
       "      <th>0</th>\n",
       "      <td>happy</td>\n",
       "      <td>smart</td>\n",
       "      <td>Adelie</td>\n",
       "    </tr>\n",
       "    <tr>\n",
       "      <th>1</th>\n",
       "      <td>grumpy</td>\n",
       "      <td>not smart</td>\n",
       "      <td>Chinstrap</td>\n",
       "    </tr>\n",
       "    <tr>\n",
       "      <th>2</th>\n",
       "      <td>mean</td>\n",
       "      <td>not smart</td>\n",
       "      <td>Emperor</td>\n",
       "    </tr>\n",
       "  </tbody>\n",
       "</table>\n",
       "</div>"
      ],
      "text/plain": [
       "  Disposition Intelligence    Species\n",
       "0       happy        smart     Adelie\n",
       "1      grumpy    not smart  Chinstrap\n",
       "2        mean    not smart    Emperor"
      ]
     },
     "execution_count": 15,
     "metadata": {},
     "output_type": "execute_result"
    }
   ],
   "source": [
    "personalities = pd.DataFrame({\n",
    "    'Disposition':['happy','grumpy','mean'],\n",
    "    'Intelligence':['smart','not smart','not smart'],\n",
    "    'Species': ['Adelie','Chinstrap','Emperor']\n",
    "})\n",
    "personalities"
   ]
  },
  {
   "cell_type": "markdown",
   "metadata": {},
   "source": [
    "### Note that personalities is missing some of the species that are in `df`, and it contains species that are not in `df`. You'd like to use the table to add columns to `df` for the disposition and intelligence of each of the penguins in the data set. \n",
    "\n",
    "### If a species in `df` is not listed in `personalities`, you're OK with having their disposition and Intelligence be `NaN`. \n",
    "\n",
    "### And if a species in `personalities` is not in `df`, it should not be added. \n",
    "### Therefore, the result of your merge should have exactly 330 rows -- the same as `df`."
   ]
  },
  {
   "cell_type": "markdown",
   "metadata": {},
   "source": [
    "### Which of the below will perform this?\n",
    "\n",
    "#### 1. `pd.merge(df, personalities, how='outer')`\n",
    "#### 2. `pd.merge(df, personalities, how='inner')`\n",
    "#### 3. `pd.merge(df, personalities, how='left')`\n",
    "#### 4. `pd.merge(df, personalities, how='right')`"
   ]
  },
  {
   "cell_type": "markdown",
   "metadata": {},
   "source": [
    "### Ans: "
   ]
  },
  {
   "cell_type": "code",
   "execution_count": 16,
   "metadata": {},
   "outputs": [
    {
     "data": {
      "text/html": [
       "<div>\n",
       "<style scoped>\n",
       "    .dataframe tbody tr th:only-of-type {\n",
       "        vertical-align: middle;\n",
       "    }\n",
       "\n",
       "    .dataframe tbody tr th {\n",
       "        vertical-align: top;\n",
       "    }\n",
       "\n",
       "    .dataframe thead th {\n",
       "        text-align: right;\n",
       "    }\n",
       "</style>\n",
       "<table border=\"1\" class=\"dataframe\">\n",
       "  <thead>\n",
       "    <tr style=\"text-align: right;\">\n",
       "      <th></th>\n",
       "      <th>Culmen Length (mm)</th>\n",
       "      <th>Culmen Depth (mm)</th>\n",
       "      <th>Flipper Length (mm)</th>\n",
       "      <th>Body Mass (g)</th>\n",
       "      <th>Delta 15 N (o/oo)</th>\n",
       "      <th>Delta 13 C (o/oo)</th>\n",
       "      <th>Species</th>\n",
       "      <th>Disposition</th>\n",
       "      <th>Intelligence</th>\n",
       "    </tr>\n",
       "  </thead>\n",
       "  <tbody>\n",
       "    <tr>\n",
       "      <th>0</th>\n",
       "      <td>39.5</td>\n",
       "      <td>17.4</td>\n",
       "      <td>186.0</td>\n",
       "      <td>3800.0</td>\n",
       "      <td>8.94956</td>\n",
       "      <td>-24.69454</td>\n",
       "      <td>Adelie</td>\n",
       "      <td>happy</td>\n",
       "      <td>smart</td>\n",
       "    </tr>\n",
       "    <tr>\n",
       "      <th>1</th>\n",
       "      <td>40.3</td>\n",
       "      <td>18.0</td>\n",
       "      <td>195.0</td>\n",
       "      <td>3250.0</td>\n",
       "      <td>8.36821</td>\n",
       "      <td>-25.33302</td>\n",
       "      <td>Adelie</td>\n",
       "      <td>happy</td>\n",
       "      <td>smart</td>\n",
       "    </tr>\n",
       "    <tr>\n",
       "      <th>2</th>\n",
       "      <td>36.7</td>\n",
       "      <td>19.3</td>\n",
       "      <td>193.0</td>\n",
       "      <td>3450.0</td>\n",
       "      <td>8.76651</td>\n",
       "      <td>-25.32426</td>\n",
       "      <td>Adelie</td>\n",
       "      <td>happy</td>\n",
       "      <td>smart</td>\n",
       "    </tr>\n",
       "    <tr>\n",
       "      <th>3</th>\n",
       "      <td>39.3</td>\n",
       "      <td>20.6</td>\n",
       "      <td>190.0</td>\n",
       "      <td>3650.0</td>\n",
       "      <td>8.66496</td>\n",
       "      <td>-25.29805</td>\n",
       "      <td>Adelie</td>\n",
       "      <td>happy</td>\n",
       "      <td>smart</td>\n",
       "    </tr>\n",
       "    <tr>\n",
       "      <th>4</th>\n",
       "      <td>38.9</td>\n",
       "      <td>17.8</td>\n",
       "      <td>181.0</td>\n",
       "      <td>3625.0</td>\n",
       "      <td>9.18718</td>\n",
       "      <td>-25.21799</td>\n",
       "      <td>Adelie</td>\n",
       "      <td>happy</td>\n",
       "      <td>smart</td>\n",
       "    </tr>\n",
       "    <tr>\n",
       "      <th>...</th>\n",
       "      <td>...</td>\n",
       "      <td>...</td>\n",
       "      <td>...</td>\n",
       "      <td>...</td>\n",
       "      <td>...</td>\n",
       "      <td>...</td>\n",
       "      <td>...</td>\n",
       "      <td>...</td>\n",
       "      <td>...</td>\n",
       "    </tr>\n",
       "    <tr>\n",
       "      <th>326</th>\n",
       "      <td>46.8</td>\n",
       "      <td>14.3</td>\n",
       "      <td>215.0</td>\n",
       "      <td>4850.0</td>\n",
       "      <td>8.41151</td>\n",
       "      <td>-26.13832</td>\n",
       "      <td>Gentoo</td>\n",
       "      <td>NaN</td>\n",
       "      <td>NaN</td>\n",
       "    </tr>\n",
       "    <tr>\n",
       "      <th>327</th>\n",
       "      <td>50.4</td>\n",
       "      <td>15.7</td>\n",
       "      <td>222.0</td>\n",
       "      <td>5750.0</td>\n",
       "      <td>8.30166</td>\n",
       "      <td>-26.04117</td>\n",
       "      <td>Gentoo</td>\n",
       "      <td>NaN</td>\n",
       "      <td>NaN</td>\n",
       "    </tr>\n",
       "    <tr>\n",
       "      <th>328</th>\n",
       "      <td>45.2</td>\n",
       "      <td>14.8</td>\n",
       "      <td>212.0</td>\n",
       "      <td>5200.0</td>\n",
       "      <td>8.24246</td>\n",
       "      <td>-26.11969</td>\n",
       "      <td>Gentoo</td>\n",
       "      <td>NaN</td>\n",
       "      <td>NaN</td>\n",
       "    </tr>\n",
       "    <tr>\n",
       "      <th>329</th>\n",
       "      <td>49.9</td>\n",
       "      <td>16.1</td>\n",
       "      <td>213.0</td>\n",
       "      <td>5400.0</td>\n",
       "      <td>8.36390</td>\n",
       "      <td>-26.15531</td>\n",
       "      <td>Gentoo</td>\n",
       "      <td>NaN</td>\n",
       "      <td>NaN</td>\n",
       "    </tr>\n",
       "    <tr>\n",
       "      <th>330</th>\n",
       "      <td>NaN</td>\n",
       "      <td>NaN</td>\n",
       "      <td>NaN</td>\n",
       "      <td>NaN</td>\n",
       "      <td>NaN</td>\n",
       "      <td>NaN</td>\n",
       "      <td>Emperor</td>\n",
       "      <td>mean</td>\n",
       "      <td>not smart</td>\n",
       "    </tr>\n",
       "  </tbody>\n",
       "</table>\n",
       "<p>331 rows × 9 columns</p>\n",
       "</div>"
      ],
      "text/plain": [
       "     Culmen Length (mm)  Culmen Depth (mm)  Flipper Length (mm)  \\\n",
       "0                  39.5               17.4                186.0   \n",
       "1                  40.3               18.0                195.0   \n",
       "2                  36.7               19.3                193.0   \n",
       "3                  39.3               20.6                190.0   \n",
       "4                  38.9               17.8                181.0   \n",
       "..                  ...                ...                  ...   \n",
       "326                46.8               14.3                215.0   \n",
       "327                50.4               15.7                222.0   \n",
       "328                45.2               14.8                212.0   \n",
       "329                49.9               16.1                213.0   \n",
       "330                 NaN                NaN                  NaN   \n",
       "\n",
       "     Body Mass (g)  Delta 15 N (o/oo)  Delta 13 C (o/oo)  Species Disposition  \\\n",
       "0           3800.0            8.94956          -24.69454   Adelie       happy   \n",
       "1           3250.0            8.36821          -25.33302   Adelie       happy   \n",
       "2           3450.0            8.76651          -25.32426   Adelie       happy   \n",
       "3           3650.0            8.66496          -25.29805   Adelie       happy   \n",
       "4           3625.0            9.18718          -25.21799   Adelie       happy   \n",
       "..             ...                ...                ...      ...         ...   \n",
       "326         4850.0            8.41151          -26.13832   Gentoo         NaN   \n",
       "327         5750.0            8.30166          -26.04117   Gentoo         NaN   \n",
       "328         5200.0            8.24246          -26.11969   Gentoo         NaN   \n",
       "329         5400.0            8.36390          -26.15531   Gentoo         NaN   \n",
       "330            NaN                NaN                NaN  Emperor        mean   \n",
       "\n",
       "    Intelligence  \n",
       "0          smart  \n",
       "1          smart  \n",
       "2          smart  \n",
       "3          smart  \n",
       "4          smart  \n",
       "..           ...  \n",
       "326          NaN  \n",
       "327          NaN  \n",
       "328          NaN  \n",
       "329          NaN  \n",
       "330    not smart  \n",
       "\n",
       "[331 rows x 9 columns]"
      ]
     },
     "execution_count": 16,
     "metadata": {},
     "output_type": "execute_result"
    }
   ],
   "source": [
    "pd.merge(df, personalities, how='outer')"
   ]
  },
  {
   "cell_type": "code",
   "execution_count": 17,
   "metadata": {},
   "outputs": [
    {
     "data": {
      "text/html": [
       "<div>\n",
       "<style scoped>\n",
       "    .dataframe tbody tr th:only-of-type {\n",
       "        vertical-align: middle;\n",
       "    }\n",
       "\n",
       "    .dataframe tbody tr th {\n",
       "        vertical-align: top;\n",
       "    }\n",
       "\n",
       "    .dataframe thead th {\n",
       "        text-align: right;\n",
       "    }\n",
       "</style>\n",
       "<table border=\"1\" class=\"dataframe\">\n",
       "  <thead>\n",
       "    <tr style=\"text-align: right;\">\n",
       "      <th></th>\n",
       "      <th>Culmen Length (mm)</th>\n",
       "      <th>Culmen Depth (mm)</th>\n",
       "      <th>Flipper Length (mm)</th>\n",
       "      <th>Body Mass (g)</th>\n",
       "      <th>Delta 15 N (o/oo)</th>\n",
       "      <th>Delta 13 C (o/oo)</th>\n",
       "      <th>Species</th>\n",
       "      <th>Disposition</th>\n",
       "      <th>Intelligence</th>\n",
       "    </tr>\n",
       "  </thead>\n",
       "  <tbody>\n",
       "    <tr>\n",
       "      <th>0</th>\n",
       "      <td>39.5</td>\n",
       "      <td>17.4</td>\n",
       "      <td>186.0</td>\n",
       "      <td>3800.0</td>\n",
       "      <td>8.94956</td>\n",
       "      <td>-24.69454</td>\n",
       "      <td>Adelie</td>\n",
       "      <td>happy</td>\n",
       "      <td>smart</td>\n",
       "    </tr>\n",
       "    <tr>\n",
       "      <th>1</th>\n",
       "      <td>40.3</td>\n",
       "      <td>18.0</td>\n",
       "      <td>195.0</td>\n",
       "      <td>3250.0</td>\n",
       "      <td>8.36821</td>\n",
       "      <td>-25.33302</td>\n",
       "      <td>Adelie</td>\n",
       "      <td>happy</td>\n",
       "      <td>smart</td>\n",
       "    </tr>\n",
       "    <tr>\n",
       "      <th>2</th>\n",
       "      <td>36.7</td>\n",
       "      <td>19.3</td>\n",
       "      <td>193.0</td>\n",
       "      <td>3450.0</td>\n",
       "      <td>8.76651</td>\n",
       "      <td>-25.32426</td>\n",
       "      <td>Adelie</td>\n",
       "      <td>happy</td>\n",
       "      <td>smart</td>\n",
       "    </tr>\n",
       "    <tr>\n",
       "      <th>3</th>\n",
       "      <td>39.3</td>\n",
       "      <td>20.6</td>\n",
       "      <td>190.0</td>\n",
       "      <td>3650.0</td>\n",
       "      <td>8.66496</td>\n",
       "      <td>-25.29805</td>\n",
       "      <td>Adelie</td>\n",
       "      <td>happy</td>\n",
       "      <td>smart</td>\n",
       "    </tr>\n",
       "    <tr>\n",
       "      <th>4</th>\n",
       "      <td>38.9</td>\n",
       "      <td>17.8</td>\n",
       "      <td>181.0</td>\n",
       "      <td>3625.0</td>\n",
       "      <td>9.18718</td>\n",
       "      <td>-25.21799</td>\n",
       "      <td>Adelie</td>\n",
       "      <td>happy</td>\n",
       "      <td>smart</td>\n",
       "    </tr>\n",
       "    <tr>\n",
       "      <th>...</th>\n",
       "      <td>...</td>\n",
       "      <td>...</td>\n",
       "      <td>...</td>\n",
       "      <td>...</td>\n",
       "      <td>...</td>\n",
       "      <td>...</td>\n",
       "      <td>...</td>\n",
       "      <td>...</td>\n",
       "      <td>...</td>\n",
       "    </tr>\n",
       "    <tr>\n",
       "      <th>203</th>\n",
       "      <td>55.8</td>\n",
       "      <td>19.8</td>\n",
       "      <td>207.0</td>\n",
       "      <td>4000.0</td>\n",
       "      <td>9.70465</td>\n",
       "      <td>-24.53494</td>\n",
       "      <td>Chinstrap</td>\n",
       "      <td>grumpy</td>\n",
       "      <td>not smart</td>\n",
       "    </tr>\n",
       "    <tr>\n",
       "      <th>204</th>\n",
       "      <td>43.5</td>\n",
       "      <td>18.1</td>\n",
       "      <td>202.0</td>\n",
       "      <td>3400.0</td>\n",
       "      <td>9.37608</td>\n",
       "      <td>-24.40753</td>\n",
       "      <td>Chinstrap</td>\n",
       "      <td>grumpy</td>\n",
       "      <td>not smart</td>\n",
       "    </tr>\n",
       "    <tr>\n",
       "      <th>205</th>\n",
       "      <td>49.6</td>\n",
       "      <td>18.2</td>\n",
       "      <td>193.0</td>\n",
       "      <td>3775.0</td>\n",
       "      <td>9.46180</td>\n",
       "      <td>-24.70615</td>\n",
       "      <td>Chinstrap</td>\n",
       "      <td>grumpy</td>\n",
       "      <td>not smart</td>\n",
       "    </tr>\n",
       "    <tr>\n",
       "      <th>206</th>\n",
       "      <td>50.8</td>\n",
       "      <td>19.0</td>\n",
       "      <td>210.0</td>\n",
       "      <td>4100.0</td>\n",
       "      <td>9.98044</td>\n",
       "      <td>-24.68741</td>\n",
       "      <td>Chinstrap</td>\n",
       "      <td>grumpy</td>\n",
       "      <td>not smart</td>\n",
       "    </tr>\n",
       "    <tr>\n",
       "      <th>207</th>\n",
       "      <td>50.2</td>\n",
       "      <td>18.7</td>\n",
       "      <td>198.0</td>\n",
       "      <td>3775.0</td>\n",
       "      <td>9.39305</td>\n",
       "      <td>-24.25255</td>\n",
       "      <td>Chinstrap</td>\n",
       "      <td>grumpy</td>\n",
       "      <td>not smart</td>\n",
       "    </tr>\n",
       "  </tbody>\n",
       "</table>\n",
       "<p>208 rows × 9 columns</p>\n",
       "</div>"
      ],
      "text/plain": [
       "     Culmen Length (mm)  Culmen Depth (mm)  Flipper Length (mm)  \\\n",
       "0                  39.5               17.4                186.0   \n",
       "1                  40.3               18.0                195.0   \n",
       "2                  36.7               19.3                193.0   \n",
       "3                  39.3               20.6                190.0   \n",
       "4                  38.9               17.8                181.0   \n",
       "..                  ...                ...                  ...   \n",
       "203                55.8               19.8                207.0   \n",
       "204                43.5               18.1                202.0   \n",
       "205                49.6               18.2                193.0   \n",
       "206                50.8               19.0                210.0   \n",
       "207                50.2               18.7                198.0   \n",
       "\n",
       "     Body Mass (g)  Delta 15 N (o/oo)  Delta 13 C (o/oo)    Species  \\\n",
       "0           3800.0            8.94956          -24.69454     Adelie   \n",
       "1           3250.0            8.36821          -25.33302     Adelie   \n",
       "2           3450.0            8.76651          -25.32426     Adelie   \n",
       "3           3650.0            8.66496          -25.29805     Adelie   \n",
       "4           3625.0            9.18718          -25.21799     Adelie   \n",
       "..             ...                ...                ...        ...   \n",
       "203         4000.0            9.70465          -24.53494  Chinstrap   \n",
       "204         3400.0            9.37608          -24.40753  Chinstrap   \n",
       "205         3775.0            9.46180          -24.70615  Chinstrap   \n",
       "206         4100.0            9.98044          -24.68741  Chinstrap   \n",
       "207         3775.0            9.39305          -24.25255  Chinstrap   \n",
       "\n",
       "    Disposition Intelligence  \n",
       "0         happy        smart  \n",
       "1         happy        smart  \n",
       "2         happy        smart  \n",
       "3         happy        smart  \n",
       "4         happy        smart  \n",
       "..          ...          ...  \n",
       "203      grumpy    not smart  \n",
       "204      grumpy    not smart  \n",
       "205      grumpy    not smart  \n",
       "206      grumpy    not smart  \n",
       "207      grumpy    not smart  \n",
       "\n",
       "[208 rows x 9 columns]"
      ]
     },
     "execution_count": 17,
     "metadata": {},
     "output_type": "execute_result"
    }
   ],
   "source": [
    "pd.merge(df, personalities, how='inner')"
   ]
  },
  {
   "cell_type": "code",
   "execution_count": 18,
   "metadata": {},
   "outputs": [
    {
     "data": {
      "text/html": [
       "<div>\n",
       "<style scoped>\n",
       "    .dataframe tbody tr th:only-of-type {\n",
       "        vertical-align: middle;\n",
       "    }\n",
       "\n",
       "    .dataframe tbody tr th {\n",
       "        vertical-align: top;\n",
       "    }\n",
       "\n",
       "    .dataframe thead th {\n",
       "        text-align: right;\n",
       "    }\n",
       "</style>\n",
       "<table border=\"1\" class=\"dataframe\">\n",
       "  <thead>\n",
       "    <tr style=\"text-align: right;\">\n",
       "      <th></th>\n",
       "      <th>Culmen Length (mm)</th>\n",
       "      <th>Culmen Depth (mm)</th>\n",
       "      <th>Flipper Length (mm)</th>\n",
       "      <th>Body Mass (g)</th>\n",
       "      <th>Delta 15 N (o/oo)</th>\n",
       "      <th>Delta 13 C (o/oo)</th>\n",
       "      <th>Species</th>\n",
       "      <th>Disposition</th>\n",
       "      <th>Intelligence</th>\n",
       "    </tr>\n",
       "  </thead>\n",
       "  <tbody>\n",
       "    <tr>\n",
       "      <th>0</th>\n",
       "      <td>39.5</td>\n",
       "      <td>17.4</td>\n",
       "      <td>186.0</td>\n",
       "      <td>3800.0</td>\n",
       "      <td>8.94956</td>\n",
       "      <td>-24.69454</td>\n",
       "      <td>Adelie</td>\n",
       "      <td>happy</td>\n",
       "      <td>smart</td>\n",
       "    </tr>\n",
       "    <tr>\n",
       "      <th>1</th>\n",
       "      <td>40.3</td>\n",
       "      <td>18.0</td>\n",
       "      <td>195.0</td>\n",
       "      <td>3250.0</td>\n",
       "      <td>8.36821</td>\n",
       "      <td>-25.33302</td>\n",
       "      <td>Adelie</td>\n",
       "      <td>happy</td>\n",
       "      <td>smart</td>\n",
       "    </tr>\n",
       "    <tr>\n",
       "      <th>2</th>\n",
       "      <td>36.7</td>\n",
       "      <td>19.3</td>\n",
       "      <td>193.0</td>\n",
       "      <td>3450.0</td>\n",
       "      <td>8.76651</td>\n",
       "      <td>-25.32426</td>\n",
       "      <td>Adelie</td>\n",
       "      <td>happy</td>\n",
       "      <td>smart</td>\n",
       "    </tr>\n",
       "    <tr>\n",
       "      <th>3</th>\n",
       "      <td>39.3</td>\n",
       "      <td>20.6</td>\n",
       "      <td>190.0</td>\n",
       "      <td>3650.0</td>\n",
       "      <td>8.66496</td>\n",
       "      <td>-25.29805</td>\n",
       "      <td>Adelie</td>\n",
       "      <td>happy</td>\n",
       "      <td>smart</td>\n",
       "    </tr>\n",
       "    <tr>\n",
       "      <th>4</th>\n",
       "      <td>38.9</td>\n",
       "      <td>17.8</td>\n",
       "      <td>181.0</td>\n",
       "      <td>3625.0</td>\n",
       "      <td>9.18718</td>\n",
       "      <td>-25.21799</td>\n",
       "      <td>Adelie</td>\n",
       "      <td>happy</td>\n",
       "      <td>smart</td>\n",
       "    </tr>\n",
       "    <tr>\n",
       "      <th>...</th>\n",
       "      <td>...</td>\n",
       "      <td>...</td>\n",
       "      <td>...</td>\n",
       "      <td>...</td>\n",
       "      <td>...</td>\n",
       "      <td>...</td>\n",
       "      <td>...</td>\n",
       "      <td>...</td>\n",
       "      <td>...</td>\n",
       "    </tr>\n",
       "    <tr>\n",
       "      <th>325</th>\n",
       "      <td>47.2</td>\n",
       "      <td>13.7</td>\n",
       "      <td>214.0</td>\n",
       "      <td>4925.0</td>\n",
       "      <td>7.99184</td>\n",
       "      <td>-26.20538</td>\n",
       "      <td>Gentoo</td>\n",
       "      <td>NaN</td>\n",
       "      <td>NaN</td>\n",
       "    </tr>\n",
       "    <tr>\n",
       "      <th>326</th>\n",
       "      <td>46.8</td>\n",
       "      <td>14.3</td>\n",
       "      <td>215.0</td>\n",
       "      <td>4850.0</td>\n",
       "      <td>8.41151</td>\n",
       "      <td>-26.13832</td>\n",
       "      <td>Gentoo</td>\n",
       "      <td>NaN</td>\n",
       "      <td>NaN</td>\n",
       "    </tr>\n",
       "    <tr>\n",
       "      <th>327</th>\n",
       "      <td>50.4</td>\n",
       "      <td>15.7</td>\n",
       "      <td>222.0</td>\n",
       "      <td>5750.0</td>\n",
       "      <td>8.30166</td>\n",
       "      <td>-26.04117</td>\n",
       "      <td>Gentoo</td>\n",
       "      <td>NaN</td>\n",
       "      <td>NaN</td>\n",
       "    </tr>\n",
       "    <tr>\n",
       "      <th>328</th>\n",
       "      <td>45.2</td>\n",
       "      <td>14.8</td>\n",
       "      <td>212.0</td>\n",
       "      <td>5200.0</td>\n",
       "      <td>8.24246</td>\n",
       "      <td>-26.11969</td>\n",
       "      <td>Gentoo</td>\n",
       "      <td>NaN</td>\n",
       "      <td>NaN</td>\n",
       "    </tr>\n",
       "    <tr>\n",
       "      <th>329</th>\n",
       "      <td>49.9</td>\n",
       "      <td>16.1</td>\n",
       "      <td>213.0</td>\n",
       "      <td>5400.0</td>\n",
       "      <td>8.36390</td>\n",
       "      <td>-26.15531</td>\n",
       "      <td>Gentoo</td>\n",
       "      <td>NaN</td>\n",
       "      <td>NaN</td>\n",
       "    </tr>\n",
       "  </tbody>\n",
       "</table>\n",
       "<p>330 rows × 9 columns</p>\n",
       "</div>"
      ],
      "text/plain": [
       "     Culmen Length (mm)  Culmen Depth (mm)  Flipper Length (mm)  \\\n",
       "0                  39.5               17.4                186.0   \n",
       "1                  40.3               18.0                195.0   \n",
       "2                  36.7               19.3                193.0   \n",
       "3                  39.3               20.6                190.0   \n",
       "4                  38.9               17.8                181.0   \n",
       "..                  ...                ...                  ...   \n",
       "325                47.2               13.7                214.0   \n",
       "326                46.8               14.3                215.0   \n",
       "327                50.4               15.7                222.0   \n",
       "328                45.2               14.8                212.0   \n",
       "329                49.9               16.1                213.0   \n",
       "\n",
       "     Body Mass (g)  Delta 15 N (o/oo)  Delta 13 C (o/oo) Species Disposition  \\\n",
       "0           3800.0            8.94956          -24.69454  Adelie       happy   \n",
       "1           3250.0            8.36821          -25.33302  Adelie       happy   \n",
       "2           3450.0            8.76651          -25.32426  Adelie       happy   \n",
       "3           3650.0            8.66496          -25.29805  Adelie       happy   \n",
       "4           3625.0            9.18718          -25.21799  Adelie       happy   \n",
       "..             ...                ...                ...     ...         ...   \n",
       "325         4925.0            7.99184          -26.20538  Gentoo         NaN   \n",
       "326         4850.0            8.41151          -26.13832  Gentoo         NaN   \n",
       "327         5750.0            8.30166          -26.04117  Gentoo         NaN   \n",
       "328         5200.0            8.24246          -26.11969  Gentoo         NaN   \n",
       "329         5400.0            8.36390          -26.15531  Gentoo         NaN   \n",
       "\n",
       "    Intelligence  \n",
       "0          smart  \n",
       "1          smart  \n",
       "2          smart  \n",
       "3          smart  \n",
       "4          smart  \n",
       "..           ...  \n",
       "325          NaN  \n",
       "326          NaN  \n",
       "327          NaN  \n",
       "328          NaN  \n",
       "329          NaN  \n",
       "\n",
       "[330 rows x 9 columns]"
      ]
     },
     "execution_count": 18,
     "metadata": {},
     "output_type": "execute_result"
    }
   ],
   "source": [
    "pd.merge(df, personalities, how='left')"
   ]
  },
  {
   "cell_type": "code",
   "execution_count": 19,
   "metadata": {},
   "outputs": [
    {
     "data": {
      "text/html": [
       "<div>\n",
       "<style scoped>\n",
       "    .dataframe tbody tr th:only-of-type {\n",
       "        vertical-align: middle;\n",
       "    }\n",
       "\n",
       "    .dataframe tbody tr th {\n",
       "        vertical-align: top;\n",
       "    }\n",
       "\n",
       "    .dataframe thead th {\n",
       "        text-align: right;\n",
       "    }\n",
       "</style>\n",
       "<table border=\"1\" class=\"dataframe\">\n",
       "  <thead>\n",
       "    <tr style=\"text-align: right;\">\n",
       "      <th></th>\n",
       "      <th>Culmen Length (mm)</th>\n",
       "      <th>Culmen Depth (mm)</th>\n",
       "      <th>Flipper Length (mm)</th>\n",
       "      <th>Body Mass (g)</th>\n",
       "      <th>Delta 15 N (o/oo)</th>\n",
       "      <th>Delta 13 C (o/oo)</th>\n",
       "      <th>Species</th>\n",
       "      <th>Disposition</th>\n",
       "      <th>Intelligence</th>\n",
       "    </tr>\n",
       "  </thead>\n",
       "  <tbody>\n",
       "    <tr>\n",
       "      <th>0</th>\n",
       "      <td>39.5</td>\n",
       "      <td>17.4</td>\n",
       "      <td>186.0</td>\n",
       "      <td>3800.0</td>\n",
       "      <td>8.94956</td>\n",
       "      <td>-24.69454</td>\n",
       "      <td>Adelie</td>\n",
       "      <td>happy</td>\n",
       "      <td>smart</td>\n",
       "    </tr>\n",
       "    <tr>\n",
       "      <th>1</th>\n",
       "      <td>40.3</td>\n",
       "      <td>18.0</td>\n",
       "      <td>195.0</td>\n",
       "      <td>3250.0</td>\n",
       "      <td>8.36821</td>\n",
       "      <td>-25.33302</td>\n",
       "      <td>Adelie</td>\n",
       "      <td>happy</td>\n",
       "      <td>smart</td>\n",
       "    </tr>\n",
       "    <tr>\n",
       "      <th>2</th>\n",
       "      <td>36.7</td>\n",
       "      <td>19.3</td>\n",
       "      <td>193.0</td>\n",
       "      <td>3450.0</td>\n",
       "      <td>8.76651</td>\n",
       "      <td>-25.32426</td>\n",
       "      <td>Adelie</td>\n",
       "      <td>happy</td>\n",
       "      <td>smart</td>\n",
       "    </tr>\n",
       "    <tr>\n",
       "      <th>3</th>\n",
       "      <td>39.3</td>\n",
       "      <td>20.6</td>\n",
       "      <td>190.0</td>\n",
       "      <td>3650.0</td>\n",
       "      <td>8.66496</td>\n",
       "      <td>-25.29805</td>\n",
       "      <td>Adelie</td>\n",
       "      <td>happy</td>\n",
       "      <td>smart</td>\n",
       "    </tr>\n",
       "    <tr>\n",
       "      <th>4</th>\n",
       "      <td>38.9</td>\n",
       "      <td>17.8</td>\n",
       "      <td>181.0</td>\n",
       "      <td>3625.0</td>\n",
       "      <td>9.18718</td>\n",
       "      <td>-25.21799</td>\n",
       "      <td>Adelie</td>\n",
       "      <td>happy</td>\n",
       "      <td>smart</td>\n",
       "    </tr>\n",
       "    <tr>\n",
       "      <th>...</th>\n",
       "      <td>...</td>\n",
       "      <td>...</td>\n",
       "      <td>...</td>\n",
       "      <td>...</td>\n",
       "      <td>...</td>\n",
       "      <td>...</td>\n",
       "      <td>...</td>\n",
       "      <td>...</td>\n",
       "      <td>...</td>\n",
       "    </tr>\n",
       "    <tr>\n",
       "      <th>204</th>\n",
       "      <td>43.5</td>\n",
       "      <td>18.1</td>\n",
       "      <td>202.0</td>\n",
       "      <td>3400.0</td>\n",
       "      <td>9.37608</td>\n",
       "      <td>-24.40753</td>\n",
       "      <td>Chinstrap</td>\n",
       "      <td>grumpy</td>\n",
       "      <td>not smart</td>\n",
       "    </tr>\n",
       "    <tr>\n",
       "      <th>205</th>\n",
       "      <td>49.6</td>\n",
       "      <td>18.2</td>\n",
       "      <td>193.0</td>\n",
       "      <td>3775.0</td>\n",
       "      <td>9.46180</td>\n",
       "      <td>-24.70615</td>\n",
       "      <td>Chinstrap</td>\n",
       "      <td>grumpy</td>\n",
       "      <td>not smart</td>\n",
       "    </tr>\n",
       "    <tr>\n",
       "      <th>206</th>\n",
       "      <td>50.8</td>\n",
       "      <td>19.0</td>\n",
       "      <td>210.0</td>\n",
       "      <td>4100.0</td>\n",
       "      <td>9.98044</td>\n",
       "      <td>-24.68741</td>\n",
       "      <td>Chinstrap</td>\n",
       "      <td>grumpy</td>\n",
       "      <td>not smart</td>\n",
       "    </tr>\n",
       "    <tr>\n",
       "      <th>207</th>\n",
       "      <td>50.2</td>\n",
       "      <td>18.7</td>\n",
       "      <td>198.0</td>\n",
       "      <td>3775.0</td>\n",
       "      <td>9.39305</td>\n",
       "      <td>-24.25255</td>\n",
       "      <td>Chinstrap</td>\n",
       "      <td>grumpy</td>\n",
       "      <td>not smart</td>\n",
       "    </tr>\n",
       "    <tr>\n",
       "      <th>208</th>\n",
       "      <td>NaN</td>\n",
       "      <td>NaN</td>\n",
       "      <td>NaN</td>\n",
       "      <td>NaN</td>\n",
       "      <td>NaN</td>\n",
       "      <td>NaN</td>\n",
       "      <td>Emperor</td>\n",
       "      <td>mean</td>\n",
       "      <td>not smart</td>\n",
       "    </tr>\n",
       "  </tbody>\n",
       "</table>\n",
       "<p>209 rows × 9 columns</p>\n",
       "</div>"
      ],
      "text/plain": [
       "     Culmen Length (mm)  Culmen Depth (mm)  Flipper Length (mm)  \\\n",
       "0                  39.5               17.4                186.0   \n",
       "1                  40.3               18.0                195.0   \n",
       "2                  36.7               19.3                193.0   \n",
       "3                  39.3               20.6                190.0   \n",
       "4                  38.9               17.8                181.0   \n",
       "..                  ...                ...                  ...   \n",
       "204                43.5               18.1                202.0   \n",
       "205                49.6               18.2                193.0   \n",
       "206                50.8               19.0                210.0   \n",
       "207                50.2               18.7                198.0   \n",
       "208                 NaN                NaN                  NaN   \n",
       "\n",
       "     Body Mass (g)  Delta 15 N (o/oo)  Delta 13 C (o/oo)    Species  \\\n",
       "0           3800.0            8.94956          -24.69454     Adelie   \n",
       "1           3250.0            8.36821          -25.33302     Adelie   \n",
       "2           3450.0            8.76651          -25.32426     Adelie   \n",
       "3           3650.0            8.66496          -25.29805     Adelie   \n",
       "4           3625.0            9.18718          -25.21799     Adelie   \n",
       "..             ...                ...                ...        ...   \n",
       "204         3400.0            9.37608          -24.40753  Chinstrap   \n",
       "205         3775.0            9.46180          -24.70615  Chinstrap   \n",
       "206         4100.0            9.98044          -24.68741  Chinstrap   \n",
       "207         3775.0            9.39305          -24.25255  Chinstrap   \n",
       "208            NaN                NaN                NaN    Emperor   \n",
       "\n",
       "    Disposition Intelligence  \n",
       "0         happy        smart  \n",
       "1         happy        smart  \n",
       "2         happy        smart  \n",
       "3         happy        smart  \n",
       "4         happy        smart  \n",
       "..          ...          ...  \n",
       "204      grumpy    not smart  \n",
       "205      grumpy    not smart  \n",
       "206      grumpy    not smart  \n",
       "207      grumpy    not smart  \n",
       "208        mean    not smart  \n",
       "\n",
       "[209 rows x 9 columns]"
      ]
     },
     "execution_count": 19,
     "metadata": {},
     "output_type": "execute_result"
    }
   ],
   "source": [
    "pd.merge(df, personalities, how='right')"
   ]
  },
  {
   "cell_type": "code",
   "execution_count": 20,
   "metadata": {},
   "outputs": [
    {
     "data": {
      "text/html": [
       "<div>\n",
       "<style scoped>\n",
       "    .dataframe tbody tr th:only-of-type {\n",
       "        vertical-align: middle;\n",
       "    }\n",
       "\n",
       "    .dataframe tbody tr th {\n",
       "        vertical-align: top;\n",
       "    }\n",
       "\n",
       "    .dataframe thead th {\n",
       "        text-align: right;\n",
       "    }\n",
       "</style>\n",
       "<table border=\"1\" class=\"dataframe\">\n",
       "  <thead>\n",
       "    <tr style=\"text-align: right;\">\n",
       "      <th></th>\n",
       "      <th>Culmen Length (mm)</th>\n",
       "      <th>Culmen Depth (mm)</th>\n",
       "      <th>Flipper Length (mm)</th>\n",
       "      <th>Body Mass (g)</th>\n",
       "      <th>Delta 15 N (o/oo)</th>\n",
       "      <th>Delta 13 C (o/oo)</th>\n",
       "      <th>Species</th>\n",
       "    </tr>\n",
       "  </thead>\n",
       "  <tbody>\n",
       "    <tr>\n",
       "      <th>1</th>\n",
       "      <td>39.5</td>\n",
       "      <td>17.4</td>\n",
       "      <td>186.0</td>\n",
       "      <td>3800.0</td>\n",
       "      <td>8.94956</td>\n",
       "      <td>-24.69454</td>\n",
       "      <td>Adelie</td>\n",
       "    </tr>\n",
       "    <tr>\n",
       "      <th>2</th>\n",
       "      <td>40.3</td>\n",
       "      <td>18.0</td>\n",
       "      <td>195.0</td>\n",
       "      <td>3250.0</td>\n",
       "      <td>8.36821</td>\n",
       "      <td>-25.33302</td>\n",
       "      <td>Adelie</td>\n",
       "    </tr>\n",
       "    <tr>\n",
       "      <th>4</th>\n",
       "      <td>36.7</td>\n",
       "      <td>19.3</td>\n",
       "      <td>193.0</td>\n",
       "      <td>3450.0</td>\n",
       "      <td>8.76651</td>\n",
       "      <td>-25.32426</td>\n",
       "      <td>Adelie</td>\n",
       "    </tr>\n",
       "    <tr>\n",
       "      <th>5</th>\n",
       "      <td>39.3</td>\n",
       "      <td>20.6</td>\n",
       "      <td>190.0</td>\n",
       "      <td>3650.0</td>\n",
       "      <td>8.66496</td>\n",
       "      <td>-25.29805</td>\n",
       "      <td>Adelie</td>\n",
       "    </tr>\n",
       "    <tr>\n",
       "      <th>6</th>\n",
       "      <td>38.9</td>\n",
       "      <td>17.8</td>\n",
       "      <td>181.0</td>\n",
       "      <td>3625.0</td>\n",
       "      <td>9.18718</td>\n",
       "      <td>-25.21799</td>\n",
       "      <td>Adelie</td>\n",
       "    </tr>\n",
       "    <tr>\n",
       "      <th>...</th>\n",
       "      <td>...</td>\n",
       "      <td>...</td>\n",
       "      <td>...</td>\n",
       "      <td>...</td>\n",
       "      <td>...</td>\n",
       "      <td>...</td>\n",
       "      <td>...</td>\n",
       "    </tr>\n",
       "    <tr>\n",
       "      <th>338</th>\n",
       "      <td>47.2</td>\n",
       "      <td>13.7</td>\n",
       "      <td>214.0</td>\n",
       "      <td>4925.0</td>\n",
       "      <td>7.99184</td>\n",
       "      <td>-26.20538</td>\n",
       "      <td>Gentoo</td>\n",
       "    </tr>\n",
       "    <tr>\n",
       "      <th>340</th>\n",
       "      <td>46.8</td>\n",
       "      <td>14.3</td>\n",
       "      <td>215.0</td>\n",
       "      <td>4850.0</td>\n",
       "      <td>8.41151</td>\n",
       "      <td>-26.13832</td>\n",
       "      <td>Gentoo</td>\n",
       "    </tr>\n",
       "    <tr>\n",
       "      <th>341</th>\n",
       "      <td>50.4</td>\n",
       "      <td>15.7</td>\n",
       "      <td>222.0</td>\n",
       "      <td>5750.0</td>\n",
       "      <td>8.30166</td>\n",
       "      <td>-26.04117</td>\n",
       "      <td>Gentoo</td>\n",
       "    </tr>\n",
       "    <tr>\n",
       "      <th>342</th>\n",
       "      <td>45.2</td>\n",
       "      <td>14.8</td>\n",
       "      <td>212.0</td>\n",
       "      <td>5200.0</td>\n",
       "      <td>8.24246</td>\n",
       "      <td>-26.11969</td>\n",
       "      <td>Gentoo</td>\n",
       "    </tr>\n",
       "    <tr>\n",
       "      <th>343</th>\n",
       "      <td>49.9</td>\n",
       "      <td>16.1</td>\n",
       "      <td>213.0</td>\n",
       "      <td>5400.0</td>\n",
       "      <td>8.36390</td>\n",
       "      <td>-26.15531</td>\n",
       "      <td>Gentoo</td>\n",
       "    </tr>\n",
       "  </tbody>\n",
       "</table>\n",
       "<p>330 rows × 7 columns</p>\n",
       "</div>"
      ],
      "text/plain": [
       "     Culmen Length (mm)  Culmen Depth (mm)  Flipper Length (mm)  \\\n",
       "1                  39.5               17.4                186.0   \n",
       "2                  40.3               18.0                195.0   \n",
       "4                  36.7               19.3                193.0   \n",
       "5                  39.3               20.6                190.0   \n",
       "6                  38.9               17.8                181.0   \n",
       "..                  ...                ...                  ...   \n",
       "338                47.2               13.7                214.0   \n",
       "340                46.8               14.3                215.0   \n",
       "341                50.4               15.7                222.0   \n",
       "342                45.2               14.8                212.0   \n",
       "343                49.9               16.1                213.0   \n",
       "\n",
       "     Body Mass (g)  Delta 15 N (o/oo)  Delta 13 C (o/oo) Species  \n",
       "1           3800.0            8.94956          -24.69454  Adelie  \n",
       "2           3250.0            8.36821          -25.33302  Adelie  \n",
       "4           3450.0            8.76651          -25.32426  Adelie  \n",
       "5           3650.0            8.66496          -25.29805  Adelie  \n",
       "6           3625.0            9.18718          -25.21799  Adelie  \n",
       "..             ...                ...                ...     ...  \n",
       "338         4925.0            7.99184          -26.20538  Gentoo  \n",
       "340         4850.0            8.41151          -26.13832  Gentoo  \n",
       "341         5750.0            8.30166          -26.04117  Gentoo  \n",
       "342         5200.0            8.24246          -26.11969  Gentoo  \n",
       "343         5400.0            8.36390          -26.15531  Gentoo  \n",
       "\n",
       "[330 rows x 7 columns]"
      ]
     },
     "execution_count": 20,
     "metadata": {},
     "output_type": "execute_result"
    }
   ],
   "source": [
    "df # Reminder that merge operations are not automatically inPlace"
   ]
  },
  {
   "cell_type": "markdown",
   "metadata": {},
   "source": [
    "# Q11 Hypothesis Test - 7 Points"
   ]
  },
  {
   "cell_type": "markdown",
   "metadata": {},
   "source": [
    "#### In the sample of penguins in the table `df` above, 40% are `Gentoo` penguins, 30% are `Adelie`, and 30% are `Chinstrap`.\n",
    "\n",
    "#### It is known that, overall, 45% of penguins in Antarctica are `Gentoo`, 35% are `Adelie`, and 20% are `Chinstrap`. It therefore seems that the distribution of penguin species in your sample may differ from the population distribution.\n",
    "\n",
    "#### You will test this with a hypothesis test. Your null hypothesis is that the sample in `df` was drawn at random from the population. The alternative hypothesis is that your sample was drawn with different probabilities than those shown above."
   ]
  },
  {
   "cell_type": "markdown",
   "metadata": {},
   "source": [
    "#### Write a piece of code to calculate the p-value of the observed data. You must choose a test statistic, calculate the observed value of the test statistic, compute simulated values of the test statistic, and calculate a p-value. For that reason, this question is worth 7 points, and partial credit will be awarded for each of the above.\n",
    "\n",
    "\n",
    "#### Note: your code will be graded manually, and it is not expected to be perfect. Be careful to not spend too much time trying to make your code perfect!\n",
    "#### Another Note: if you wish, you may write your code elsewhere and paste it into the box below."
   ]
  },
  {
   "cell_type": "markdown",
   "metadata": {},
   "source": [
    "### Ans: "
   ]
  },
  {
   "cell_type": "code",
   "execution_count": 21,
   "metadata": {},
   "outputs": [
    {
     "data": {
      "text/html": [
       "<div>\n",
       "<style scoped>\n",
       "    .dataframe tbody tr th:only-of-type {\n",
       "        vertical-align: middle;\n",
       "    }\n",
       "\n",
       "    .dataframe tbody tr th {\n",
       "        vertical-align: top;\n",
       "    }\n",
       "\n",
       "    .dataframe thead th {\n",
       "        text-align: right;\n",
       "    }\n",
       "</style>\n",
       "<table border=\"1\" class=\"dataframe\">\n",
       "  <thead>\n",
       "    <tr style=\"text-align: right;\">\n",
       "      <th></th>\n",
       "      <th>Sample</th>\n",
       "      <th>Overall</th>\n",
       "    </tr>\n",
       "    <tr>\n",
       "      <th>Penguin Type</th>\n",
       "      <th></th>\n",
       "      <th></th>\n",
       "    </tr>\n",
       "  </thead>\n",
       "  <tbody>\n",
       "    <tr>\n",
       "      <th>Gentoo</th>\n",
       "      <td>0.4</td>\n",
       "      <td>0.45</td>\n",
       "    </tr>\n",
       "    <tr>\n",
       "      <th>Adelie</th>\n",
       "      <td>0.3</td>\n",
       "      <td>0.35</td>\n",
       "    </tr>\n",
       "    <tr>\n",
       "      <th>Chinstrap</th>\n",
       "      <td>0.3</td>\n",
       "      <td>0.20</td>\n",
       "    </tr>\n",
       "  </tbody>\n",
       "</table>\n",
       "</div>"
      ],
      "text/plain": [
       "              Sample  Overall\n",
       "Penguin Type                 \n",
       "Gentoo           0.4     0.45\n",
       "Adelie           0.3     0.35\n",
       "Chinstrap        0.3     0.20"
      ]
     },
     "execution_count": 21,
     "metadata": {},
     "output_type": "execute_result"
    }
   ],
   "source": [
    "penguins_type = pd.DataFrame([['Gentoo', 0.40, 0.45],\n",
    "                    ['Adelie', 0.30, 0.35],\n",
    "                    ['Chinstrap', 0.30, 0.20]],\n",
    "                   columns=['Penguin Type', 'Sample', 'Overall']).set_index('Penguin Type')\n",
    "\n",
    "penguins_type"
   ]
  },
  {
   "cell_type": "code",
   "execution_count": 22,
   "metadata": {},
   "outputs": [
    {
     "data": {
      "image/png": "[encoded data removed]",
      "text/plain": [
       "<Figure size 432x288 with 1 Axes>"
      ]
     },
     "metadata": {
      "needs_background": "light"
     },
     "output_type": "display_data"
    }
   ],
   "source": [
    "penguins_type.plot(kind='barh', title='Penguin Type Distribution of Sample vs Overall');"
   ]
  },
  {
   "cell_type": "code",
   "execution_count": 23,
   "metadata": {},
   "outputs": [
    {
     "data": {
      "text/plain": [
       "0.09999999999999998"
      ]
     },
     "execution_count": 23,
     "metadata": {},
     "output_type": "execute_result"
    }
   ],
   "source": [
    "observed_tvd = np.sum(np.abs(penguins_type['Sample'] - penguins_type['Overall'])) / 2\n",
    "observed_tvd"
   ]
  },
  {
   "cell_type": "code",
   "execution_count": 24,
   "metadata": {},
   "outputs": [
    {
     "data": {
      "text/plain": [
       "array([0.462, 0.337, 0.201])"
      ]
     },
     "execution_count": 24,
     "metadata": {},
     "output_type": "execute_result"
    }
   ],
   "source": [
    "# Simulate one instance - Keep null hypothesis in mind\n",
    "np.random.multinomial(1000, penguins_type['Overall']) / 1000"
   ]
  },
  {
   "cell_type": "code",
   "execution_count": 25,
   "metadata": {},
   "outputs": [
    {
     "data": {
      "text/plain": [
       "array([[0.434, 0.367, 0.199],\n",
       "       [0.489, 0.328, 0.183],\n",
       "       [0.46 , 0.343, 0.197],\n",
       "       ...,\n",
       "       [0.461, 0.319, 0.22 ],\n",
       "       [0.451, 0.335, 0.214],\n",
       "       [0.461, 0.363, 0.176]])"
      ]
     },
     "execution_count": 25,
     "metadata": {},
     "output_type": "execute_result"
    }
   ],
   "source": [
    "# Simulate 5000 instances\n",
    "N = 5000\n",
    "np.random.multinomial(1000, penguins_type['Overall'], size=N) / 1000"
   ]
  },
  {
   "cell_type": "code",
   "execution_count": 26,
   "metadata": {},
   "outputs": [
    {
     "data": {
      "text/plain": [
       "array([0.031, 0.01 , 0.018, ..., 0.02 , 0.021, 0.021])"
      ]
     },
     "execution_count": 26,
     "metadata": {},
     "output_type": "execute_result"
    }
   ],
   "source": [
    "null_dists = np.random.multinomial(1000, penguins_type['Overall'], size=N) / 1000\n",
    "null_tvds = np.sum(np.abs(null_dists - penguins_type['Overall'].to_numpy()), axis=1) / 2\n",
    "null_tvds"
   ]
  },
  {
   "cell_type": "code",
   "execution_count": 27,
   "metadata": {},
   "outputs": [
    {
     "data": {
      "image/png": "[encoded data removed]",
      "text/plain": [
       "<Figure size 432x288 with 1 Axes>"
      ]
     },
     "metadata": {
      "needs_background": "light"
     },
     "output_type": "display_data"
    }
   ],
   "source": [
    "pd.Series(null_tvds).plot(kind='hist', \n",
    "                     density=True,\n",
    "                     ec='w',\n",
    "                     title='Simulated Null TVDs & Observed TVD');\n",
    "plt.axvline(x=observed_tvd, color='red', linewidth=2);"
   ]
  },
  {
   "cell_type": "raw",
   "metadata": {},
   "source": [
    "# BEGIN QUESTION\n",
    "name: q1"
   ]
  },
  {
   "cell_type": "markdown",
   "metadata": {},
   "source": [
    "**Question 1**\n",
    "\n",
    "Now that we've finalized our test statistic and since we've also simulated the null hypothesis under the test statistic, define a function `prev_midterm_hypothesis_test` that takes in the observations `penguins_type` and does the following\n",
    "\n",
    "1. Calculate the `observed_tvd`\n",
    "2. Calculate the `p_value` after simulating the null statistic on 5000 samples\n",
    "\n",
    "The function should return a tuple with in the following format `(observed_tvd,p_val)`"
   ]
  },
  {
   "cell_type": "raw",
   "metadata": {},
   "source": [
    "# BEGIN SOLUTION"
   ]
  },
  {
   "cell_type": "code",
   "execution_count": 28,
   "metadata": {
    "tags": [
     "to-py"
    ]
   },
   "outputs": [],
   "source": [
    "def prev_midterm_hypothesis_test(penguins_type):\n",
    "    \"\"\"\n",
    "    Calculates the observed TVD, Defines & Simulates the \n",
    "    test statistic on N=5000 samples of the null-hypothesis.\n",
    "    Uses the null_tvds to estimate the p_val\n",
    "    :Example:\n",
    "    >>> res = prev_midterm_hypothesis_test(penguins_type)\n",
    "    >>> isinstance(res, tuple)\n",
    "    >>> 0<=res[1]<=1\n",
    "    \"\"\"\n",
    "    # BEGIN SOLUTION\n",
    "    observed_tvd = np.sum(np.abs(penguins_type['Sample'] - penguins_type['Overall'])) / 2\n",
    "    N = 5000\n",
    "    np.random.multinomial(1000, penguins_type['Overall'], size=N) / 1000\n",
    "    null_dists = np.random.multinomial(1000, penguins_type['Overall'], size=N) / 1000\n",
    "    null_tvds = np.sum(np.abs(null_dists - penguins_type['Overall'].to_numpy()), axis=1) / 2\n",
    "    p_val = np.mean(null_tvds >= observed_tvd)\n",
    "    return (observed_tvd,p_val)\n",
    "    # END SOLUTION"
   ]
  },
  {
   "cell_type": "raw",
   "metadata": {},
   "source": [
    "# END SOLUTION"
   ]
  },
  {
   "cell_type": "code",
   "execution_count": 29,
   "metadata": {},
   "outputs": [],
   "source": [
    "# don't change this cell -- it is needed for the tests to work\n",
    "penguins_type = pd.DataFrame([['Gentoo', 0.40, 0.45],\n",
    "                    ['Adelie', 0.30, 0.35],\n",
    "                    ['Chinstrap', 0.30, 0.20]],\n",
    "                   columns=['Penguin Type', 'Sample', 'Overall']).set_index('Penguin Type')\n",
    "q1_out = prev_midterm_hypothesis_test(penguins_type)"
   ]
  },
  {
   "cell_type": "raw",
   "metadata": {},
   "source": [
    "# BEGIN TESTS"
   ]
  },
  {
   "cell_type": "code",
   "execution_count": 30,
   "metadata": {},
   "outputs": [
    {
     "data": {
      "text/plain": [
       "True"
      ]
     },
     "execution_count": 30,
     "metadata": {},
     "output_type": "execute_result"
    }
   ],
   "source": [
    "\"\"\" # BEGIN TEST CONFIG\n",
    "points: 1\n",
    "failure_message: 'doctest'\n",
    "\"\"\" # END TEST CONFIG\n",
    "isinstance(q1_out, tuple)"
   ]
  },
  {
   "cell_type": "code",
   "execution_count": 31,
   "metadata": {},
   "outputs": [
    {
     "data": {
      "text/plain": [
       "True"
      ]
     },
     "execution_count": 31,
     "metadata": {},
     "output_type": "execute_result"
    }
   ],
   "source": [
    "\"\"\" # BEGIN TEST CONFIG\n",
    "points: 1\n",
    "failure_message: 'Error in observed TVD'\n",
    "\"\"\" # END TEST CONFIG\n",
    "0<=q1_out[0]<=1"
   ]
  },
  {
   "cell_type": "code",
   "execution_count": 32,
   "metadata": {},
   "outputs": [
    {
     "data": {
      "text/plain": [
       "True"
      ]
     },
     "execution_count": 32,
     "metadata": {},
     "output_type": "execute_result"
    }
   ],
   "source": [
    "\"\"\" # BEGIN TEST CONFIG\n",
    "points: 1\n",
    "failure_message: 'Error in observed TVD'\n",
    "\"\"\" # END TEST CONFIG\n",
    "np.isclose(q1_out[0],0.09999999999999998,atol=0.1)"
   ]
  },
  {
   "cell_type": "code",
   "execution_count": 33,
   "metadata": {},
   "outputs": [
    {
     "data": {
      "text/plain": [
       "True"
      ]
     },
     "execution_count": 33,
     "metadata": {},
     "output_type": "execute_result"
    }
   ],
   "source": [
    "\"\"\" # BEGIN TEST CONFIG\n",
    "points: 1\n",
    "failure_message: 'Error in observed TVD'\n",
    "\"\"\" # END TEST CONFIG\n",
    "np.isclose(q1_out[0],0.09999999999999998,atol=0.01)"
   ]
  },
  {
   "cell_type": "code",
   "execution_count": 34,
   "metadata": {},
   "outputs": [
    {
     "data": {
      "text/plain": [
       "True"
      ]
     },
     "execution_count": 34,
     "metadata": {},
     "output_type": "execute_result"
    }
   ],
   "source": [
    "\"\"\" # BEGIN TEST CONFIG\n",
    "points: 1\n",
    "failure_message: 'Error in observed P-VALUE'\n",
    "\"\"\" # END TEST CONFIG\n",
    "isinstance(q1_out[1], float)"
   ]
  },
  {
   "cell_type": "raw",
   "metadata": {},
   "source": [
    "# END TESTS"
   ]
  },
  {
   "cell_type": "raw",
   "metadata": {},
   "source": [
    "# END QUESTION"
   ]
  },
  {
   "cell_type": "markdown",
   "metadata": {},
   "source": [
    "# Q12 - 1 Point\n",
    "\n",
    "### Suppose you look at the distribution of culmen (beak) depth for each species and find the following:\n",
    "\n",
    "<img src = 'imgs/culmen.png'></img>"
   ]
  },
  {
   "cell_type": "markdown",
   "metadata": {},
   "source": [
    "### It looks as though Chinstrap penguins have larger culmen depth than Gentoo penguins.\n",
    "\n",
    "### Which of the following test statistics could be used to test this alternative hypothesis against the null hypothesis that the two distributions are the same? Check all that apply."
   ]
  },
  {
   "cell_type": "markdown",
   "metadata": {},
   "source": [
    "### 1. TVD\n",
    "### 2. Kolmogorov-Smirnov\n",
    "### 3. signed difference in mean culmen depth\n",
    "### 4. unsigned difference in mean culmen depth"
   ]
  },
  {
   "cell_type": "markdown",
   "metadata": {},
   "source": [
    "### Ans: "
   ]
  },
  {
   "cell_type": "markdown",
   "metadata": {},
   "source": [
    "# Q13 - 1 Point\n",
    "\n",
    "### Suppose you now look at the distribution of culmen depth for each species once more and again find the following:\n",
    "\n",
    "<img src = 'imgs/culmen1.png'></img>"
   ]
  },
  {
   "cell_type": "markdown",
   "metadata": {},
   "source": [
    "### What test statistic is the best choice for testing whether the empirical distributions of culmen depth in Chinstrap and Adelie penguins came from different underlying distributions?\n",
    "\n",
    "#### 1. the Kolmogorov-Smirnov Statistic\n",
    "#### 2. the absolute difference in means\n",
    "#### 3. the TVD\n",
    "#### 4. the signed difference in means"
   ]
  },
  {
   "cell_type": "markdown",
   "metadata": {},
   "source": [
    "### Ans: "
   ]
  },
  {
   "cell_type": "markdown",
   "metadata": {},
   "source": [
    "# Q14 - 1 Point\n",
    "### Suppose some of the entries in the \"Body Mass (g)\" column are missing.\n",
    "\n",
    "\n",
    "### Body mass measurements were taken any time a penguin walked across a scale that was placed outside. In your experience, the scale sometimes fails to make a measurement if the item placed on top is too small.\n",
    "\n",
    "### What is the most likely type of missingness in this case?"
   ]
  },
  {
   "cell_type": "markdown",
   "metadata": {},
   "source": [
    "#### 1. Missing Completely at Random\n",
    "#### 2. Missing at Random\n",
    "#### 3. Not Missing at Random\n",
    "#### 4. Missing by Design"
   ]
  },
  {
   "cell_type": "markdown",
   "metadata": {},
   "source": [
    "### Ans: "
   ]
  },
  {
   "cell_type": "markdown",
   "metadata": {},
   "source": [
    "# Q15 - 1 Point\n",
    "\n",
    "### Suppose some of the entries in the \"Delta 15 N (o/oo)\" and \"Delta 13 C (o/oo)\" columns are missing.\n",
    "\n",
    "\n",
    "### The measurements above were taken by four different teams located at different places in Antarctica, and one of the teams had a faulty measurement device that prevented them from measuring \"Delta 15 N\" and \"Delta 13 N\". The penguins in this team's area were mostly Gentoo penguins."
   ]
  },
  {
   "cell_type": "markdown",
   "metadata": {},
   "source": [
    "### What is the most likely type of missingness in this case?"
   ]
  },
  {
   "cell_type": "markdown",
   "metadata": {},
   "source": [
    "#### 1. Missing Completely at Random\n",
    "#### 2. Missing at Random\n",
    "#### 3. Not Missing at Random\n",
    "#### 4. Missing by Design"
   ]
  },
  {
   "cell_type": "markdown",
   "metadata": {},
   "source": [
    "### Ans: "
   ]
  },
  {
   "cell_type": "markdown",
   "metadata": {},
   "source": [
    "# Q16 - 1 Point\n",
    "\n",
    "### Suppose some of the entries in the \"Flipper Length (mm)\" column are missing. It is very hard to measure the flipper length of a wild penguin because penguins have a tendency to run away whenever you approach them with a ruler. \n",
    "\n",
    "### For this reason, the researchers agree that they will only measure the flipper length of half of the penguins they see. To implement this, they flip a coin when they see a penguin -- if the coin comes up heads, they measure the penguin's flipper length, and if it is tails they leave the flipper length blank."
   ]
  },
  {
   "cell_type": "markdown",
   "metadata": {},
   "source": [
    "### What is the most likely type of missingness in this case?\n"
   ]
  },
  {
   "cell_type": "markdown",
   "metadata": {},
   "source": [
    "#### 1. Missing Completely at Random\n",
    "#### 2. Missing at Random\n",
    "#### 3. Not Missing at Random\n",
    "#### 4. Missing by Design"
   ]
  },
  {
   "cell_type": "markdown",
   "metadata": {},
   "source": [
    "### Ans: "
   ]
  },
  {
   "cell_type": "markdown",
   "metadata": {},
   "source": [
    "# Q17 - 1 Point\n",
    "\n",
    "### Suppose some of the body masses are missing. You'd like to test if some of the body masses are missing at random (MAR) dependent on the species. \n",
    "\n",
    "### You will determine this with a permutation test. Which one of the below is a valid test statistic for this test?\n"
   ]
  },
  {
   "cell_type": "markdown",
   "metadata": {},
   "source": [
    "#### 1. The TVD (total variation distance)\n",
    "#### 2. The K-S statistic (Kolmogorov-Smirnov)\n",
    "#### 3. The absolute (unsigned) difference in means\n",
    "#### 4. The signed difference in means"
   ]
  },
  {
   "cell_type": "markdown",
   "metadata": {},
   "source": [
    "# Q18 - 1 Point\n",
    "\n",
    "\n",
    "### Suppose the \"Flipper Length (mm)\" column has missing values. The distributions of species when the flipper length is missing (null) and when it is present (not null) are shown below:\n",
    "\n",
    "<img src = 'imgs/missingness_distribution.png'></img>"
   ]
  },
  {
   "cell_type": "markdown",
   "metadata": {},
   "source": [
    "### Futhermore, the average flipper length of each species is as follows:"
   ]
  },
  {
   "cell_type": "code",
   "execution_count": 35,
   "metadata": {},
   "outputs": [
    {
     "data": {
      "text/plain": [
       "Species\n",
       "Adelie       190.290780\n",
       "Chinstrap    195.671642\n",
       "Gentoo       217.147541\n",
       "Name: Flipper Length (mm), dtype: float64"
      ]
     },
     "execution_count": 35,
     "metadata": {},
     "output_type": "execute_result"
    }
   ],
   "source": [
    "df.groupby('Species')['Flipper Length (mm)'].mean()"
   ]
  },
  {
   "cell_type": "markdown",
   "metadata": {},
   "source": [
    "### Suppose the overall mean flipper length is computed (using only the observed values).\n",
    "### Which of the following is true?"
   ]
  },
  {
   "cell_type": "markdown",
   "metadata": {},
   "source": [
    "### A. the mean will be biased high\n",
    "### B. the mean will be biased low\n",
    "### C. the mean will be unbiased"
   ]
  },
  {
   "cell_type": "markdown",
   "metadata": {},
   "source": [
    "### Ans: "
   ]
  },
  {
   "cell_type": "markdown",
   "metadata": {},
   "source": [
    "# Q19 - 2 Points\n",
    "\n",
    "### Write a piece of code that imputes missing flipper lengths with the median flipper length of the species that the penguin belongs to."
   ]
  },
  {
   "cell_type": "raw",
   "metadata": {},
   "source": [
    "# BEGIN QUESTION\n",
    "name: q2"
   ]
  },
  {
   "cell_type": "markdown",
   "metadata": {},
   "source": [
    "**Question 2**\n",
    "\n",
    "Write a helper function, `midterm_review_imputation` that accepts `penguins_with_nulls` dataframe as an argument and returns a `pd.DataFrame` object where the cells in which `Flipper Length (mm)` is missing are **imputed with the median flipper length of the species** that the penguin belongs to. \n",
    "\n"
   ]
  },
  {
   "cell_type": "raw",
   "metadata": {},
   "source": [
    "# BEGIN SOLUTION"
   ]
  },
  {
   "cell_type": "code",
   "execution_count": 36,
   "metadata": {
    "tags": [
     "to-py"
    ]
   },
   "outputs": [],
   "source": [
    "def midterm_review_imputation(penguins_with_nulls):\n",
    "    \"\"\"\n",
    "    Takes a dataframe with NaN's or nulls and fills the `Flipper Length` column with the \n",
    "    Median Flipper length of the corresponding species.\n",
    "    :Example:\n",
    "    >>> penguins_with_nulls = pd.read_csv('data/data1.csv')\n",
    "    >>> res = midterm_review_imputation(penguins_with_nulls)\n",
    "    >>> isinstance(q2_out, pd.DataFrame)\n",
    "    >>> q2_out['Flipper Length (mm)'].isnull().sum() == 0\n",
    "    \"\"\"\n",
    "    df = penguins_with_nulls.copy(deep=True)\n",
    "    # BEGIN SOLUTION\n",
    "    df['Flipper Length (mm)']=df['Flipper Length (mm)'].fillna(df.groupby('Species')['Flipper Length (mm)'].transform('median'))\n",
    "    # END SOLUTION\n",
    "    return df"
   ]
  },
  {
   "cell_type": "raw",
   "metadata": {},
   "source": [
    "# END SOLUTION"
   ]
  },
  {
   "cell_type": "code",
   "execution_count": 37,
   "metadata": {},
   "outputs": [],
   "source": [
    "# Do Not change this cell, it is needed for the autograder code to run correctly\n",
    "penguins_with_nulls = pd.read_csv('data/data1.csv')\n",
    "q2_out = midterm_review_imputation(penguins_with_nulls)"
   ]
  },
  {
   "cell_type": "raw",
   "metadata": {},
   "source": [
    "# BEGIN TESTS"
   ]
  },
  {
   "cell_type": "code",
   "execution_count": 38,
   "metadata": {},
   "outputs": [
    {
     "data": {
      "text/plain": [
       "True"
      ]
     },
     "execution_count": 38,
     "metadata": {},
     "output_type": "execute_result"
    }
   ],
   "source": [
    "\"\"\" # BEGIN TEST CONFIG\n",
    "points: 1\n",
    "failure_message: 'doctest'\n",
    "\"\"\" # END TEST CONFIG\n",
    "isinstance(q2_out, pd.DataFrame)"
   ]
  },
  {
   "cell_type": "code",
   "execution_count": 39,
   "metadata": {},
   "outputs": [
    {
     "data": {
      "text/plain": [
       "True"
      ]
     },
     "execution_count": 39,
     "metadata": {},
     "output_type": "execute_result"
    }
   ],
   "source": [
    "\"\"\" # BEGIN TEST CONFIG\n",
    "points: 1\n",
    "failure_message: 'doctest'\n",
    "\"\"\" # END TEST CONFIG\n",
    "q2_out['Flipper Length (mm)'].isnull().sum() == 0"
   ]
  },
  {
   "cell_type": "code",
   "execution_count": 40,
   "metadata": {},
   "outputs": [
    {
     "data": {
      "text/plain": [
       "True"
      ]
     },
     "execution_count": 40,
     "metadata": {},
     "output_type": "execute_result"
    }
   ],
   "source": [
    "\"\"\" # BEGIN TEST CONFIG\n",
    "points: 1\n",
    "failure_message: 'Null Flipper Length not correctly imputed at some indices'\n",
    "\"\"\" # END TEST CONFIG\n",
    "q2_out.loc[3,'Flipper Length (mm)'] == 190.0"
   ]
  },
  {
   "cell_type": "code",
   "execution_count": 41,
   "metadata": {},
   "outputs": [
    {
     "data": {
      "text/plain": [
       "True"
      ]
     },
     "execution_count": 41,
     "metadata": {},
     "output_type": "execute_result"
    }
   ],
   "source": [
    "\"\"\" # BEGIN TEST CONFIG\n",
    "points: 1\n",
    "failure_message: 'Null Flipper Length not correctly imputed'\n",
    "\"\"\" # END TEST CONFIG\n",
    "q2_out.isnull().sum().sum() == 33"
   ]
  },
  {
   "cell_type": "code",
   "execution_count": 42,
   "metadata": {},
   "outputs": [
    {
     "data": {
      "text/plain": [
       "True"
      ]
     },
     "execution_count": 42,
     "metadata": {},
     "output_type": "execute_result"
    }
   ],
   "source": [
    "\"\"\" # BEGIN TEST CONFIG\n",
    "points: 1\n",
    "failure_message: 'Null Flipper Length not correctly imputed at some indices'\n",
    "\"\"\" # END TEST CONFIG\n",
    "q2_out.loc[339,'Flipper Length (mm)'] == 216.0"
   ]
  },
  {
   "cell_type": "raw",
   "metadata": {},
   "source": [
    "# END TESTS"
   ]
  },
  {
   "cell_type": "raw",
   "metadata": {},
   "source": [
    "# END QUESTION"
   ]
  },
  {
   "cell_type": "markdown",
   "metadata": {},
   "source": [
    "## Congratulations! You're done!\n",
    "\n",
    "* Submit your `.py` file to Gradescope. Note that you only need to submit the `.py` file; this notebook should not be uploaded. Make sure that all of your work is in the `.py` file and not here by running the doctests: `python -m doctest discussion.py`."
   ]
  }
 ],
 "metadata": {
  "celltoolbar": "Tags",
  "kernelspec": {
   "display_name": "Python 3 (ipykernel)",
   "language": "python",
   "name": "python3"
  },
  "language_info": {
   "codemirror_mode": {
    "name": "ipython",
    "version": 3
   },
   "file_extension": ".py",
   "mimetype": "text/x-python",
   "name": "python",
   "nbconvert_exporter": "python",
   "pygments_lexer": "ipython3",
   "version": "3.9.6"
  }
 },
 "nbformat": 4,
 "nbformat_minor": 2
}
